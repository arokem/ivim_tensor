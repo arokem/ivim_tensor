{
 "cells": [
  {
   "cell_type": "code",
   "execution_count": 1,
   "id": "informed-athletics",
   "metadata": {},
   "outputs": [],
   "source": [
    "import numpy as np\n",
    "import matplotlib.pyplot as plt"
   ]
  },
  {
   "cell_type": "code",
   "execution_count": 2,
   "id": "uniform-substance",
   "metadata": {},
   "outputs": [],
   "source": [
    "from ivim_tensor import IvimTensorModel"
   ]
  },
  {
   "cell_type": "code",
   "execution_count": 3,
   "id": "statutory-ordering",
   "metadata": {},
   "outputs": [],
   "source": [
    "from dipy.core.gradients import gradient_table"
   ]
  },
  {
   "cell_type": "code",
   "execution_count": 4,
   "id": "furnished-disclosure",
   "metadata": {},
   "outputs": [],
   "source": [
    "gtab = gradient_table('./data/DWI_IVIM6.bval', './data/DWI_IVIM6.bvec', b0_threshold=0)"
   ]
  },
  {
   "cell_type": "code",
   "execution_count": null,
   "id": "sweet-terry",
   "metadata": {},
   "outputs": [],
   "source": []
  },
  {
   "cell_type": "code",
   "execution_count": 5,
   "id": "working-upper",
   "metadata": {},
   "outputs": [],
   "source": [
    "from dipy.sims.voxel import multi_tensor"
   ]
  },
  {
   "cell_type": "code",
   "execution_count": 6,
   "id": "hybrid-mining",
   "metadata": {},
   "outputs": [],
   "source": [
    "mevals = np.array([[0.001, 0.0005, 0.0005], \n",
    "                   [0.1, 0.01, 0.01]])\n",
    "\n",
    "angles = [(90, 0), (90, 0)]"
   ]
  },
  {
   "cell_type": "code",
   "execution_count": 7,
   "id": "southeast-watts",
   "metadata": {},
   "outputs": [],
   "source": [
    "perfusion_fraction = 0.2"
   ]
  },
  {
   "cell_type": "code",
   "execution_count": 8,
   "id": "accessible-stroke",
   "metadata": {},
   "outputs": [],
   "source": [
    "sim = multi_tensor(gtab, mevals=mevals, snr=100, fractions=[100 * (1-perfusion_fraction), \n",
    "                                                             perfusion_fraction * 100])[0]"
   ]
  },
  {
   "cell_type": "code",
   "execution_count": 9,
   "id": "minor-harrison",
   "metadata": {},
   "outputs": [
    {
     "name": "stderr",
     "output_type": "stream",
     "text": [
      "/srv/conda/envs/notebook/lib/python3.7/site-packages/dipy/reconst/ivim.py:151: UserWarning: Bounds for this fit have been set from experiments and literature survey. To change the bounds, please input your bounds in model definition...\n",
      "  warnings.warn(bounds_warning, UserWarning)\n"
     ]
    }
   ],
   "source": [
    "itm = IvimTensorModel(gtab)"
   ]
  },
  {
   "cell_type": "code",
   "execution_count": 10,
   "id": "suspected-adult",
   "metadata": {},
   "outputs": [],
   "source": [
    "itf = itm.fit(sim)"
   ]
  },
  {
   "cell_type": "code",
   "execution_count": 11,
   "id": "latter-grounds",
   "metadata": {},
   "outputs": [
    {
     "name": "stderr",
     "output_type": "stream",
     "text": [
      "ERROR:root:No traceback has been produced, nothing to debug.\n"
     ]
    }
   ],
   "source": [
    "debug"
   ]
  },
  {
   "cell_type": "code",
   "execution_count": 12,
   "id": "foster-exchange",
   "metadata": {},
   "outputs": [
    {
     "data": {
      "text/plain": [
       "array([ 1.04299354e-03,  5.52664908e-04,  5.44465222e-04, -2.64003515e+00,\n",
       "        1.67154682e+00, -2.86525051e+00,  1.21066392e-01,  1.43494690e-02,\n",
       "        8.94616427e-03,  4.36735532e-01, -6.85661988e-02,  3.13140799e+00])"
      ]
     },
     "execution_count": 12,
     "metadata": {},
     "output_type": "execute_result"
    }
   ],
   "source": [
    "itf.model_params"
   ]
  },
  {
   "cell_type": "code",
   "execution_count": 13,
   "id": "linear-split",
   "metadata": {},
   "outputs": [
    {
     "data": {
      "text/plain": [
       "array(0.16927695)"
      ]
     },
     "execution_count": 13,
     "metadata": {},
     "output_type": "execute_result"
    }
   ],
   "source": [
    "itf.perfusion_fraction"
   ]
  },
  {
   "cell_type": "code",
   "execution_count": 14,
   "id": "funded-component",
   "metadata": {},
   "outputs": [
    {
     "data": {
      "text/plain": [
       "(array([0.00104299, 0.00055266, 0.00054447]),\n",
       " array([0.12106639, 0.01434947, 0.00894616]))"
      ]
     },
     "execution_count": 14,
     "metadata": {},
     "output_type": "execute_result"
    }
   ],
   "source": [
    "itf.diffusion_fit.evals, itf.perfusion_fit.evals"
   ]
  },
  {
   "cell_type": "code",
   "execution_count": 15,
   "id": "broke-miracle",
   "metadata": {},
   "outputs": [
    {
     "data": {
      "text/plain": [
       "1.0"
      ]
     },
     "execution_count": 15,
     "metadata": {},
     "output_type": "execute_result"
    }
   ],
   "source": [
    "np.linalg.norm(itf.diffusion_fit.directions)"
   ]
  },
  {
   "cell_type": "code",
   "execution_count": 16,
   "id": "photographic-astrology",
   "metadata": {},
   "outputs": [
    {
     "data": {
      "text/plain": [
       "1.0"
      ]
     },
     "execution_count": 16,
     "metadata": {},
     "output_type": "execute_result"
    }
   ],
   "source": [
    "np.linalg.norm(itf.perfusion_fit.directions)"
   ]
  },
  {
   "cell_type": "code",
   "execution_count": 17,
   "id": "authorized-freeze",
   "metadata": {},
   "outputs": [
    {
     "data": {
      "text/plain": [
       "[<matplotlib.lines.Line2D at 0x7f93d1b7ca50>]"
      ]
     },
     "execution_count": 17,
     "metadata": {},
     "output_type": "execute_result"
    },
    {
     "data": {
      "image/png": "[encoded data removed]",
      "text/plain": [
       "<Figure size 432x288 with 1 Axes>"
      ]
     },
     "metadata": {
      "needs_background": "light"
     },
     "output_type": "display_data"
    }
   ],
   "source": [
    "plt.plot(gtab.bvals, sim, 'o')\n",
    "plt.plot(gtab.bvals, itf.predict(gtab), 'o')\n"
   ]
  },
  {
   "cell_type": "code",
   "execution_count": 18,
   "id": "paperback-chester",
   "metadata": {},
   "outputs": [
    {
     "name": "stderr",
     "output_type": "stream",
     "text": [
      "ERROR:root:No traceback has been produced, nothing to debug.\n"
     ]
    }
   ],
   "source": [
    "debug"
   ]
  },
  {
   "cell_type": "code",
   "execution_count": 19,
   "id": "promising-unknown",
   "metadata": {},
   "outputs": [
    {
     "data": {
      "text/plain": [
       "(array(0.16927695), 0.04812067492401128, 0.0007133745575905017)"
      ]
     },
     "execution_count": 19,
     "metadata": {},
     "output_type": "execute_result"
    }
   ],
   "source": [
    "itf.perfusion_fraction, itf.perfusion_fit.md, itf.diffusion_fit.md"
   ]
  },
  {
   "cell_type": "code",
   "execution_count": 20,
   "id": "occasional-english",
   "metadata": {},
   "outputs": [
    {
     "data": {
      "text/plain": [
       "(array([0.12106639, 0.01434947, 0.00894616]),\n",
       " array([0.00104299, 0.00055266, 0.00054447]))"
      ]
     },
     "execution_count": 20,
     "metadata": {},
     "output_type": "execute_result"
    }
   ],
   "source": [
    "itf.perfusion_fit.evals, itf.diffusion_fit.evals"
   ]
  },
  {
   "cell_type": "code",
   "execution_count": 21,
   "id": "amino-theorem",
   "metadata": {},
   "outputs": [],
   "source": [
    "import nibabel as nib"
   ]
  },
  {
   "cell_type": "code",
   "execution_count": 22,
   "id": "opposite-weapon",
   "metadata": {},
   "outputs": [],
   "source": [
    "img = nib.load('./data/DWI_IVIM6.nii')"
   ]
  },
  {
   "cell_type": "code",
   "execution_count": 23,
   "id": "fiscal-joshua",
   "metadata": {},
   "outputs": [],
   "source": [
    "data = img.get_fdata()"
   ]
  },
  {
   "cell_type": "code",
   "execution_count": 24,
   "id": "central-investigator",
   "metadata": {},
   "outputs": [],
   "source": [
    "idx = (48, 20)"
   ]
  },
  {
   "cell_type": "code",
   "execution_count": 25,
   "id": "organic-airport",
   "metadata": {},
   "outputs": [],
   "source": [
    "signal = data[:, :, 10, :][idx]"
   ]
  },
  {
   "cell_type": "code",
   "execution_count": 26,
   "id": "refined-argument",
   "metadata": {},
   "outputs": [
    {
     "data": {
      "text/plain": [
       "<matplotlib.image.AxesImage at 0x7f93d1a04e50>"
      ]
     },
     "execution_count": 26,
     "metadata": {},
     "output_type": "execute_result"
    },
    {
     "data": {
      "image/png": "[encoded data removed]",
      "text/plain": [
       "<Figure size 432x288 with 1 Axes>"
      ]
     },
     "metadata": {
      "needs_background": "light"
     },
     "output_type": "display_data"
    }
   ],
   "source": [
    "fig, ax = plt.subplots()\n",
    "ax.matshow(data[:, :, 10, -1])\n",
    "ROI = np.ones(data[:, :, 10, -1].shape) * np.nan\n",
    "ROI[idx[0]-2:idx[0]+2, idx[1]-2:idx[1]+2] = 1\n",
    "ax.matshow(ROI, cmap='jet')\n"
   ]
  },
  {
   "cell_type": "code",
   "execution_count": 27,
   "id": "legal-packing",
   "metadata": {},
   "outputs": [
    {
     "data": {
      "text/plain": [
       "[<matplotlib.lines.Line2D at 0x7f93d19a1390>]"
      ]
     },
     "execution_count": 27,
     "metadata": {},
     "output_type": "execute_result"
    },
    {
     "data": {
      "image/png": "[encoded data removed]",
      "text/plain": [
       "<Figure size 432x288 with 1 Axes>"
      ]
     },
     "metadata": {
      "needs_background": "light"
     },
     "output_type": "display_data"
    }
   ],
   "source": [
    "plt.plot(gtab.bvals, np.log(signal/signal[-1]), 'o')"
   ]
  },
  {
   "cell_type": "code",
   "execution_count": 28,
   "id": "italian-handbook",
   "metadata": {},
   "outputs": [],
   "source": [
    "itf = itm.fit(signal)"
   ]
  },
  {
   "cell_type": "code",
   "execution_count": 29,
   "id": "greatest-ethics",
   "metadata": {},
   "outputs": [
    {
     "name": "stderr",
     "output_type": "stream",
     "text": [
      "ERROR:root:No traceback has been produced, nothing to debug.\n"
     ]
    }
   ],
   "source": [
    "debug"
   ]
  },
  {
   "cell_type": "code",
   "execution_count": 30,
   "id": "cloudy-brisbane",
   "metadata": {},
   "outputs": [
    {
     "data": {
      "text/plain": [
       "(0.0010665451516001575, 0.0013624206285882282)"
      ]
     },
     "execution_count": 30,
     "metadata": {},
     "output_type": "execute_result"
    }
   ],
   "source": [
    "itm.diffusion_fit.md, itm.perfusion_fit.md"
   ]
  },
  {
   "cell_type": "code",
   "execution_count": 31,
   "id": "demographic-mailing",
   "metadata": {},
   "outputs": [
    {
     "data": {
      "text/plain": [
       "(0.0009704602003854637, 0.13156264673805562)"
      ]
     },
     "execution_count": 31,
     "metadata": {},
     "output_type": "execute_result"
    }
   ],
   "source": [
    "itf.diffusion_fit.md, itf.perfusion_fit.md"
   ]
  },
  {
   "cell_type": "code",
   "execution_count": 32,
   "id": "dynamic-feature",
   "metadata": {},
   "outputs": [
    {
     "data": {
      "text/plain": [
       "[<matplotlib.lines.Line2D at 0x7f93d190b750>]"
      ]
     },
     "execution_count": 32,
     "metadata": {},
     "output_type": "execute_result"
    },
    {
     "data": {
      "image/png": "[encoded data removed]",
      "text/plain": [
       "<Figure size 432x288 with 1 Axes>"
      ]
     },
     "metadata": {
      "needs_background": "light"
     },
     "output_type": "display_data"
    }
   ],
   "source": [
    "plt.plot(gtab.bvals, signal/signal[-1], 'o')\n",
    "plt.plot(gtab.bvals, itf.predict(gtab), 'o')\n"
   ]
  },
  {
   "cell_type": "code",
   "execution_count": 33,
   "id": "upper-respondent",
   "metadata": {},
   "outputs": [
    {
     "data": {
      "text/plain": [
       "array(0.19988648)"
      ]
     },
     "execution_count": 33,
     "metadata": {},
     "output_type": "execute_result"
    }
   ],
   "source": [
    "itf.perfusion_fraction"
   ]
  },
  {
   "cell_type": "code",
   "execution_count": 61,
   "id": "geographic-conflict",
   "metadata": {},
   "outputs": [
    {
     "data": {
      "text/plain": [
       "0.4314539242372675"
      ]
     },
     "execution_count": 61,
     "metadata": {},
     "output_type": "execute_result"
    }
   ],
   "source": [
    "itf.perfusion_fit.fa"
   ]
  },
  {
   "cell_type": "code",
   "execution_count": 59,
   "id": "stock-wagner",
   "metadata": {},
   "outputs": [
    {
     "data": {
      "text/plain": [
       "array([0.00078758, 0.00109448, 0.00102932])"
      ]
     },
     "execution_count": 59,
     "metadata": {},
     "output_type": "execute_result"
    }
   ],
   "source": [
    "itf.diffusion_fit.evals"
   ]
  },
  {
   "cell_type": "code",
   "execution_count": 60,
   "id": "reflected-rabbit",
   "metadata": {},
   "outputs": [
    {
     "data": {
      "text/plain": [
       "0.1650976661494707"
      ]
     },
     "execution_count": 60,
     "metadata": {},
     "output_type": "execute_result"
    }
   ],
   "source": [
    "itf.diffusion_fit.fa"
   ]
  },
  {
   "cell_type": "code",
   "execution_count": 35,
   "id": "exceptional-peeing",
   "metadata": {},
   "outputs": [
    {
     "data": {
      "text/plain": [
       "-1.878408058257824e-17"
      ]
     },
     "execution_count": 35,
     "metadata": {},
     "output_type": "execute_result"
    }
   ],
   "source": [
    "np.dot(itf.perfusion_fit.evecs[0], itf.perfusion_fit.evecs[1])"
   ]
  },
  {
   "cell_type": "code",
   "execution_count": 36,
   "id": "loved-tactics",
   "metadata": {},
   "outputs": [],
   "source": [
    "from dipy.reconst.ivim import IvimModel"
   ]
  },
  {
   "cell_type": "code",
   "execution_count": 37,
   "id": "loaded-withdrawal",
   "metadata": {},
   "outputs": [
    {
     "name": "stderr",
     "output_type": "stream",
     "text": [
      "/srv/conda/envs/notebook/lib/python3.7/site-packages/dipy/reconst/ivim.py:151: UserWarning: Bounds for this fit have been set from experiments and literature survey. To change the bounds, please input your bounds in model definition...\n",
      "  warnings.warn(bounds_warning, UserWarning)\n"
     ]
    }
   ],
   "source": [
    "mm = IvimModel(gtab)"
   ]
  },
  {
   "cell_type": "code",
   "execution_count": 38,
   "id": "paperback-sample",
   "metadata": {},
   "outputs": [],
   "source": [
    "ff = mm.fit(signal)"
   ]
  },
  {
   "cell_type": "code",
   "execution_count": 39,
   "id": "assigned-strap",
   "metadata": {},
   "outputs": [
    {
     "data": {
      "text/plain": [
       "[<matplotlib.lines.Line2D at 0x7f93d188a4d0>]"
      ]
     },
     "execution_count": 39,
     "metadata": {},
     "output_type": "execute_result"
    },
    {
     "data": {
      "image/png": "[encoded data removed]",
      "text/plain": [
       "<Figure size 432x288 with 1 Axes>"
      ]
     },
     "metadata": {
      "needs_background": "light"
     },
     "output_type": "display_data"
    }
   ],
   "source": [
    "plt.plot(gtab.bvals, np.log(ff.predict(gtab)/ff.predict(gtab)[0]) , 'o')\n",
    "\n",
    "plt.plot(gtab.bvals, np.log(signal/signal[0]), 'o')"
   ]
  },
  {
   "cell_type": "code",
   "execution_count": 40,
   "id": "decent-saudi",
   "metadata": {},
   "outputs": [
    {
     "data": {
      "text/plain": [
       "array(0.19988648)"
      ]
     },
     "execution_count": 40,
     "metadata": {},
     "output_type": "execute_result"
    }
   ],
   "source": [
    "ff.perfusion_fraction"
   ]
  },
  {
   "cell_type": "code",
   "execution_count": 41,
   "id": "knowing-drawing",
   "metadata": {},
   "outputs": [],
   "source": [
    "from dipy.core.geometry import sphere2cart, cart2sphere, euler_matrix"
   ]
  },
  {
   "cell_type": "code",
   "execution_count": 42,
   "id": "fewer-biodiversity",
   "metadata": {},
   "outputs": [
    {
     "data": {
      "text/plain": [
       "(array(1.2246468e-16), array(0.), array(-1.))"
      ]
     },
     "execution_count": 42,
     "metadata": {},
     "output_type": "execute_result"
    }
   ],
   "source": [
    "sphere2cart(1, np.pi, 0)"
   ]
  },
  {
   "cell_type": "code",
   "execution_count": 43,
   "id": "golden-atlanta",
   "metadata": {},
   "outputs": [],
   "source": [
    "R = euler_matrix(0, 0, 0)"
   ]
  },
  {
   "cell_type": "code",
   "execution_count": 44,
   "id": "configured-conclusion",
   "metadata": {},
   "outputs": [
    {
     "data": {
      "text/plain": [
       "array([[1., 0., 0.],\n",
       "       [0., 1., 0.],\n",
       "       [0., 0., 1.]])"
      ]
     },
     "execution_count": 44,
     "metadata": {},
     "output_type": "execute_result"
    }
   ],
   "source": [
    "R[:3, :3] @ np.eye(3)"
   ]
  },
  {
   "cell_type": "code",
   "execution_count": 45,
   "id": "regular-console",
   "metadata": {},
   "outputs": [],
   "source": [
    "from dipy.core.geometry import decompose_matrix, vec2vec_rotmat, rodrigues_axis_rotation"
   ]
  },
  {
   "cell_type": "code",
   "execution_count": 46,
   "id": "victorian-illness",
   "metadata": {},
   "outputs": [
    {
     "data": {
      "text/plain": [
       "(array([1., 1., 1.]),\n",
       " [0.0, 0.0, 0.0],\n",
       " [0.0, -0.0, 0.0],\n",
       " array([0., 0., 0.]),\n",
       " array([0., 0., 0., 1.]))"
      ]
     },
     "execution_count": 46,
     "metadata": {},
     "output_type": "execute_result"
    }
   ],
   "source": [
    "decompose_matrix(np.eye(4))"
   ]
  },
  {
   "cell_type": "code",
   "execution_count": 47,
   "id": "american-ukraine",
   "metadata": {},
   "outputs": [
    {
     "data": {
      "text/plain": [
       "array([[ 0., -1.,  0.],\n",
       "       [ 1.,  0.,  0.],\n",
       "       [ 0.,  0.,  1.]])"
      ]
     },
     "execution_count": 47,
     "metadata": {},
     "output_type": "execute_result"
    }
   ],
   "source": [
    "vec2vec_rotmat(np.array([1, 0, 0]), np.array([0, 1, 0]))"
   ]
  },
  {
   "cell_type": "code",
   "execution_count": null,
   "id": "informational-frontier",
   "metadata": {},
   "outputs": [],
   "source": []
  },
  {
   "cell_type": "code",
   "execution_count": 48,
   "id": "ignored-botswana",
   "metadata": {},
   "outputs": [
    {
     "data": {
      "text/plain": [
       "array([[ 0.32866786,  0.50198695,  0.79999158],\n",
       "       [ 0.88106381, -0.4680427 , -0.06828326],\n",
       "       [-0.34015291, -0.72728614,  0.59611313]])"
      ]
     },
     "execution_count": 48,
     "metadata": {},
     "output_type": "execute_result"
    }
   ],
   "source": [
    "itm.diffusion_fit.evecs"
   ]
  },
  {
   "cell_type": "code",
   "execution_count": 49,
   "id": "nutritional-gauge",
   "metadata": {},
   "outputs": [],
   "source": [
    "rot0 = np.eye(4)\n",
    "rot0[:3, :3] = vec2vec_rotmat(itm.diffusion_fit.evecs[0], np.eye(3)[0])\n",
    "scale, shear, angles0, translate, perspective = decompose_matrix(rot0)\n",
    "em = euler_matrix(*angles0)"
   ]
  },
  {
   "cell_type": "code",
   "execution_count": 50,
   "id": "absent-clarity",
   "metadata": {},
   "outputs": [],
   "source": [
    "ang1 = np.arccos(np.dot(itm.diffusion_fit.evecs[1], em[1, :3]) / (np.linalg.norm(itm.diffusion_fit.evecs[1]) * np.linalg.norm(em[1, :3])))"
   ]
  },
  {
   "cell_type": "code",
   "execution_count": 51,
   "id": "central-citation",
   "metadata": {},
   "outputs": [],
   "source": [
    "rar = np.eye(4)"
   ]
  },
  {
   "cell_type": "code",
   "execution_count": 52,
   "id": "contemporary-fever",
   "metadata": {},
   "outputs": [],
   "source": [
    "rar[:3, :3] = rodrigues_axis_rotation(itm.diffusion_fit.evecs[0], np.rad2deg(ang1))"
   ]
  },
  {
   "cell_type": "code",
   "execution_count": 53,
   "id": "dental-given",
   "metadata": {},
   "outputs": [
    {
     "data": {
      "text/plain": [
       "array([[ 0.32866786,  0.50198695,  0.79999158,  0.        ],\n",
       "       [ 0.88106381, -0.4680427 , -0.06828326,  0.        ],\n",
       "       [ 0.34015291,  0.72728614, -0.59611313,  0.        ],\n",
       "       [ 0.        ,  0.        ,  0.        ,  1.        ]])"
      ]
     },
     "execution_count": 53,
     "metadata": {},
     "output_type": "execute_result"
    }
   ],
   "source": [
    "em @ rar"
   ]
  },
  {
   "cell_type": "code",
   "execution_count": 54,
   "id": "offensive-turner",
   "metadata": {},
   "outputs": [
    {
     "data": {
      "text/plain": [
       "array([[ 0.32866786,  0.50198695,  0.79999158],\n",
       "       [ 0.88106381, -0.4680427 , -0.06828326],\n",
       "       [-0.34015291, -0.72728614,  0.59611313]])"
      ]
     },
     "execution_count": 54,
     "metadata": {},
     "output_type": "execute_result"
    }
   ],
   "source": [
    "itm.diffusion_fit.evecs"
   ]
  },
  {
   "cell_type": "code",
   "execution_count": 55,
   "id": "attempted-knowing",
   "metadata": {},
   "outputs": [],
   "source": [
    "scale, shear, angles, translate, perspective = decompose_matrix(em @ rar)"
   ]
  },
  {
   "cell_type": "code",
   "execution_count": 56,
   "id": "rapid-prior",
   "metadata": {},
   "outputs": [
    {
     "data": {
      "text/plain": [
       "[2.257398938482077, -0.3470795017234795, 1.213749283856508]"
      ]
     },
     "execution_count": 56,
     "metadata": {},
     "output_type": "execute_result"
    }
   ],
   "source": [
    "angles"
   ]
  },
  {
   "cell_type": "code",
   "execution_count": 57,
   "id": "primary-crawford",
   "metadata": {},
   "outputs": [
    {
     "data": {
      "text/plain": [
       "array([[ 0.32866786,  0.50198695,  0.79999158],\n",
       "       [ 0.88106381, -0.4680427 , -0.06828326],\n",
       "       [ 0.34015291,  0.72728614, -0.59611313]])"
      ]
     },
     "execution_count": 57,
     "metadata": {},
     "output_type": "execute_result"
    }
   ],
   "source": [
    "euler_matrix(*angles)[:3, :3]"
   ]
  },
  {
   "cell_type": "code",
   "execution_count": null,
   "id": "contemporary-british",
   "metadata": {},
   "outputs": [],
   "source": []
  }
 ],
 "metadata": {
  "kernelspec": {
   "display_name": "Python 3",
   "language": "python",
   "name": "python3"
  },
  "language_info": {
   "codemirror_mode": {
    "name": "ipython",
    "version": 3
   },
   "file_extension": ".py",
   "mimetype": "text/x-python",
   "name": "python",
   "nbconvert_exporter": "python",
   "pygments_lexer": "ipython3",
   "version": "3.7.10"
  }
 },
 "nbformat": 4,
 "nbformat_minor": 5
}

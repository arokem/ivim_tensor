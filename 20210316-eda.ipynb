{
 "cells": [
  {
   "cell_type": "code",
   "execution_count": 1,
   "id": "supreme-gallery",
   "metadata": {},
   "outputs": [],
   "source": [
    "import numpy as np\n",
    "import matplotlib.pyplot as plt"
   ]
  },
  {
   "cell_type": "code",
   "execution_count": 2,
   "id": "raising-engineering",
   "metadata": {},
   "outputs": [],
   "source": [
    "from ivim_tensor import IvimTensorModel"
   ]
  },
  {
   "cell_type": "code",
   "execution_count": 3,
   "id": "combined-membrane",
   "metadata": {},
   "outputs": [],
   "source": [
    "from dipy.core.gradients import gradient_table"
   ]
  },
  {
   "cell_type": "code",
   "execution_count": 4,
   "id": "handed-murray",
   "metadata": {},
   "outputs": [],
   "source": [
    "gtab = gradient_table('./data/DWI_IVIM6.bval', './data/DWI_IVIM6.bvec', b0_threshold=0)"
   ]
  },
  {
   "cell_type": "code",
   "execution_count": 5,
   "id": "formal-tooth",
   "metadata": {},
   "outputs": [],
   "source": [
    "from dipy.sims.voxel import multi_tensor"
   ]
  },
  {
   "cell_type": "markdown",
   "id": "adopted-transcription",
   "metadata": {},
   "source": [
    "$\\frac{S}{S0} = \\beta e^{-b \\theta^t Q \\theta} + (1-\\beta) e^{-b \\theta^t Q^* \\theta}$"
   ]
  },
  {
   "cell_type": "code",
   "execution_count": 6,
   "id": "neutral-current",
   "metadata": {},
   "outputs": [],
   "source": [
    "mevals = np.array([[0.001, 0.0005, 0.0005], \n",
    "                   [0.1, 0.01, 0.01]])\n",
    "\n",
    "angles = [(90, 0), (90, 0)]"
   ]
  },
  {
   "cell_type": "code",
   "execution_count": 7,
   "id": "radio-pipeline",
   "metadata": {},
   "outputs": [],
   "source": [
    "perfusion_fraction = 0.2"
   ]
  },
  {
   "cell_type": "code",
   "execution_count": 8,
   "id": "tested-panama",
   "metadata": {},
   "outputs": [],
   "source": [
    "sim = multi_tensor(gtab, mevals=mevals, snr=20, fractions=[100 * (1-perfusion_fraction), \n",
    "                                                             perfusion_fraction * 100])[0]"
   ]
  },
  {
   "cell_type": "code",
   "execution_count": 9,
   "id": "angry-butter",
   "metadata": {},
   "outputs": [
    {
     "name": "stderr",
     "output_type": "stream",
     "text": [
      "/srv/conda/envs/notebook/lib/python3.7/site-packages/dipy/reconst/ivim.py:151: UserWarning: Bounds for this fit have been set from experiments and literature survey. To change the bounds, please input your bounds in model definition...\n",
      "  warnings.warn(bounds_warning, UserWarning)\n"
     ]
    }
   ],
   "source": [
    "itm = IvimTensorModel(gtab)"
   ]
  },
  {
   "cell_type": "code",
   "execution_count": 10,
   "id": "charitable-contents",
   "metadata": {},
   "outputs": [],
   "source": [
    "itf = itm.fit(sim)"
   ]
  },
  {
   "cell_type": "code",
   "execution_count": 11,
   "id": "committed-minutes",
   "metadata": {},
   "outputs": [
    {
     "name": "stderr",
     "output_type": "stream",
     "text": [
      "ERROR:root:No traceback has been produced, nothing to debug.\n"
     ]
    }
   ],
   "source": [
    "debug"
   ]
  },
  {
   "cell_type": "code",
   "execution_count": 12,
   "id": "metric-substance",
   "metadata": {},
   "outputs": [
    {
     "data": {
      "text/plain": [
       "array([2.11377045e-01, 1.02322236e-03, 5.62318563e-04, 4.63798911e-04,\n",
       "       1.19656169e+00, 1.71248366e+00, 1.06849771e+00, 3.85359191e-02,\n",
       "       1.37382116e-01, 6.55724436e-15, 3.14159265e+00, 1.08123530e+00,\n",
       "       1.33514204e+00])"
      ]
     },
     "execution_count": 12,
     "metadata": {},
     "output_type": "execute_result"
    }
   ],
   "source": [
    "itf.model_params"
   ]
  },
  {
   "cell_type": "code",
   "execution_count": 13,
   "id": "confirmed-omega",
   "metadata": {},
   "outputs": [
    {
     "data": {
      "text/plain": [
       "0.21137704452694883"
      ]
     },
     "execution_count": 13,
     "metadata": {},
     "output_type": "execute_result"
    }
   ],
   "source": [
    "itf.perfusion_fraction"
   ]
  },
  {
   "cell_type": "code",
   "execution_count": 14,
   "id": "colonial-smile",
   "metadata": {},
   "outputs": [
    {
     "data": {
      "text/plain": [
       "(array([0.00102322, 0.00056232, 0.0004638 ]),\n",
       " array([3.85359191e-02, 1.37382116e-01, 6.55724436e-15]))"
      ]
     },
     "execution_count": 14,
     "metadata": {},
     "output_type": "execute_result"
    }
   ],
   "source": [
    "itf.diffusion_fit.evals, itf.perfusion_fit.evals"
   ]
  },
  {
   "cell_type": "code",
   "execution_count": 15,
   "id": "thermal-childhood",
   "metadata": {},
   "outputs": [
    {
     "data": {
      "text/plain": [
       "(0.8602084943341356, 0.4117233310177885)"
      ]
     },
     "execution_count": 15,
     "metadata": {},
     "output_type": "execute_result"
    }
   ],
   "source": [
    "itf.perfusion_fit.fa, itf.diffusion_fit.fa"
   ]
  },
  {
   "cell_type": "code",
   "execution_count": 16,
   "id": "average-hostel",
   "metadata": {},
   "outputs": [
    {
     "data": {
      "text/plain": [
       "(0.05863934508870224, 0.0006831132791016984)"
      ]
     },
     "execution_count": 16,
     "metadata": {},
     "output_type": "execute_result"
    }
   ],
   "source": [
    "itf.perfusion_fit.md, itf.diffusion_fit.md"
   ]
  },
  {
   "cell_type": "code",
   "execution_count": 17,
   "id": "antique-kinase",
   "metadata": {},
   "outputs": [
    {
     "data": {
      "text/plain": [
       "0.9999999999999999"
      ]
     },
     "execution_count": 17,
     "metadata": {},
     "output_type": "execute_result"
    }
   ],
   "source": [
    "np.linalg.norm(itf.diffusion_fit.directions)"
   ]
  },
  {
   "cell_type": "code",
   "execution_count": 18,
   "id": "outdoor-beads",
   "metadata": {},
   "outputs": [
    {
     "data": {
      "text/plain": [
       "1.0"
      ]
     },
     "execution_count": 18,
     "metadata": {},
     "output_type": "execute_result"
    }
   ],
   "source": [
    "np.linalg.norm(itf.perfusion_fit.directions)"
   ]
  },
  {
   "cell_type": "code",
   "execution_count": 19,
   "id": "transsexual-algebra",
   "metadata": {},
   "outputs": [
    {
     "data": {
      "text/plain": [
       "[<matplotlib.lines.Line2D at 0x7f52dc04f210>]"
      ]
     },
     "execution_count": 19,
     "metadata": {},
     "output_type": "execute_result"
    },
    {
     "data": {
      "image/png": "[encoded data removed]",
      "text/plain": [
       "<Figure size 432x288 with 1 Axes>"
      ]
     },
     "metadata": {
      "needs_background": "light"
     },
     "output_type": "display_data"
    }
   ],
   "source": [
    "plt.plot(gtab.bvals, sim, 'o')\n",
    "plt.plot(gtab.bvals, itf.predict(gtab), 'o')\n"
   ]
  },
  {
   "cell_type": "code",
   "execution_count": 20,
   "id": "living-utilization",
   "metadata": {},
   "outputs": [
    {
     "name": "stderr",
     "output_type": "stream",
     "text": [
      "ERROR:root:No traceback has been produced, nothing to debug.\n"
     ]
    }
   ],
   "source": [
    "debug"
   ]
  },
  {
   "cell_type": "code",
   "execution_count": 21,
   "id": "manufactured-engineer",
   "metadata": {},
   "outputs": [
    {
     "data": {
      "text/plain": [
       "(0.21137704452694883, 0.05863934508870224, 0.0006831132791016984)"
      ]
     },
     "execution_count": 21,
     "metadata": {},
     "output_type": "execute_result"
    }
   ],
   "source": [
    "itf.perfusion_fraction, itf.perfusion_fit.md, itf.diffusion_fit.md"
   ]
  },
  {
   "cell_type": "code",
   "execution_count": 22,
   "id": "burning-reviewer",
   "metadata": {},
   "outputs": [
    {
     "data": {
      "text/plain": [
       "(array([3.85359191e-02, 1.37382116e-01, 6.55724436e-15]),\n",
       " array([0.00102322, 0.00056232, 0.0004638 ]))"
      ]
     },
     "execution_count": 22,
     "metadata": {},
     "output_type": "execute_result"
    }
   ],
   "source": [
    "itf.perfusion_fit.evals, itf.diffusion_fit.evals"
   ]
  },
  {
   "cell_type": "code",
   "execution_count": 23,
   "id": "fiscal-basic",
   "metadata": {},
   "outputs": [],
   "source": [
    "import nibabel as nib"
   ]
  },
  {
   "cell_type": "code",
   "execution_count": 24,
   "id": "happy-contrast",
   "metadata": {},
   "outputs": [],
   "source": [
    "img = nib.load('./data/DWI_IVIM6.nii')"
   ]
  },
  {
   "cell_type": "code",
   "execution_count": 25,
   "id": "neutral-elder",
   "metadata": {},
   "outputs": [],
   "source": [
    "data = img.get_fdata()"
   ]
  },
  {
   "cell_type": "code",
   "execution_count": 26,
   "id": "encouraging-method",
   "metadata": {},
   "outputs": [],
   "source": [
    "idx = (40, 30)"
   ]
  },
  {
   "cell_type": "code",
   "execution_count": 27,
   "id": "irish-mattress",
   "metadata": {},
   "outputs": [],
   "source": [
    "signal = data[:, :, 10, :][idx]"
   ]
  },
  {
   "cell_type": "code",
   "execution_count": 28,
   "id": "documentary-midwest",
   "metadata": {},
   "outputs": [
    {
     "data": {
      "text/plain": [
       "<matplotlib.image.AxesImage at 0x7f52dbf4cb10>"
      ]
     },
     "execution_count": 28,
     "metadata": {},
     "output_type": "execute_result"
    },
    {
     "data": {
      "image/png": "[encoded data removed]",
      "text/plain": [
       "<Figure size 432x288 with 1 Axes>"
      ]
     },
     "metadata": {
      "needs_background": "light"
     },
     "output_type": "display_data"
    }
   ],
   "source": [
    "fig, ax = plt.subplots()\n",
    "ax.matshow(data[:, :, 10, -1])\n",
    "ROI = np.ones(data[:, :, 10, -1].shape) * np.nan\n",
    "ROI[idx[0]-2:idx[0]+2, idx[1]-2:idx[1]+2] = 1\n",
    "ax.matshow(ROI, cmap='jet')\n"
   ]
  },
  {
   "cell_type": "code",
   "execution_count": 29,
   "id": "recreational-adventure",
   "metadata": {},
   "outputs": [
    {
     "data": {
      "text/plain": [
       "[<matplotlib.lines.Line2D at 0x7f52dbed18d0>]"
      ]
     },
     "execution_count": 29,
     "metadata": {},
     "output_type": "execute_result"
    },
    {
     "data": {
      "image/png": "[encoded data removed]",
      "text/plain": [
       "<Figure size 432x288 with 1 Axes>"
      ]
     },
     "metadata": {
      "needs_background": "light"
     },
     "output_type": "display_data"
    }
   ],
   "source": [
    "plt.plot(gtab.bvals, np.log(signal/signal[-1]), 'o')"
   ]
  },
  {
   "cell_type": "code",
   "execution_count": 30,
   "id": "abandoned-wonder",
   "metadata": {},
   "outputs": [],
   "source": [
    "itf = itm.fit(signal)"
   ]
  },
  {
   "cell_type": "code",
   "execution_count": 31,
   "id": "infectious-martin",
   "metadata": {},
   "outputs": [
    {
     "name": "stderr",
     "output_type": "stream",
     "text": [
      "ERROR:root:No traceback has been produced, nothing to debug.\n"
     ]
    }
   ],
   "source": [
    "debug"
   ]
  },
  {
   "cell_type": "code",
   "execution_count": 32,
   "id": "sharing-costs",
   "metadata": {},
   "outputs": [
    {
     "data": {
      "text/plain": [
       "(0.0007332750506892131, 0.0008940471412121619)"
      ]
     },
     "execution_count": 32,
     "metadata": {},
     "output_type": "execute_result"
    }
   ],
   "source": [
    "itm.diffusion_fit.md, itm.perfusion_fit.md"
   ]
  },
  {
   "cell_type": "code",
   "execution_count": 33,
   "id": "polyphonic-shadow",
   "metadata": {},
   "outputs": [
    {
     "data": {
      "text/plain": [
       "(0.0007180070972263069, 0.1999999969330102)"
      ]
     },
     "execution_count": 33,
     "metadata": {},
     "output_type": "execute_result"
    }
   ],
   "source": [
    "itf.diffusion_fit.md, itf.perfusion_fit.md"
   ]
  },
  {
   "cell_type": "code",
   "execution_count": 34,
   "id": "refined-climb",
   "metadata": {},
   "outputs": [
    {
     "data": {
      "text/plain": [
       "0.07182539091746767"
      ]
     },
     "execution_count": 34,
     "metadata": {},
     "output_type": "execute_result"
    }
   ],
   "source": [
    "itf.perfusion_fraction"
   ]
  },
  {
   "cell_type": "code",
   "execution_count": 35,
   "id": "restricted-opinion",
   "metadata": {},
   "outputs": [
    {
     "data": {
      "text/plain": [
       "[<matplotlib.lines.Line2D at 0x7f52dbe43c10>]"
      ]
     },
     "execution_count": 35,
     "metadata": {},
     "output_type": "execute_result"
    },
    {
     "data": {
      "image/png": "[encoded data removed]",
      "text/plain": [
       "<Figure size 432x288 with 1 Axes>"
      ]
     },
     "metadata": {
      "needs_background": "light"
     },
     "output_type": "display_data"
    }
   ],
   "source": [
    "plt.plot(gtab.bvals, signal/signal[-1], 'o')\n",
    "plt.plot(gtab.bvals, itf.predict(gtab), 'o')\n"
   ]
  },
  {
   "cell_type": "code",
   "execution_count": 36,
   "id": "academic-surgeon",
   "metadata": {},
   "outputs": [
    {
     "data": {
      "text/plain": [
       "0.07182539091746767"
      ]
     },
     "execution_count": 36,
     "metadata": {},
     "output_type": "execute_result"
    }
   ],
   "source": [
    "itf.perfusion_fraction"
   ]
  },
  {
   "cell_type": "code",
   "execution_count": 37,
   "id": "weird-wrestling",
   "metadata": {},
   "outputs": [
    {
     "data": {
      "text/plain": [
       "2.634377901216932e-08"
      ]
     },
     "execution_count": 37,
     "metadata": {},
     "output_type": "execute_result"
    }
   ],
   "source": [
    "itf.perfusion_fit.fa"
   ]
  },
  {
   "cell_type": "code",
   "execution_count": 38,
   "id": "prospective-things",
   "metadata": {},
   "outputs": [
    {
     "data": {
      "text/plain": [
       "(array([0.00092867, 0.00065089, 0.00057446]),\n",
       " array([0.19999999, 0.2       , 0.2       ]))"
      ]
     },
     "execution_count": 38,
     "metadata": {},
     "output_type": "execute_result"
    }
   ],
   "source": [
    "itf.diffusion_fit.evals, itf.perfusion_fit.evals"
   ]
  },
  {
   "cell_type": "code",
   "execution_count": 39,
   "id": "tender-roots",
   "metadata": {},
   "outputs": [
    {
     "data": {
      "text/plain": [
       "0.25396393519181615"
      ]
     },
     "execution_count": 39,
     "metadata": {},
     "output_type": "execute_result"
    }
   ],
   "source": [
    "itf.diffusion_fit.fa"
   ]
  },
  {
   "cell_type": "code",
   "execution_count": 40,
   "id": "preceding-plaza",
   "metadata": {},
   "outputs": [
    {
     "data": {
      "text/plain": [
       "-2.0061911220833163e-18"
      ]
     },
     "execution_count": 40,
     "metadata": {},
     "output_type": "execute_result"
    }
   ],
   "source": [
    "np.dot(itf.perfusion_fit.evecs[0], itf.perfusion_fit.evecs[1])"
   ]
  },
  {
   "cell_type": "code",
   "execution_count": 41,
   "id": "adopted-masters",
   "metadata": {},
   "outputs": [],
   "source": [
    "from dipy.reconst.ivim import IvimModel"
   ]
  },
  {
   "cell_type": "code",
   "execution_count": 42,
   "id": "blank-billy",
   "metadata": {},
   "outputs": [
    {
     "name": "stderr",
     "output_type": "stream",
     "text": [
      "/srv/conda/envs/notebook/lib/python3.7/site-packages/dipy/reconst/ivim.py:151: UserWarning: Bounds for this fit have been set from experiments and literature survey. To change the bounds, please input your bounds in model definition...\n",
      "  warnings.warn(bounds_warning, UserWarning)\n"
     ]
    }
   ],
   "source": [
    "mm = IvimModel(gtab)"
   ]
  },
  {
   "cell_type": "code",
   "execution_count": 43,
   "id": "hairy-adolescent",
   "metadata": {},
   "outputs": [],
   "source": [
    "ff = mm.fit(signal)"
   ]
  },
  {
   "cell_type": "code",
   "execution_count": 44,
   "id": "regulation-mississippi",
   "metadata": {},
   "outputs": [
    {
     "data": {
      "text/plain": [
       "[<matplotlib.lines.Line2D at 0x7f52dbdc63d0>]"
      ]
     },
     "execution_count": 44,
     "metadata": {},
     "output_type": "execute_result"
    },
    {
     "data": {
      "image/png": "[encoded data removed]",
      "text/plain": [
       "<Figure size 432x288 with 1 Axes>"
      ]
     },
     "metadata": {
      "needs_background": "light"
     },
     "output_type": "display_data"
    }
   ],
   "source": [
    "plt.plot(gtab.bvals, signal/signal[-1], 'o')\n",
    "plt.plot(gtab.bvals, itf.predict(gtab), 'o')\n",
    "#plt.plot(gtab.bvals, ff.predict(gtab)/ff.predict(gtab)[gtab.b0s_mask] , 'o')\n"
   ]
  },
  {
   "cell_type": "code",
   "execution_count": 45,
   "id": "charged-slovakia",
   "metadata": {},
   "outputs": [
    {
     "data": {
      "text/plain": [
       "array(0.04738718)"
      ]
     },
     "execution_count": 45,
     "metadata": {},
     "output_type": "execute_result"
    }
   ],
   "source": [
    "ff.perfusion_fraction"
   ]
  },
  {
   "cell_type": "code",
   "execution_count": 46,
   "id": "least-tract",
   "metadata": {},
   "outputs": [],
   "source": [
    "from dipy.core.geometry import sphere2cart, cart2sphere, euler_matrix"
   ]
  },
  {
   "cell_type": "code",
   "execution_count": 47,
   "id": "approved-logging",
   "metadata": {},
   "outputs": [
    {
     "data": {
      "text/plain": [
       "(array(1.2246468e-16), array(0.), array(-1.))"
      ]
     },
     "execution_count": 47,
     "metadata": {},
     "output_type": "execute_result"
    }
   ],
   "source": [
    "sphere2cart(1, np.pi, 0)"
   ]
  },
  {
   "cell_type": "code",
   "execution_count": 48,
   "id": "earlier-subsection",
   "metadata": {},
   "outputs": [],
   "source": [
    "R = euler_matrix(0, 0, 0)"
   ]
  },
  {
   "cell_type": "code",
   "execution_count": 49,
   "id": "removable-seating",
   "metadata": {},
   "outputs": [
    {
     "data": {
      "text/plain": [
       "array([[1., 0., 0.],\n",
       "       [0., 1., 0.],\n",
       "       [0., 0., 1.]])"
      ]
     },
     "execution_count": 49,
     "metadata": {},
     "output_type": "execute_result"
    }
   ],
   "source": [
    "R[:3, :3] @ np.eye(3)"
   ]
  },
  {
   "cell_type": "code",
   "execution_count": 50,
   "id": "capable-defense",
   "metadata": {},
   "outputs": [],
   "source": [
    "from dipy.core.geometry import decompose_matrix, vec2vec_rotmat, rodrigues_axis_rotation"
   ]
  },
  {
   "cell_type": "code",
   "execution_count": 51,
   "id": "radical-investment",
   "metadata": {},
   "outputs": [
    {
     "data": {
      "text/plain": [
       "(array([1., 1., 1.]),\n",
       " [0.0, 0.0, 0.0],\n",
       " [0.0, -0.0, 0.0],\n",
       " array([0., 0., 0.]),\n",
       " array([0., 0., 0., 1.]))"
      ]
     },
     "execution_count": 51,
     "metadata": {},
     "output_type": "execute_result"
    }
   ],
   "source": [
    "decompose_matrix(np.eye(4))"
   ]
  },
  {
   "cell_type": "code",
   "execution_count": 52,
   "id": "engaging-platinum",
   "metadata": {},
   "outputs": [
    {
     "data": {
      "text/plain": [
       "array([[ 0., -1.,  0.],\n",
       "       [ 1.,  0.,  0.],\n",
       "       [ 0.,  0.,  1.]])"
      ]
     },
     "execution_count": 52,
     "metadata": {},
     "output_type": "execute_result"
    }
   ],
   "source": [
    "vec2vec_rotmat(np.array([1, 0, 0]), np.array([0, 1, 0]))"
   ]
  },
  {
   "cell_type": "code",
   "execution_count": null,
   "id": "classical-mauritius",
   "metadata": {},
   "outputs": [],
   "source": []
  },
  {
   "cell_type": "code",
   "execution_count": 53,
   "id": "unsigned-broadway",
   "metadata": {},
   "outputs": [
    {
     "data": {
      "text/plain": [
       "array([[ 0.01661208, -0.22146692,  0.97502638],\n",
       "       [-0.9682679 ,  0.23963819,  0.07092822],\n",
       "       [ 0.24936182,  0.94526501,  0.21045842]])"
      ]
     },
     "execution_count": 53,
     "metadata": {},
     "output_type": "execute_result"
    }
   ],
   "source": [
    "itm.diffusion_fit.evecs"
   ]
  },
  {
   "cell_type": "code",
   "execution_count": 54,
   "id": "amazing-bankruptcy",
   "metadata": {},
   "outputs": [],
   "source": [
    "rot0 = np.eye(4)\n",
    "rot0[:3, :3] = vec2vec_rotmat(itm.diffusion_fit.evecs[0], np.eye(3)[0])\n",
    "scale, shear, angles0, translate, perspective = decompose_matrix(rot0)\n",
    "em = euler_matrix(*angles0)"
   ]
  },
  {
   "cell_type": "code",
   "execution_count": 55,
   "id": "noted-prague",
   "metadata": {},
   "outputs": [],
   "source": [
    "ang1 = np.arccos(np.dot(itm.diffusion_fit.evecs[1], em[1, :3]) / (np.linalg.norm(itm.diffusion_fit.evecs[1]) * np.linalg.norm(em[1, :3])))"
   ]
  },
  {
   "cell_type": "code",
   "execution_count": 56,
   "id": "developed-audience",
   "metadata": {},
   "outputs": [],
   "source": [
    "rar = np.eye(4)"
   ]
  },
  {
   "cell_type": "code",
   "execution_count": 57,
   "id": "going-offering",
   "metadata": {},
   "outputs": [],
   "source": [
    "rar[:3, :3] = rodrigues_axis_rotation(itm.diffusion_fit.evecs[0], np.rad2deg(ang1))"
   ]
  },
  {
   "cell_type": "code",
   "execution_count": 58,
   "id": "cubic-viewer",
   "metadata": {},
   "outputs": [
    {
     "data": {
      "text/plain": [
       "array([[ 0.01661208, -0.22146692,  0.97502638,  0.        ],\n",
       "       [ 0.98098141, -0.18500189, -0.05873476,  0.        ],\n",
       "       [ 0.19338953,  0.95745846,  0.21418166,  0.        ],\n",
       "       [ 0.        ,  0.        ,  0.        ,  1.        ]])"
      ]
     },
     "execution_count": 58,
     "metadata": {},
     "output_type": "execute_result"
    }
   ],
   "source": [
    "em @ rar"
   ]
  },
  {
   "cell_type": "code",
   "execution_count": 59,
   "id": "balanced-arabic",
   "metadata": {},
   "outputs": [
    {
     "data": {
      "text/plain": [
       "array([[ 0.01661208, -0.22146692,  0.97502638],\n",
       "       [-0.9682679 ,  0.23963819,  0.07092822],\n",
       "       [ 0.24936182,  0.94526501,  0.21045842]])"
      ]
     },
     "execution_count": 59,
     "metadata": {},
     "output_type": "execute_result"
    }
   ],
   "source": [
    "itm.diffusion_fit.evecs"
   ]
  },
  {
   "cell_type": "code",
   "execution_count": 60,
   "id": "hispanic-hostel",
   "metadata": {},
   "outputs": [],
   "source": [
    "scale, shear, angles, translate, perspective = decompose_matrix(em @ rar)"
   ]
  },
  {
   "cell_type": "code",
   "execution_count": 61,
   "id": "fatty-intranet",
   "metadata": {},
   "outputs": [
    {
     "data": {
      "text/plain": [
       "[1.3507213715178494, -0.19461572431593202, 1.5538637967200888]"
      ]
     },
     "execution_count": 61,
     "metadata": {},
     "output_type": "execute_result"
    }
   ],
   "source": [
    "angles"
   ]
  },
  {
   "cell_type": "code",
   "execution_count": 62,
   "id": "regular-effectiveness",
   "metadata": {},
   "outputs": [
    {
     "data": {
      "text/plain": [
       "array([[ 0.01661208, -0.22146692,  0.97502638],\n",
       "       [ 0.98098141, -0.18500189, -0.05873476],\n",
       "       [ 0.19338953,  0.95745846,  0.21418166]])"
      ]
     },
     "execution_count": 62,
     "metadata": {},
     "output_type": "execute_result"
    }
   ],
   "source": [
    "euler_matrix(*angles)[:3, :3]"
   ]
  },
  {
   "cell_type": "code",
   "execution_count": null,
   "id": "advisory-medicare",
   "metadata": {},
   "outputs": [],
   "source": []
  }
 ],
 "metadata": {
  "kernelspec": {
   "display_name": "Python 3",
   "language": "python",
   "name": "python3"
  },
  "language_info": {
   "codemirror_mode": {
    "name": "ipython",
    "version": 3
   },
   "file_extension": ".py",
   "mimetype": "text/x-python",
   "name": "python",
   "nbconvert_exporter": "python",
   "pygments_lexer": "ipython3",
   "version": "3.7.10"
  }
 },
 "nbformat": 4,
 "nbformat_minor": 5
}

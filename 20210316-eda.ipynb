{
 "cells": [
  {
   "cell_type": "code",
   "execution_count": 1,
   "id": "engaging-print",
   "metadata": {},
   "outputs": [],
   "source": [
    "import numpy as np\n",
    "import matplotlib.pyplot as plt"
   ]
  },
  {
   "cell_type": "code",
   "execution_count": 2,
   "id": "fleet-pitch",
   "metadata": {},
   "outputs": [],
   "source": [
    "from ivim_tensor import IvimTensorModel"
   ]
  },
  {
   "cell_type": "code",
   "execution_count": 3,
   "id": "prime-packet",
   "metadata": {},
   "outputs": [],
   "source": [
    "from dipy.core.gradients import gradient_table"
   ]
  },
  {
   "cell_type": "code",
   "execution_count": 4,
   "id": "sticky-checklist",
   "metadata": {},
   "outputs": [],
   "source": [
    "gtab = gradient_table('./data/DWI_IVIM6.bval', './data/DWI_IVIM6.bvec', b0_threshold=0)"
   ]
  },
  {
   "cell_type": "code",
   "execution_count": null,
   "id": "christian-facing",
   "metadata": {},
   "outputs": [],
   "source": []
  },
  {
   "cell_type": "code",
   "execution_count": 5,
   "id": "imposed-serum",
   "metadata": {},
   "outputs": [],
   "source": [
    "from dipy.sims.voxel import multi_tensor"
   ]
  },
  {
   "cell_type": "code",
   "execution_count": 6,
   "id": "connected-socket",
   "metadata": {},
   "outputs": [],
   "source": [
    "mevals = np.array([[0.001, 0.0005, 0.0005], \n",
    "                   [0.1, 0.01, 0.01]])\n",
    "\n",
    "angles = [(90, 0), (90, 0)]"
   ]
  },
  {
   "cell_type": "code",
   "execution_count": 7,
   "id": "after-forty",
   "metadata": {},
   "outputs": [],
   "source": [
    "perfusion_fraction = 0.2"
   ]
  },
  {
   "cell_type": "code",
   "execution_count": 61,
   "id": "british-tooth",
   "metadata": {},
   "outputs": [],
   "source": [
    "sim = multi_tensor(gtab, mevals=mevals, snr=20, fractions=[100 * (1-perfusion_fraction), \n",
    "                                                             perfusion_fraction * 100])[0]"
   ]
  },
  {
   "cell_type": "code",
   "execution_count": 62,
   "id": "legitimate-hollywood",
   "metadata": {},
   "outputs": [
    {
     "name": "stderr",
     "output_type": "stream",
     "text": [
      "/srv/conda/envs/notebook/lib/python3.7/site-packages/dipy/reconst/ivim.py:151: UserWarning: Bounds for this fit have been set from experiments and literature survey. To change the bounds, please input your bounds in model definition...\n",
      "  warnings.warn(bounds_warning, UserWarning)\n"
     ]
    }
   ],
   "source": [
    "itm = IvimTensorModel(gtab)"
   ]
  },
  {
   "cell_type": "code",
   "execution_count": 63,
   "id": "anticipated-green",
   "metadata": {},
   "outputs": [],
   "source": [
    "itf = itm.fit(sim)"
   ]
  },
  {
   "cell_type": "code",
   "execution_count": 64,
   "id": "civilian-fetish",
   "metadata": {},
   "outputs": [
    {
     "name": "stderr",
     "output_type": "stream",
     "text": [
      "ERROR:root:No traceback has been produced, nothing to debug.\n"
     ]
    }
   ],
   "source": [
    "debug"
   ]
  },
  {
   "cell_type": "code",
   "execution_count": 65,
   "id": "compound-crime",
   "metadata": {},
   "outputs": [
    {
     "data": {
      "text/plain": [
       "array([ 2.23428461e-01,  9.75618486e-04,  4.98727176e-04,  3.99288106e-04,\n",
       "       -2.71007369e-01,  1.71663722e+00,  9.54600137e-01,  5.09098807e-02,\n",
       "        1.28130473e-02,  1.16646271e-15,  2.26865213e+00,  1.22264212e-01,\n",
       "       -2.46492075e-01])"
      ]
     },
     "execution_count": 65,
     "metadata": {},
     "output_type": "execute_result"
    }
   ],
   "source": [
    "itf.model_params"
   ]
  },
  {
   "cell_type": "code",
   "execution_count": 66,
   "id": "overhead-riding",
   "metadata": {},
   "outputs": [
    {
     "data": {
      "text/plain": [
       "0.22342846077989034"
      ]
     },
     "execution_count": 66,
     "metadata": {},
     "output_type": "execute_result"
    }
   ],
   "source": [
    "itf.perfusion_fraction"
   ]
  },
  {
   "cell_type": "code",
   "execution_count": 67,
   "id": "sensitive-local",
   "metadata": {},
   "outputs": [
    {
     "data": {
      "text/plain": [
       "(array([0.00097562, 0.00049873, 0.00039929]),\n",
       " array([5.09098807e-02, 1.28130473e-02, 1.16646271e-15]))"
      ]
     },
     "execution_count": 67,
     "metadata": {},
     "output_type": "execute_result"
    }
   ],
   "source": [
    "itf.diffusion_fit.evals, itf.perfusion_fit.evals"
   ]
  },
  {
   "cell_type": "code",
   "execution_count": 72,
   "id": "current-digit",
   "metadata": {},
   "outputs": [
    {
     "data": {
      "text/plain": [
       "(0.873677095629919, 0.4575646182923598)"
      ]
     },
     "execution_count": 72,
     "metadata": {},
     "output_type": "execute_result"
    }
   ],
   "source": [
    "itf.perfusion_fit.fa, itf.diffusion_fit.fa"
   ]
  },
  {
   "cell_type": "code",
   "execution_count": 73,
   "id": "proper-assessment",
   "metadata": {},
   "outputs": [
    {
     "data": {
      "text/plain": [
       "(0.021240975997034034, 0.0006245445893232099)"
      ]
     },
     "execution_count": 73,
     "metadata": {},
     "output_type": "execute_result"
    }
   ],
   "source": [
    "itf.perfusion_fit.md, itf.diffusion_fit.md"
   ]
  },
  {
   "cell_type": "code",
   "execution_count": 68,
   "id": "stylish-studio",
   "metadata": {},
   "outputs": [
    {
     "data": {
      "text/plain": [
       "1.0"
      ]
     },
     "execution_count": 68,
     "metadata": {},
     "output_type": "execute_result"
    }
   ],
   "source": [
    "np.linalg.norm(itf.diffusion_fit.directions)"
   ]
  },
  {
   "cell_type": "code",
   "execution_count": 69,
   "id": "fancy-demonstration",
   "metadata": {},
   "outputs": [
    {
     "data": {
      "text/plain": [
       "1.0"
      ]
     },
     "execution_count": 69,
     "metadata": {},
     "output_type": "execute_result"
    }
   ],
   "source": [
    "np.linalg.norm(itf.perfusion_fit.directions)"
   ]
  },
  {
   "cell_type": "code",
   "execution_count": 70,
   "id": "helpful-reasoning",
   "metadata": {},
   "outputs": [
    {
     "data": {
      "text/plain": [
       "[<matplotlib.lines.Line2D at 0x7ff1a2d21d90>]"
      ]
     },
     "execution_count": 70,
     "metadata": {},
     "output_type": "execute_result"
    },
    {
     "data": {
      "image/png": "[encoded data removed]",
      "text/plain": [
       "<Figure size 432x288 with 1 Axes>"
      ]
     },
     "metadata": {
      "needs_background": "light"
     },
     "output_type": "display_data"
    }
   ],
   "source": [
    "plt.plot(gtab.bvals, sim, 'o')\n",
    "plt.plot(gtab.bvals, itf.predict(gtab), 'o')\n"
   ]
  },
  {
   "cell_type": "code",
   "execution_count": 18,
   "id": "stable-header",
   "metadata": {},
   "outputs": [
    {
     "name": "stderr",
     "output_type": "stream",
     "text": [
      "ERROR:root:No traceback has been produced, nothing to debug.\n"
     ]
    }
   ],
   "source": [
    "debug"
   ]
  },
  {
   "cell_type": "code",
   "execution_count": 19,
   "id": "chief-butler",
   "metadata": {},
   "outputs": [
    {
     "data": {
      "text/plain": [
       "(0.1977531548927984, 0.03832508809832091, 0.0006746364020268355)"
      ]
     },
     "execution_count": 19,
     "metadata": {},
     "output_type": "execute_result"
    }
   ],
   "source": [
    "itf.perfusion_fraction, itf.perfusion_fit.md, itf.diffusion_fit.md"
   ]
  },
  {
   "cell_type": "code",
   "execution_count": 20,
   "id": "american-midnight",
   "metadata": {},
   "outputs": [
    {
     "data": {
      "text/plain": [
       "(array([0.09769849, 0.01228488, 0.00499189]),\n",
       " array([0.00100014, 0.0005175 , 0.00050627]))"
      ]
     },
     "execution_count": 20,
     "metadata": {},
     "output_type": "execute_result"
    }
   ],
   "source": [
    "itf.perfusion_fit.evals, itf.diffusion_fit.evals"
   ]
  },
  {
   "cell_type": "code",
   "execution_count": 21,
   "id": "caring-bankruptcy",
   "metadata": {},
   "outputs": [],
   "source": [
    "import nibabel as nib"
   ]
  },
  {
   "cell_type": "code",
   "execution_count": 22,
   "id": "understood-architecture",
   "metadata": {},
   "outputs": [],
   "source": [
    "img = nib.load('./data/DWI_IVIM6.nii')"
   ]
  },
  {
   "cell_type": "code",
   "execution_count": 23,
   "id": "decimal-belgium",
   "metadata": {},
   "outputs": [],
   "source": [
    "data = img.get_fdata()"
   ]
  },
  {
   "cell_type": "code",
   "execution_count": 24,
   "id": "roman-mining",
   "metadata": {},
   "outputs": [],
   "source": [
    "idx = (48, 20)"
   ]
  },
  {
   "cell_type": "code",
   "execution_count": 25,
   "id": "fatty-worst",
   "metadata": {},
   "outputs": [],
   "source": [
    "signal = data[:, :, 10, :][idx]"
   ]
  },
  {
   "cell_type": "code",
   "execution_count": 26,
   "id": "excessive-visit",
   "metadata": {},
   "outputs": [
    {
     "data": {
      "text/plain": [
       "<matplotlib.image.AxesImage at 0x7ff1a3d23d10>"
      ]
     },
     "execution_count": 26,
     "metadata": {},
     "output_type": "execute_result"
    },
    {
     "data": {
      "image/png": "[encoded data removed]",
      "text/plain": [
       "<Figure size 432x288 with 1 Axes>"
      ]
     },
     "metadata": {
      "needs_background": "light"
     },
     "output_type": "display_data"
    }
   ],
   "source": [
    "fig, ax = plt.subplots()\n",
    "ax.matshow(data[:, :, 10, -1])\n",
    "ROI = np.ones(data[:, :, 10, -1].shape) * np.nan\n",
    "ROI[idx[0]-2:idx[0]+2, idx[1]-2:idx[1]+2] = 1\n",
    "ax.matshow(ROI, cmap='jet')\n"
   ]
  },
  {
   "cell_type": "code",
   "execution_count": 27,
   "id": "aware-simple",
   "metadata": {},
   "outputs": [
    {
     "data": {
      "text/plain": [
       "[<matplotlib.lines.Line2D at 0x7ff1a3c97150>]"
      ]
     },
     "execution_count": 27,
     "metadata": {},
     "output_type": "execute_result"
    },
    {
     "data": {
      "image/png": "[encoded data removed]",
      "text/plain": [
       "<Figure size 432x288 with 1 Axes>"
      ]
     },
     "metadata": {
      "needs_background": "light"
     },
     "output_type": "display_data"
    }
   ],
   "source": [
    "plt.plot(gtab.bvals, np.log(signal/signal[-1]), 'o')"
   ]
  },
  {
   "cell_type": "code",
   "execution_count": 28,
   "id": "dominican-david",
   "metadata": {},
   "outputs": [],
   "source": [
    "itf = itm.fit(signal)"
   ]
  },
  {
   "cell_type": "code",
   "execution_count": 29,
   "id": "gross-angle",
   "metadata": {},
   "outputs": [
    {
     "name": "stderr",
     "output_type": "stream",
     "text": [
      "ERROR:root:No traceback has been produced, nothing to debug.\n"
     ]
    }
   ],
   "source": [
    "debug"
   ]
  },
  {
   "cell_type": "code",
   "execution_count": 30,
   "id": "separate-trinidad",
   "metadata": {},
   "outputs": [
    {
     "data": {
      "text/plain": [
       "(0.0010665451516001575, 0.0013624206285882282)"
      ]
     },
     "execution_count": 30,
     "metadata": {},
     "output_type": "execute_result"
    }
   ],
   "source": [
    "itm.diffusion_fit.md, itm.perfusion_fit.md"
   ]
  },
  {
   "cell_type": "code",
   "execution_count": 31,
   "id": "fifth-radio",
   "metadata": {},
   "outputs": [
    {
     "data": {
      "text/plain": [
       "(0.0009661886299156767, 0.1303160245959176)"
      ]
     },
     "execution_count": 31,
     "metadata": {},
     "output_type": "execute_result"
    }
   ],
   "source": [
    "itf.diffusion_fit.md, itf.perfusion_fit.md"
   ]
  },
  {
   "cell_type": "code",
   "execution_count": 60,
   "id": "injured-walker",
   "metadata": {},
   "outputs": [
    {
     "data": {
      "text/plain": [
       "0.20161851773426906"
      ]
     },
     "execution_count": 60,
     "metadata": {},
     "output_type": "execute_result"
    }
   ],
   "source": [
    "itf.perfusion_fraction"
   ]
  },
  {
   "cell_type": "code",
   "execution_count": 32,
   "id": "likely-teddy",
   "metadata": {},
   "outputs": [
    {
     "data": {
      "text/plain": [
       "[<matplotlib.lines.Line2D at 0x7ff1a3bbe610>]"
      ]
     },
     "execution_count": 32,
     "metadata": {},
     "output_type": "execute_result"
    },
    {
     "data": {
      "image/png": "[encoded data removed]",
      "text/plain": [
       "<Figure size 432x288 with 1 Axes>"
      ]
     },
     "metadata": {
      "needs_background": "light"
     },
     "output_type": "display_data"
    }
   ],
   "source": [
    "plt.plot(gtab.bvals, signal/signal[-1], 'o')\n",
    "plt.plot(gtab.bvals, itf.predict(gtab), 'o')\n"
   ]
  },
  {
   "cell_type": "code",
   "execution_count": 33,
   "id": "hollow-roberts",
   "metadata": {},
   "outputs": [
    {
     "data": {
      "text/plain": [
       "0.20161851773426906"
      ]
     },
     "execution_count": 33,
     "metadata": {},
     "output_type": "execute_result"
    }
   ],
   "source": [
    "itf.perfusion_fraction"
   ]
  },
  {
   "cell_type": "code",
   "execution_count": 34,
   "id": "discrete-packaging",
   "metadata": {},
   "outputs": [
    {
     "data": {
      "text/plain": [
       "0.44233114469866464"
      ]
     },
     "execution_count": 34,
     "metadata": {},
     "output_type": "execute_result"
    }
   ],
   "source": [
    "itf.perfusion_fit.fa"
   ]
  },
  {
   "cell_type": "code",
   "execution_count": 35,
   "id": "solid-inside",
   "metadata": {},
   "outputs": [
    {
     "data": {
      "text/plain": [
       "array([0.00102502, 0.0010899 , 0.00078365])"
      ]
     },
     "execution_count": 35,
     "metadata": {},
     "output_type": "execute_result"
    }
   ],
   "source": [
    "itf.diffusion_fit.evals"
   ]
  },
  {
   "cell_type": "code",
   "execution_count": 36,
   "id": "constitutional-jenny",
   "metadata": {},
   "outputs": [
    {
     "data": {
      "text/plain": [
       "0.16549571401313073"
      ]
     },
     "execution_count": 36,
     "metadata": {},
     "output_type": "execute_result"
    }
   ],
   "source": [
    "itf.diffusion_fit.fa"
   ]
  },
  {
   "cell_type": "code",
   "execution_count": 37,
   "id": "suitable-female",
   "metadata": {},
   "outputs": [
    {
     "data": {
      "text/plain": [
       "1.0208869162913393e-17"
      ]
     },
     "execution_count": 37,
     "metadata": {},
     "output_type": "execute_result"
    }
   ],
   "source": [
    "np.dot(itf.perfusion_fit.evecs[0], itf.perfusion_fit.evecs[1])"
   ]
  },
  {
   "cell_type": "code",
   "execution_count": 38,
   "id": "comic-parker",
   "metadata": {},
   "outputs": [],
   "source": [
    "from dipy.reconst.ivim import IvimModel"
   ]
  },
  {
   "cell_type": "code",
   "execution_count": 39,
   "id": "demographic-marble",
   "metadata": {},
   "outputs": [
    {
     "name": "stderr",
     "output_type": "stream",
     "text": [
      "/srv/conda/envs/notebook/lib/python3.7/site-packages/dipy/reconst/ivim.py:151: UserWarning: Bounds for this fit have been set from experiments and literature survey. To change the bounds, please input your bounds in model definition...\n",
      "  warnings.warn(bounds_warning, UserWarning)\n"
     ]
    }
   ],
   "source": [
    "mm = IvimModel(gtab)"
   ]
  },
  {
   "cell_type": "code",
   "execution_count": 40,
   "id": "confused-discipline",
   "metadata": {},
   "outputs": [],
   "source": [
    "ff = mm.fit(signal)"
   ]
  },
  {
   "cell_type": "code",
   "execution_count": 41,
   "id": "formed-layer",
   "metadata": {},
   "outputs": [
    {
     "data": {
      "text/plain": [
       "[<matplotlib.lines.Line2D at 0x7ff1a3b3a910>]"
      ]
     },
     "execution_count": 41,
     "metadata": {},
     "output_type": "execute_result"
    },
    {
     "data": {
      "image/png": "[encoded data removed]",
      "text/plain": [
       "<Figure size 432x288 with 1 Axes>"
      ]
     },
     "metadata": {
      "needs_background": "light"
     },
     "output_type": "display_data"
    }
   ],
   "source": [
    "plt.plot(gtab.bvals, np.log(ff.predict(gtab)/ff.predict(gtab)[0]) , 'o')\n",
    "\n",
    "plt.plot(gtab.bvals, np.log(signal/signal[0]), 'o')"
   ]
  },
  {
   "cell_type": "code",
   "execution_count": 42,
   "id": "alleged-replication",
   "metadata": {},
   "outputs": [
    {
     "data": {
      "text/plain": [
       "array(0.19988648)"
      ]
     },
     "execution_count": 42,
     "metadata": {},
     "output_type": "execute_result"
    }
   ],
   "source": [
    "ff.perfusion_fraction"
   ]
  },
  {
   "cell_type": "code",
   "execution_count": 43,
   "id": "balanced-customs",
   "metadata": {},
   "outputs": [],
   "source": [
    "from dipy.core.geometry import sphere2cart, cart2sphere, euler_matrix"
   ]
  },
  {
   "cell_type": "code",
   "execution_count": 44,
   "id": "prime-figure",
   "metadata": {},
   "outputs": [
    {
     "data": {
      "text/plain": [
       "(array(1.2246468e-16), array(0.), array(-1.))"
      ]
     },
     "execution_count": 44,
     "metadata": {},
     "output_type": "execute_result"
    }
   ],
   "source": [
    "sphere2cart(1, np.pi, 0)"
   ]
  },
  {
   "cell_type": "code",
   "execution_count": 45,
   "id": "regulation-violin",
   "metadata": {},
   "outputs": [],
   "source": [
    "R = euler_matrix(0, 0, 0)"
   ]
  },
  {
   "cell_type": "code",
   "execution_count": 46,
   "id": "flush-significance",
   "metadata": {},
   "outputs": [
    {
     "data": {
      "text/plain": [
       "array([[1., 0., 0.],\n",
       "       [0., 1., 0.],\n",
       "       [0., 0., 1.]])"
      ]
     },
     "execution_count": 46,
     "metadata": {},
     "output_type": "execute_result"
    }
   ],
   "source": [
    "R[:3, :3] @ np.eye(3)"
   ]
  },
  {
   "cell_type": "code",
   "execution_count": 47,
   "id": "bound-planning",
   "metadata": {},
   "outputs": [],
   "source": [
    "from dipy.core.geometry import decompose_matrix, vec2vec_rotmat, rodrigues_axis_rotation"
   ]
  },
  {
   "cell_type": "code",
   "execution_count": 48,
   "id": "ignored-discretion",
   "metadata": {},
   "outputs": [
    {
     "data": {
      "text/plain": [
       "(array([1., 1., 1.]),\n",
       " [0.0, 0.0, 0.0],\n",
       " [0.0, -0.0, 0.0],\n",
       " array([0., 0., 0.]),\n",
       " array([0., 0., 0., 1.]))"
      ]
     },
     "execution_count": 48,
     "metadata": {},
     "output_type": "execute_result"
    }
   ],
   "source": [
    "decompose_matrix(np.eye(4))"
   ]
  },
  {
   "cell_type": "code",
   "execution_count": 49,
   "id": "advanced-appraisal",
   "metadata": {},
   "outputs": [
    {
     "data": {
      "text/plain": [
       "array([[ 0., -1.,  0.],\n",
       "       [ 1.,  0.,  0.],\n",
       "       [ 0.,  0.,  1.]])"
      ]
     },
     "execution_count": 49,
     "metadata": {},
     "output_type": "execute_result"
    }
   ],
   "source": [
    "vec2vec_rotmat(np.array([1, 0, 0]), np.array([0, 1, 0]))"
   ]
  },
  {
   "cell_type": "code",
   "execution_count": null,
   "id": "responsible-ending",
   "metadata": {},
   "outputs": [],
   "source": []
  },
  {
   "cell_type": "code",
   "execution_count": 50,
   "id": "overall-fifteen",
   "metadata": {},
   "outputs": [
    {
     "data": {
      "text/plain": [
       "array([[ 0.32866786,  0.50198695,  0.79999158],\n",
       "       [ 0.88106381, -0.4680427 , -0.06828326],\n",
       "       [-0.34015291, -0.72728614,  0.59611313]])"
      ]
     },
     "execution_count": 50,
     "metadata": {},
     "output_type": "execute_result"
    }
   ],
   "source": [
    "itm.diffusion_fit.evecs"
   ]
  },
  {
   "cell_type": "code",
   "execution_count": 51,
   "id": "substantial-mathematics",
   "metadata": {},
   "outputs": [],
   "source": [
    "rot0 = np.eye(4)\n",
    "rot0[:3, :3] = vec2vec_rotmat(itm.diffusion_fit.evecs[0], np.eye(3)[0])\n",
    "scale, shear, angles0, translate, perspective = decompose_matrix(rot0)\n",
    "em = euler_matrix(*angles0)"
   ]
  },
  {
   "cell_type": "code",
   "execution_count": 52,
   "id": "loaded-object",
   "metadata": {},
   "outputs": [],
   "source": [
    "ang1 = np.arccos(np.dot(itm.diffusion_fit.evecs[1], em[1, :3]) / (np.linalg.norm(itm.diffusion_fit.evecs[1]) * np.linalg.norm(em[1, :3])))"
   ]
  },
  {
   "cell_type": "code",
   "execution_count": 53,
   "id": "ideal-apollo",
   "metadata": {},
   "outputs": [],
   "source": [
    "rar = np.eye(4)"
   ]
  },
  {
   "cell_type": "code",
   "execution_count": 54,
   "id": "reverse-reference",
   "metadata": {},
   "outputs": [],
   "source": [
    "rar[:3, :3] = rodrigues_axis_rotation(itm.diffusion_fit.evecs[0], np.rad2deg(ang1))"
   ]
  },
  {
   "cell_type": "code",
   "execution_count": 55,
   "id": "perfect-grammar",
   "metadata": {},
   "outputs": [
    {
     "data": {
      "text/plain": [
       "array([[ 0.32866786,  0.50198695,  0.79999158,  0.        ],\n",
       "       [ 0.88106381, -0.4680427 , -0.06828326,  0.        ],\n",
       "       [ 0.34015291,  0.72728614, -0.59611313,  0.        ],\n",
       "       [ 0.        ,  0.        ,  0.        ,  1.        ]])"
      ]
     },
     "execution_count": 55,
     "metadata": {},
     "output_type": "execute_result"
    }
   ],
   "source": [
    "em @ rar"
   ]
  },
  {
   "cell_type": "code",
   "execution_count": 56,
   "id": "accepted-nurse",
   "metadata": {},
   "outputs": [
    {
     "data": {
      "text/plain": [
       "array([[ 0.32866786,  0.50198695,  0.79999158],\n",
       "       [ 0.88106381, -0.4680427 , -0.06828326],\n",
       "       [-0.34015291, -0.72728614,  0.59611313]])"
      ]
     },
     "execution_count": 56,
     "metadata": {},
     "output_type": "execute_result"
    }
   ],
   "source": [
    "itm.diffusion_fit.evecs"
   ]
  },
  {
   "cell_type": "code",
   "execution_count": 57,
   "id": "listed-russia",
   "metadata": {},
   "outputs": [],
   "source": [
    "scale, shear, angles, translate, perspective = decompose_matrix(em @ rar)"
   ]
  },
  {
   "cell_type": "code",
   "execution_count": 58,
   "id": "polar-salem",
   "metadata": {},
   "outputs": [
    {
     "data": {
      "text/plain": [
       "[2.257398938482077, -0.3470795017234795, 1.213749283856508]"
      ]
     },
     "execution_count": 58,
     "metadata": {},
     "output_type": "execute_result"
    }
   ],
   "source": [
    "angles"
   ]
  },
  {
   "cell_type": "code",
   "execution_count": 59,
   "id": "organizational-hormone",
   "metadata": {},
   "outputs": [
    {
     "data": {
      "text/plain": [
       "array([[ 0.32866786,  0.50198695,  0.79999158],\n",
       "       [ 0.88106381, -0.4680427 , -0.06828326],\n",
       "       [ 0.34015291,  0.72728614, -0.59611313]])"
      ]
     },
     "execution_count": 59,
     "metadata": {},
     "output_type": "execute_result"
    }
   ],
   "source": [
    "euler_matrix(*angles)[:3, :3]"
   ]
  },
  {
   "cell_type": "code",
   "execution_count": null,
   "id": "respective-stand",
   "metadata": {},
   "outputs": [],
   "source": []
  }
 ],
 "metadata": {
  "kernelspec": {
   "display_name": "Python 3",
   "language": "python",
   "name": "python3"
  },
  "language_info": {
   "codemirror_mode": {
    "name": "ipython",
    "version": 3
   },
   "file_extension": ".py",
   "mimetype": "text/x-python",
   "name": "python",
   "nbconvert_exporter": "python",
   "pygments_lexer": "ipython3",
   "version": "3.7.10"
  }
 },
 "nbformat": 4,
 "nbformat_minor": 5
}

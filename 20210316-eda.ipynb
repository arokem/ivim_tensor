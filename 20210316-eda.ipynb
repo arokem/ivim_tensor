{
 "cells": [
  {
   "cell_type": "code",
   "execution_count": 1,
   "id": "handmade-badge",
   "metadata": {},
   "outputs": [],
   "source": [
    "import numpy as np\n",
    "import matplotlib.pyplot as plt"
   ]
  },
  {
   "cell_type": "code",
   "execution_count": 2,
   "id": "bigger-catholic",
   "metadata": {},
   "outputs": [],
   "source": [
    "from ivim_tensor import IvimTensorModel"
   ]
  },
  {
   "cell_type": "code",
   "execution_count": 3,
   "id": "afraid-policy",
   "metadata": {},
   "outputs": [],
   "source": [
    "from dipy.core.gradients import gradient_table"
   ]
  },
  {
   "cell_type": "code",
   "execution_count": 4,
   "id": "linear-optics",
   "metadata": {},
   "outputs": [],
   "source": [
    "gtab = gradient_table('./data/DWI_IVIM6.bval', './data/DWI_IVIM6.bvec', b0_threshold=0)"
   ]
  },
  {
   "cell_type": "code",
   "execution_count": null,
   "id": "included-taylor",
   "metadata": {},
   "outputs": [],
   "source": []
  },
  {
   "cell_type": "code",
   "execution_count": 5,
   "id": "forty-insight",
   "metadata": {},
   "outputs": [],
   "source": [
    "from dipy.sims.voxel import multi_tensor"
   ]
  },
  {
   "cell_type": "code",
   "execution_count": 6,
   "id": "confident-supplier",
   "metadata": {},
   "outputs": [],
   "source": [
    "mevals = np.array([[0.001, 0.0005, 0.0005], \n",
    "                   [0.1, 0.01, 0.01]])\n",
    "\n",
    "angles = [(90, 0), (90, 0)]"
   ]
  },
  {
   "cell_type": "code",
   "execution_count": 7,
   "id": "skilled-width",
   "metadata": {},
   "outputs": [],
   "source": [
    "perfusion_fraction = 0.2"
   ]
  },
  {
   "cell_type": "code",
   "execution_count": 61,
   "id": "adaptive-mercury",
   "metadata": {},
   "outputs": [],
   "source": [
    "sim = multi_tensor(gtab, mevals=mevals, snr=100, fractions=[100 * (1-perfusion_fraction), \n",
    "                                                             perfusion_fraction * 100])[0]"
   ]
  },
  {
   "cell_type": "code",
   "execution_count": 62,
   "id": "interpreted-camcorder",
   "metadata": {},
   "outputs": [
    {
     "name": "stderr",
     "output_type": "stream",
     "text": [
      "/srv/conda/envs/notebook/lib/python3.7/site-packages/dipy/reconst/ivim.py:151: UserWarning: Bounds for this fit have been set from experiments and literature survey. To change the bounds, please input your bounds in model definition...\n",
      "  warnings.warn(bounds_warning, UserWarning)\n"
     ]
    }
   ],
   "source": [
    "itm = IvimTensorModel(gtab)"
   ]
  },
  {
   "cell_type": "code",
   "execution_count": 63,
   "id": "successful-interest",
   "metadata": {},
   "outputs": [],
   "source": [
    "itf = itm.fit(sim)"
   ]
  },
  {
   "cell_type": "code",
   "execution_count": 64,
   "id": "consolidated-hazard",
   "metadata": {},
   "outputs": [
    {
     "name": "stderr",
     "output_type": "stream",
     "text": [
      "ERROR:root:No traceback has been produced, nothing to debug.\n"
     ]
    }
   ],
   "source": [
    "debug"
   ]
  },
  {
   "cell_type": "code",
   "execution_count": 65,
   "id": "convenient-teens",
   "metadata": {},
   "outputs": [
    {
     "data": {
      "text/plain": [
       "array([ 1.07698007e-03,  5.82083665e-04,  5.53819229e-04, -9.24606702e-01,\n",
       "        1.63211404e+00, -3.13158400e+00,  2.00000000e-01,  9.26748645e-03,\n",
       "        1.45820298e-02, -2.18846003e+00,  9.15045696e-02,  3.26054875e+00])"
      ]
     },
     "execution_count": 65,
     "metadata": {},
     "output_type": "execute_result"
    }
   ],
   "source": [
    "itf.model_params"
   ]
  },
  {
   "cell_type": "code",
   "execution_count": 66,
   "id": "virtual-bosnia",
   "metadata": {},
   "outputs": [
    {
     "data": {
      "text/plain": [
       "array(0.15754586)"
      ]
     },
     "execution_count": 66,
     "metadata": {},
     "output_type": "execute_result"
    }
   ],
   "source": [
    "itf.perfusion_fraction"
   ]
  },
  {
   "cell_type": "code",
   "execution_count": 67,
   "id": "national-recorder",
   "metadata": {},
   "outputs": [
    {
     "data": {
      "text/plain": [
       "(array([0.00107698, 0.00058208, 0.00055382]),\n",
       " array([0.2       , 0.00926749, 0.01458203]))"
      ]
     },
     "execution_count": 67,
     "metadata": {},
     "output_type": "execute_result"
    }
   ],
   "source": [
    "itf.diffusion_fit.evals, itf.perfusion_fit.evals"
   ]
  },
  {
   "cell_type": "code",
   "execution_count": 68,
   "id": "bizarre-cycle",
   "metadata": {},
   "outputs": [
    {
     "data": {
      "text/plain": [
       "1.0"
      ]
     },
     "execution_count": 68,
     "metadata": {},
     "output_type": "execute_result"
    }
   ],
   "source": [
    "np.linalg.norm(itf.diffusion_fit.directions)"
   ]
  },
  {
   "cell_type": "code",
   "execution_count": 69,
   "id": "bright-invitation",
   "metadata": {},
   "outputs": [
    {
     "data": {
      "text/plain": [
       "1.0"
      ]
     },
     "execution_count": 69,
     "metadata": {},
     "output_type": "execute_result"
    }
   ],
   "source": [
    "np.linalg.norm(itf.perfusion_fit.directions)"
   ]
  },
  {
   "cell_type": "code",
   "execution_count": 70,
   "id": "identified-committee",
   "metadata": {},
   "outputs": [
    {
     "data": {
      "text/plain": [
       "[<matplotlib.lines.Line2D at 0x7f4cfc3ade90>]"
      ]
     },
     "execution_count": 70,
     "metadata": {},
     "output_type": "execute_result"
    },
    {
     "data": {
      "image/png": "[encoded data removed]",
      "text/plain": [
       "<Figure size 432x288 with 1 Axes>"
      ]
     },
     "metadata": {
      "needs_background": "light"
     },
     "output_type": "display_data"
    }
   ],
   "source": [
    "plt.plot(gtab.bvals, sim, 'o')\n",
    "plt.plot(gtab.bvals, itf.predict(gtab), 'o')\n"
   ]
  },
  {
   "cell_type": "code",
   "execution_count": 18,
   "id": "changed-listing",
   "metadata": {},
   "outputs": [
    {
     "name": "stderr",
     "output_type": "stream",
     "text": [
      "ERROR:root:No traceback has been produced, nothing to debug.\n"
     ]
    }
   ],
   "source": [
    "debug"
   ]
  },
  {
   "cell_type": "code",
   "execution_count": 19,
   "id": "collaborative-compilation",
   "metadata": {},
   "outputs": [
    {
     "data": {
      "text/plain": [
       "(array(0.16979096), 0.014133099408388902, 0.0006471667631911339)"
      ]
     },
     "execution_count": 19,
     "metadata": {},
     "output_type": "execute_result"
    }
   ],
   "source": [
    "itf.perfusion_fraction, itf.perfusion_fit.md, itf.diffusion_fit.md"
   ]
  },
  {
   "cell_type": "code",
   "execution_count": 20,
   "id": "boxed-photography",
   "metadata": {},
   "outputs": [
    {
     "data": {
      "text/plain": [
       "(array([0.02922447, 0.00188654, 0.01128829]),\n",
       " array([0.00108542, 0.00047289, 0.00038319]))"
      ]
     },
     "execution_count": 20,
     "metadata": {},
     "output_type": "execute_result"
    }
   ],
   "source": [
    "itf.perfusion_fit.evals, itf.diffusion_fit.evals"
   ]
  },
  {
   "cell_type": "code",
   "execution_count": 21,
   "id": "third-segment",
   "metadata": {},
   "outputs": [],
   "source": [
    "import nibabel as nib"
   ]
  },
  {
   "cell_type": "code",
   "execution_count": 22,
   "id": "aboriginal-trust",
   "metadata": {},
   "outputs": [],
   "source": [
    "img = nib.load('./data/DWI_IVIM6.nii')"
   ]
  },
  {
   "cell_type": "code",
   "execution_count": 23,
   "id": "acquired-salad",
   "metadata": {},
   "outputs": [],
   "source": [
    "data = img.get_fdata()"
   ]
  },
  {
   "cell_type": "code",
   "execution_count": 24,
   "id": "cardiac-spiritual",
   "metadata": {},
   "outputs": [],
   "source": [
    "idx = (48, 20)"
   ]
  },
  {
   "cell_type": "code",
   "execution_count": 25,
   "id": "changing-nashville",
   "metadata": {},
   "outputs": [],
   "source": [
    "signal = data[:, :, 10, :][idx]"
   ]
  },
  {
   "cell_type": "code",
   "execution_count": 26,
   "id": "amateur-destination",
   "metadata": {},
   "outputs": [
    {
     "data": {
      "text/plain": [
       "<matplotlib.image.AxesImage at 0x7f4cfd641f10>"
      ]
     },
     "execution_count": 26,
     "metadata": {},
     "output_type": "execute_result"
    },
    {
     "data": {
      "image/png": "[encoded data removed]",
      "text/plain": [
       "<Figure size 432x288 with 1 Axes>"
      ]
     },
     "metadata": {
      "needs_background": "light"
     },
     "output_type": "display_data"
    }
   ],
   "source": [
    "fig, ax = plt.subplots()\n",
    "ax.matshow(data[:, :, 10, -1])\n",
    "ROI = np.ones(data[:, :, 10, -1].shape) * np.nan\n",
    "ROI[idx[0]-2:idx[0]+2, idx[1]-2:idx[1]+2] = 1\n",
    "ax.matshow(ROI, cmap='jet')\n"
   ]
  },
  {
   "cell_type": "code",
   "execution_count": 27,
   "id": "contained-cathedral",
   "metadata": {},
   "outputs": [
    {
     "data": {
      "text/plain": [
       "[<matplotlib.lines.Line2D at 0x7f4cfd568450>]"
      ]
     },
     "execution_count": 27,
     "metadata": {},
     "output_type": "execute_result"
    },
    {
     "data": {
      "image/png": "[encoded data removed]",
      "text/plain": [
       "<Figure size 432x288 with 1 Axes>"
      ]
     },
     "metadata": {
      "needs_background": "light"
     },
     "output_type": "display_data"
    }
   ],
   "source": [
    "plt.plot(gtab.bvals, np.log(signal/signal[-1]), 'o')"
   ]
  },
  {
   "cell_type": "code",
   "execution_count": 28,
   "id": "promotional-forest",
   "metadata": {},
   "outputs": [],
   "source": [
    "itf = itm.fit(signal)"
   ]
  },
  {
   "cell_type": "code",
   "execution_count": 29,
   "id": "elegant-bryan",
   "metadata": {},
   "outputs": [
    {
     "name": "stderr",
     "output_type": "stream",
     "text": [
      "ERROR:root:No traceback has been produced, nothing to debug.\n"
     ]
    }
   ],
   "source": [
    "debug"
   ]
  },
  {
   "cell_type": "code",
   "execution_count": 30,
   "id": "mental-bacteria",
   "metadata": {},
   "outputs": [
    {
     "data": {
      "text/plain": [
       "(0.0010665451516001575, 0.0013624206285882282)"
      ]
     },
     "execution_count": 30,
     "metadata": {},
     "output_type": "execute_result"
    }
   ],
   "source": [
    "itm.diffusion_fit.md, itm.perfusion_fit.md"
   ]
  },
  {
   "cell_type": "code",
   "execution_count": 31,
   "id": "exceptional-watch",
   "metadata": {},
   "outputs": [
    {
     "data": {
      "text/plain": [
       "(0.0009704604736411805, 0.1315575757858291)"
      ]
     },
     "execution_count": 31,
     "metadata": {},
     "output_type": "execute_result"
    }
   ],
   "source": [
    "itf.diffusion_fit.md, itf.perfusion_fit.md"
   ]
  },
  {
   "cell_type": "code",
   "execution_count": 60,
   "id": "public-lighter",
   "metadata": {},
   "outputs": [
    {
     "data": {
      "text/plain": [
       "[<matplotlib.lines.Line2D at 0x7f4cfc4d6f10>]"
      ]
     },
     "execution_count": 60,
     "metadata": {},
     "output_type": "execute_result"
    },
    {
     "data": {
      "image/png": "[encoded data removed]",
      "text/plain": [
       "<Figure size 432x288 with 1 Axes>"
      ]
     },
     "metadata": {
      "needs_background": "light"
     },
     "output_type": "display_data"
    }
   ],
   "source": [
    "plt.plot(gtab.bvals, signal/signal[-1], 'o')\n",
    "plt.plot(gtab.bvals, itf.predict(gtab), 'o')\n"
   ]
  },
  {
   "cell_type": "code",
   "execution_count": 33,
   "id": "quiet-length",
   "metadata": {},
   "outputs": [
    {
     "data": {
      "text/plain": [
       "array(0.19988648)"
      ]
     },
     "execution_count": 33,
     "metadata": {},
     "output_type": "execute_result"
    }
   ],
   "source": [
    "itf.perfusion_fraction"
   ]
  },
  {
   "cell_type": "code",
   "execution_count": 34,
   "id": "substantial-overall",
   "metadata": {},
   "outputs": [
    {
     "data": {
      "text/plain": [
       "array([0.00102932, 0.00109448, 0.00078758])"
      ]
     },
     "execution_count": 34,
     "metadata": {},
     "output_type": "execute_result"
    }
   ],
   "source": [
    "itf.model_params[:3]"
   ]
  },
  {
   "cell_type": "code",
   "execution_count": 35,
   "id": "broken-british",
   "metadata": {},
   "outputs": [
    {
     "data": {
      "text/plain": [
       "2.183315238461432e-17"
      ]
     },
     "execution_count": 35,
     "metadata": {},
     "output_type": "execute_result"
    }
   ],
   "source": [
    "np.dot(itf.perfusion_fit.evecs[0], itf.perfusion_fit.evecs[1])"
   ]
  },
  {
   "cell_type": "code",
   "execution_count": 36,
   "id": "cross-remedy",
   "metadata": {},
   "outputs": [],
   "source": [
    "from dipy.reconst.ivim import IvimModel"
   ]
  },
  {
   "cell_type": "code",
   "execution_count": 37,
   "id": "adapted-triple",
   "metadata": {},
   "outputs": [
    {
     "name": "stderr",
     "output_type": "stream",
     "text": [
      "/srv/conda/envs/notebook/lib/python3.7/site-packages/dipy/reconst/ivim.py:151: UserWarning: Bounds for this fit have been set from experiments and literature survey. To change the bounds, please input your bounds in model definition...\n",
      "  warnings.warn(bounds_warning, UserWarning)\n"
     ]
    }
   ],
   "source": [
    "mm = IvimModel(gtab)"
   ]
  },
  {
   "cell_type": "code",
   "execution_count": 38,
   "id": "naval-piece",
   "metadata": {},
   "outputs": [],
   "source": [
    "ff = mm.fit(signal)"
   ]
  },
  {
   "cell_type": "code",
   "execution_count": 39,
   "id": "christian-guarantee",
   "metadata": {},
   "outputs": [
    {
     "data": {
      "text/plain": [
       "[<matplotlib.lines.Line2D at 0x7f4cfd4dba50>]"
      ]
     },
     "execution_count": 39,
     "metadata": {},
     "output_type": "execute_result"
    },
    {
     "data": {
      "image/png": "[encoded data removed]",
      "text/plain": [
       "<Figure size 432x288 with 1 Axes>"
      ]
     },
     "metadata": {
      "needs_background": "light"
     },
     "output_type": "display_data"
    }
   ],
   "source": [
    "plt.plot(gtab.bvals, np.log(ff.predict(gtab)/ff.predict(gtab)[0]) , 'o')\n",
    "\n",
    "plt.plot(gtab.bvals, np.log(signal/signal[0]), 'o')"
   ]
  },
  {
   "cell_type": "code",
   "execution_count": 40,
   "id": "theoretical-party",
   "metadata": {},
   "outputs": [
    {
     "data": {
      "text/plain": [
       "array(0.19988648)"
      ]
     },
     "execution_count": 40,
     "metadata": {},
     "output_type": "execute_result"
    }
   ],
   "source": [
    "ff.perfusion_fraction"
   ]
  },
  {
   "cell_type": "code",
   "execution_count": 41,
   "id": "prescribed-float",
   "metadata": {},
   "outputs": [],
   "source": [
    "from dipy.core.geometry import sphere2cart, cart2sphere, euler_matrix"
   ]
  },
  {
   "cell_type": "code",
   "execution_count": 42,
   "id": "nearby-oxygen",
   "metadata": {},
   "outputs": [
    {
     "data": {
      "text/plain": [
       "(array(1.2246468e-16), array(0.), array(-1.))"
      ]
     },
     "execution_count": 42,
     "metadata": {},
     "output_type": "execute_result"
    }
   ],
   "source": [
    "sphere2cart(1, np.pi, 0)"
   ]
  },
  {
   "cell_type": "code",
   "execution_count": 43,
   "id": "effective-incentive",
   "metadata": {},
   "outputs": [],
   "source": [
    "R = euler_matrix(0, 0, 0)"
   ]
  },
  {
   "cell_type": "code",
   "execution_count": 44,
   "id": "dying-thread",
   "metadata": {},
   "outputs": [
    {
     "data": {
      "text/plain": [
       "array([[1., 0., 0.],\n",
       "       [0., 1., 0.],\n",
       "       [0., 0., 1.]])"
      ]
     },
     "execution_count": 44,
     "metadata": {},
     "output_type": "execute_result"
    }
   ],
   "source": [
    "R[:3, :3] @ np.eye(3)"
   ]
  },
  {
   "cell_type": "code",
   "execution_count": 45,
   "id": "stylish-hollow",
   "metadata": {},
   "outputs": [],
   "source": [
    "from dipy.core.geometry import decompose_matrix, vec2vec_rotmat, rodrigues_axis_rotation"
   ]
  },
  {
   "cell_type": "code",
   "execution_count": 46,
   "id": "compound-vacation",
   "metadata": {},
   "outputs": [
    {
     "data": {
      "text/plain": [
       "(array([1., 1., 1.]),\n",
       " [0.0, 0.0, 0.0],\n",
       " [0.0, -0.0, 0.0],\n",
       " array([0., 0., 0.]),\n",
       " array([0., 0., 0., 1.]))"
      ]
     },
     "execution_count": 46,
     "metadata": {},
     "output_type": "execute_result"
    }
   ],
   "source": [
    "decompose_matrix(np.eye(4))"
   ]
  },
  {
   "cell_type": "code",
   "execution_count": 47,
   "id": "presidential-kansas",
   "metadata": {},
   "outputs": [
    {
     "data": {
      "text/plain": [
       "array([[ 0., -1.,  0.],\n",
       "       [ 1.,  0.,  0.],\n",
       "       [ 0.,  0.,  1.]])"
      ]
     },
     "execution_count": 47,
     "metadata": {},
     "output_type": "execute_result"
    }
   ],
   "source": [
    "vec2vec_rotmat(np.array([1, 0, 0]), np.array([0, 1, 0]))"
   ]
  },
  {
   "cell_type": "code",
   "execution_count": null,
   "id": "healthy-justice",
   "metadata": {},
   "outputs": [],
   "source": []
  },
  {
   "cell_type": "code",
   "execution_count": 48,
   "id": "british-instruction",
   "metadata": {},
   "outputs": [
    {
     "data": {
      "text/plain": [
       "array([[ 0.32866786,  0.50198695,  0.79999158],\n",
       "       [ 0.88106381, -0.4680427 , -0.06828326],\n",
       "       [-0.34015291, -0.72728614,  0.59611313]])"
      ]
     },
     "execution_count": 48,
     "metadata": {},
     "output_type": "execute_result"
    }
   ],
   "source": [
    "itm.diffusion_fit.evecs"
   ]
  },
  {
   "cell_type": "code",
   "execution_count": 49,
   "id": "renewable-guard",
   "metadata": {},
   "outputs": [],
   "source": [
    "rot0 = np.eye(4)\n",
    "rot0[:3, :3] = vec2vec_rotmat(itm.diffusion_fit.evecs[0], np.eye(3)[0])\n",
    "scale, shear, angles0, translate, perspective = decompose_matrix(rot0)\n",
    "em = euler_matrix(*angles0)"
   ]
  },
  {
   "cell_type": "code",
   "execution_count": 50,
   "id": "magnetic-honduras",
   "metadata": {},
   "outputs": [],
   "source": [
    "ang1 = np.arccos(np.dot(itm.diffusion_fit.evecs[1], em[1, :3]) / (np.linalg.norm(itm.diffusion_fit.evecs[1]) * np.linalg.norm(em[1, :3])))"
   ]
  },
  {
   "cell_type": "code",
   "execution_count": 51,
   "id": "subject-switch",
   "metadata": {},
   "outputs": [],
   "source": [
    "rar = np.eye(4)"
   ]
  },
  {
   "cell_type": "code",
   "execution_count": 52,
   "id": "constant-notion",
   "metadata": {},
   "outputs": [],
   "source": [
    "rar[:3, :3] = rodrigues_axis_rotation(itm.diffusion_fit.evecs[0], np.rad2deg(ang1))"
   ]
  },
  {
   "cell_type": "code",
   "execution_count": 53,
   "id": "genetic-external",
   "metadata": {},
   "outputs": [
    {
     "data": {
      "text/plain": [
       "array([[ 0.32866786,  0.50198695,  0.79999158,  0.        ],\n",
       "       [ 0.88106381, -0.4680427 , -0.06828326,  0.        ],\n",
       "       [ 0.34015291,  0.72728614, -0.59611313,  0.        ],\n",
       "       [ 0.        ,  0.        ,  0.        ,  1.        ]])"
      ]
     },
     "execution_count": 53,
     "metadata": {},
     "output_type": "execute_result"
    }
   ],
   "source": [
    "em @ rar"
   ]
  },
  {
   "cell_type": "code",
   "execution_count": 54,
   "id": "suffering-spirituality",
   "metadata": {},
   "outputs": [
    {
     "data": {
      "text/plain": [
       "array([[ 0.32866786,  0.50198695,  0.79999158],\n",
       "       [ 0.88106381, -0.4680427 , -0.06828326],\n",
       "       [-0.34015291, -0.72728614,  0.59611313]])"
      ]
     },
     "execution_count": 54,
     "metadata": {},
     "output_type": "execute_result"
    }
   ],
   "source": [
    "itm.diffusion_fit.evecs"
   ]
  },
  {
   "cell_type": "code",
   "execution_count": 55,
   "id": "vulnerable-suite",
   "metadata": {},
   "outputs": [],
   "source": [
    "scale, shear, angles, translate, perspective = decompose_matrix(em @ rar)"
   ]
  },
  {
   "cell_type": "code",
   "execution_count": 56,
   "id": "secondary-equity",
   "metadata": {},
   "outputs": [
    {
     "data": {
      "text/plain": [
       "[2.257398938482077, -0.3470795017234795, 1.213749283856508]"
      ]
     },
     "execution_count": 56,
     "metadata": {},
     "output_type": "execute_result"
    }
   ],
   "source": [
    "angles"
   ]
  },
  {
   "cell_type": "code",
   "execution_count": 57,
   "id": "tribal-found",
   "metadata": {},
   "outputs": [
    {
     "data": {
      "text/plain": [
       "array([[ 0.32866786,  0.50198695,  0.79999158],\n",
       "       [ 0.88106381, -0.4680427 , -0.06828326],\n",
       "       [ 0.34015291,  0.72728614, -0.59611313]])"
      ]
     },
     "execution_count": 57,
     "metadata": {},
     "output_type": "execute_result"
    }
   ],
   "source": [
    "euler_matrix(*angles)[:3, :3]"
   ]
  },
  {
   "cell_type": "code",
   "execution_count": null,
   "id": "descending-swiss",
   "metadata": {},
   "outputs": [],
   "source": []
  }
 ],
 "metadata": {
  "kernelspec": {
   "display_name": "Python 3",
   "language": "python",
   "name": "python3"
  },
  "language_info": {
   "codemirror_mode": {
    "name": "ipython",
    "version": 3
   },
   "file_extension": ".py",
   "mimetype": "text/x-python",
   "name": "python",
   "nbconvert_exporter": "python",
   "pygments_lexer": "ipython3",
   "version": "3.7.10"
  }
 },
 "nbformat": 4,
 "nbformat_minor": 5
}

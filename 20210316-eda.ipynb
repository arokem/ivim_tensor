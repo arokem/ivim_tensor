{
 "cells": [
  {
   "cell_type": "code",
   "execution_count": 1,
   "id": "swiss-action",
   "metadata": {},
   "outputs": [],
   "source": [
    "import numpy as np\n",
    "import matplotlib.pyplot as plt"
   ]
  },
  {
   "cell_type": "code",
   "execution_count": 2,
   "id": "ancient-dayton",
   "metadata": {},
   "outputs": [],
   "source": [
    "from ivim_tensor import IvimTensorModel"
   ]
  },
  {
   "cell_type": "code",
   "execution_count": 3,
   "id": "permanent-special",
   "metadata": {},
   "outputs": [],
   "source": [
    "from dipy.core.gradients import gradient_table"
   ]
  },
  {
   "cell_type": "code",
   "execution_count": 4,
   "id": "abandoned-tattoo",
   "metadata": {},
   "outputs": [],
   "source": [
    "gtab = gradient_table('./data/DWI_IVIM6.bval', './data/DWI_IVIM6.bvec', b0_threshold=0)"
   ]
  },
  {
   "cell_type": "code",
   "execution_count": null,
   "id": "higher-holder",
   "metadata": {},
   "outputs": [],
   "source": []
  },
  {
   "cell_type": "code",
   "execution_count": 5,
   "id": "eligible-young",
   "metadata": {},
   "outputs": [],
   "source": [
    "from dipy.sims.voxel import multi_tensor"
   ]
  },
  {
   "cell_type": "code",
   "execution_count": 6,
   "id": "adverse-growing",
   "metadata": {},
   "outputs": [],
   "source": [
    "mevals = np.array([[0.001, 0.0005, 0.0005], \n",
    "                   [0.1, 0.01, 0.01]])\n",
    "\n",
    "angles = [(90, 0), (90, 0)]"
   ]
  },
  {
   "cell_type": "code",
   "execution_count": 7,
   "id": "metropolitan-demographic",
   "metadata": {},
   "outputs": [],
   "source": [
    "perfusion_fraction = 0.2"
   ]
  },
  {
   "cell_type": "code",
   "execution_count": 8,
   "id": "graphic-blond",
   "metadata": {},
   "outputs": [],
   "source": [
    "sim = multi_tensor(gtab, mevals=mevals, snr=20, fractions=[100 * (1-perfusion_fraction), \n",
    "                                                             perfusion_fraction * 100])[0]"
   ]
  },
  {
   "cell_type": "code",
   "execution_count": 9,
   "id": "collaborative-fundamentals",
   "metadata": {},
   "outputs": [
    {
     "data": {
      "text/plain": [
       "[<matplotlib.lines.Line2D at 0x7f27f5612b50>]"
      ]
     },
     "execution_count": 9,
     "metadata": {},
     "output_type": "execute_result"
    },
    {
     "data": {
      "image/png": "[encoded data removed]",
      "text/plain": [
       "<Figure size 432x288 with 1 Axes>"
      ]
     },
     "metadata": {
      "needs_background": "light"
     },
     "output_type": "display_data"
    }
   ],
   "source": [
    "plt.plot(gtab.bvals, sim, 'o')\n"
   ]
  },
  {
   "cell_type": "code",
   "execution_count": 10,
   "id": "judicial-pakistan",
   "metadata": {},
   "outputs": [],
   "source": [
    "itm = IvimTensorModel(gtab)"
   ]
  },
  {
   "cell_type": "code",
   "execution_count": 11,
   "id": "rational-understanding",
   "metadata": {},
   "outputs": [],
   "source": [
    "itf = itm.fit(sim)"
   ]
  },
  {
   "cell_type": "code",
   "execution_count": 12,
   "id": "equivalent-newfoundland",
   "metadata": {},
   "outputs": [
    {
     "name": "stderr",
     "output_type": "stream",
     "text": [
      "ERROR:root:No traceback has been produced, nothing to debug.\n"
     ]
    }
   ],
   "source": [
    "debug"
   ]
  },
  {
   "cell_type": "code",
   "execution_count": 13,
   "id": "frequent-scene",
   "metadata": {},
   "outputs": [
    {
     "data": {
      "text/plain": [
       "(0.15245080505218386, 0.8253273542985494, 1.1740071096865732)"
      ]
     },
     "execution_count": 13,
     "metadata": {},
     "output_type": "execute_result"
    }
   ],
   "source": [
    "itf.perfusion_fraction, itf.perfusion_fit.md, itf.diffusion_fit.md"
   ]
  },
  {
   "cell_type": "code",
   "execution_count": 14,
   "id": "accepting-intranet",
   "metadata": {},
   "outputs": [],
   "source": [
    "import nibabel as nib"
   ]
  },
  {
   "cell_type": "code",
   "execution_count": 15,
   "id": "official-kuwait",
   "metadata": {},
   "outputs": [],
   "source": [
    "img = nib.load('./data/DWI_IVIM6.nii')"
   ]
  },
  {
   "cell_type": "code",
   "execution_count": 16,
   "id": "nuclear-toner",
   "metadata": {},
   "outputs": [],
   "source": [
    "data = img.get_fdata()"
   ]
  },
  {
   "cell_type": "code",
   "execution_count": 17,
   "id": "seasonal-royalty",
   "metadata": {},
   "outputs": [],
   "source": [
    "idx = (48, 20)"
   ]
  },
  {
   "cell_type": "code",
   "execution_count": 18,
   "id": "round-glance",
   "metadata": {},
   "outputs": [],
   "source": [
    "signal = data[:, :, 10, :][idx]"
   ]
  },
  {
   "cell_type": "code",
   "execution_count": 19,
   "id": "ongoing-binary",
   "metadata": {},
   "outputs": [
    {
     "data": {
      "text/plain": [
       "<matplotlib.image.AxesImage at 0x7f27f34df950>"
      ]
     },
     "execution_count": 19,
     "metadata": {},
     "output_type": "execute_result"
    },
    {
     "data": {
      "image/png": "[encoded data removed]",
      "text/plain": [
       "<Figure size 432x288 with 1 Axes>"
      ]
     },
     "metadata": {
      "needs_background": "light"
     },
     "output_type": "display_data"
    }
   ],
   "source": [
    "fig, ax = plt.subplots()\n",
    "ax.matshow(data[:, :, 10, -1])\n",
    "ROI = np.ones(data[:, :, 10, -1].shape) * np.nan\n",
    "ROI[idx[0]-2:idx[0]+2, idx[1]-2:idx[1]+2] = 1\n",
    "ax.matshow(ROI, cmap='jet')\n"
   ]
  },
  {
   "cell_type": "code",
   "execution_count": null,
   "id": "quick-davis",
   "metadata": {},
   "outputs": [],
   "source": []
  },
  {
   "cell_type": "code",
   "execution_count": 21,
   "id": "extended-promise",
   "metadata": {},
   "outputs": [],
   "source": [
    "itf = itm.fit(signal)"
   ]
  },
  {
   "cell_type": "code",
   "execution_count": 25,
   "id": "destroyed-society",
   "metadata": {},
   "outputs": [],
   "source": [
    "pred = itf.predict(gtab)"
   ]
  },
  {
   "cell_type": "code",
   "execution_count": 30,
   "id": "fallen-importance",
   "metadata": {},
   "outputs": [
    {
     "data": {
      "text/plain": [
       "[<matplotlib.lines.Line2D at 0x7f27f1f37950>]"
      ]
     },
     "execution_count": 30,
     "metadata": {},
     "output_type": "execute_result"
    },
    {
     "data": {
      "image/png": "[encoded data removed]",
      "text/plain": [
       "<Figure size 432x288 with 1 Axes>"
      ]
     },
     "metadata": {
      "needs_background": "light"
     },
     "output_type": "display_data"
    }
   ],
   "source": [
    "plt.plot(gtab.bvals, signal/signal[-1], 'o')\n",
    "plt.plot(gtab.bvals, pred, 'o')"
   ]
  },
  {
   "cell_type": "code",
   "execution_count": 28,
   "id": "faced-limitation",
   "metadata": {},
   "outputs": [
    {
     "data": {
      "text/plain": [
       "[<matplotlib.lines.Line2D at 0x7f27f2294590>]"
      ]
     },
     "execution_count": 28,
     "metadata": {},
     "output_type": "execute_result"
    },
    {
     "data": {
      "image/png": "[encoded data removed]",
      "text/plain": [
       "<Figure size 432x288 with 1 Axes>"
      ]
     },
     "metadata": {
      "needs_background": "light"
     },
     "output_type": "display_data"
    }
   ],
   "source": []
  },
  {
   "cell_type": "code",
   "execution_count": 22,
   "id": "right-religion",
   "metadata": {},
   "outputs": [
    {
     "name": "stderr",
     "output_type": "stream",
     "text": [
      "ERROR:root:No traceback has been produced, nothing to debug.\n"
     ]
    }
   ],
   "source": [
    "debug"
   ]
  },
  {
   "cell_type": "code",
   "execution_count": null,
   "id": "conscious-latin",
   "metadata": {},
   "outputs": [],
   "source": []
  },
  {
   "cell_type": "code",
   "execution_count": 23,
   "id": "mineral-carroll",
   "metadata": {},
   "outputs": [
    {
     "data": {
      "text/plain": [
       "(0.20044374001948317, 0.2303223233350958, 0.7468949288459017, 1.0)"
      ]
     },
     "execution_count": 23,
     "metadata": {},
     "output_type": "execute_result"
    }
   ],
   "source": [
    "itf.perfusion_fraction, itf.perfusion_fit.md, itf.diffusion_fit.md, itf.diffusion_fit.fa"
   ]
  },
  {
   "cell_type": "code",
   "execution_count": 24,
   "id": "moved-shanghai",
   "metadata": {},
   "outputs": [
    {
     "data": {
      "text/plain": [
       "(0.0010665451516001575, 0.0013624206285882282)"
      ]
     },
     "execution_count": 24,
     "metadata": {},
     "output_type": "execute_result"
    }
   ],
   "source": [
    "itm.diffusion_fit.md, itm.perfusion_fit.md"
   ]
  },
  {
   "cell_type": "code",
   "execution_count": null,
   "id": "three-stamp",
   "metadata": {},
   "outputs": [],
   "source": []
  }
 ],
 "metadata": {
  "kernelspec": {
   "display_name": "Python 3",
   "language": "python",
   "name": "python3"
  },
  "language_info": {
   "codemirror_mode": {
    "name": "ipython",
    "version": 3
   },
   "file_extension": ".py",
   "mimetype": "text/x-python",
   "name": "python",
   "nbconvert_exporter": "python",
   "pygments_lexer": "ipython3",
   "version": "3.7.10"
  }
 },
 "nbformat": 4,
 "nbformat_minor": 5
}

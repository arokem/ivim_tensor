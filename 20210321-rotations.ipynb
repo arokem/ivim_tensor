{
 "cells": [
  {
   "cell_type": "code",
   "execution_count": 1,
   "id": "laden-composer",
   "metadata": {},
   "outputs": [],
   "source": [
    "from dipy.core.geometry import rodrigues_axis_rotation\n",
    "import numpy as np"
   ]
  },
  {
   "cell_type": "code",
   "execution_count": 7,
   "id": "athletic-bridal",
   "metadata": {},
   "outputs": [],
   "source": [
    "theta = 90"
   ]
  },
  {
   "cell_type": "code",
   "execution_count": 19,
   "id": "coordinate-finger",
   "metadata": {},
   "outputs": [],
   "source": [
    "theta_x = 45\n",
    "theta_y = 10\n",
    "theta_z = 10"
   ]
  },
  {
   "cell_type": "code",
   "execution_count": 22,
   "id": "massive-divide",
   "metadata": {},
   "outputs": [],
   "source": [
    "rot0 = rodrigues_axis_rotation(np.array([1, 0, 0]), theta_x)\n",
    "rot1 = rodrigues_axis_rotation(np.array([0, 1, 0]), theta_y)\n",
    "rot2 = rodrigues_axis_rotation(np.array([0, 0, 1]), theta_z)"
   ]
  },
  {
   "cell_type": "code",
   "execution_count": 23,
   "id": "based-history",
   "metadata": {},
   "outputs": [],
   "source": [
    "R = rot0 @ rot1 @ rot2"
   ]
  },
  {
   "cell_type": "code",
   "execution_count": 31,
   "id": "quiet-young",
   "metadata": {},
   "outputs": [],
   "source": [
    "v = np.array([1, 1, 1])\n",
    "v = v / np.sqrt(np.dot(v, v))"
   ]
  },
  {
   "cell_type": "code",
   "execution_count": 35,
   "id": "paperback-suite",
   "metadata": {},
   "outputs": [],
   "source": [
    "vv = R @ np.eye(3)"
   ]
  },
  {
   "cell_type": "code",
   "execution_count": 36,
   "id": "addressed-memorial",
   "metadata": {},
   "outputs": [
    {
     "data": {
      "text/plain": [
       "array([[ 0.8992489 , -0.15666764,  0.40841972],\n",
       "       [ 0.39957711, -0.08576565, -0.91267869],\n",
       "       [ 0.1780156 ,  0.98392048, -0.01452387]])"
      ]
     },
     "execution_count": 36,
     "metadata": {},
     "output_type": "execute_result"
    }
   ],
   "source": [
    "np.dot(vv, vv)"
   ]
  },
  {
   "cell_type": "code",
   "execution_count": 40,
   "id": "taken-respondent",
   "metadata": {},
   "outputs": [
    {
     "data": {
      "text/plain": [
       "0.9999999999999999"
      ]
     },
     "execution_count": 40,
     "metadata": {},
     "output_type": "execute_result"
    }
   ],
   "source": [
    "np.dot(vv[2], vv[2])"
   ]
  },
  {
   "cell_type": "code",
   "execution_count": 41,
   "id": "modern-cameroon",
   "metadata": {},
   "outputs": [],
   "source": [
    "mevals = np.array([[0.001, 0.0005, 0.0005], \n",
    "                   [0.1, 0.01, 0.01]])\n",
    "\n",
    "angles = [(90, 0), (90, 0)]"
   ]
  },
  {
   "cell_type": "code",
   "execution_count": 42,
   "id": "accepting-syntax",
   "metadata": {},
   "outputs": [
    {
     "name": "stderr",
     "output_type": "stream",
     "text": [
      "/srv/conda/envs/notebook/lib/python3.7/importlib/_bootstrap.py:219: RuntimeWarning: numpy.ufunc size changed, may indicate binary incompatibility. Expected 192 from C header, got 216 from PyObject\n",
      "  return f(*args, **kwds)\n",
      "/srv/conda/envs/notebook/lib/python3.7/importlib/_bootstrap.py:219: RuntimeWarning: numpy.ufunc size changed, may indicate binary incompatibility. Expected 192 from C header, got 216 from PyObject\n",
      "  return f(*args, **kwds)\n",
      "/srv/conda/envs/notebook/lib/python3.7/importlib/_bootstrap.py:219: RuntimeWarning: numpy.ufunc size changed, may indicate binary incompatibility. Expected 192 from C header, got 216 from PyObject\n",
      "  return f(*args, **kwds)\n",
      "/srv/conda/envs/notebook/lib/python3.7/importlib/_bootstrap.py:219: RuntimeWarning: numpy.ufunc size changed, may indicate binary incompatibility. Expected 192 from C header, got 216 from PyObject\n",
      "  return f(*args, **kwds)\n"
     ]
    }
   ],
   "source": [
    "from dipy.sims.voxel import multi_tensor"
   ]
  },
  {
   "cell_type": "code",
   "execution_count": 48,
   "id": "indirect-fifteen",
   "metadata": {},
   "outputs": [],
   "source": [
    "perfusion_fraction = 0"
   ]
  },
  {
   "cell_type": "code",
   "execution_count": 49,
   "id": "assisted-sunday",
   "metadata": {},
   "outputs": [],
   "source": [
    "from dipy.core.gradients import gradient_table"
   ]
  },
  {
   "cell_type": "code",
   "execution_count": 50,
   "id": "pending-queen",
   "metadata": {},
   "outputs": [],
   "source": [
    "gtab = gradient_table('./data/DWI_IVIM6.bval', './data/DWI_IVIM6.bvec', b0_threshold=0)"
   ]
  },
  {
   "cell_type": "code",
   "execution_count": 52,
   "id": "stunning-catalyst",
   "metadata": {},
   "outputs": [],
   "source": [
    "sim = multi_tensor(gtab, mevals=mevals, snr=1000, fractions=[100 * (1-perfusion_fraction), \n",
    "                                                             perfusion_fraction * 100])[0]"
   ]
  },
  {
   "cell_type": "code",
   "execution_count": 53,
   "id": "regional-appointment",
   "metadata": {},
   "outputs": [],
   "source": [
    "from dipy.reconst.dti import TensorModel"
   ]
  },
  {
   "cell_type": "code",
   "execution_count": 54,
   "id": "latest-sponsorship",
   "metadata": {},
   "outputs": [],
   "source": [
    "dtm = TensorModel(gtab)"
   ]
  },
  {
   "cell_type": "code",
   "execution_count": 55,
   "id": "prime-stopping",
   "metadata": {},
   "outputs": [],
   "source": [
    "dtf = dtm.fit(sim)"
   ]
  },
  {
   "cell_type": "code",
   "execution_count": 73,
   "id": "integrated-advertising",
   "metadata": {},
   "outputs": [
    {
     "data": {
      "text/plain": [
       "(array([[ 1.31014592e-03, -5.71978957e-01,  8.20267247e-01],\n",
       "        [-1.38367506e-03,  8.20266128e-01,  5.71980388e-01],\n",
       "        [ 9.99998184e-01,  1.88436110e-03, -2.83235300e-04]]),\n",
       " array([0.00100034, 0.00050145, 0.00049858]))"
      ]
     },
     "execution_count": 73,
     "metadata": {},
     "output_type": "execute_result"
    }
   ],
   "source": [
    "dtf.evecs, dtf.evals"
   ]
  },
  {
   "cell_type": "code",
   "execution_count": 71,
   "id": "anticipated-plaza",
   "metadata": {},
   "outputs": [],
   "source": [
    "from dipy.core.geometry import cart2sphere, sphere2cart\n",
    "\n",
    "theta0, phi0 = cart2sphere(* dtf.evecs[0])[1:]\n",
    "theta1, phi1 = cart2sphere(* dtf.evecs[1])[1:]\n",
    "theta2, phi2 = cart2sphere(* dtf.evecs[2])[1:]\n",
    "\n"
   ]
  },
  {
   "cell_type": "code",
   "execution_count": 76,
   "id": "theoretical-petersburg",
   "metadata": {},
   "outputs": [],
   "source": [
    "evecs = np.vstack([np.array(sphere2cart(1, theta0, phi0)),\n",
    "                   np.array(sphere2cart(1, theta1, phi1)),\n",
    "                   np.array(sphere2cart(1, theta2, phi2))])\n"
   ]
  },
  {
   "cell_type": "code",
   "execution_count": 77,
   "id": "corporate-headquarters",
   "metadata": {},
   "outputs": [
    {
     "data": {
      "text/plain": [
       "array([[ 1.31014592e-03, -5.71978957e-01,  8.20267247e-01],\n",
       "       [-1.38367506e-03,  8.20266128e-01,  5.71980388e-01],\n",
       "       [ 9.99998184e-01,  1.88436110e-03, -2.83235300e-04]])"
      ]
     },
     "execution_count": 77,
     "metadata": {},
     "output_type": "execute_result"
    }
   ],
   "source": [
    "evecs"
   ]
  },
  {
   "cell_type": "code",
   "execution_count": 78,
   "id": "saved-conclusion",
   "metadata": {},
   "outputs": [
    {
     "data": {
      "text/plain": [
       "True"
      ]
     },
     "execution_count": 78,
     "metadata": {},
     "output_type": "execute_result"
    }
   ],
   "source": [
    "np.allclose(evecs, dtf.evecs)"
   ]
  },
  {
   "cell_type": "code",
   "execution_count": null,
   "id": "alpine-elimination",
   "metadata": {},
   "outputs": [],
   "source": []
  }
 ],
 "metadata": {
  "kernelspec": {
   "display_name": "Python 3",
   "language": "python",
   "name": "python3"
  },
  "language_info": {
   "codemirror_mode": {
    "name": "ipython",
    "version": 3
   },
   "file_extension": ".py",
   "mimetype": "text/x-python",
   "name": "python",
   "nbconvert_exporter": "python",
   "pygments_lexer": "ipython3",
   "version": "3.7.10"
  }
 },
 "nbformat": 4,
 "nbformat_minor": 5
}

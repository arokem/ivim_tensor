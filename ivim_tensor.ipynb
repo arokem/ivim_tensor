{
 "cells": [
  {
   "cell_type": "code",
   "execution_count": 1,
   "id": "signal-rochester",
   "metadata": {},
   "outputs": [],
   "source": [
    "import matplotlib.pyplot as plt\n",
    "import numpy as np\n",
    "import dipy\n",
    "from dipy.reconst.ivim import IvimModel\n",
    "import dipy.core.gradients as dpg\n",
    "from dipy.core.gradients import gradient_table\n",
    "from dipy.data import get_fnames\n",
    "from dipy.io.gradients import read_bvals_bvecs\n",
    "from dipy.io.image import load_nifti_data"
   ]
  },
  {
   "cell_type": "code",
   "execution_count": 2,
   "id": "played-detective",
   "metadata": {},
   "outputs": [],
   "source": [
    "fraw, fbval, fbvec = get_fnames('ivim')"
   ]
  },
  {
   "cell_type": "code",
   "execution_count": 3,
   "id": "robust-segment",
   "metadata": {},
   "outputs": [],
   "source": [
    "sim_bvecs = dpg.generate_bvecs(6)"
   ]
  },
  {
   "cell_type": "code",
   "execution_count": 4,
   "id": "photographic-evidence",
   "metadata": {},
   "outputs": [],
   "source": [
    "data = load_nifti_data(fraw)\n",
    "bvals, bvecs = read_bvals_bvecs(fbval, fbvec)\n",
    "gtab = gradient_table(bvals, bvecs, b0_threshold=0)"
   ]
  },
  {
   "cell_type": "code",
   "execution_count": 5,
   "id": "modern-knife",
   "metadata": {},
   "outputs": [],
   "source": [
    "sim_bvecs = np.vstack([sim_bvecs]* len(gtab.bvals[1:]))"
   ]
  },
  {
   "cell_type": "code",
   "execution_count": 6,
   "id": "forced-concentrate",
   "metadata": {},
   "outputs": [],
   "source": [
    "sim_bvecs = np.vstack([np.array([[0, 0, 0]]), sim_bvecs])"
   ]
  },
  {
   "cell_type": "code",
   "execution_count": 7,
   "id": "spanish-nirvana",
   "metadata": {},
   "outputs": [],
   "source": [
    "sim_bvals = np.hstack(list([[gtab.bvals[1:][i]] * 6] for i in range(len(gtab.bvals[1:])))).squeeze()"
   ]
  },
  {
   "cell_type": "code",
   "execution_count": 8,
   "id": "endangered-hindu",
   "metadata": {},
   "outputs": [],
   "source": [
    "sim_bvals = np.hstack([0, sim_bvals])"
   ]
  },
  {
   "cell_type": "code",
   "execution_count": 9,
   "id": "chinese-stream",
   "metadata": {},
   "outputs": [
    {
     "data": {
      "text/plain": [
       "(121,)"
      ]
     },
     "execution_count": 9,
     "metadata": {},
     "output_type": "execute_result"
    }
   ],
   "source": [
    "sim_bvals.shape"
   ]
  },
  {
   "cell_type": "code",
   "execution_count": 10,
   "id": "recorded-engine",
   "metadata": {},
   "outputs": [
    {
     "data": {
      "text/plain": [
       "(121, 3)"
      ]
     },
     "execution_count": 10,
     "metadata": {},
     "output_type": "execute_result"
    }
   ],
   "source": [
    "sim_bvecs.shape"
   ]
  },
  {
   "cell_type": "code",
   "execution_count": 11,
   "id": "undefined-bookmark",
   "metadata": {},
   "outputs": [],
   "source": [
    "sim_gtab = gradient_table(sim_bvals, sim_bvecs, b0_threshold=0)"
   ]
  },
  {
   "cell_type": "markdown",
   "id": "coastal-gateway",
   "metadata": {},
   "source": [
    "$\\frac{S}{S_0} = \\beta e^{-b \\theta^t Q^{*}, \\theta} + (1- \\beta) e^{-b \\theta^t Q \\theta}$\n"
   ]
  },
  {
   "cell_type": "code",
   "execution_count": null,
   "id": "reasonable-microwave",
   "metadata": {},
   "outputs": [],
   "source": []
  },
  {
   "cell_type": "code",
   "execution_count": null,
   "id": "after-gallery",
   "metadata": {},
   "outputs": [],
   "source": []
  },
  {
   "cell_type": "code",
   "execution_count": 12,
   "id": "palestinian-armor",
   "metadata": {},
   "outputs": [],
   "source": [
    "from dipy.reconst.dti import lower_triangular, from_lower_triangular"
   ]
  },
  {
   "cell_type": "code",
   "execution_count": 13,
   "id": "dying-trade",
   "metadata": {},
   "outputs": [],
   "source": [
    "theta = sim_gtab.bvecs"
   ]
  },
  {
   "cell_type": "code",
   "execution_count": 14,
   "id": "fleet-banana",
   "metadata": {},
   "outputs": [],
   "source": [
    "def ivim_tensor(b, *params): \n",
    "    \"\"\" \n",
    "    \n",
    "    \"\"\"\n",
    "    beta = params[0]\n",
    "    Q = from_lower_triangular(np.array(params[1:7]))\n",
    "    Q_star = from_lower_triangular(np.array(params[7:]))\n",
    "    return beta * np.exp(-b * np.diag(theta @ Q_star @ theta.T)) + (1 - beta) * np.exp(-b * np.diag(theta @ Q @ theta.T))\n",
    "    "
   ]
  },
  {
   "cell_type": "code",
   "execution_count": 15,
   "id": "controlling-export",
   "metadata": {},
   "outputs": [],
   "source": [
    "Q = lower_triangular(np.array([[0.0015, 0, 0], [0, 0.001, 0], [0, 0, 0.001]]))\n",
    "Q_star = 10 * Q\n",
    "\n",
    "#theta = np.array([[1, 0, 0]])\n",
    "beta = 0.2"
   ]
  },
  {
   "cell_type": "code",
   "execution_count": 16,
   "id": "ancient-aging",
   "metadata": {},
   "outputs": [
    {
     "data": {
      "text/plain": [
       "13"
      ]
     },
     "execution_count": 16,
     "metadata": {},
     "output_type": "execute_result"
    }
   ],
   "source": [
    "len(np.hstack((beta, Q, Q_star)))"
   ]
  },
  {
   "cell_type": "code",
   "execution_count": 17,
   "id": "stainless-celtic",
   "metadata": {},
   "outputs": [],
   "source": [
    "params = np.hstack([beta, Q, Q_star])"
   ]
  },
  {
   "cell_type": "code",
   "execution_count": 18,
   "id": "attractive-variety",
   "metadata": {},
   "outputs": [
    {
     "data": {
      "text/plain": [
       "array([0.0015, 0.    , 0.001 , 0.    , 0.    , 0.001 ])"
      ]
     },
     "execution_count": 18,
     "metadata": {},
     "output_type": "execute_result"
    }
   ],
   "source": [
    "np.array(params[1:7])"
   ]
  },
  {
   "cell_type": "code",
   "execution_count": 19,
   "id": "cellular-enforcement",
   "metadata": {},
   "outputs": [],
   "source": [
    "signal = ivim_tensor(sim_gtab.bvals, *params)"
   ]
  },
  {
   "cell_type": "code",
   "execution_count": 20,
   "id": "unlimited-lambda",
   "metadata": {},
   "outputs": [],
   "source": [
    "signal = signal+np.random.randn(signal.shape[0]) * 0.05"
   ]
  },
  {
   "cell_type": "code",
   "execution_count": 21,
   "id": "lovely-interaction",
   "metadata": {},
   "outputs": [
    {
     "data": {
      "text/plain": [
       "[<matplotlib.lines.Line2D at 0x7f6fbd89d750>]"
      ]
     },
     "execution_count": 21,
     "metadata": {},
     "output_type": "execute_result"
    },
    {
     "data": {
      "image/png": "[encoded data removed]",
      "text/plain": [
       "<Figure size 432x288 with 1 Axes>"
      ]
     },
     "metadata": {
      "needs_background": "light"
     },
     "output_type": "display_data"
    }
   ],
   "source": [
    "plt.plot(sim_gtab.bvals, signal, 'o')"
   ]
  },
  {
   "cell_type": "code",
   "execution_count": 22,
   "id": "incident-vector",
   "metadata": {},
   "outputs": [],
   "source": [
    "from scipy.optimize import curve_fit"
   ]
  },
  {
   "cell_type": "code",
   "execution_count": 23,
   "id": "reasonable-grammar",
   "metadata": {},
   "outputs": [],
   "source": [
    "popt, pcov = curve_fit(ivim_tensor, sim_gtab.bvals, signal, p0=np.hstack((beta, Q, Q_star)))"
   ]
  },
  {
   "cell_type": "code",
   "execution_count": 24,
   "id": "mediterranean-sewing",
   "metadata": {},
   "outputs": [
    {
     "data": {
      "text/plain": [
       "array([ 2.62340351e-01,  1.20515660e-03, -6.50535959e-06,  8.81768400e-04,\n",
       "       -1.27762677e-06,  4.36832229e-06,  8.85704932e-04,  1.34981916e-02,\n",
       "       -1.59978378e-03,  6.82251488e-03,  1.71830126e-03, -1.48146252e-04,\n",
       "        7.29003656e-03])"
      ]
     },
     "execution_count": 24,
     "metadata": {},
     "output_type": "execute_result"
    }
   ],
   "source": [
    "popt"
   ]
  },
  {
   "cell_type": "code",
   "execution_count": 25,
   "id": "defensive-organization",
   "metadata": {},
   "outputs": [
    {
     "data": {
      "text/plain": [
       "[<matplotlib.lines.Line2D at 0x7f6fbb79a850>]"
      ]
     },
     "execution_count": 25,
     "metadata": {},
     "output_type": "execute_result"
    },
    {
     "data": {
      "image/png": "[encoded data removed]",
      "text/plain": [
       "<Figure size 432x288 with 1 Axes>"
      ]
     },
     "metadata": {
      "needs_background": "light"
     },
     "output_type": "display_data"
    }
   ],
   "source": [
    "plt.plot(sim_gtab.bvals, signal, 'o')\n",
    "plt.plot(sim_gtab.bvals, ivim_tensor(sim_gtab.bvals, *popt))"
   ]
  },
  {
   "cell_type": "code",
   "execution_count": 26,
   "id": "considered-louisville",
   "metadata": {},
   "outputs": [],
   "source": [
    "beta_hat = popt[0]\n",
    "Q_hat = from_lower_triangular(np.array(popt[1:7]))\n",
    "Q_star_hat = from_lower_triangular(np.array(popt[7:]))\n"
   ]
  },
  {
   "cell_type": "code",
   "execution_count": 27,
   "id": "humanitarian-incident",
   "metadata": {},
   "outputs": [],
   "source": [
    "from dipy.reconst import dti"
   ]
  },
  {
   "cell_type": "code",
   "execution_count": 28,
   "id": "flexible-record",
   "metadata": {},
   "outputs": [
    {
     "data": {
      "text/plain": [
       "(0.26234035096039526,\n",
       " (array([0.00120529, 0.00088846, 0.00087888]),\n",
       "  array([[-0.99978761,  0.01442671,  0.01471723],\n",
       "         [ 0.02016118,  0.53662506,  0.84357991],\n",
       "         [ 0.00427245,  0.84369746, -0.53680195]])),\n",
       " (array([0.01427976, 0.00697458, 0.0063564 ]),\n",
       "  array([[-0.94876295, -0.12442878,  0.29045883],\n",
       "         [ 0.20825693,  0.44509608,  0.87092969],\n",
       "         [-0.23765081,  0.88679589, -0.39637752]])))"
      ]
     },
     "execution_count": 28,
     "metadata": {},
     "output_type": "execute_result"
    }
   ],
   "source": [
    "beta_hat, dti.decompose_tensor(Q_hat), dti.decompose_tensor(Q_star_hat)"
   ]
  },
  {
   "cell_type": "code",
   "execution_count": null,
   "id": "stock-garbage",
   "metadata": {},
   "outputs": [],
   "source": []
  },
  {
   "cell_type": "code",
   "execution_count": 29,
   "id": "israeli-cheat",
   "metadata": {},
   "outputs": [],
   "source": [
    "from dipy.sims.voxel import multi_tensor"
   ]
  },
  {
   "cell_type": "code",
   "execution_count": 30,
   "id": "driven-seeking",
   "metadata": {},
   "outputs": [],
   "source": [
    "mevals = np.array([[0.001, 0.0005, 0.0005], \n",
    "                   [0.1, 0.01, 0.01]])\n",
    "\n",
    "angles = [(90, 0), (90, 0)]"
   ]
  },
  {
   "cell_type": "code",
   "execution_count": 31,
   "id": "qualified-honey",
   "metadata": {},
   "outputs": [],
   "source": [
    "perfusion_fraction = 0.2"
   ]
  },
  {
   "cell_type": "code",
   "execution_count": 32,
   "id": "immune-framing",
   "metadata": {},
   "outputs": [],
   "source": [
    "signal = multi_tensor(sim_gtab, mevals=mevals, snr=1000, fractions=[100 * (1-perfusion_fraction), \n",
    "                                                                    perfusion_fraction * 100])[0]"
   ]
  },
  {
   "cell_type": "code",
   "execution_count": 33,
   "id": "prostate-bibliography",
   "metadata": {},
   "outputs": [
    {
     "data": {
      "text/plain": [
       "[<matplotlib.lines.Line2D at 0x7f6fbb732190>]"
      ]
     },
     "execution_count": 33,
     "metadata": {},
     "output_type": "execute_result"
    },
    {
     "data": {
      "image/png": "[encoded data removed]",
      "text/plain": [
       "<Figure size 432x288 with 1 Axes>"
      ]
     },
     "metadata": {
      "needs_background": "light"
     },
     "output_type": "display_data"
    }
   ],
   "source": [
    "plt.plot(sim_gtab.bvals, signal, 'o')"
   ]
  },
  {
   "cell_type": "code",
   "execution_count": 34,
   "id": "underlying-tracker",
   "metadata": {},
   "outputs": [
    {
     "name": "stderr",
     "output_type": "stream",
     "text": [
      "/srv/conda/envs/notebook/lib/python3.7/site-packages/dipy/reconst/ivim.py:151: UserWarning: Bounds for this fit have been set from experiments and literature survey. To change the bounds, please input your bounds in model definition...\n",
      "  warnings.warn(bounds_warning, UserWarning)\n"
     ]
    }
   ],
   "source": [
    "model = IvimModel(sim_gtab, fit_method=\"trr\")"
   ]
  },
  {
   "cell_type": "code",
   "execution_count": 35,
   "id": "adolescent-macintosh",
   "metadata": {},
   "outputs": [],
   "source": [
    "fit = model.fit(signal)"
   ]
  },
  {
   "cell_type": "code",
   "execution_count": 36,
   "id": "informational-flesh",
   "metadata": {},
   "outputs": [
    {
     "data": {
      "text/plain": [
       "(array(0.00067979), array(0.02975597), array(0.17473471))"
      ]
     },
     "execution_count": 36,
     "metadata": {},
     "output_type": "execute_result"
    }
   ],
   "source": [
    "fit.D, fit.D_star, fit.perfusion_fraction"
   ]
  },
  {
   "cell_type": "code",
   "execution_count": 37,
   "id": "coastal-equipment",
   "metadata": {},
   "outputs": [],
   "source": [
    "popt, pcov = curve_fit(ivim_tensor, sim_gtab.bvals, signal, p0=np.hstack((beta, Q, Q_star)))"
   ]
  },
  {
   "cell_type": "code",
   "execution_count": 38,
   "id": "psychological-radar",
   "metadata": {},
   "outputs": [
    {
     "data": {
      "text/plain": [
       "[<matplotlib.lines.Line2D at 0x7f6fbb6bd710>]"
      ]
     },
     "execution_count": 38,
     "metadata": {},
     "output_type": "execute_result"
    },
    {
     "data": {
      "image/png": "[encoded data removed]",
      "text/plain": [
       "<Figure size 432x288 with 1 Axes>"
      ]
     },
     "metadata": {
      "needs_background": "light"
     },
     "output_type": "display_data"
    }
   ],
   "source": [
    "plt.plot(sim_gtab.bvals, ivim_tensor(sim_gtab.bvals, *popt))\n",
    "plt.plot(sim_gtab.bvals, signal, 'o')"
   ]
  },
  {
   "cell_type": "code",
   "execution_count": 39,
   "id": "israeli-archive",
   "metadata": {},
   "outputs": [
    {
     "data": {
      "text/plain": [
       "0.19977217727392"
      ]
     },
     "execution_count": 39,
     "metadata": {},
     "output_type": "execute_result"
    }
   ],
   "source": [
    "popt[0]"
   ]
  },
  {
   "cell_type": "code",
   "execution_count": 40,
   "id": "scientific-asthma",
   "metadata": {},
   "outputs": [],
   "source": [
    "beta_hat = popt[0]\n",
    "Q_hat = from_lower_triangular(np.array(popt[1:7]))\n",
    "Q_star_hat = from_lower_triangular(np.array(popt[7:]))\n"
   ]
  },
  {
   "cell_type": "code",
   "execution_count": 41,
   "id": "nutritional-alloy",
   "metadata": {},
   "outputs": [
    {
     "data": {
      "text/plain": [
       "(0.19977217727392,\n",
       " (array([0.00099947, 0.00050227, 0.00049972]),\n",
       "  array([[-2.88707726e-03,  6.20020288e-01,  7.84580466e-01],\n",
       "         [-3.89952766e-04,  7.84582978e-01, -6.20023708e-01],\n",
       "         [ 9.99995756e-01,  2.09600567e-03,  2.02337305e-03]])),\n",
       " (array([0.0984702 , 0.01057545, 0.01006831]),\n",
       "  array([[-0.99994484, -0.00706525,  0.00777231],\n",
       "         [ 0.00957925, -0.3098793 ,  0.95072765],\n",
       "         [-0.00430865,  0.95074965,  0.30992988]])))"
      ]
     },
     "execution_count": 41,
     "metadata": {},
     "output_type": "execute_result"
    }
   ],
   "source": [
    "beta_hat, dti.decompose_tensor(Q_hat), dti.decompose_tensor(Q_star_hat)"
   ]
  },
  {
   "cell_type": "code",
   "execution_count": 42,
   "id": "accessory-architect",
   "metadata": {},
   "outputs": [],
   "source": [
    "evals_Q_hat = dti.decompose_tensor(Q_hat)[0]"
   ]
  },
  {
   "cell_type": "code",
   "execution_count": 43,
   "id": "accessory-township",
   "metadata": {},
   "outputs": [
    {
     "data": {
      "text/plain": [
       "0.0006671499181518371"
      ]
     },
     "execution_count": 43,
     "metadata": {},
     "output_type": "execute_result"
    }
   ],
   "source": [
    "np.mean(evals_Q_hat)"
   ]
  },
  {
   "cell_type": "code",
   "execution_count": 44,
   "id": "frank-stone",
   "metadata": {},
   "outputs": [],
   "source": [
    "evals_Q_star_hat = dti.decompose_tensor(Q_star_hat)[0]"
   ]
  },
  {
   "cell_type": "code",
   "execution_count": 45,
   "id": "qualified-motivation",
   "metadata": {},
   "outputs": [
    {
     "data": {
      "text/plain": [
       "0.03970465278229195"
      ]
     },
     "execution_count": 45,
     "metadata": {},
     "output_type": "execute_result"
    }
   ],
   "source": [
    "np.mean(evals_Q_star_hat)"
   ]
  },
  {
   "cell_type": "code",
   "execution_count": 46,
   "id": "wrapped-stake",
   "metadata": {},
   "outputs": [],
   "source": [
    "pdd_Q_hat = dti.decompose_tensor(Q_hat)[1][0]"
   ]
  },
  {
   "cell_type": "code",
   "execution_count": 47,
   "id": "liked-garden",
   "metadata": {},
   "outputs": [],
   "source": [
    "pdd_Q_hat_star =  dti.decompose_tensor(Q_star_hat)[1][0]"
   ]
  },
  {
   "cell_type": "code",
   "execution_count": 48,
   "id": "center-album",
   "metadata": {},
   "outputs": [
    {
     "data": {
      "text/plain": [
       "(array([-0.00288708,  0.62002029,  0.78458047]),\n",
       " array([-0.99994484, -0.00706525,  0.00777231]))"
      ]
     },
     "execution_count": 48,
     "metadata": {},
     "output_type": "execute_result"
    }
   ],
   "source": [
    "pdd_Q_hat, pdd_Q_hat_star"
   ]
  },
  {
   "cell_type": "code",
   "execution_count": 49,
   "id": "injured-lecture",
   "metadata": {},
   "outputs": [
    {
     "data": {
      "text/plain": [
       "89.73619101006763"
      ]
     },
     "execution_count": 49,
     "metadata": {},
     "output_type": "execute_result"
    }
   ],
   "source": [
    "np.rad2deg(np.arccos(np.dot(pdd_Q_hat, pdd_Q_hat_star)))"
   ]
  },
  {
   "cell_type": "code",
   "execution_count": 50,
   "id": "southwest-highway",
   "metadata": {},
   "outputs": [
    {
     "data": {
      "text/plain": [
       "0.8855060894872867"
      ]
     },
     "execution_count": 50,
     "metadata": {},
     "output_type": "execute_result"
    }
   ],
   "source": [
    "dti.fractional_anisotropy(evals_Q_star_hat)"
   ]
  },
  {
   "cell_type": "code",
   "execution_count": 51,
   "id": "mature-biography",
   "metadata": {},
   "outputs": [
    {
     "data": {
      "text/plain": [
       "0.4068805030263805"
      ]
     },
     "execution_count": 51,
     "metadata": {},
     "output_type": "execute_result"
    }
   ],
   "source": [
    "dti.fractional_anisotropy(evals_Q_hat)"
   ]
  },
  {
   "cell_type": "code",
   "execution_count": 52,
   "id": "several-reliance",
   "metadata": {},
   "outputs": [
    {
     "data": {
      "text/plain": [
       "0.0006671499181518371"
      ]
     },
     "execution_count": 52,
     "metadata": {},
     "output_type": "execute_result"
    }
   ],
   "source": [
    "dti.mean_diffusivity(evals_Q_hat)"
   ]
  },
  {
   "cell_type": "code",
   "execution_count": 53,
   "id": "exempt-stress",
   "metadata": {},
   "outputs": [
    {
     "data": {
      "text/plain": [
       "0.0006666666666666666"
      ]
     },
     "execution_count": 53,
     "metadata": {},
     "output_type": "execute_result"
    }
   ],
   "source": [
    "dti.mean_diffusivity(mevals[0])"
   ]
  },
  {
   "cell_type": "code",
   "execution_count": 54,
   "id": "natural-rover",
   "metadata": {},
   "outputs": [
    {
     "data": {
      "text/plain": [
       "0.03970465278229195"
      ]
     },
     "execution_count": 54,
     "metadata": {},
     "output_type": "execute_result"
    }
   ],
   "source": [
    "dti.mean_diffusivity(evals_Q_star_hat)"
   ]
  },
  {
   "cell_type": "code",
   "execution_count": 55,
   "id": "fixed-indie",
   "metadata": {},
   "outputs": [
    {
     "data": {
      "text/plain": [
       "0.04"
      ]
     },
     "execution_count": 55,
     "metadata": {},
     "output_type": "execute_result"
    }
   ],
   "source": [
    "dti.mean_diffusivity(mevals[1])"
   ]
  },
  {
   "cell_type": "code",
   "execution_count": 149,
   "id": "advance-equivalent",
   "metadata": {},
   "outputs": [],
   "source": [
    "from dipy.reconst.base import ReconstFit, ReconstModel\n",
    "from dipy.reconst.multi_voxel import multi_voxel_fit\n",
    "from dipy.reconst.dti import TensorModel, TensorFit, decompose_tensor, from_lower_triangular"
   ]
  },
  {
   "cell_type": "code",
   "execution_count": 192,
   "id": "round-encyclopedia",
   "metadata": {},
   "outputs": [],
   "source": [
    "class IvimTensorModel(ReconstModel):\n",
    "    def __init__(self, gtab, split_b_D=400.0, bounds=[]):\n",
    "        ReconstModel.__init__(self, gtab)\n",
    "        self.split_b_D = split_b_D\n",
    "        self.bounds = bounds\n",
    "        # Use two separate tensors for initial estimation:\n",
    "        self.dti = TensorModel(self.gtab)\n",
    "        \n",
    "        self.split_idx = np.where(gtab.bvals >= self.split_b_D)    \n",
    "        self.perfusion_gtab = gradient_table(self.gtab.bvals[self.split_idx],\n",
    "                                             self.gtab.bvecs[self.split_idx])\n",
    "        \n",
    "        self.perfusion_model = TensorModel(self.perfusion_gtab)\n",
    "\n",
    "    def model_eq1(self, b, *params): \n",
    "        \"\"\" \n",
    "        The model with fixed perfusion fraction\n",
    "        \"\"\"\n",
    "        beta = self.perfusion_fraction\n",
    "        Q = from_lower_triangular(np.array(params[:6]))\n",
    "        Q_star = from_lower_triangular(np.array(params[6:]))\n",
    "        return beta * np.exp(-b * np.diag(theta @ Q_star @ theta.T)) + (1 - beta) * np.exp(-b * np.diag(theta @ Q @ theta.T))\n",
    "\n",
    "    def model_eq2(self, b, *params): \n",
    "        \"\"\" \n",
    "        The full model, including perfusion fraction\n",
    "        \"\"\"\n",
    "        beta = params[0]\n",
    "        Q = from_lower_triangular(np.array(params[1:7]))\n",
    "        Q_star = from_lower_triangular(np.array(params[7:]))\n",
    "        return beta * np.exp(-b * np.diag(theta @ Q_star @ theta.T)) + (1 - beta) * np.exp(-b * np.diag(theta @ Q @ theta.T))\n",
    "\n",
    "    \n",
    "    def fit(self, data, mask=None):\n",
    "        \"\"\" \n",
    "        For now, we assume that data is from a single voxel, and we'll generalize later\n",
    "        \"\"\"\n",
    "        # Fit a tensor to the entire data and data just up to split_b_D\n",
    "        self.dti_fit = self.dti.fit(data, mask)\n",
    "        self.q_initial = lower_triangular(self.dti_fit.quadratic_form)\n",
    "        \n",
    "        perfusion_data = data[self.split_idx]\n",
    "        self.perfusion_fit = self.perfusion_model.fit(perfusion_data, mask)\n",
    "        self.q_star_initial = lower_triangular(self.perfusion_fit.quadratic_form).squeeze()\n",
    "        fractions_for_probe = np.arange(0, 0.5, 0.05)\n",
    "        self.fits = np.zeros((fractions_for_probe.shape[0], 12))\n",
    "        self.errs = np.zeros(fractions_for_probe.shape[0])\n",
    "        self.beta = np.zeros(fractions_for_probe.shape[0])\n",
    "        initial = np.hstack([self.q_initial, self.q_star_initial])\n",
    "        # Instead of estimating perfusion_fraction directly, we start by finding \n",
    "        # a perfusion fraction that works for the other parameters\n",
    "        for ii, perfusion_fraction in enumerate(fractions_for_probe):\n",
    "            self.perfusion_fraction = perfusion_fraction\n",
    "            popt, pcov = curve_fit(self.model_eq1,  self.gtab.bvals, data, p0=initial)\n",
    "            err = np.sum(np.power(self.model_eq1(self.gtab.bvals, *popt) - data, 2))\n",
    "            self.fits[ii] = popt\n",
    "            self.errs[ii] = err\n",
    "            self.beta[ii] = perfusion_fraction\n",
    "\n",
    "        min_err = np.argmin(self.errs)\n",
    "        initial = np.hstack([self.beta[min_err], self.fits[min_err]])\n",
    "        popt, pcov = curve_fit(self.model_eq2,  self.gtab.bvals, data, p0=initial)\n",
    "        return IvimTensorFit(self, popt)\n",
    "        \n",
    "                            \n",
    "class IvimTensorFit(ReconstFit):\n",
    "    def __init__(self, model, model_params):\n",
    "        self.model = model\n",
    "        self.model_params = model_params\n",
    "        tensor_evals, tensor_evecs = decompose_tensor(from_lower_triangular(self.model_params[1:7]))\n",
    "        tensor_params = np.hstack([tensor_evals, tensor_evecs.ravel()])\n",
    "        perfusion_evals, perfusion_evecs = decompose_tensor(from_lower_triangular(self.model_params[7:]))\n",
    "        perfusion_params = np.hstack([perfusion_evals, perfusion_evecs.ravel()])\n",
    "        self.tensor_fit = TensorFit(self.model.dti, tensor_params)\n",
    "        self.perfusion_fit = TensorFit(self.model.perfusion_model, perfusion_params)\n",
    "        self.perfusion_fraction = model_params[0]"
   ]
  },
  {
   "cell_type": "code",
   "execution_count": 193,
   "id": "black-horror",
   "metadata": {},
   "outputs": [
    {
     "name": "stderr",
     "output_type": "stream",
     "text": [
      "/srv/conda/envs/notebook/lib/python3.7/site-packages/dipy/core/gradients.py:297: UserWarning: b0_threshold (value: 50) is too low, increase your              b0_threshold. It should be higher than the lowest b0 value              (400.0).\n",
      "  ({1}).\".format(b0_threshold, bvals.min()))\n"
     ]
    }
   ],
   "source": [
    "itm = IvimTensorModel(sim_gtab)"
   ]
  },
  {
   "cell_type": "code",
   "execution_count": 194,
   "id": "plastic-browse",
   "metadata": {},
   "outputs": [
    {
     "data": {
      "text/plain": [
       "((121,), (121,))"
      ]
     },
     "execution_count": 194,
     "metadata": {},
     "output_type": "execute_result"
    }
   ],
   "source": [
    "signal.shape, sim_gtab.bvals.shape"
   ]
  },
  {
   "cell_type": "code",
   "execution_count": 195,
   "id": "circular-sarah",
   "metadata": {},
   "outputs": [
    {
     "name": "stderr",
     "output_type": "stream",
     "text": [
      "/srv/conda/envs/notebook/lib/python3.7/site-packages/scipy/optimize/minpack.py:829: OptimizeWarning: Covariance of the parameters could not be estimated\n",
      "  category=OptimizeWarning)\n"
     ]
    }
   ],
   "source": [
    "itf = itm.fit(signal)"
   ]
  },
  {
   "cell_type": "code",
   "execution_count": 196,
   "id": "complex-minister",
   "metadata": {},
   "outputs": [
    {
     "data": {
      "text/plain": [
       "(0.40688050452532776, 0.8855060870219746)"
      ]
     },
     "execution_count": 196,
     "metadata": {},
     "output_type": "execute_result"
    }
   ],
   "source": [
    "itf.tensor_fit.fa, itf.perfusion_fit.fa"
   ]
  },
  {
   "cell_type": "code",
   "execution_count": 198,
   "id": "unnecessary-active",
   "metadata": {},
   "outputs": [
    {
     "data": {
      "text/plain": [
       "(array([0.00099947, 0.00050227, 0.00049972]),\n",
       " array([0.09847019, 0.01057545, 0.01006831]),\n",
       " 0.19977217942737213)"
      ]
     },
     "execution_count": 198,
     "metadata": {},
     "output_type": "execute_result"
    }
   ],
   "source": [
    "itf.tensor_fit.evals, itf.perfusion_fit.evals, itf.perfusion_fraction"
   ]
  },
  {
   "cell_type": "code",
   "execution_count": 200,
   "id": "demanding-diesel",
   "metadata": {},
   "outputs": [
    {
     "data": {
      "text/plain": [
       "(array([[-2.88699001e-03, -3.89755534e-04,  9.99995757e-01]]),\n",
       " array([[-0.99994484,  0.0095792 , -0.00430871]]))"
      ]
     },
     "execution_count": 200,
     "metadata": {},
     "output_type": "execute_result"
    }
   ],
   "source": [
    "itf.tensor_fit.directions, itf.perfusion_fit.directions"
   ]
  },
  {
   "cell_type": "code",
   "execution_count": 207,
   "id": "tribal-national",
   "metadata": {},
   "outputs": [
    {
     "name": "stderr",
     "output_type": "stream",
     "text": [
      "/srv/conda/envs/notebook/lib/python3.7/site-packages/ipykernel_launcher.py:22: RuntimeWarning: overflow encountered in exp\n"
     ]
    }
   ],
   "source": [
    "fracs_discovered = []\n",
    "for snr in [1, 10, 100, 1000]:\n",
    "    for perfusion_fraction in [0.01, 0.05, 0.1, 0.15, 0.2]:\n",
    "        signal = multi_tensor(sim_gtab, mevals=mevals, snr=snr, \n",
    "                              fractions=[100 * (1-perfusion_fraction), \n",
    "                              perfusion_fraction * 100])[0]\n",
    "        try:\n",
    "            itf = itm.fit(signal)\n",
    "            fracs_discovered.append(itf.perfusion_fraction)\n",
    "        except RuntimeError:\n",
    "            fracs_discovered.append(np.nan)\n",
    "            "
   ]
  },
  {
   "cell_type": "code",
   "execution_count": 208,
   "id": "veterinary-madison",
   "metadata": {},
   "outputs": [
    {
     "data": {
      "text/plain": [
       "[-0.925568674950371,\n",
       " 1.9057655463402055e-06,\n",
       " 1.5948479309872624e-06,\n",
       " nan,\n",
       " 0.3499841843439206,\n",
       " nan,\n",
       " nan,\n",
       " 0.1402497123824144,\n",
       " nan,\n",
       " nan,\n",
       " 0.4934995366487066,\n",
       " 0.9528192741487252,\n",
       " 0.8998964561615516,\n",
       " 0.1540018546671407,\n",
       " 0.1963002169708695,\n",
       " 0.00989662958150657,\n",
       " 0.9498473758626119,\n",
       " 0.8998756911416277,\n",
       " 0.1494901510341111,\n",
       " 0.20045629393318976]"
      ]
     },
     "execution_count": 208,
     "metadata": {},
     "output_type": "execute_result"
    }
   ],
   "source": [
    "fracs_discovered"
   ]
  },
  {
   "cell_type": "code",
   "execution_count": null,
   "id": "located-maintenance",
   "metadata": {},
   "outputs": [],
   "source": []
  }
 ],
 "metadata": {
  "kernelspec": {
   "display_name": "Python 3",
   "language": "python",
   "name": "python3"
  },
  "language_info": {
   "codemirror_mode": {
    "name": "ipython",
    "version": 3
   },
   "file_extension": ".py",
   "mimetype": "text/x-python",
   "name": "python",
   "nbconvert_exporter": "python",
   "pygments_lexer": "ipython3",
   "version": "3.7.10"
  }
 },
 "nbformat": 4,
 "nbformat_minor": 5
}

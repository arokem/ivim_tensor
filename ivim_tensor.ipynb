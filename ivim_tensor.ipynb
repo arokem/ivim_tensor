{
 "cells": [
  {
   "cell_type": "code",
   "execution_count": 1,
   "id": "compatible-tower",
   "metadata": {},
   "outputs": [],
   "source": [
    "import matplotlib.pyplot as plt\n",
    "import numpy as np\n",
    "import dipy\n",
    "from dipy.reconst.ivim import IvimModel\n",
    "import dipy.core.gradients as dpg\n",
    "from dipy.core.gradients import gradient_table\n",
    "from dipy.data import get_fnames\n",
    "from dipy.io.gradients import read_bvals_bvecs\n",
    "from dipy.io.image import load_nifti_data"
   ]
  },
  {
   "cell_type": "code",
   "execution_count": 2,
   "id": "grateful-resolution",
   "metadata": {},
   "outputs": [],
   "source": [
    "fraw, fbval, fbvec = get_fnames('ivim')"
   ]
  },
  {
   "cell_type": "code",
   "execution_count": 3,
   "id": "pending-brunswick",
   "metadata": {},
   "outputs": [],
   "source": [
    "sim_bvecs = dpg.generate_bvecs(6)"
   ]
  },
  {
   "cell_type": "code",
   "execution_count": 4,
   "id": "trained-polls",
   "metadata": {},
   "outputs": [],
   "source": [
    "data = load_nifti_data(fraw)\n",
    "bvals, bvecs = read_bvals_bvecs(fbval, fbvec)\n",
    "gtab = gradient_table(bvals, bvecs, b0_threshold=0)"
   ]
  },
  {
   "cell_type": "code",
   "execution_count": 5,
   "id": "higher-russell",
   "metadata": {},
   "outputs": [],
   "source": [
    "sim_bvecs = np.vstack([sim_bvecs]* len(gtab.bvals[1:]))"
   ]
  },
  {
   "cell_type": "code",
   "execution_count": 6,
   "id": "developmental-hierarchy",
   "metadata": {},
   "outputs": [],
   "source": [
    "sim_bvecs = np.vstack([np.array([[0, 0, 0]]), sim_bvecs])"
   ]
  },
  {
   "cell_type": "code",
   "execution_count": 7,
   "id": "controlling-client",
   "metadata": {},
   "outputs": [],
   "source": [
    "sim_bvals = np.hstack(list([[gtab.bvals[1:][i]] * 6] for i in range(len(gtab.bvals[1:])))).squeeze()"
   ]
  },
  {
   "cell_type": "code",
   "execution_count": 8,
   "id": "suitable-congress",
   "metadata": {},
   "outputs": [],
   "source": [
    "sim_bvals = np.hstack([0, sim_bvals])"
   ]
  },
  {
   "cell_type": "code",
   "execution_count": 9,
   "id": "located-interaction",
   "metadata": {},
   "outputs": [
    {
     "data": {
      "text/plain": [
       "(121,)"
      ]
     },
     "execution_count": 9,
     "metadata": {},
     "output_type": "execute_result"
    }
   ],
   "source": [
    "sim_bvals.shape"
   ]
  },
  {
   "cell_type": "code",
   "execution_count": 10,
   "id": "variable-pleasure",
   "metadata": {},
   "outputs": [
    {
     "data": {
      "text/plain": [
       "(121, 3)"
      ]
     },
     "execution_count": 10,
     "metadata": {},
     "output_type": "execute_result"
    }
   ],
   "source": [
    "sim_bvecs.shape"
   ]
  },
  {
   "cell_type": "code",
   "execution_count": 11,
   "id": "reserved-player",
   "metadata": {},
   "outputs": [],
   "source": [
    "sim_gtab = gradient_table(sim_bvals, sim_bvecs, b0_threshold=0)"
   ]
  },
  {
   "cell_type": "markdown",
   "id": "organized-swedish",
   "metadata": {},
   "source": [
    "$\\frac{S}{S_0} = \\beta e^{-b \\theta^t Q^{*}, \\theta} + (1- \\beta) e^{-b \\theta^t Q \\theta}$\n"
   ]
  },
  {
   "cell_type": "code",
   "execution_count": null,
   "id": "dirty-farming",
   "metadata": {},
   "outputs": [],
   "source": []
  },
  {
   "cell_type": "code",
   "execution_count": null,
   "id": "duplicate-asbestos",
   "metadata": {},
   "outputs": [],
   "source": []
  },
  {
   "cell_type": "code",
   "execution_count": 12,
   "id": "preliminary-world",
   "metadata": {},
   "outputs": [],
   "source": [
    "from dipy.reconst.dti import lower_triangular, from_lower_triangular"
   ]
  },
  {
   "cell_type": "code",
   "execution_count": 13,
   "id": "permanent-transformation",
   "metadata": {},
   "outputs": [],
   "source": [
    "theta = sim_gtab.bvecs"
   ]
  },
  {
   "cell_type": "code",
   "execution_count": 14,
   "id": "japanese-treasurer",
   "metadata": {},
   "outputs": [],
   "source": [
    "def ivim_tensor(b, *params): \n",
    "    \"\"\" \n",
    "    \n",
    "    \"\"\"\n",
    "    beta = params[0]\n",
    "    Q = from_lower_triangular(np.array(params[1:7]))\n",
    "    Q_star = from_lower_triangular(np.array(params[7:]))\n",
    "    return beta * np.exp(-b * np.diag(theta @ Q_star @ theta.T)) + (1 - beta) * np.exp(-b * np.diag(theta @ Q @ theta.T))\n",
    "    "
   ]
  },
  {
   "cell_type": "code",
   "execution_count": 15,
   "id": "satellite-young",
   "metadata": {},
   "outputs": [],
   "source": [
    "Q = lower_triangular(np.array([[0.0015, 0, 0], [0, 0.001, 0], [0, 0, 0.001]]))\n",
    "Q_star = 10 * Q\n",
    "\n",
    "#theta = np.array([[1, 0, 0]])\n",
    "beta = 0.2"
   ]
  },
  {
   "cell_type": "code",
   "execution_count": 16,
   "id": "amazing-objective",
   "metadata": {},
   "outputs": [
    {
     "data": {
      "text/plain": [
       "13"
      ]
     },
     "execution_count": 16,
     "metadata": {},
     "output_type": "execute_result"
    }
   ],
   "source": [
    "len(np.hstack((beta, Q, Q_star)))"
   ]
  },
  {
   "cell_type": "code",
   "execution_count": 17,
   "id": "owned-mercy",
   "metadata": {},
   "outputs": [],
   "source": [
    "params = np.hstack([beta, Q, Q_star])"
   ]
  },
  {
   "cell_type": "code",
   "execution_count": 18,
   "id": "acting-chemical",
   "metadata": {},
   "outputs": [
    {
     "data": {
      "text/plain": [
       "array([0.0015, 0.    , 0.001 , 0.    , 0.    , 0.001 ])"
      ]
     },
     "execution_count": 18,
     "metadata": {},
     "output_type": "execute_result"
    }
   ],
   "source": [
    "np.array(params[1:7])"
   ]
  },
  {
   "cell_type": "code",
   "execution_count": 19,
   "id": "crucial-attention",
   "metadata": {},
   "outputs": [],
   "source": [
    "signal = ivim_tensor(sim_gtab.bvals, *params)"
   ]
  },
  {
   "cell_type": "code",
   "execution_count": 20,
   "id": "enormous-screw",
   "metadata": {},
   "outputs": [],
   "source": [
    "signal = signal+np.random.randn(signal.shape[0]) * 0.05"
   ]
  },
  {
   "cell_type": "code",
   "execution_count": 21,
   "id": "broadband-executive",
   "metadata": {},
   "outputs": [
    {
     "data": {
      "text/plain": [
       "[<matplotlib.lines.Line2D at 0x7f6880bbc490>]"
      ]
     },
     "execution_count": 21,
     "metadata": {},
     "output_type": "execute_result"
    },
    {
     "data": {
      "image/png": "[encoded data removed]",
      "text/plain": [
       "<Figure size 432x288 with 1 Axes>"
      ]
     },
     "metadata": {
      "needs_background": "light"
     },
     "output_type": "display_data"
    }
   ],
   "source": [
    "plt.plot(sim_gtab.bvals, signal, 'o')"
   ]
  },
  {
   "cell_type": "code",
   "execution_count": 22,
   "id": "funny-uncle",
   "metadata": {},
   "outputs": [],
   "source": [
    "from scipy.optimize import curve_fit"
   ]
  },
  {
   "cell_type": "code",
   "execution_count": 23,
   "id": "located-heating",
   "metadata": {},
   "outputs": [],
   "source": [
    "popt, pcov = curve_fit(ivim_tensor, sim_gtab.bvals, signal, p0=np.hstack((beta, Q, Q_star)))"
   ]
  },
  {
   "cell_type": "code",
   "execution_count": 24,
   "id": "muslim-bosnia",
   "metadata": {},
   "outputs": [
    {
     "data": {
      "text/plain": [
       "array([ 2.68015001e-01,  1.36768139e-03, -9.21433772e-06,  8.96412511e-04,\n",
       "       -8.83106462e-05,  4.97611126e-05,  7.90696115e-04,  1.16038849e-02,\n",
       "       -9.67674597e-04,  8.78200052e-03,  2.21953784e-03,  1.02427521e-04,\n",
       "        6.34830201e-03])"
      ]
     },
     "execution_count": 24,
     "metadata": {},
     "output_type": "execute_result"
    }
   ],
   "source": [
    "popt"
   ]
  },
  {
   "cell_type": "code",
   "execution_count": 25,
   "id": "cooked-telescope",
   "metadata": {},
   "outputs": [
    {
     "data": {
      "text/plain": [
       "[<matplotlib.lines.Line2D at 0x7f687eabe410>]"
      ]
     },
     "execution_count": 25,
     "metadata": {},
     "output_type": "execute_result"
    },
    {
     "data": {
      "image/png": "[encoded data removed]",
      "text/plain": [
       "<Figure size 432x288 with 1 Axes>"
      ]
     },
     "metadata": {
      "needs_background": "light"
     },
     "output_type": "display_data"
    }
   ],
   "source": [
    "plt.plot(sim_gtab.bvals, signal, 'o')\n",
    "plt.plot(sim_gtab.bvals, ivim_tensor(sim_gtab.bvals, *popt))"
   ]
  },
  {
   "cell_type": "code",
   "execution_count": 26,
   "id": "romance-weight",
   "metadata": {},
   "outputs": [],
   "source": [
    "beta_hat = popt[0]\n",
    "Q_hat = from_lower_triangular(np.array(popt[1:7]))\n",
    "Q_star_hat = from_lower_triangular(np.array(popt[7:]))\n"
   ]
  },
  {
   "cell_type": "code",
   "execution_count": 27,
   "id": "inner-hughes",
   "metadata": {},
   "outputs": [],
   "source": [
    "from dipy.reconst import dti"
   ]
  },
  {
   "cell_type": "code",
   "execution_count": 28,
   "id": "ancient-double",
   "metadata": {},
   "outputs": [
    {
     "data": {
      "text/plain": [
       "(0.2680150014203032,\n",
       " (array([0.00138146, 0.00091276, 0.00076057]),\n",
       "  array([[-0.98800629, -0.08211865,  0.13076737],\n",
       "         [ 0.03421649, -0.94224112, -0.33318298],\n",
       "         [ 0.15057493, -0.32471248,  0.93374996]])),\n",
       " (array([0.0126162 , 0.00863914, 0.00547884]),\n",
       "  array([[-0.91992786,  0.16392984,  0.35617375],\n",
       "         [ 0.22356623,  0.96556877,  0.1330229 ],\n",
       "         [-0.32210383,  0.2019999 , -0.92490279]])))"
      ]
     },
     "execution_count": 28,
     "metadata": {},
     "output_type": "execute_result"
    }
   ],
   "source": [
    "beta_hat, dti.decompose_tensor(Q_hat), dti.decompose_tensor(Q_star_hat)"
   ]
  },
  {
   "cell_type": "code",
   "execution_count": null,
   "id": "adapted-worst",
   "metadata": {},
   "outputs": [],
   "source": []
  },
  {
   "cell_type": "code",
   "execution_count": 29,
   "id": "commercial-remedy",
   "metadata": {},
   "outputs": [],
   "source": [
    "from dipy.sims.voxel import multi_tensor"
   ]
  },
  {
   "cell_type": "code",
   "execution_count": 30,
   "id": "corrected-identification",
   "metadata": {},
   "outputs": [],
   "source": [
    "mevals = np.array([[0.001, 0.0005, 0.0005], \n",
    "                   [0.1, 0.01, 0.01]])\n",
    "\n",
    "angles = [(90, 0), (90, 0)]"
   ]
  },
  {
   "cell_type": "code",
   "execution_count": 31,
   "id": "complete-buying",
   "metadata": {},
   "outputs": [],
   "source": [
    "perfusion_fraction = 0.2"
   ]
  },
  {
   "cell_type": "code",
   "execution_count": 32,
   "id": "worthy-distributor",
   "metadata": {},
   "outputs": [],
   "source": [
    "signal = multi_tensor(sim_gtab, mevals=mevals, snr=1000, fractions=[100 * (1-perfusion_fraction), \n",
    "                                                                    perfusion_fraction * 100])[0]"
   ]
  },
  {
   "cell_type": "code",
   "execution_count": 33,
   "id": "loose-kentucky",
   "metadata": {},
   "outputs": [
    {
     "data": {
      "text/plain": [
       "[<matplotlib.lines.Line2D at 0x7f687ea45c90>]"
      ]
     },
     "execution_count": 33,
     "metadata": {},
     "output_type": "execute_result"
    },
    {
     "data": {
      "image/png": "[encoded data removed]",
      "text/plain": [
       "<Figure size 432x288 with 1 Axes>"
      ]
     },
     "metadata": {
      "needs_background": "light"
     },
     "output_type": "display_data"
    }
   ],
   "source": [
    "plt.plot(sim_gtab.bvals, signal, 'o')"
   ]
  },
  {
   "cell_type": "code",
   "execution_count": 34,
   "id": "rational-spice",
   "metadata": {},
   "outputs": [
    {
     "name": "stderr",
     "output_type": "stream",
     "text": [
      "/srv/conda/envs/notebook/lib/python3.7/site-packages/dipy/reconst/ivim.py:151: UserWarning: Bounds for this fit have been set from experiments and literature survey. To change the bounds, please input your bounds in model definition...\n",
      "  warnings.warn(bounds_warning, UserWarning)\n"
     ]
    }
   ],
   "source": [
    "model = IvimModel(sim_gtab, fit_method=\"trr\")"
   ]
  },
  {
   "cell_type": "code",
   "execution_count": 35,
   "id": "liked-courtesy",
   "metadata": {},
   "outputs": [],
   "source": [
    "fit = model.fit(signal)"
   ]
  },
  {
   "cell_type": "code",
   "execution_count": 36,
   "id": "gothic-conjunction",
   "metadata": {},
   "outputs": [
    {
     "data": {
      "text/plain": [
       "(array(0.00067979), array(0.03012983), array(0.1751251))"
      ]
     },
     "execution_count": 36,
     "metadata": {},
     "output_type": "execute_result"
    }
   ],
   "source": [
    "fit.D, fit.D_star, fit.perfusion_fraction"
   ]
  },
  {
   "cell_type": "code",
   "execution_count": 37,
   "id": "democratic-adapter",
   "metadata": {},
   "outputs": [],
   "source": [
    "popt, pcov = curve_fit(ivim_tensor, sim_gtab.bvals, signal, p0=np.hstack((beta, Q, Q_star)))"
   ]
  },
  {
   "cell_type": "code",
   "execution_count": 38,
   "id": "plastic-sullivan",
   "metadata": {},
   "outputs": [
    {
     "data": {
      "text/plain": [
       "[<matplotlib.lines.Line2D at 0x7f687e9df8d0>]"
      ]
     },
     "execution_count": 38,
     "metadata": {},
     "output_type": "execute_result"
    },
    {
     "data": {
      "image/png": "[encoded data removed]",
      "text/plain": [
       "<Figure size 432x288 with 1 Axes>"
      ]
     },
     "metadata": {
      "needs_background": "light"
     },
     "output_type": "display_data"
    }
   ],
   "source": [
    "plt.plot(sim_gtab.bvals, ivim_tensor(sim_gtab.bvals, *popt))\n",
    "plt.plot(sim_gtab.bvals, signal, 'o')"
   ]
  },
  {
   "cell_type": "code",
   "execution_count": 39,
   "id": "patent-presence",
   "metadata": {},
   "outputs": [
    {
     "data": {
      "text/plain": [
       "0.20005745782888937"
      ]
     },
     "execution_count": 39,
     "metadata": {},
     "output_type": "execute_result"
    }
   ],
   "source": [
    "popt[0]"
   ]
  },
  {
   "cell_type": "code",
   "execution_count": 40,
   "id": "verbal-cross",
   "metadata": {},
   "outputs": [],
   "source": [
    "beta_hat = popt[0]\n",
    "Q_hat = from_lower_triangular(np.array(popt[1:7]))\n",
    "Q_star_hat = from_lower_triangular(np.array(popt[7:]))\n"
   ]
  },
  {
   "cell_type": "code",
   "execution_count": 41,
   "id": "coordinate-minutes",
   "metadata": {},
   "outputs": [
    {
     "data": {
      "text/plain": [
       "(0.20005745782888937,\n",
       " (array([0.00099894, 0.00050098, 0.00049962]),\n",
       "  array([[-1.66902448e-03,  9.69977907e-02,  9.95283197e-01],\n",
       "         [ 9.56216011e-04,  9.95284283e-01, -9.69962931e-02],\n",
       "         [ 9.99998150e-01, -7.89816542e-04,  1.75390467e-03]])),\n",
       " (array([0.10071932, 0.01000686, 0.00982743]),\n",
       "  array([[-9.99994601e-01, -2.28929189e-03, -2.35742354e-03],\n",
       "         [-3.28126826e-03,  6.56843623e-01,  7.54019687e-01],\n",
       "         [-1.77712534e-04,  7.54023351e-01, -6.56847589e-01]])))"
      ]
     },
     "execution_count": 41,
     "metadata": {},
     "output_type": "execute_result"
    }
   ],
   "source": [
    "beta_hat, dti.decompose_tensor(Q_hat), dti.decompose_tensor(Q_star_hat)"
   ]
  },
  {
   "cell_type": "code",
   "execution_count": 42,
   "id": "seventh-perry",
   "metadata": {},
   "outputs": [],
   "source": [
    "evals_Q_hat = dti.decompose_tensor(Q_hat)[0]"
   ]
  },
  {
   "cell_type": "code",
   "execution_count": 43,
   "id": "adolescent-minority",
   "metadata": {},
   "outputs": [
    {
     "data": {
      "text/plain": [
       "0.0006665125846921329"
      ]
     },
     "execution_count": 43,
     "metadata": {},
     "output_type": "execute_result"
    }
   ],
   "source": [
    "np.mean(evals_Q_hat)"
   ]
  },
  {
   "cell_type": "code",
   "execution_count": 44,
   "id": "forty-strand",
   "metadata": {},
   "outputs": [],
   "source": [
    "evals_Q_star_hat = dti.decompose_tensor(Q_star_hat)[0]"
   ]
  },
  {
   "cell_type": "code",
   "execution_count": 45,
   "id": "overhead-donna",
   "metadata": {},
   "outputs": [
    {
     "data": {
      "text/plain": [
       "0.040184538389223805"
      ]
     },
     "execution_count": 45,
     "metadata": {},
     "output_type": "execute_result"
    }
   ],
   "source": [
    "np.mean(evals_Q_star_hat)"
   ]
  },
  {
   "cell_type": "code",
   "execution_count": 46,
   "id": "other-frequency",
   "metadata": {},
   "outputs": [],
   "source": [
    "pdd_Q_hat = dti.decompose_tensor(Q_hat)[1][0]"
   ]
  },
  {
   "cell_type": "code",
   "execution_count": 47,
   "id": "excited-lambda",
   "metadata": {},
   "outputs": [],
   "source": [
    "pdd_Q_hat_star =  dti.decompose_tensor(Q_star_hat)[1][0]"
   ]
  },
  {
   "cell_type": "code",
   "execution_count": 48,
   "id": "architectural-parade",
   "metadata": {},
   "outputs": [
    {
     "data": {
      "text/plain": [
       "(array([-0.00166902,  0.09699779,  0.9952832 ]),\n",
       " array([-0.9999946 , -0.00228929, -0.00235742]))"
      ]
     },
     "execution_count": 48,
     "metadata": {},
     "output_type": "execute_result"
    }
   ],
   "source": [
    "pdd_Q_hat, pdd_Q_hat_star"
   ]
  },
  {
   "cell_type": "code",
   "execution_count": 49,
   "id": "coastal-mumbai",
   "metadata": {},
   "outputs": [
    {
     "data": {
      "text/plain": [
       "90.05152867010159"
      ]
     },
     "execution_count": 49,
     "metadata": {},
     "output_type": "execute_result"
    }
   ],
   "source": [
    "np.rad2deg(np.arccos(np.dot(pdd_Q_hat, pdd_Q_hat_star)))"
   ]
  },
  {
   "cell_type": "code",
   "execution_count": 50,
   "id": "applied-trunk",
   "metadata": {},
   "outputs": [
    {
     "data": {
      "text/plain": [
       "0.892922113985259"
      ]
     },
     "execution_count": 50,
     "metadata": {},
     "output_type": "execute_result"
    }
   ],
   "source": [
    "dti.fractional_anisotropy(evals_Q_star_hat)"
   ]
  },
  {
   "cell_type": "code",
   "execution_count": 51,
   "id": "resistant-geometry",
   "metadata": {},
   "outputs": [
    {
     "data": {
      "text/plain": [
       "0.4073451911914319"
      ]
     },
     "execution_count": 51,
     "metadata": {},
     "output_type": "execute_result"
    }
   ],
   "source": [
    "dti.fractional_anisotropy(evals_Q_hat)"
   ]
  },
  {
   "cell_type": "code",
   "execution_count": 52,
   "id": "injured-bangladesh",
   "metadata": {},
   "outputs": [
    {
     "data": {
      "text/plain": [
       "0.0006665125846921329"
      ]
     },
     "execution_count": 52,
     "metadata": {},
     "output_type": "execute_result"
    }
   ],
   "source": [
    "dti.mean_diffusivity(evals_Q_hat)"
   ]
  },
  {
   "cell_type": "code",
   "execution_count": 53,
   "id": "neutral-player",
   "metadata": {},
   "outputs": [
    {
     "data": {
      "text/plain": [
       "0.0006666666666666666"
      ]
     },
     "execution_count": 53,
     "metadata": {},
     "output_type": "execute_result"
    }
   ],
   "source": [
    "dti.mean_diffusivity(mevals[0])"
   ]
  },
  {
   "cell_type": "code",
   "execution_count": 54,
   "id": "strange-upper",
   "metadata": {},
   "outputs": [
    {
     "data": {
      "text/plain": [
       "0.040184538389223805"
      ]
     },
     "execution_count": 54,
     "metadata": {},
     "output_type": "execute_result"
    }
   ],
   "source": [
    "dti.mean_diffusivity(evals_Q_star_hat)"
   ]
  },
  {
   "cell_type": "code",
   "execution_count": 55,
   "id": "gentle-payment",
   "metadata": {},
   "outputs": [
    {
     "data": {
      "text/plain": [
       "0.04"
      ]
     },
     "execution_count": 55,
     "metadata": {},
     "output_type": "execute_result"
    }
   ],
   "source": [
    "dti.mean_diffusivity(mevals[1])"
   ]
  },
  {
   "cell_type": "code",
   "execution_count": 56,
   "id": "whole-graduation",
   "metadata": {},
   "outputs": [],
   "source": [
    "from dipy.reconst.base import ReconstFit, ReconstModel\n",
    "from dipy.reconst.multi_voxel import multi_voxel_fit\n",
    "from dipy.reconst.dti import TensorModel, TensorFit, decompose_tensor, from_lower_triangular"
   ]
  },
  {
   "cell_type": "code",
   "execution_count": 57,
   "id": "reliable-province",
   "metadata": {},
   "outputs": [],
   "source": [
    "class IvimTensorModel(ReconstModel):\n",
    "    def __init__(self, gtab, split_b_D=400.0, bounds=[]):\n",
    "        ReconstModel.__init__(self, gtab)\n",
    "        self.split_b_D = split_b_D\n",
    "        self.bounds = bounds\n",
    "        # Use two separate tensors for initial estimation:\n",
    "        self.dti = TensorModel(self.gtab)\n",
    "        \n",
    "        self.split_idx = np.where(gtab.bvals >= self.split_b_D)    \n",
    "        self.perfusion_gtab = gradient_table(self.gtab.bvals[self.split_idx],\n",
    "                                             self.gtab.bvecs[self.split_idx])\n",
    "        \n",
    "        self.perfusion_model = TensorModel(self.perfusion_gtab)\n",
    "\n",
    "    def model_eq1(self, b, *params): \n",
    "        \"\"\" \n",
    "        The model with fixed perfusion fraction\n",
    "        \"\"\"\n",
    "        beta = self.perfusion_fraction\n",
    "        Q = from_lower_triangular(np.array(params[:6]))\n",
    "        Q_star = from_lower_triangular(np.array(params[6:]))\n",
    "        return beta * np.exp(-b * np.diag(theta @ Q_star @ theta.T)) + (1 - beta) * np.exp(-b * np.diag(theta @ Q @ theta.T))\n",
    "\n",
    "    def model_eq2(self, b, *params): \n",
    "        \"\"\" \n",
    "        The full model, including perfusion fraction\n",
    "        \"\"\"\n",
    "        beta = params[0]\n",
    "        Q = from_lower_triangular(np.array(params[1:7]))\n",
    "        Q_star = from_lower_triangular(np.array(params[7:]))\n",
    "        return beta * np.exp(-b * np.diag(theta @ Q_star @ theta.T)) + (1 - beta) * np.exp(-b * np.diag(theta @ Q @ theta.T))\n",
    "\n",
    "    \n",
    "    def fit(self, data, mask=None):\n",
    "        \"\"\" \n",
    "        For now, we assume that data is from a single voxel, and we'll generalize later\n",
    "        \"\"\"\n",
    "        # Fit a tensor to the entire data and data just up to split_b_D\n",
    "        self.dti_fit = self.dti.fit(data, mask)\n",
    "        self.q_initial = lower_triangular(self.dti_fit.quadratic_form)\n",
    "        \n",
    "        perfusion_data = data[self.split_idx]\n",
    "        self.perfusion_fit = self.perfusion_model.fit(perfusion_data, mask)\n",
    "        self.q_star_initial = lower_triangular(self.perfusion_fit.quadratic_form).squeeze()\n",
    "        fractions_for_probe = np.arange(0, 0.5, 0.05)\n",
    "        self.fits = np.zeros((fractions_for_probe.shape[0], 12))\n",
    "        self.errs = np.zeros(fractions_for_probe.shape[0])\n",
    "        self.beta = np.zeros(fractions_for_probe.shape[0])\n",
    "        initial = np.hstack([self.q_initial, self.q_star_initial])\n",
    "        # Instead of estimating perfusion_fraction directly, we start by finding \n",
    "        # a perfusion fraction that works for the other parameters\n",
    "        for ii, perfusion_fraction in enumerate(fractions_for_probe):\n",
    "            self.perfusion_fraction = perfusion_fraction\n",
    "            popt, pcov = curve_fit(self.model_eq1,  self.gtab.bvals, data, p0=initial)\n",
    "            err = np.sum(np.power(self.model_eq1(self.gtab.bvals, *popt) - data, 2))\n",
    "            self.fits[ii] = popt\n",
    "            self.errs[ii] = err\n",
    "            self.beta[ii] = perfusion_fraction\n",
    "\n",
    "        min_err = np.argmin(self.errs)\n",
    "        initial = np.hstack([self.beta[min_err], self.fits[min_err]])\n",
    "        popt, pcov = curve_fit(self.model_eq2,  self.gtab.bvals, data, p0=initial, \n",
    "                               bounds=((0, -np.inf, -np.inf, -np.inf, -np.inf, -np.inf, -np.inf, -np.inf, -np.inf, -np.inf, -np.inf, -np.inf, -np.inf), \n",
    "                                       (1, np.inf, np.inf, np.inf, np.inf, np.inf, np.inf, np.inf, np.inf, np.inf, np.inf, np.inf, np.inf)))\n",
    "        return IvimTensorFit(self, popt)\n",
    "        \n",
    "                            \n",
    "class IvimTensorFit(ReconstFit):\n",
    "    def __init__(self, model, model_params):\n",
    "        self.model = model\n",
    "        self.model_params = model_params\n",
    "        tensor_evals, tensor_evecs = decompose_tensor(from_lower_triangular(self.model_params[1:7]))\n",
    "        tensor_params = np.hstack([tensor_evals, tensor_evecs.ravel()])\n",
    "        perfusion_evals, perfusion_evecs = decompose_tensor(from_lower_triangular(self.model_params[7:]))\n",
    "        perfusion_params = np.hstack([perfusion_evals, perfusion_evecs.ravel()])\n",
    "        self.tensor_fit = TensorFit(self.model.dti, tensor_params)\n",
    "        self.perfusion_fit = TensorFit(self.model.perfusion_model, perfusion_params)\n",
    "        self.perfusion_fraction = np.min([model_params[0], 1 - model_params[0]])"
   ]
  },
  {
   "cell_type": "code",
   "execution_count": 58,
   "id": "emotional-bottle",
   "metadata": {},
   "outputs": [
    {
     "name": "stderr",
     "output_type": "stream",
     "text": [
      "/srv/conda/envs/notebook/lib/python3.7/site-packages/dipy/core/gradients.py:297: UserWarning: b0_threshold (value: 50) is too low, increase your              b0_threshold. It should be higher than the lowest b0 value              (400.0).\n",
      "  ({1}).\".format(b0_threshold, bvals.min()))\n"
     ]
    }
   ],
   "source": [
    "itm = IvimTensorModel(sim_gtab)"
   ]
  },
  {
   "cell_type": "code",
   "execution_count": 59,
   "id": "artistic-moment",
   "metadata": {},
   "outputs": [
    {
     "data": {
      "text/plain": [
       "((121,), (121,))"
      ]
     },
     "execution_count": 59,
     "metadata": {},
     "output_type": "execute_result"
    }
   ],
   "source": [
    "signal.shape, sim_gtab.bvals.shape"
   ]
  },
  {
   "cell_type": "code",
   "execution_count": 60,
   "id": "aware-corps",
   "metadata": {},
   "outputs": [
    {
     "name": "stderr",
     "output_type": "stream",
     "text": [
      "/srv/conda/envs/notebook/lib/python3.7/site-packages/scipy/optimize/minpack.py:829: OptimizeWarning: Covariance of the parameters could not be estimated\n",
      "  category=OptimizeWarning)\n"
     ]
    }
   ],
   "source": [
    "itf = itm.fit(signal)"
   ]
  },
  {
   "cell_type": "code",
   "execution_count": 61,
   "id": "contained-consortium",
   "metadata": {},
   "outputs": [
    {
     "data": {
      "text/plain": [
       "(0.4073452128966541, 0.8929224107306127)"
      ]
     },
     "execution_count": 61,
     "metadata": {},
     "output_type": "execute_result"
    }
   ],
   "source": [
    "itf.tensor_fit.fa, itf.perfusion_fit.fa"
   ]
  },
  {
   "cell_type": "code",
   "execution_count": 62,
   "id": "allied-sucking",
   "metadata": {},
   "outputs": [
    {
     "data": {
      "text/plain": [
       "(array([0.00099894, 0.00050098, 0.00049962]),\n",
       " array([0.10071941, 0.01000683, 0.00982743]),\n",
       " 0.20005745321337326)"
      ]
     },
     "execution_count": 62,
     "metadata": {},
     "output_type": "execute_result"
    }
   ],
   "source": [
    "itf.tensor_fit.evals, itf.perfusion_fit.evals, itf.perfusion_fraction"
   ]
  },
  {
   "cell_type": "code",
   "execution_count": 63,
   "id": "incredible-nicholas",
   "metadata": {},
   "outputs": [
    {
     "data": {
      "text/plain": [
       "(array([[-1.66910667e-03,  9.55975883e-04,  9.99998150e-01]]),\n",
       " array([[-9.99994600e-01, -3.28143322e-03, -1.77322611e-04]]))"
      ]
     },
     "execution_count": 63,
     "metadata": {},
     "output_type": "execute_result"
    }
   ],
   "source": [
    "itf.tensor_fit.directions, itf.perfusion_fit.directions"
   ]
  },
  {
   "cell_type": "code",
   "execution_count": 64,
   "id": "disturbed-raise",
   "metadata": {},
   "outputs": [
    {
     "name": "stderr",
     "output_type": "stream",
     "text": [
      "/srv/conda/envs/notebook/lib/python3.7/site-packages/ipykernel_launcher.py:22: RuntimeWarning: overflow encountered in exp\n",
      "/srv/conda/envs/notebook/lib/python3.7/site-packages/scipy/optimize/_lsq/common.py:234: RuntimeWarning: overflow encountered in double_scalars\n",
      "  ratio = actual_reduction / predicted_reduction\n",
      "/srv/conda/envs/notebook/lib/python3.7/site-packages/ipykernel_launcher.py:31: RuntimeWarning: overflow encountered in exp\n"
     ]
    }
   ],
   "source": [
    "snrs = [1, 10, 20, 50, 100, 1000]\n",
    "perfusion_fractions = [0.01, 0.05, 0.1, 0.15, 0.2]\n",
    "reps = 50\n",
    "\n",
    "fracs_discovered = np.zeros((len(snrs), len(perfusion_fractions), reps))\n",
    "\n",
    "for ii in range(len(snrs)):\n",
    "    snr = snrs[ii]\n",
    "    for jj in range(len(perfusion_fractions)):\n",
    "        perfusion_fraction = perfusion_fractions[jj]\n",
    "        for rep in range(reps):\n",
    "            signal = multi_tensor(sim_gtab, mevals=mevals, snr=snr, \n",
    "                                  fractions=[100 * (1-perfusion_fraction), \n",
    "                                  perfusion_fraction * 100])[0]\n",
    "            try:\n",
    "                itf = itm.fit(signal)\n",
    "                fracs_discovered[ii, jj, rep] = itf.perfusion_fraction\n",
    "            except RuntimeError:\n",
    "                fracs_discovered[ii, jj, rep] = itf.perfusion_fraction\n",
    "            "
   ]
  },
  {
   "cell_type": "code",
   "execution_count": 70,
   "id": "legendary-therapy",
   "metadata": {},
   "outputs": [
    {
     "data": {
      "image/png": "[encoded data removed]",
      "text/plain": [
       "<Figure size 432x288 with 1 Axes>"
      ]
     },
     "metadata": {
      "needs_background": "light"
     },
     "output_type": "display_data"
    },
    {
     "data": {
      "image/png": "[encoded data removed]",
      "text/plain": [
       "<Figure size 432x288 with 1 Axes>"
      ]
     },
     "metadata": {
      "needs_background": "light"
     },
     "output_type": "display_data"
    },
    {
     "data": {
      "image/png": "[encoded data removed]",
      "text/plain": [
       "<Figure size 432x288 with 1 Axes>"
      ]
     },
     "metadata": {
      "needs_background": "light"
     },
     "output_type": "display_data"
    },
    {
     "data": {
      "image/png": "[encoded data removed]",
      "text/plain": [
       "<Figure size 432x288 with 1 Axes>"
      ]
     },
     "metadata": {
      "needs_background": "light"
     },
     "output_type": "display_data"
    },
    {
     "data": {
      "image/png": "[encoded data removed]",
      "text/plain": [
       "<Figure size 432x288 with 1 Axes>"
      ]
     },
     "metadata": {
      "needs_background": "light"
     },
     "output_type": "display_data"
    },
    {
     "data": {
      "image/png": "[encoded data removed]",
      "text/plain": [
       "<Figure size 432x288 with 1 Axes>"
      ]
     },
     "metadata": {
      "needs_background": "light"
     },
     "output_type": "display_data"
    }
   ],
   "source": [
    "for ii in range(len(snrs)):\n",
    "    fig, ax = plt.subplots()\n",
    "    ax.errorbar(perfusion_fractions, np.mean(fracs_discovered, -1)[ii], yerr=np.std(fracs_discovered, -1)[ii])"
   ]
  },
  {
   "cell_type": "code",
   "execution_count": 66,
   "id": "boxed-imaging",
   "metadata": {},
   "outputs": [
    {
     "data": {
      "text/plain": [
       "array([0.21906706, 0.26050963, 0.14826387, 0.16798497, 0.22082588])"
      ]
     },
     "execution_count": 66,
     "metadata": {},
     "output_type": "execute_result"
    }
   ],
   "source": [
    "np.mean(fracs_discovered, -1)[1]"
   ]
  },
  {
   "cell_type": "code",
   "execution_count": 67,
   "id": "mounted-contribution",
   "metadata": {},
   "outputs": [
    {
     "data": {
      "text/plain": [
       "array([[0.03199897, 0.02099962, 0.09199996, 0.05699981, 0.07299912],\n",
       "       [0.21906706, 0.26050963, 0.14826387, 0.16798497, 0.22082588],\n",
       "       [0.22946507, 0.0750886 , 0.10547905, 0.14926596, 0.20590601],\n",
       "       [0.31760316, 0.05214592, 0.10175693, 0.14988356, 0.20195468],\n",
       "       [0.0650978 , 0.05037766, 0.10039928, 0.15046636, 0.19954417],\n",
       "       [0.01009716, 0.05004106, 0.10049923, 0.15002629, 0.20004819]])"
      ]
     },
     "execution_count": 67,
     "metadata": {},
     "output_type": "execute_result"
    }
   ],
   "source": [
    "np.mean(fracs_discovered, -1)"
   ]
  },
  {
   "cell_type": "code",
   "execution_count": 68,
   "id": "searching-fluid",
   "metadata": {},
   "outputs": [
    {
     "data": {
      "text/plain": [
       "0.19999036603841044"
      ]
     },
     "execution_count": 68,
     "metadata": {},
     "output_type": "execute_result"
    }
   ],
   "source": [
    "itf.perfusion_fraction"
   ]
  },
  {
   "cell_type": "code",
   "execution_count": 76,
   "id": "commercial-width",
   "metadata": {},
   "outputs": [
    {
     "data": {
      "text/plain": [
       "array([0.19251648, 0.19251648, 0.01028799, 0.01706218, 0.01655972,\n",
       "       0.01172655, 0.01324304, 0.01009155, 0.45000041, 0.01075869,\n",
       "       0.01109293, 0.02185809, 0.00966437, 0.00966437, 0.017548  ,\n",
       "       0.0135744 , 0.00950823, 0.01210394, 0.01210394, 0.01070026,\n",
       "       0.01162635, 0.01162635, 0.01231892, 0.01470239, 0.45000714,\n",
       "       0.45000714, 0.00866281, 0.01249961, 0.01442831, 0.45000041,\n",
       "       0.01472083, 0.01019715, 0.01388403, 0.01460384, 0.01309816,\n",
       "       0.01183817, 0.01326093, 0.03193665, 0.0125    , 0.01006085,\n",
       "       0.06188114, 0.01968922, 0.00833057, 0.0116695 , 0.01453185,\n",
       "       0.01369816, 0.01495328, 0.01495328, 0.01051101, 0.45011032])"
      ]
     },
     "execution_count": 76,
     "metadata": {},
     "output_type": "execute_result"
    }
   ],
   "source": [
    "fracs_discovered[-2][-5]"
   ]
  },
  {
   "cell_type": "code",
   "execution_count": null,
   "id": "private-cheese",
   "metadata": {},
   "outputs": [],
   "source": []
  }
 ],
 "metadata": {
  "kernelspec": {
   "display_name": "Python 3",
   "language": "python",
   "name": "python3"
  },
  "language_info": {
   "codemirror_mode": {
    "name": "ipython",
    "version": 3
   },
   "file_extension": ".py",
   "mimetype": "text/x-python",
   "name": "python",
   "nbconvert_exporter": "python",
   "pygments_lexer": "ipython3",
   "version": "3.7.10"
  }
 },
 "nbformat": 4,
 "nbformat_minor": 5
}

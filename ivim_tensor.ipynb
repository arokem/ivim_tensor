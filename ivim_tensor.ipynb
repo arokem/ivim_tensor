{
 "cells": [
  {
   "cell_type": "code",
   "execution_count": 1,
   "id": "optional-western",
   "metadata": {},
   "outputs": [],
   "source": [
    "import matplotlib.pyplot as plt\n",
    "import numpy as np\n",
    "import dipy\n",
    "from dipy.reconst.ivim import IvimModel\n",
    "import dipy.core.gradients as dpg\n",
    "from dipy.core.gradients import gradient_table\n",
    "from dipy.data import get_fnames\n",
    "from dipy.io.gradients import read_bvals_bvecs\n",
    "from dipy.io.image import load_nifti_data"
   ]
  },
  {
   "cell_type": "code",
   "execution_count": 2,
   "id": "fatty-sullivan",
   "metadata": {},
   "outputs": [],
   "source": [
    "fraw, fbval, fbvec = get_fnames('ivim')"
   ]
  },
  {
   "cell_type": "code",
   "execution_count": 3,
   "id": "jewish-dynamics",
   "metadata": {},
   "outputs": [],
   "source": [
    "sim_bvecs = dpg.generate_bvecs(6)"
   ]
  },
  {
   "cell_type": "code",
   "execution_count": 4,
   "id": "endangered-shadow",
   "metadata": {},
   "outputs": [],
   "source": [
    "data = load_nifti_data(fraw)\n",
    "bvals, bvecs = read_bvals_bvecs(fbval, fbvec)\n",
    "gtab = gradient_table(bvals, bvecs, b0_threshold=0)"
   ]
  },
  {
   "cell_type": "code",
   "execution_count": 5,
   "id": "historical-strengthening",
   "metadata": {},
   "outputs": [],
   "source": [
    "sim_bvecs = np.vstack([sim_bvecs]* len(gtab.bvals[1:]))"
   ]
  },
  {
   "cell_type": "code",
   "execution_count": 6,
   "id": "neural-maryland",
   "metadata": {},
   "outputs": [],
   "source": [
    "sim_bvecs = np.vstack([np.array([[0, 0, 0]]), sim_bvecs])"
   ]
  },
  {
   "cell_type": "code",
   "execution_count": 7,
   "id": "touched-silicon",
   "metadata": {},
   "outputs": [],
   "source": [
    "sim_bvals = np.hstack(list([[gtab.bvals[1:][i]] * 6] for i in range(len(gtab.bvals[1:])))).squeeze()"
   ]
  },
  {
   "cell_type": "code",
   "execution_count": 8,
   "id": "hispanic-vacuum",
   "metadata": {},
   "outputs": [],
   "source": [
    "sim_bvals = np.hstack([0, sim_bvals])"
   ]
  },
  {
   "cell_type": "code",
   "execution_count": 9,
   "id": "least-length",
   "metadata": {},
   "outputs": [
    {
     "data": {
      "text/plain": [
       "(121,)"
      ]
     },
     "execution_count": 9,
     "metadata": {},
     "output_type": "execute_result"
    }
   ],
   "source": [
    "sim_bvals.shape"
   ]
  },
  {
   "cell_type": "code",
   "execution_count": 10,
   "id": "vulnerable-message",
   "metadata": {},
   "outputs": [
    {
     "data": {
      "text/plain": [
       "(121, 3)"
      ]
     },
     "execution_count": 10,
     "metadata": {},
     "output_type": "execute_result"
    }
   ],
   "source": [
    "sim_bvecs.shape"
   ]
  },
  {
   "cell_type": "code",
   "execution_count": 11,
   "id": "correct-socket",
   "metadata": {},
   "outputs": [],
   "source": [
    "sim_gtab = gradient_table(sim_bvals, sim_bvecs, b0_threshold=0)"
   ]
  },
  {
   "cell_type": "markdown",
   "id": "following-riding",
   "metadata": {},
   "source": [
    "$\\frac{S}{S_0} = \\beta e^{-b \\theta^t Q^{*}, \\theta} + (1- \\beta) e^{-b \\theta^t Q \\theta}$\n"
   ]
  },
  {
   "cell_type": "code",
   "execution_count": null,
   "id": "convinced-invasion",
   "metadata": {},
   "outputs": [],
   "source": []
  },
  {
   "cell_type": "code",
   "execution_count": null,
   "id": "accepting-google",
   "metadata": {},
   "outputs": [],
   "source": []
  },
  {
   "cell_type": "code",
   "execution_count": 12,
   "id": "occupational-license",
   "metadata": {},
   "outputs": [],
   "source": [
    "from dipy.reconst.dti import lower_triangular, from_lower_triangular"
   ]
  },
  {
   "cell_type": "code",
   "execution_count": 13,
   "id": "artificial-organ",
   "metadata": {},
   "outputs": [],
   "source": [
    "theta = sim_gtab.bvecs"
   ]
  },
  {
   "cell_type": "code",
   "execution_count": 14,
   "id": "military-adobe",
   "metadata": {},
   "outputs": [],
   "source": [
    "def ivim_tensor(b, *params): \n",
    "    \"\"\" \n",
    "    \n",
    "    \"\"\"\n",
    "    beta = params[0]\n",
    "    Q = from_lower_triangular(np.array(params[1:7]))\n",
    "    Q_star = from_lower_triangular(np.array(params[7:]))\n",
    "    return beta * np.exp(-b * np.diag(theta @ Q_star @ theta.T)) + (1 - beta) * np.exp(-b * np.diag(theta @ Q @ theta.T))\n",
    "    "
   ]
  },
  {
   "cell_type": "code",
   "execution_count": 15,
   "id": "foreign-party",
   "metadata": {},
   "outputs": [],
   "source": [
    "Q = lower_triangular(np.array([[0.0015, 0, 0], [0, 0.001, 0], [0, 0, 0.001]]))\n",
    "Q_star = 10 * Q\n",
    "\n",
    "#theta = np.array([[1, 0, 0]])\n",
    "beta = 0.2"
   ]
  },
  {
   "cell_type": "code",
   "execution_count": 16,
   "id": "dominant-shelf",
   "metadata": {},
   "outputs": [
    {
     "data": {
      "text/plain": [
       "13"
      ]
     },
     "execution_count": 16,
     "metadata": {},
     "output_type": "execute_result"
    }
   ],
   "source": [
    "len(np.hstack((beta, Q, Q_star)))"
   ]
  },
  {
   "cell_type": "code",
   "execution_count": 17,
   "id": "provincial-anger",
   "metadata": {},
   "outputs": [],
   "source": [
    "params = np.hstack([beta, Q, Q_star])"
   ]
  },
  {
   "cell_type": "code",
   "execution_count": 18,
   "id": "sealed-warrior",
   "metadata": {},
   "outputs": [
    {
     "data": {
      "text/plain": [
       "array([0.0015, 0.    , 0.001 , 0.    , 0.    , 0.001 ])"
      ]
     },
     "execution_count": 18,
     "metadata": {},
     "output_type": "execute_result"
    }
   ],
   "source": [
    "np.array(params[1:7])"
   ]
  },
  {
   "cell_type": "code",
   "execution_count": 19,
   "id": "alert-hours",
   "metadata": {},
   "outputs": [],
   "source": [
    "signal = ivim_tensor(sim_gtab.bvals, *params)"
   ]
  },
  {
   "cell_type": "code",
   "execution_count": 20,
   "id": "multiple-september",
   "metadata": {},
   "outputs": [],
   "source": [
    "signal = signal+np.random.randn(signal.shape[0]) * 0.05"
   ]
  },
  {
   "cell_type": "code",
   "execution_count": 21,
   "id": "marked-financing",
   "metadata": {},
   "outputs": [
    {
     "data": {
      "text/plain": [
       "[<matplotlib.lines.Line2D at 0x7f59f35456d0>]"
      ]
     },
     "execution_count": 21,
     "metadata": {},
     "output_type": "execute_result"
    },
    {
     "data": {
      "image/png": "[encoded data removed]",
      "text/plain": [
       "<Figure size 432x288 with 1 Axes>"
      ]
     },
     "metadata": {
      "needs_background": "light"
     },
     "output_type": "display_data"
    }
   ],
   "source": [
    "plt.plot(sim_gtab.bvals, signal, 'o')"
   ]
  },
  {
   "cell_type": "code",
   "execution_count": 22,
   "id": "incident-ceiling",
   "metadata": {},
   "outputs": [],
   "source": [
    "from scipy.optimize import curve_fit"
   ]
  },
  {
   "cell_type": "code",
   "execution_count": 23,
   "id": "several-doctrine",
   "metadata": {},
   "outputs": [],
   "source": [
    "popt, pcov = curve_fit(ivim_tensor, sim_gtab.bvals, signal, p0=np.hstack((beta, Q, Q_star)))"
   ]
  },
  {
   "cell_type": "code",
   "execution_count": 24,
   "id": "bound-manual",
   "metadata": {},
   "outputs": [
    {
     "data": {
      "text/plain": [
       "array([ 2.16016420e-01,  1.75402218e-03, -1.76792252e-07,  8.69354351e-04,\n",
       "       -5.94597361e-05, -2.09863461e-05,  9.92739771e-04,  1.09292826e-02,\n",
       "        1.23022006e-03,  1.14992238e-02,  1.41455092e-03, -1.70202796e-03,\n",
       "        9.54493044e-03])"
      ]
     },
     "execution_count": 24,
     "metadata": {},
     "output_type": "execute_result"
    }
   ],
   "source": [
    "popt"
   ]
  },
  {
   "cell_type": "code",
   "execution_count": 25,
   "id": "streaming-heritage",
   "metadata": {},
   "outputs": [
    {
     "data": {
      "text/plain": [
       "[<matplotlib.lines.Line2D at 0x7f59f1446690>]"
      ]
     },
     "execution_count": 25,
     "metadata": {},
     "output_type": "execute_result"
    },
    {
     "data": {
      "image/png": "[encoded data removed]",
      "text/plain": [
       "<Figure size 432x288 with 1 Axes>"
      ]
     },
     "metadata": {
      "needs_background": "light"
     },
     "output_type": "display_data"
    }
   ],
   "source": [
    "plt.plot(sim_gtab.bvals, signal, 'o')\n",
    "plt.plot(sim_gtab.bvals, ivim_tensor(sim_gtab.bvals, *popt))"
   ]
  },
  {
   "cell_type": "code",
   "execution_count": 26,
   "id": "animated-translation",
   "metadata": {},
   "outputs": [],
   "source": [
    "beta_hat = popt[0]\n",
    "Q_hat = from_lower_triangular(np.array(popt[1:7]))\n",
    "Q_star_hat = from_lower_triangular(np.array(popt[7:]))\n"
   ]
  },
  {
   "cell_type": "code",
   "execution_count": 27,
   "id": "average-morrison",
   "metadata": {},
   "outputs": [],
   "source": [
    "from dipy.reconst import dti"
   ]
  },
  {
   "cell_type": "code",
   "execution_count": 28,
   "id": "chemical-probability",
   "metadata": {},
   "outputs": [
    {
     "data": {
      "text/plain": [
       "(0.2160164198945794,\n",
       " (array([0.00175864, 0.00099171, 0.00086577]),\n",
       "  array([[-0.99699529,  0.07660967, -0.01146114],\n",
       "         [-0.00162943, -0.16866618, -0.98567189],\n",
       "         [ 0.0774451 ,  0.98269155, -0.16828421]])),\n",
       " (array([0.01263041, 0.01179354, 0.00754948]),\n",
       "  array([[ 0.37355906,  0.79328237,  0.4807876 ],\n",
       "         [ 0.87397293, -0.12730559, -0.46900384],\n",
       "         [-0.31084553,  0.59539598, -0.74086347]])))"
      ]
     },
     "execution_count": 28,
     "metadata": {},
     "output_type": "execute_result"
    }
   ],
   "source": [
    "beta_hat, dti.decompose_tensor(Q_hat), dti.decompose_tensor(Q_star_hat)"
   ]
  },
  {
   "cell_type": "code",
   "execution_count": null,
   "id": "rational-ethics",
   "metadata": {},
   "outputs": [],
   "source": []
  },
  {
   "cell_type": "code",
   "execution_count": 29,
   "id": "entitled-conference",
   "metadata": {},
   "outputs": [],
   "source": [
    "from dipy.sims.voxel import multi_tensor"
   ]
  },
  {
   "cell_type": "code",
   "execution_count": 212,
   "id": "difficult-receipt",
   "metadata": {},
   "outputs": [],
   "source": [
    "mevals = np.array([[0.001, 0.0005, 0.0005], \n",
    "                   [0.1, 0.01, 0.01]])\n",
    "\n",
    "angles = [(90, 0), (90, 0)]"
   ]
  },
  {
   "cell_type": "code",
   "execution_count": 213,
   "id": "seven-brook",
   "metadata": {},
   "outputs": [],
   "source": [
    "perfusion_fraction = 0.2"
   ]
  },
  {
   "cell_type": "code",
   "execution_count": 214,
   "id": "designed-cleaner",
   "metadata": {},
   "outputs": [],
   "source": [
    "signal = multi_tensor(sim_gtab, mevals=mevals, snr=1000, fractions=[100 * (1-perfusion_fraction), \n",
    "                                                                    perfusion_fraction * 100])[0]"
   ]
  },
  {
   "cell_type": "code",
   "execution_count": 215,
   "id": "chubby-question",
   "metadata": {},
   "outputs": [
    {
     "data": {
      "text/plain": [
       "[<matplotlib.lines.Line2D at 0x7f59eecf8e10>]"
      ]
     },
     "execution_count": 215,
     "metadata": {},
     "output_type": "execute_result"
    },
    {
     "data": {
      "image/png": "[encoded data removed]",
      "text/plain": [
       "<Figure size 432x288 with 1 Axes>"
      ]
     },
     "metadata": {
      "needs_background": "light"
     },
     "output_type": "display_data"
    }
   ],
   "source": [
    "plt.plot(sim_gtab.bvals, signal, 'o')"
   ]
  },
  {
   "cell_type": "code",
   "execution_count": 216,
   "id": "geographic-invitation",
   "metadata": {},
   "outputs": [
    {
     "name": "stderr",
     "output_type": "stream",
     "text": [
      "/srv/conda/envs/notebook/lib/python3.7/site-packages/dipy/reconst/ivim.py:151: UserWarning: Bounds for this fit have been set from experiments and literature survey. To change the bounds, please input your bounds in model definition...\n",
      "  warnings.warn(bounds_warning, UserWarning)\n"
     ]
    }
   ],
   "source": [
    "model = IvimModel(sim_gtab, fit_method=\"trr\")"
   ]
  },
  {
   "cell_type": "code",
   "execution_count": 217,
   "id": "chief-operation",
   "metadata": {},
   "outputs": [],
   "source": [
    "fit = model.fit(signal)"
   ]
  },
  {
   "cell_type": "code",
   "execution_count": 218,
   "id": "wanted-hindu",
   "metadata": {},
   "outputs": [
    {
     "data": {
      "text/plain": [
       "(array(0.00066732), array(0.0302777), array(0.18427975))"
      ]
     },
     "execution_count": 218,
     "metadata": {},
     "output_type": "execute_result"
    }
   ],
   "source": [
    "fit.D, fit.D_star, fit.perfusion_fraction"
   ]
  },
  {
   "cell_type": "code",
   "execution_count": 219,
   "id": "stupid-output",
   "metadata": {},
   "outputs": [],
   "source": [
    "popt, pcov = curve_fit(ivim_tensor, sim_gtab.bvals, signal, p0=np.hstack((beta, Q, Q_star)))"
   ]
  },
  {
   "cell_type": "code",
   "execution_count": 220,
   "id": "wound-termination",
   "metadata": {},
   "outputs": [
    {
     "data": {
      "text/plain": [
       "[<matplotlib.lines.Line2D at 0x7f59ef10eb50>]"
      ]
     },
     "execution_count": 220,
     "metadata": {},
     "output_type": "execute_result"
    },
    {
     "data": {
      "image/png": "[encoded data removed]",
      "text/plain": [
       "<Figure size 432x288 with 1 Axes>"
      ]
     },
     "metadata": {
      "needs_background": "light"
     },
     "output_type": "display_data"
    }
   ],
   "source": [
    "plt.plot(sim_gtab.bvals, ivim_tensor(sim_gtab.bvals, *popt))\n",
    "plt.plot(sim_gtab.bvals, signal, 'o')"
   ]
  },
  {
   "cell_type": "code",
   "execution_count": 221,
   "id": "beneficial-culture",
   "metadata": {},
   "outputs": [
    {
     "data": {
      "text/plain": [
       "0.19976782958728312"
      ]
     },
     "execution_count": 221,
     "metadata": {},
     "output_type": "execute_result"
    }
   ],
   "source": [
    "popt[0]"
   ]
  },
  {
   "cell_type": "code",
   "execution_count": 222,
   "id": "premier-glass",
   "metadata": {},
   "outputs": [],
   "source": [
    "beta_hat = popt[0]\n",
    "Q_hat = from_lower_triangular(np.array(popt[1:7]))\n",
    "Q_star_hat = from_lower_triangular(np.array(popt[7:]))\n"
   ]
  },
  {
   "cell_type": "code",
   "execution_count": 223,
   "id": "afraid-variance",
   "metadata": {},
   "outputs": [
    {
     "data": {
      "text/plain": [
       "(0.19976782958728312,\n",
       " (array([0.00099946, 0.00050105, 0.00050017]),\n",
       "  array([[ 1.00484963e-04, -8.51241620e-01, -5.24773945e-01],\n",
       "         [ 1.06094601e-03,  5.24773743e-01, -8.51241090e-01],\n",
       "         [ 9.99999432e-01, -4.71219895e-04,  9.55853271e-04]])),\n",
       " (array([0.09811848, 0.01066169, 0.01047932]),\n",
       "  array([[-0.99994558,  0.00833672, -0.00627213],\n",
       "         [ 0.00344185,  0.83115799,  0.55602568],\n",
       "         [-0.00984856, -0.55597383,  0.83114145]])))"
      ]
     },
     "execution_count": 223,
     "metadata": {},
     "output_type": "execute_result"
    }
   ],
   "source": [
    "beta_hat, dti.decompose_tensor(Q_hat), dti.decompose_tensor(Q_star_hat)"
   ]
  },
  {
   "cell_type": "code",
   "execution_count": 224,
   "id": "excess-microwave",
   "metadata": {},
   "outputs": [],
   "source": [
    "evals_Q_hat = dti.decompose_tensor(Q_hat)[0]"
   ]
  },
  {
   "cell_type": "code",
   "execution_count": 225,
   "id": "genetic-tolerance",
   "metadata": {},
   "outputs": [
    {
     "data": {
      "text/plain": [
       "0.0006668933790903922"
      ]
     },
     "execution_count": 225,
     "metadata": {},
     "output_type": "execute_result"
    }
   ],
   "source": [
    "np.mean(evals_Q_hat)"
   ]
  },
  {
   "cell_type": "code",
   "execution_count": 226,
   "id": "previous-denmark",
   "metadata": {},
   "outputs": [],
   "source": [
    "evals_Q_star_hat = dti.decompose_tensor(Q_star_hat)[0]"
   ]
  },
  {
   "cell_type": "code",
   "execution_count": 227,
   "id": "israeli-delaware",
   "metadata": {},
   "outputs": [
    {
     "data": {
      "text/plain": [
       "0.039753162491509786"
      ]
     },
     "execution_count": 227,
     "metadata": {},
     "output_type": "execute_result"
    }
   ],
   "source": [
    "np.mean(evals_Q_star_hat)"
   ]
  },
  {
   "cell_type": "code",
   "execution_count": 228,
   "id": "durable-population",
   "metadata": {},
   "outputs": [],
   "source": [
    "pdd_Q_hat = dti.decompose_tensor(Q_hat)[1][0]"
   ]
  },
  {
   "cell_type": "code",
   "execution_count": 229,
   "id": "united-inclusion",
   "metadata": {},
   "outputs": [],
   "source": [
    "pdd_Q_hat_star =  dti.decompose_tensor(Q_star_hat)[1][0]"
   ]
  },
  {
   "cell_type": "code",
   "execution_count": 230,
   "id": "stretch-discovery",
   "metadata": {},
   "outputs": [
    {
     "data": {
      "text/plain": [
       "(array([ 1.00484963e-04, -8.51241620e-01, -5.24773945e-01]),\n",
       " array([-0.99994558,  0.00833672, -0.00627213]))"
      ]
     },
     "execution_count": 230,
     "metadata": {},
     "output_type": "execute_result"
    }
   ],
   "source": [
    "pdd_Q_hat, pdd_Q_hat_star"
   ]
  },
  {
   "cell_type": "code",
   "execution_count": 231,
   "id": "available-subsection",
   "metadata": {},
   "outputs": [
    {
     "data": {
      "text/plain": [
       "90.2237745004345"
      ]
     },
     "execution_count": 231,
     "metadata": {},
     "output_type": "execute_result"
    }
   ],
   "source": [
    "np.rad2deg(np.arccos(np.dot(pdd_Q_hat, pdd_Q_hat_star)))"
   ]
  },
  {
   "cell_type": "code",
   "execution_count": 232,
   "id": "heated-austria",
   "metadata": {},
   "outputs": [
    {
     "data": {
      "text/plain": [
       "0.8820897156383628"
      ]
     },
     "execution_count": 232,
     "metadata": {},
     "output_type": "execute_result"
    }
   ],
   "source": [
    "dti.fractional_anisotropy(evals_Q_star_hat)"
   ]
  },
  {
   "cell_type": "code",
   "execution_count": 233,
   "id": "harmful-immunology",
   "metadata": {},
   "outputs": [
    {
     "data": {
      "text/plain": [
       "0.4072889755488801"
      ]
     },
     "execution_count": 233,
     "metadata": {},
     "output_type": "execute_result"
    }
   ],
   "source": [
    "dti.fractional_anisotropy(evals_Q_hat)"
   ]
  },
  {
   "cell_type": "code",
   "execution_count": 234,
   "id": "southwest-surge",
   "metadata": {},
   "outputs": [
    {
     "data": {
      "text/plain": [
       "0.0006668933790903922"
      ]
     },
     "execution_count": 234,
     "metadata": {},
     "output_type": "execute_result"
    }
   ],
   "source": [
    "dti.mean_diffusivity(evals_Q_hat)"
   ]
  },
  {
   "cell_type": "code",
   "execution_count": 236,
   "id": "pointed-tucson",
   "metadata": {},
   "outputs": [
    {
     "data": {
      "text/plain": [
       "0.0006666666666666666"
      ]
     },
     "execution_count": 236,
     "metadata": {},
     "output_type": "execute_result"
    }
   ],
   "source": [
    "dti.mean_diffusivity(mevals[0])"
   ]
  },
  {
   "cell_type": "code",
   "execution_count": 235,
   "id": "musical-rolling",
   "metadata": {},
   "outputs": [
    {
     "data": {
      "text/plain": [
       "0.039753162491509786"
      ]
     },
     "execution_count": 235,
     "metadata": {},
     "output_type": "execute_result"
    }
   ],
   "source": [
    "dti.mean_diffusivity(evals_Q_star_hat)"
   ]
  },
  {
   "cell_type": "code",
   "execution_count": 238,
   "id": "photographic-chassis",
   "metadata": {},
   "outputs": [
    {
     "data": {
      "text/plain": [
       "0.04"
      ]
     },
     "execution_count": 238,
     "metadata": {},
     "output_type": "execute_result"
    }
   ],
   "source": [
    "dti.mean_diffusivity(mevals[1])"
   ]
  },
  {
   "cell_type": "code",
   "execution_count": null,
   "id": "dutch-consciousness",
   "metadata": {},
   "outputs": [],
   "source": []
  }
 ],
 "metadata": {
  "kernelspec": {
   "display_name": "Python 3",
   "language": "python",
   "name": "python3"
  },
  "language_info": {
   "codemirror_mode": {
    "name": "ipython",
    "version": 3
   },
   "file_extension": ".py",
   "mimetype": "text/x-python",
   "name": "python",
   "nbconvert_exporter": "python",
   "pygments_lexer": "ipython3",
   "version": "3.7.10"
  }
 },
 "nbformat": 4,
 "nbformat_minor": 5
}

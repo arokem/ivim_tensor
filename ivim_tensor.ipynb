{
 "cells": [
  {
   "cell_type": "code",
   "execution_count": 1,
   "id": "static-resort",
   "metadata": {},
   "outputs": [],
   "source": [
    "import matplotlib.pyplot as plt\n",
    "import numpy as np\n",
    "import dipy\n",
    "from dipy.reconst.ivim import IvimModel\n",
    "import dipy.core.gradients as dpg\n",
    "from dipy.core.gradients import gradient_table\n",
    "from dipy.data import get_fnames\n",
    "from dipy.io.gradients import read_bvals_bvecs\n",
    "from dipy.io.image import load_nifti_data"
   ]
  },
  {
   "cell_type": "code",
   "execution_count": 2,
   "id": "plain-football",
   "metadata": {},
   "outputs": [],
   "source": [
    "fraw, fbval, fbvec = get_fnames('ivim')"
   ]
  },
  {
   "cell_type": "code",
   "execution_count": 3,
   "id": "formal-regulation",
   "metadata": {},
   "outputs": [],
   "source": [
    "sim_bvecs = dpg.generate_bvecs(6)"
   ]
  },
  {
   "cell_type": "code",
   "execution_count": 4,
   "id": "fixed-romania",
   "metadata": {},
   "outputs": [],
   "source": [
    "data = load_nifti_data(fraw)\n",
    "bvals, bvecs = read_bvals_bvecs(fbval, fbvec)\n",
    "gtab = gradient_table(bvals, bvecs, b0_threshold=0)"
   ]
  },
  {
   "cell_type": "code",
   "execution_count": 5,
   "id": "eight-mozambique",
   "metadata": {},
   "outputs": [],
   "source": [
    "sim_bvecs = np.vstack([sim_bvecs]* len(gtab.bvals[1:]))"
   ]
  },
  {
   "cell_type": "code",
   "execution_count": 6,
   "id": "comic-broadcast",
   "metadata": {},
   "outputs": [],
   "source": [
    "sim_bvecs = np.vstack([np.array([[0, 0, 0]]), sim_bvecs])"
   ]
  },
  {
   "cell_type": "code",
   "execution_count": 7,
   "id": "compressed-basis",
   "metadata": {},
   "outputs": [],
   "source": [
    "sim_bvals = np.hstack(list([[gtab.bvals[1:][i]] * 6] for i in range(len(gtab.bvals[1:])))).squeeze()"
   ]
  },
  {
   "cell_type": "code",
   "execution_count": 8,
   "id": "continuing-metropolitan",
   "metadata": {},
   "outputs": [],
   "source": [
    "sim_bvals = np.hstack([0, sim_bvals])"
   ]
  },
  {
   "cell_type": "code",
   "execution_count": 9,
   "id": "turned-invite",
   "metadata": {},
   "outputs": [
    {
     "data": {
      "text/plain": [
       "(121,)"
      ]
     },
     "execution_count": 9,
     "metadata": {},
     "output_type": "execute_result"
    }
   ],
   "source": [
    "sim_bvals.shape"
   ]
  },
  {
   "cell_type": "code",
   "execution_count": 10,
   "id": "configured-header",
   "metadata": {},
   "outputs": [
    {
     "data": {
      "text/plain": [
       "(121, 3)"
      ]
     },
     "execution_count": 10,
     "metadata": {},
     "output_type": "execute_result"
    }
   ],
   "source": [
    "sim_bvecs.shape"
   ]
  },
  {
   "cell_type": "code",
   "execution_count": 11,
   "id": "convenient-telescope",
   "metadata": {},
   "outputs": [],
   "source": [
    "sim_gtab = gradient_table(sim_bvals, sim_bvecs, b0_threshold=0)"
   ]
  },
  {
   "cell_type": "markdown",
   "id": "pharmaceutical-cameroon",
   "metadata": {},
   "source": [
    "$\\frac{S}{S_0} = \\beta e^{-b \\theta^t Q^{*}, \\theta} + (1- \\beta) e^{-b \\theta^t Q \\theta}$\n"
   ]
  },
  {
   "cell_type": "code",
   "execution_count": null,
   "id": "handmade-appearance",
   "metadata": {},
   "outputs": [],
   "source": []
  },
  {
   "cell_type": "code",
   "execution_count": null,
   "id": "breathing-manitoba",
   "metadata": {},
   "outputs": [],
   "source": []
  },
  {
   "cell_type": "code",
   "execution_count": 12,
   "id": "subjective-muscle",
   "metadata": {},
   "outputs": [],
   "source": [
    "from dipy.reconst.dti import lower_triangular, from_lower_triangular"
   ]
  },
  {
   "cell_type": "code",
   "execution_count": 13,
   "id": "upper-chain",
   "metadata": {},
   "outputs": [],
   "source": [
    "theta = sim_gtab.bvecs"
   ]
  },
  {
   "cell_type": "code",
   "execution_count": 14,
   "id": "controversial-singer",
   "metadata": {},
   "outputs": [],
   "source": [
    "def ivim_tensor(b, *params): \n",
    "    \"\"\" \n",
    "    \n",
    "    \"\"\"\n",
    "    beta = params[0]\n",
    "    Q = from_lower_triangular(np.array(params[1:7]))\n",
    "    Q_star = from_lower_triangular(np.array(params[7:]))\n",
    "    return beta * np.exp(-b * np.diag(theta @ Q_star @ theta.T)) + (1 - beta) * np.exp(-b * np.diag(theta @ Q @ theta.T))\n",
    "    "
   ]
  },
  {
   "cell_type": "code",
   "execution_count": 15,
   "id": "alpine-forwarding",
   "metadata": {},
   "outputs": [],
   "source": [
    "Q = lower_triangular(np.array([[0.0015, 0, 0], [0, 0.001, 0], [0, 0, 0.001]]))\n",
    "Q_star = 10 * Q\n",
    "\n",
    "#theta = np.array([[1, 0, 0]])\n",
    "beta = 0.2"
   ]
  },
  {
   "cell_type": "code",
   "execution_count": 16,
   "id": "distinct-western",
   "metadata": {},
   "outputs": [
    {
     "data": {
      "text/plain": [
       "13"
      ]
     },
     "execution_count": 16,
     "metadata": {},
     "output_type": "execute_result"
    }
   ],
   "source": [
    "len(np.hstack((beta, Q, Q_star)))"
   ]
  },
  {
   "cell_type": "code",
   "execution_count": 17,
   "id": "metric-editing",
   "metadata": {},
   "outputs": [],
   "source": [
    "params = np.hstack([beta, Q, Q_star])"
   ]
  },
  {
   "cell_type": "code",
   "execution_count": 18,
   "id": "sharing-detroit",
   "metadata": {},
   "outputs": [
    {
     "data": {
      "text/plain": [
       "array([0.0015, 0.    , 0.001 , 0.    , 0.    , 0.001 ])"
      ]
     },
     "execution_count": 18,
     "metadata": {},
     "output_type": "execute_result"
    }
   ],
   "source": [
    "np.array(params[1:7])"
   ]
  },
  {
   "cell_type": "code",
   "execution_count": 19,
   "id": "powerful-morrison",
   "metadata": {},
   "outputs": [],
   "source": [
    "signal = ivim_tensor(sim_gtab.bvals, *params)"
   ]
  },
  {
   "cell_type": "code",
   "execution_count": 20,
   "id": "revolutionary-lightweight",
   "metadata": {},
   "outputs": [],
   "source": [
    "signal = signal+np.random.randn(signal.shape[0]) * 0.05"
   ]
  },
  {
   "cell_type": "code",
   "execution_count": 21,
   "id": "boxed-maldives",
   "metadata": {},
   "outputs": [
    {
     "data": {
      "text/plain": [
       "[<matplotlib.lines.Line2D at 0x7fa5d5ddf3d0>]"
      ]
     },
     "execution_count": 21,
     "metadata": {},
     "output_type": "execute_result"
    },
    {
     "data": {
      "image/png": "[encoded data removed]",
      "text/plain": [
       "<Figure size 432x288 with 1 Axes>"
      ]
     },
     "metadata": {
      "needs_background": "light"
     },
     "output_type": "display_data"
    }
   ],
   "source": [
    "plt.plot(sim_gtab.bvals, signal, 'o')"
   ]
  },
  {
   "cell_type": "code",
   "execution_count": 22,
   "id": "executive-bullet",
   "metadata": {},
   "outputs": [],
   "source": [
    "from scipy.optimize import curve_fit"
   ]
  },
  {
   "cell_type": "code",
   "execution_count": 23,
   "id": "advisory-shock",
   "metadata": {},
   "outputs": [],
   "source": [
    "popt, pcov = curve_fit(ivim_tensor, sim_gtab.bvals, signal, p0=np.hstack((beta, Q, Q_star)))"
   ]
  },
  {
   "cell_type": "code",
   "execution_count": 24,
   "id": "packed-overview",
   "metadata": {},
   "outputs": [
    {
     "data": {
      "text/plain": [
       "array([ 2.32328311e-01,  1.46175110e-03, -1.32937571e-05,  9.20986607e-04,\n",
       "       -5.81476002e-05, -3.59110582e-05,  9.39132216e-04,  1.56095487e-02,\n",
       "        3.65779718e-03,  9.15284980e-03, -1.79205059e-05, -1.92234823e-04,\n",
       "        5.74700058e-03])"
      ]
     },
     "execution_count": 24,
     "metadata": {},
     "output_type": "execute_result"
    }
   ],
   "source": [
    "popt"
   ]
  },
  {
   "cell_type": "code",
   "execution_count": 25,
   "id": "dutch-software",
   "metadata": {},
   "outputs": [
    {
     "data": {
      "text/plain": [
       "[<matplotlib.lines.Line2D at 0x7fa5d3c6d290>]"
      ]
     },
     "execution_count": 25,
     "metadata": {},
     "output_type": "execute_result"
    },
    {
     "data": {
      "image/png": "[encoded data removed]",
      "text/plain": [
       "<Figure size 432x288 with 1 Axes>"
      ]
     },
     "metadata": {
      "needs_background": "light"
     },
     "output_type": "display_data"
    }
   ],
   "source": [
    "plt.plot(sim_gtab.bvals, signal, 'o')\n",
    "plt.plot(sim_gtab.bvals, ivim_tensor(sim_gtab.bvals, *popt))"
   ]
  },
  {
   "cell_type": "code",
   "execution_count": 26,
   "id": "developed-candidate",
   "metadata": {},
   "outputs": [],
   "source": [
    "beta_hat = popt[0]\n",
    "Q_hat = from_lower_triangular(np.array(popt[1:7]))\n",
    "Q_star_hat = from_lower_triangular(np.array(popt[7:]))\n"
   ]
  },
  {
   "cell_type": "code",
   "execution_count": 27,
   "id": "passing-massachusetts",
   "metadata": {},
   "outputs": [],
   "source": [
    "from dipy.reconst import dti"
   ]
  },
  {
   "cell_type": "code",
   "execution_count": 28,
   "id": "corresponding-hungarian",
   "metadata": {},
   "outputs": [
    {
     "data": {
      "text/plain": [
       "(0.2323283107116781,\n",
       " (array([0.0014683 , 0.0009644 , 0.00088917]),\n",
       "  array([[-0.99399725,  0.07125846,  0.08301627],\n",
       "         [ 0.01705258, -0.64861277,  0.76092751],\n",
       "         [ 0.10806794,  0.7577755 ,  0.64350417]])),\n",
       " (array([0.01726069, 0.0075184 , 0.00573031]),\n",
       "  array([[-0.91142617, -0.41027367, -0.03127071],\n",
       "         [-0.4113802 ,  0.90707526,  0.0893354 ],\n",
       "         [ 0.00828708, -0.09428677,  0.99551059]])))"
      ]
     },
     "execution_count": 28,
     "metadata": {},
     "output_type": "execute_result"
    }
   ],
   "source": [
    "beta_hat, dti.decompose_tensor(Q_hat), dti.decompose_tensor(Q_star_hat)"
   ]
  },
  {
   "cell_type": "code",
   "execution_count": null,
   "id": "super-cookbook",
   "metadata": {},
   "outputs": [],
   "source": []
  },
  {
   "cell_type": "code",
   "execution_count": 29,
   "id": "innovative-withdrawal",
   "metadata": {},
   "outputs": [],
   "source": [
    "from dipy.sims.voxel import multi_tensor"
   ]
  },
  {
   "cell_type": "code",
   "execution_count": 30,
   "id": "ideal-gamma",
   "metadata": {},
   "outputs": [],
   "source": [
    "mevals = np.array([[0.001, 0.0005, 0.0005], \n",
    "                   [0.1, 0.01, 0.01]])\n",
    "\n",
    "angles = [(90, 0), (90, 0)]"
   ]
  },
  {
   "cell_type": "code",
   "execution_count": 31,
   "id": "conservative-secretary",
   "metadata": {},
   "outputs": [],
   "source": [
    "perfusion_fraction = 0.2"
   ]
  },
  {
   "cell_type": "code",
   "execution_count": 32,
   "id": "better-economy",
   "metadata": {},
   "outputs": [],
   "source": [
    "signal = multi_tensor(sim_gtab, mevals=mevals, snr=1000, fractions=[100 * (1-perfusion_fraction), \n",
    "                                                                    perfusion_fraction * 100])[0]"
   ]
  },
  {
   "cell_type": "code",
   "execution_count": 33,
   "id": "inappropriate-globe",
   "metadata": {},
   "outputs": [
    {
     "data": {
      "text/plain": [
       "[<matplotlib.lines.Line2D at 0x7fa5d3bebd90>]"
      ]
     },
     "execution_count": 33,
     "metadata": {},
     "output_type": "execute_result"
    },
    {
     "data": {
      "image/png": "[encoded data removed]",
      "text/plain": [
       "<Figure size 432x288 with 1 Axes>"
      ]
     },
     "metadata": {
      "needs_background": "light"
     },
     "output_type": "display_data"
    }
   ],
   "source": [
    "plt.plot(sim_gtab.bvals, signal, 'o')"
   ]
  },
  {
   "cell_type": "code",
   "execution_count": 34,
   "id": "separated-interim",
   "metadata": {},
   "outputs": [
    {
     "name": "stderr",
     "output_type": "stream",
     "text": [
      "/srv/conda/envs/notebook/lib/python3.7/site-packages/dipy/reconst/ivim.py:151: UserWarning: Bounds for this fit have been set from experiments and literature survey. To change the bounds, please input your bounds in model definition...\n",
      "  warnings.warn(bounds_warning, UserWarning)\n"
     ]
    }
   ],
   "source": [
    "model = IvimModel(sim_gtab, fit_method=\"trr\")"
   ]
  },
  {
   "cell_type": "code",
   "execution_count": 35,
   "id": "practical-whale",
   "metadata": {},
   "outputs": [],
   "source": [
    "fit = model.fit(signal)"
   ]
  },
  {
   "cell_type": "code",
   "execution_count": 36,
   "id": "engaged-calgary",
   "metadata": {},
   "outputs": [
    {
     "data": {
      "text/plain": [
       "(array(0.00067363), array(0.02950537), array(0.17861453))"
      ]
     },
     "execution_count": 36,
     "metadata": {},
     "output_type": "execute_result"
    }
   ],
   "source": [
    "fit.D, fit.D_star, fit.perfusion_fraction"
   ]
  },
  {
   "cell_type": "code",
   "execution_count": 37,
   "id": "yellow-uncertainty",
   "metadata": {},
   "outputs": [],
   "source": [
    "popt, pcov = curve_fit(ivim_tensor, sim_gtab.bvals, signal, p0=np.hstack((beta, Q, Q_star)))"
   ]
  },
  {
   "cell_type": "code",
   "execution_count": 38,
   "id": "pending-listing",
   "metadata": {},
   "outputs": [
    {
     "data": {
      "text/plain": [
       "[<matplotlib.lines.Line2D at 0x7fa5d3b90910>]"
      ]
     },
     "execution_count": 38,
     "metadata": {},
     "output_type": "execute_result"
    },
    {
     "data": {
      "image/png": "[encoded data removed]",
      "text/plain": [
       "<Figure size 432x288 with 1 Axes>"
      ]
     },
     "metadata": {
      "needs_background": "light"
     },
     "output_type": "display_data"
    }
   ],
   "source": [
    "plt.plot(sim_gtab.bvals, ivim_tensor(sim_gtab.bvals, *popt))\n",
    "plt.plot(sim_gtab.bvals, signal, 'o')"
   ]
  },
  {
   "cell_type": "code",
   "execution_count": 39,
   "id": "sealed-exhibit",
   "metadata": {},
   "outputs": [
    {
     "data": {
      "text/plain": [
       "0.20027379939483542"
      ]
     },
     "execution_count": 39,
     "metadata": {},
     "output_type": "execute_result"
    }
   ],
   "source": [
    "popt[0]"
   ]
  },
  {
   "cell_type": "code",
   "execution_count": 40,
   "id": "ruled-master",
   "metadata": {},
   "outputs": [],
   "source": [
    "beta_hat = popt[0]\n",
    "Q_hat = from_lower_triangular(np.array(popt[1:7]))\n",
    "Q_star_hat = from_lower_triangular(np.array(popt[7:]))\n"
   ]
  },
  {
   "cell_type": "code",
   "execution_count": 41,
   "id": "stock-spare",
   "metadata": {},
   "outputs": [
    {
     "data": {
      "text/plain": [
       "(0.20027379939483542,\n",
       " (array([0.00099912, 0.00050004, 0.00049955]),\n",
       "  array([[-1.13383887e-03,  3.93649564e-01,  9.19259884e-01],\n",
       "         [-1.71467361e-03,  9.19258359e-01, -3.93651026e-01],\n",
       "         [ 9.99997887e-01,  2.02256750e-03,  3.67310339e-04]])),\n",
       " (array([0.09865651, 0.01026793, 0.01000155]),\n",
       "  array([[-9.99999764e-01,  2.26657459e-04, -6.48371577e-04],\n",
       "         [-5.57134973e-04,  2.84402879e-01,  9.58704695e-01],\n",
       "         [ 4.01696313e-04,  9.58704830e-01, -2.84402685e-01]])))"
      ]
     },
     "execution_count": 41,
     "metadata": {},
     "output_type": "execute_result"
    }
   ],
   "source": [
    "beta_hat, dti.decompose_tensor(Q_hat), dti.decompose_tensor(Q_star_hat)"
   ]
  },
  {
   "cell_type": "code",
   "execution_count": 42,
   "id": "architectural-glory",
   "metadata": {},
   "outputs": [],
   "source": [
    "evals_Q_hat = dti.decompose_tensor(Q_hat)[0]"
   ]
  },
  {
   "cell_type": "code",
   "execution_count": 43,
   "id": "cheap-aurora",
   "metadata": {},
   "outputs": [
    {
     "data": {
      "text/plain": [
       "0.0006662382434855677"
      ]
     },
     "execution_count": 43,
     "metadata": {},
     "output_type": "execute_result"
    }
   ],
   "source": [
    "np.mean(evals_Q_hat)"
   ]
  },
  {
   "cell_type": "code",
   "execution_count": 44,
   "id": "scientific-forth",
   "metadata": {},
   "outputs": [],
   "source": [
    "evals_Q_star_hat = dti.decompose_tensor(Q_star_hat)[0]"
   ]
  },
  {
   "cell_type": "code",
   "execution_count": 45,
   "id": "circular-belize",
   "metadata": {},
   "outputs": [
    {
     "data": {
      "text/plain": [
       "0.03964199692310323"
      ]
     },
     "execution_count": 45,
     "metadata": {},
     "output_type": "execute_result"
    }
   ],
   "source": [
    "np.mean(evals_Q_star_hat)"
   ]
  },
  {
   "cell_type": "code",
   "execution_count": 46,
   "id": "offshore-efficiency",
   "metadata": {},
   "outputs": [],
   "source": [
    "pdd_Q_hat = dti.decompose_tensor(Q_hat)[1][0]"
   ]
  },
  {
   "cell_type": "code",
   "execution_count": 47,
   "id": "supported-thirty",
   "metadata": {},
   "outputs": [],
   "source": [
    "pdd_Q_hat_star =  dti.decompose_tensor(Q_star_hat)[1][0]"
   ]
  },
  {
   "cell_type": "code",
   "execution_count": 48,
   "id": "prescription-crossing",
   "metadata": {},
   "outputs": [
    {
     "data": {
      "text/plain": [
       "(array([-0.00113384,  0.39364956,  0.91925988]),\n",
       " array([-9.99999764e-01,  2.26657459e-04, -6.48371577e-04]))"
      ]
     },
     "execution_count": 48,
     "metadata": {},
     "output_type": "execute_result"
    }
   ],
   "source": [
    "pdd_Q_hat, pdd_Q_hat_star"
   ]
  },
  {
   "cell_type": "code",
   "execution_count": 49,
   "id": "biblical-bachelor",
   "metadata": {},
   "outputs": [
    {
     "data": {
      "text/plain": [
       "89.96407323886942"
      ]
     },
     "execution_count": 49,
     "metadata": {},
     "output_type": "execute_result"
    }
   ],
   "source": [
    "np.rad2deg(np.arccos(np.dot(pdd_Q_hat, pdd_Q_hat_star)))"
   ]
  },
  {
   "cell_type": "code",
   "execution_count": 50,
   "id": "honest-stack",
   "metadata": {},
   "outputs": [
    {
     "data": {
      "text/plain": [
       "0.8879523164336712"
      ]
     },
     "execution_count": 50,
     "metadata": {},
     "output_type": "execute_result"
    }
   ],
   "source": [
    "dti.fractional_anisotropy(evals_Q_star_hat)"
   ]
  },
  {
   "cell_type": "code",
   "execution_count": 51,
   "id": "recovered-whale",
   "metadata": {},
   "outputs": [
    {
     "data": {
      "text/plain": [
       "0.40798743090444745"
      ]
     },
     "execution_count": 51,
     "metadata": {},
     "output_type": "execute_result"
    }
   ],
   "source": [
    "dti.fractional_anisotropy(evals_Q_hat)"
   ]
  },
  {
   "cell_type": "code",
   "execution_count": 52,
   "id": "rental-boring",
   "metadata": {},
   "outputs": [
    {
     "data": {
      "text/plain": [
       "0.0006662382434855677"
      ]
     },
     "execution_count": 52,
     "metadata": {},
     "output_type": "execute_result"
    }
   ],
   "source": [
    "dti.mean_diffusivity(evals_Q_hat)"
   ]
  },
  {
   "cell_type": "code",
   "execution_count": 53,
   "id": "creative-prophet",
   "metadata": {},
   "outputs": [
    {
     "data": {
      "text/plain": [
       "0.0006666666666666666"
      ]
     },
     "execution_count": 53,
     "metadata": {},
     "output_type": "execute_result"
    }
   ],
   "source": [
    "dti.mean_diffusivity(mevals[0])"
   ]
  },
  {
   "cell_type": "code",
   "execution_count": 54,
   "id": "integral-college",
   "metadata": {},
   "outputs": [
    {
     "data": {
      "text/plain": [
       "0.03964199692310323"
      ]
     },
     "execution_count": 54,
     "metadata": {},
     "output_type": "execute_result"
    }
   ],
   "source": [
    "dti.mean_diffusivity(evals_Q_star_hat)"
   ]
  },
  {
   "cell_type": "code",
   "execution_count": 55,
   "id": "generous-exhibit",
   "metadata": {},
   "outputs": [
    {
     "data": {
      "text/plain": [
       "0.04"
      ]
     },
     "execution_count": 55,
     "metadata": {},
     "output_type": "execute_result"
    }
   ],
   "source": [
    "dti.mean_diffusivity(mevals[1])"
   ]
  },
  {
   "cell_type": "code",
   "execution_count": 56,
   "id": "compliant-typing",
   "metadata": {},
   "outputs": [],
   "source": [
    "from dipy.reconst.base import ReconstFit, ReconstModel\n",
    "from dipy.reconst.multi_voxel import multi_voxel_fit\n",
    "from dipy.reconst.dti import TensorModel, TensorFit, decompose_tensor, from_lower_triangular"
   ]
  },
  {
   "cell_type": "code",
   "execution_count": 70,
   "id": "sweet-vietnam",
   "metadata": {},
   "outputs": [],
   "source": [
    "class IvimTensorModel(ReconstModel):\n",
    "    def __init__(self, gtab, split_b_D=400.0, bounds=[]):\n",
    "        ReconstModel.__init__(self, gtab)\n",
    "        self.split_b_D = split_b_D\n",
    "        self.bounds = bounds\n",
    "        # Use two separate tensors for initial estimation:\n",
    "        self.dti = TensorModel(self.gtab)\n",
    "        \n",
    "        self.split_idx = np.where(gtab.bvals >= self.split_b_D)    \n",
    "        self.perfusion_gtab = gradient_table(self.gtab.bvals[self.split_idx],\n",
    "                                             self.gtab.bvecs[self.split_idx])\n",
    "        \n",
    "        self.perfusion_model = TensorModel(self.perfusion_gtab)\n",
    "\n",
    "    def model_eq1(self, b, *params): \n",
    "        \"\"\" \n",
    "        The model with fixed perfusion fraction\n",
    "        \"\"\"\n",
    "        beta = self.perfusion_fraction\n",
    "        Q = from_lower_triangular(np.array(params[:6]))\n",
    "        Q_star = from_lower_triangular(np.array(params[6:]))\n",
    "        return beta * np.exp(-b * np.diag(theta @ Q_star @ theta.T)) + (1 - beta) * np.exp(-b * np.diag(theta @ Q @ theta.T))\n",
    "\n",
    "    def model_eq2(self, b, *params): \n",
    "        \"\"\" \n",
    "        The full model, including perfusion fraction\n",
    "        \"\"\"\n",
    "        beta = params[0]\n",
    "        Q = from_lower_triangular(np.array(params[1:7]))\n",
    "        Q_star = from_lower_triangular(np.array(params[7:]))\n",
    "        return beta * np.exp(-b * np.diag(theta @ Q_star @ theta.T)) + (1 - beta) * np.exp(-b * np.diag(theta @ Q @ theta.T))\n",
    "\n",
    "    \n",
    "    def fit(self, data, mask=None):\n",
    "        \"\"\" \n",
    "        For now, we assume that data is from a single voxel, and we'll generalize later\n",
    "        \"\"\"\n",
    "        # Fit a tensor to the entire data and data just up to split_b_D\n",
    "        self.dti_fit = self.dti.fit(data, mask)\n",
    "        self.q_initial = lower_triangular(self.dti_fit.quadratic_form)\n",
    "        \n",
    "        perfusion_data = data[self.split_idx]\n",
    "        self.perfusion_fit = self.perfusion_model.fit(perfusion_data, mask)\n",
    "        self.q_star_initial = lower_triangular(self.perfusion_fit.quadratic_form).squeeze()\n",
    "        fractions_for_probe = np.arange(0, 0.5, 0.05)\n",
    "        self.fits = np.zeros((fractions_for_probe.shape[0], 12))\n",
    "        self.errs = np.zeros(fractions_for_probe.shape[0])\n",
    "        self.beta = np.zeros(fractions_for_probe.shape[0])\n",
    "        initial = np.hstack([self.q_initial, self.q_star_initial])\n",
    "        # Instead of estimating perfusion_fraction directly, we start by finding \n",
    "        # a perfusion fraction that works for the other parameters\n",
    "        for ii, perfusion_fraction in enumerate(fractions_for_probe):\n",
    "            self.perfusion_fraction = perfusion_fraction\n",
    "            popt, pcov = curve_fit(self.model_eq1,  self.gtab.bvals, data, p0=initial)\n",
    "            err = np.sum(np.power(self.model_eq1(self.gtab.bvals, *popt) - data, 2))\n",
    "            self.fits[ii] = popt\n",
    "            self.errs[ii] = err\n",
    "            self.beta[ii] = perfusion_fraction\n",
    "\n",
    "        min_err = np.argmin(self.errs)\n",
    "        initial = np.hstack([self.beta[min_err], self.fits[min_err]])\n",
    "        popt, pcov = curve_fit(self.model_eq2,  self.gtab.bvals, data, p0=initial, \n",
    "                               bounds=((0, -np.inf, -np.inf, -np.inf, -np.inf, -np.inf, -np.inf, -np.inf, -np.inf, -np.inf, -np.inf, -np.inf, -np.inf), \n",
    "                                       (1, np.inf, np.inf, np.inf, np.inf, np.inf, np.inf, np.inf, np.inf, np.inf, np.inf, np.inf, np.inf)))\n",
    "        return IvimTensorFit(self, popt)\n",
    "        \n",
    "                            \n",
    "class IvimTensorFit(ReconstFit):\n",
    "    def __init__(self, model, model_params):\n",
    "        self.model = model\n",
    "        self.model_params = model_params\n",
    "        tensor_evals, tensor_evecs = decompose_tensor(from_lower_triangular(self.model_params[1:7]))\n",
    "        tensor_params = np.hstack([tensor_evals, tensor_evecs.ravel()])\n",
    "        perfusion_evals, perfusion_evecs = decompose_tensor(from_lower_triangular(self.model_params[7:]))\n",
    "        perfusion_params = np.hstack([perfusion_evals, perfusion_evecs.ravel()])\n",
    "        self.tensor_fit = TensorFit(self.model.dti, tensor_params)\n",
    "        self.perfusion_fit = TensorFit(self.model.perfusion_model, perfusion_params)\n",
    "        self.perfusion_fraction = np.min([model_params[0], 1 - model_params[0]])"
   ]
  },
  {
   "cell_type": "code",
   "execution_count": 71,
   "id": "ideal-bubble",
   "metadata": {},
   "outputs": [],
   "source": [
    "itm = IvimTensorModel(sim_gtab)"
   ]
  },
  {
   "cell_type": "code",
   "execution_count": 72,
   "id": "brutal-parent",
   "metadata": {},
   "outputs": [
    {
     "data": {
      "text/plain": [
       "((121,), (121,))"
      ]
     },
     "execution_count": 72,
     "metadata": {},
     "output_type": "execute_result"
    }
   ],
   "source": [
    "signal.shape, sim_gtab.bvals.shape"
   ]
  },
  {
   "cell_type": "code",
   "execution_count": 73,
   "id": "worthy-capital",
   "metadata": {},
   "outputs": [],
   "source": [
    "itf = itm.fit(signal)"
   ]
  },
  {
   "cell_type": "code",
   "execution_count": 74,
   "id": "accredited-wedding",
   "metadata": {},
   "outputs": [
    {
     "data": {
      "text/plain": [
       "(0.4080220344940902, 0.8914339165106906)"
      ]
     },
     "execution_count": 74,
     "metadata": {},
     "output_type": "execute_result"
    }
   ],
   "source": [
    "itf.tensor_fit.fa, itf.perfusion_fit.fa"
   ]
  },
  {
   "cell_type": "code",
   "execution_count": 75,
   "id": "silver-holiday",
   "metadata": {},
   "outputs": [
    {
     "data": {
      "text/plain": [
       "(array([0.00100085, 0.00050088, 0.00050039]),\n",
       " array([0.10033515, 0.01005416, 0.00996102]),\n",
       " 0.19992651812163367)"
      ]
     },
     "execution_count": 75,
     "metadata": {},
     "output_type": "execute_result"
    }
   ],
   "source": [
    "itf.tensor_fit.evals, itf.perfusion_fit.evals, itf.perfusion_fraction"
   ]
  },
  {
   "cell_type": "code",
   "execution_count": 76,
   "id": "tropical-allowance",
   "metadata": {},
   "outputs": [
    {
     "data": {
      "text/plain": [
       "(array([[-0.00143266, -0.00235472,  0.9999962 ]]),\n",
       " array([[-9.99998257e-01, -9.58438838e-04, -1.60228438e-03]]))"
      ]
     },
     "execution_count": 76,
     "metadata": {},
     "output_type": "execute_result"
    }
   ],
   "source": [
    "itf.tensor_fit.directions, itf.perfusion_fit.directions"
   ]
  },
  {
   "cell_type": "code",
   "execution_count": 64,
   "id": "pharmaceutical-equipment",
   "metadata": {},
   "outputs": [
    {
     "name": "stderr",
     "output_type": "stream",
     "text": [
      "/srv/conda/envs/notebook/lib/python3.7/site-packages/ipykernel_launcher.py:22: RuntimeWarning: overflow encountered in exp\n",
      "/srv/conda/envs/notebook/lib/python3.7/site-packages/ipykernel_launcher.py:31: RuntimeWarning: overflow encountered in exp\n",
      "/srv/conda/envs/notebook/lib/python3.7/site-packages/scipy/optimize/_lsq/common.py:234: RuntimeWarning: overflow encountered in double_scalars\n",
      "  ratio = actual_reduction / predicted_reduction\n"
     ]
    }
   ],
   "source": [
    "snrs = [1, 10, 20, 50, 100, 1000]\n",
    "perfusion_fractions = [0.01, 0.05, 0.1, 0.15, 0.2]\n",
    "reps = 50\n",
    "\n",
    "fracs_discovered = np.zeros((len(snrs), len(perfusion_fractions), reps))\n",
    "\n",
    "for ii in range(len(snrs)):\n",
    "    snr = snrs[ii]\n",
    "    for jj in range(len(perfusion_fractions)):\n",
    "        perfusion_fraction = perfusion_fractions[jj]\n",
    "        for rep in range(reps):\n",
    "            signal = multi_tensor(sim_gtab, mevals=mevals, snr=snr, \n",
    "                                  fractions=[100 * (1-perfusion_fraction), \n",
    "                                  perfusion_fraction * 100])[0]\n",
    "            try:\n",
    "                itf = itm.fit(signal)\n",
    "                fracs_discovered[ii, jj, rep] = itf.perfusion_fraction\n",
    "            except RuntimeError:\n",
    "                fracs_discovered[ii, jj, rep] = itf.perfusion_fraction\n",
    "            "
   ]
  },
  {
   "cell_type": "code",
   "execution_count": 65,
   "id": "reported-disease",
   "metadata": {},
   "outputs": [
    {
     "data": {
      "image/png": "[encoded data removed]",
      "text/plain": [
       "<Figure size 432x288 with 1 Axes>"
      ]
     },
     "metadata": {
      "needs_background": "light"
     },
     "output_type": "display_data"
    },
    {
     "data": {
      "image/png": "[encoded data removed]",
      "text/plain": [
       "<Figure size 432x288 with 1 Axes>"
      ]
     },
     "metadata": {
      "needs_background": "light"
     },
     "output_type": "display_data"
    },
    {
     "data": {
      "image/png": "[encoded data removed]",
      "text/plain": [
       "<Figure size 432x288 with 1 Axes>"
      ]
     },
     "metadata": {
      "needs_background": "light"
     },
     "output_type": "display_data"
    },
    {
     "data": {
      "image/png": "[encoded data removed]",
      "text/plain": [
       "<Figure size 432x288 with 1 Axes>"
      ]
     },
     "metadata": {
      "needs_background": "light"
     },
     "output_type": "display_data"
    },
    {
     "data": {
      "image/png": "[encoded data removed]",
      "text/plain": [
       "<Figure size 432x288 with 1 Axes>"
      ]
     },
     "metadata": {
      "needs_background": "light"
     },
     "output_type": "display_data"
    },
    {
     "data": {
      "image/png": "[encoded data removed]",
      "text/plain": [
       "<Figure size 432x288 with 1 Axes>"
      ]
     },
     "metadata": {
      "needs_background": "light"
     },
     "output_type": "display_data"
    }
   ],
   "source": [
    "for ii in range(len(snrs)):\n",
    "    fig, ax = plt.subplots()\n",
    "    ax.errorbar(perfusion_fractions, np.mean(fracs_discovered, -1)[ii], yerr=np.std(1-fracs_discovered, -1)[ii])"
   ]
  },
  {
   "cell_type": "code",
   "execution_count": 66,
   "id": "dressed-blind",
   "metadata": {},
   "outputs": [
    {
     "data": {
      "text/plain": [
       "array([0.31700968, 0.29676661, 0.1548834 , 0.29765632, 0.24930976])"
      ]
     },
     "execution_count": 66,
     "metadata": {},
     "output_type": "execute_result"
    }
   ],
   "source": [
    "np.mean(fracs_discovered, -1)[1]"
   ]
  },
  {
   "cell_type": "code",
   "execution_count": 67,
   "id": "infectious-moldova",
   "metadata": {},
   "outputs": [
    {
     "data": {
      "text/plain": [
       "array([[0.0439997 , 0.05499793, 0.06099926, 0.07199929, 0.03199985],\n",
       "       [0.31700968, 0.29676661, 0.1548834 , 0.29765632, 0.24930976],\n",
       "       [0.28991572, 0.25576273, 0.15808772, 0.32391938, 0.2824795 ],\n",
       "       [0.3543019 , 0.29322726, 0.25305879, 0.20597297, 0.21162853],\n",
       "       [0.31846252, 0.40078021, 0.33252097, 0.15712983, 0.20026915],\n",
       "       [0.25517343, 0.49099749, 0.5       , 0.1499575 , 0.19995683]])"
      ]
     },
     "execution_count": 67,
     "metadata": {},
     "output_type": "execute_result"
    }
   ],
   "source": [
    "np.mean(fracs_discovered, -1)"
   ]
  },
  {
   "cell_type": "code",
   "execution_count": 68,
   "id": "finished-argument",
   "metadata": {},
   "outputs": [
    {
     "data": {
      "text/plain": [
       "0.19992651812326004"
      ]
     },
     "execution_count": 68,
     "metadata": {},
     "output_type": "execute_result"
    }
   ],
   "source": [
    "itf.perfusion_fraction"
   ]
  },
  {
   "cell_type": "code",
   "execution_count": 69,
   "id": "difficult-pierre",
   "metadata": {},
   "outputs": [
    {
     "data": {
      "text/plain": [
       "array([0.5, 0.5, 0.5, 0.5, 0.5, 0.5, 0.5, 0.5, 0.5, 0.5, 0.5, 0.5, 0.5,\n",
       "       0.5, 0.5, 0.5, 0.5, 0.5, 0.5, 0.5, 0.5, 0.5, 0.5, 0.5, 0.5, 0.5,\n",
       "       0.5, 0.5, 0.5, 0.5, 0.5, 0.5, 0.5, 0.5, 0.5, 0.5, 0.5, 0.5, 0.5,\n",
       "       0.5, 0.5, 0.5, 0.5, 0.5, 0.5, 0.5, 0.5, 0.5, 0.5, 0.5])"
      ]
     },
     "execution_count": 69,
     "metadata": {},
     "output_type": "execute_result"
    }
   ],
   "source": [
    "fracs_discovered[-1][-3]"
   ]
  },
  {
   "cell_type": "code",
   "execution_count": null,
   "id": "unexpected-beatles",
   "metadata": {},
   "outputs": [],
   "source": []
  }
 ],
 "metadata": {
  "kernelspec": {
   "display_name": "Python 3",
   "language": "python",
   "name": "python3"
  },
  "language_info": {
   "codemirror_mode": {
    "name": "ipython",
    "version": 3
   },
   "file_extension": ".py",
   "mimetype": "text/x-python",
   "name": "python",
   "nbconvert_exporter": "python",
   "pygments_lexer": "ipython3",
   "version": "3.7.10"
  }
 },
 "nbformat": 4,
 "nbformat_minor": 5
}

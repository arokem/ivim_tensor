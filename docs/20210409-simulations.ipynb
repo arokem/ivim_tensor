{
 "cells": [
  {
   "cell_type": "code",
   "execution_count": 1,
   "id": "scenic-sessions",
   "metadata": {},
   "outputs": [],
   "source": [
    "import numpy as np\n",
    "import matplotlib.pyplot as plt"
   ]
  },
  {
   "cell_type": "code",
   "execution_count": 2,
   "id": "local-missile",
   "metadata": {},
   "outputs": [],
   "source": [
    "from dipy.core.gradients import gradient_table"
   ]
  },
  {
   "cell_type": "code",
   "execution_count": 3,
   "id": "ruled-galaxy",
   "metadata": {},
   "outputs": [],
   "source": [
    "bvals = np.array([  10.,   40.,   60.,   80.,  100.,  150.,  200.,  300.,  500.,\n",
    "         700.,  800.,  900., 1000.,   10.,   40.,   60.,   80.,  100.,\n",
    "         150.,  200.,  300.,  500.,  700.,  800.,  900., 1000.,   10.,\n",
    "          40.,   60.,   80.,  100.,  150.,  200.,  300.,  500.,  700.,\n",
    "         800.,  900., 1000.,   10.,   40.,   60.,   80.,  100.,  150.,\n",
    "         200.,  300.,  500.,  700.,  800.,  900., 1000.,   10.,   40.,\n",
    "          60.,   80.,  100.,  150.,  200.,  300.,  500.,  700.,  800.,\n",
    "         900., 1000.,   10.,   40.,   60.,   80.,  100.,  150.,  200.,\n",
    "         300.,  500.,  700.,  800.,  900., 1000.,    0.])"
   ]
  },
  {
   "cell_type": "code",
   "execution_count": 4,
   "id": "intended-evanescence",
   "metadata": {},
   "outputs": [],
   "source": [
    "bvecs = np.array([[-1.00000e+00, -3.40515e-09,  0.00000e+00],\n",
    "        [-1.00000e+00, -3.40515e-09,  0.00000e+00],\n",
    "        [-1.00000e+00, -3.40515e-09,  0.00000e+00],\n",
    "        [-1.00000e+00, -3.40515e-09,  0.00000e+00],\n",
    "        [-1.00000e+00, -3.40515e-09,  0.00000e+00],\n",
    "        [-1.00000e+00, -3.40515e-09,  0.00000e+00],\n",
    "        [-1.00000e+00, -3.40515e-09,  0.00000e+00],\n",
    "        [-1.00000e+00, -3.40515e-09,  0.00000e+00],\n",
    "        [-1.00000e+00, -3.40515e-09,  0.00000e+00],\n",
    "        [-1.00000e+00, -3.40515e-09,  0.00000e+00],\n",
    "        [-1.00000e+00, -3.40515e-09,  0.00000e+00],\n",
    "        [-1.00000e+00, -3.40515e-09,  0.00000e+00],\n",
    "        [-1.00000e+00, -3.40515e-09,  0.00000e+00],\n",
    "        [ 3.40515e-09,  1.00000e+00,  0.00000e+00],\n",
    "        [ 3.40515e-09,  1.00000e+00,  0.00000e+00],\n",
    "        [ 3.40515e-09,  1.00000e+00,  0.00000e+00],\n",
    "        [ 3.40515e-09,  1.00000e+00,  0.00000e+00],\n",
    "        [ 3.40515e-09,  1.00000e+00,  0.00000e+00],\n",
    "        [ 3.40515e-09,  1.00000e+00,  0.00000e+00],\n",
    "        [ 3.40515e-09,  1.00000e+00,  0.00000e+00],\n",
    "        [ 3.40515e-09,  1.00000e+00,  0.00000e+00],\n",
    "        [ 3.40515e-09,  1.00000e+00,  0.00000e+00],\n",
    "        [ 3.40515e-09,  1.00000e+00,  0.00000e+00],\n",
    "        [ 3.40515e-09,  1.00000e+00,  0.00000e+00],\n",
    "        [ 3.40515e-09,  1.00000e+00,  0.00000e+00],\n",
    "        [ 3.40515e-09,  1.00000e+00,  0.00000e+00],\n",
    "        [ 0.00000e+00,  0.00000e+00,  1.00000e+00],\n",
    "        [ 0.00000e+00,  0.00000e+00,  1.00000e+00],\n",
    "        [ 0.00000e+00,  0.00000e+00,  1.00000e+00],\n",
    "        [ 0.00000e+00,  0.00000e+00,  1.00000e+00],\n",
    "        [ 0.00000e+00,  0.00000e+00,  1.00000e+00],\n",
    "        [ 0.00000e+00,  0.00000e+00,  1.00000e+00],\n",
    "        [ 0.00000e+00,  0.00000e+00,  1.00000e+00],\n",
    "        [ 0.00000e+00,  0.00000e+00,  1.00000e+00],\n",
    "        [ 0.00000e+00,  0.00000e+00,  1.00000e+00],\n",
    "        [ 0.00000e+00,  0.00000e+00,  1.00000e+00],\n",
    "        [ 0.00000e+00,  0.00000e+00,  1.00000e+00],\n",
    "        [ 0.00000e+00,  0.00000e+00,  1.00000e+00],\n",
    "        [ 0.00000e+00,  0.00000e+00,  1.00000e+00],\n",
    "        [ 7.04358e-01, -8.80947e-02, -7.04358e-01],\n",
    "        [ 7.04358e-01, -8.80947e-02, -7.04358e-01],\n",
    "        [ 7.04358e-01, -8.80947e-02, -7.04358e-01],\n",
    "        [ 7.04358e-01, -8.80947e-02, -7.04358e-01],\n",
    "        [ 7.04358e-01, -8.80947e-02, -7.04358e-01],\n",
    "        [ 7.04358e-01, -8.80947e-02, -7.04358e-01],\n",
    "        [ 7.04358e-01, -8.80947e-02, -7.04358e-01],\n",
    "        [ 7.04358e-01, -8.80947e-02, -7.04358e-01],\n",
    "        [ 7.04358e-01, -8.80947e-02, -7.04358e-01],\n",
    "        [ 7.04358e-01, -8.80947e-02, -7.04358e-01],\n",
    "        [ 7.04358e-01, -8.80947e-02, -7.04358e-01],\n",
    "        [ 7.04358e-01, -8.80947e-02, -7.04358e-01],\n",
    "        [ 7.04358e-01, -8.80947e-02, -7.04358e-01],\n",
    "        [-7.04358e-01,  7.04358e-01,  8.80947e-02],\n",
    "        [-7.04358e-01,  7.04358e-01,  8.80947e-02],\n",
    "        [-7.04358e-01,  7.04358e-01,  8.80947e-02],\n",
    "        [-7.04358e-01,  7.04358e-01,  8.80947e-02],\n",
    "        [-7.04358e-01,  7.04358e-01,  8.80947e-02],\n",
    "        [-7.04358e-01,  7.04358e-01,  8.80947e-02],\n",
    "        [-7.04358e-01,  7.04358e-01,  8.80947e-02],\n",
    "        [-7.04358e-01,  7.04358e-01,  8.80947e-02],\n",
    "        [-7.04358e-01,  7.04358e-01,  8.80947e-02],\n",
    "        [-7.04358e-01,  7.04358e-01,  8.80947e-02],\n",
    "        [-7.04358e-01,  7.04358e-01,  8.80947e-02],\n",
    "        [-7.04358e-01,  7.04358e-01,  8.80947e-02],\n",
    "        [-7.04358e-01,  7.04358e-01,  8.80947e-02],\n",
    "        [-8.80947e-02,  7.04358e-01,  7.04358e-01],\n",
    "        [-8.80947e-02,  7.04358e-01,  7.04358e-01],\n",
    "        [-8.80947e-02,  7.04358e-01,  7.04358e-01],\n",
    "        [-8.80947e-02,  7.04358e-01,  7.04358e-01],\n",
    "        [-8.80947e-02,  7.04358e-01,  7.04358e-01],\n",
    "        [-8.80947e-02,  7.04358e-01,  7.04358e-01],\n",
    "        [-8.80947e-02,  7.04358e-01,  7.04358e-01],\n",
    "        [-8.80947e-02,  7.04358e-01,  7.04358e-01],\n",
    "        [-8.80947e-02,  7.04358e-01,  7.04358e-01],\n",
    "        [-8.80947e-02,  7.04358e-01,  7.04358e-01],\n",
    "        [-8.80947e-02,  7.04358e-01,  7.04358e-01],\n",
    "        [-8.80947e-02,  7.04358e-01,  7.04358e-01],\n",
    "        [-8.80947e-02,  7.04358e-01,  7.04358e-01],\n",
    "        [ 0.00000e+00,  0.00000e+00,  0.00000e+00]])"
   ]
  },
  {
   "cell_type": "code",
   "execution_count": 5,
   "id": "compressed-invalid",
   "metadata": {},
   "outputs": [],
   "source": [
    "gtab = gradient_table(bvals, bvecs, b0_threshold=0)"
   ]
  },
  {
   "cell_type": "code",
   "execution_count": 6,
   "id": "aerial-principle",
   "metadata": {},
   "outputs": [],
   "source": [
    "from dipy.sims.voxel import multi_tensor"
   ]
  },
  {
   "cell_type": "code",
   "execution_count": 7,
   "id": "hazardous-verification",
   "metadata": {},
   "outputs": [],
   "source": [
    "mevals = np.array([[0.001, 0.0005, 0.0005], \n",
    "                   [0.1, 0.01, 0.01]])\n",
    "\n",
    "angles = [(90, 0), (90, 0)]"
   ]
  },
  {
   "cell_type": "code",
   "execution_count": 8,
   "id": "suited-rainbow",
   "metadata": {},
   "outputs": [],
   "source": [
    "from ivim_tensor import IvimTensorModel"
   ]
  },
  {
   "cell_type": "code",
   "execution_count": 9,
   "id": "median-meeting",
   "metadata": {},
   "outputs": [
    {
     "name": "stderr",
     "output_type": "stream",
     "text": [
      "/srv/conda/envs/notebook/lib/python3.7/site-packages/dipy/reconst/ivim.py:151: UserWarning: Bounds for this fit have been set from experiments and literature survey. To change the bounds, please input your bounds in model definition...\n",
      "  warnings.warn(bounds_warning, UserWarning)\n"
     ]
    }
   ],
   "source": [
    "itm = IvimTensorModel(gtab)"
   ]
  },
  {
   "cell_type": "code",
   "execution_count": 10,
   "id": "accepted-malaysia",
   "metadata": {},
   "outputs": [],
   "source": [
    "betas = np.arange(0.001, 0.3, 0.05)"
   ]
  },
  {
   "cell_type": "code",
   "execution_count": 11,
   "id": "clean-chapter",
   "metadata": {},
   "outputs": [],
   "source": [
    "n_sims = 100"
   ]
  },
  {
   "cell_type": "code",
   "execution_count": 12,
   "id": "broadband-blond",
   "metadata": {},
   "outputs": [],
   "source": [
    "pf = np.zeros((len(betas), n_sims))\n",
    "sim = np.zeros((len(betas), n_sims, gtab.bvals.shape[0]))\n",
    "\n",
    "for ii in range(len(betas)):\n",
    "    for nn in range(n_sims):\n",
    "        sim[ii, nn] = multi_tensor(gtab, mevals=mevals, snr=20, fractions=[100 * (1-betas[ii]), \n",
    "                                                                     betas[ii] * 100])[0]\n",
    "#pf[ii, nn] = (itf.perfusion_fraction)"
   ]
  },
  {
   "cell_type": "code",
   "execution_count": 13,
   "id": "ambient-faith",
   "metadata": {},
   "outputs": [
    {
     "name": "stderr",
     "output_type": "stream",
     "text": [
      "/srv/conda/envs/notebook/lib/python3.7/site-packages/dipy/reconst/ivim.py:434: UserWarning: x0 obtained from linear fitting is not feasibile as initial guess for leastsq while estimating f and D_star. Using parameters from the linear fit.\n",
      "  warnings.warn(warningMsg, UserWarning)\n",
      "/srv/conda/envs/notebook/lib/python3.7/site-packages/dipy/reconst/ivim.py:507: UserWarning: x0 is unfeasible for leastsq fitting. Returning x0 values from the linear fit.\n",
      "  warnings.warn(warningMsg, UserWarning)\n",
      "/srv/conda/envs/notebook/lib/python3.7/site-packages/dipy/reconst/ivim.py:344: UserWarning: Bounds are violated for leastsq fitting. Returning parameters from linear fit\n",
      "  warnings.warn(warningMsg, UserWarning)\n",
      "  0%|          | 0/600 [00:00<?, ?it/s]/srv/conda/envs/notebook/lib/python3.7/site-packages/scipy/optimize/_lsq/least_squares.py:112: UserWarning: Setting `xtol` below the machine epsilon (2.22e-16) effectively disables the corresponding termination condition.\n",
      "  .format(name, EPS))\n",
      "100%|██████████| 600/600 [05:04<00:00,  1.97it/s]  \n"
     ]
    }
   ],
   "source": [
    "itf = itm.fit(sim)"
   ]
  },
  {
   "cell_type": "code",
   "execution_count": 14,
   "id": "acquired-entertainment",
   "metadata": {},
   "outputs": [
    {
     "name": "stderr",
     "output_type": "stream",
     "text": [
      "ERROR:root:No traceback has been produced, nothing to debug.\n"
     ]
    }
   ],
   "source": [
    "debug"
   ]
  },
  {
   "cell_type": "code",
   "execution_count": 15,
   "id": "patient-geology",
   "metadata": {},
   "outputs": [
    {
     "data": {
      "text/plain": [
       "(6, 100, 79)"
      ]
     },
     "execution_count": 15,
     "metadata": {},
     "output_type": "execute_result"
    }
   ],
   "source": [
    "sim.shape"
   ]
  },
  {
   "cell_type": "code",
   "execution_count": 16,
   "id": "rolled-naples",
   "metadata": {},
   "outputs": [],
   "source": [
    "pf = np.reshape(itf.perfusion_fraction, sim.shape[:2])"
   ]
  },
  {
   "cell_type": "code",
   "execution_count": 17,
   "id": "possible-jones",
   "metadata": {},
   "outputs": [
    {
     "data": {
      "text/plain": [
       "array([0.02521842, 0.06124097, 0.10461614, 0.15645022, 0.19813009,\n",
       "       0.24984041])"
      ]
     },
     "execution_count": 17,
     "metadata": {},
     "output_type": "execute_result"
    }
   ],
   "source": [
    "np.nanmean(pf, -1)"
   ]
  },
  {
   "cell_type": "code",
   "execution_count": 18,
   "id": "smart-insulin",
   "metadata": {},
   "outputs": [
    {
     "data": {
      "image/png": "[encoded data removed]",
      "text/plain": [
       "<Figure size 432x288 with 1 Axes>"
      ]
     },
     "metadata": {
      "needs_background": "light"
     },
     "output_type": "display_data"
    }
   ],
   "source": [
    "_ = plt.plot(betas, pf, 'o', alpha=0.1)\n",
    "_ = plt.plot(betas, betas, 'k--')"
   ]
  },
  {
   "cell_type": "code",
   "execution_count": 19,
   "id": "through-baseball",
   "metadata": {},
   "outputs": [
    {
     "data": {
      "text/plain": [
       "array([2.30808567e-12, 3.25068204e-02, 4.99263001e-13, 5.02646131e-02,\n",
       "       2.66629890e-02, 5.90981276e-18, 7.41855892e-03, 5.19159745e-17,\n",
       "       5.59530020e-04, 5.74419881e-02, 1.92200404e-14, 1.33512401e-09,\n",
       "       2.86610020e-02, 6.73604480e-02, 2.48768657e-02, 7.75661157e-02,\n",
       "       9.41832668e-19, 1.74538855e-14, 7.69594256e-04, 3.12678584e-15,\n",
       "       3.31604837e-14, 3.49636484e-07, 7.97795602e-03, 3.92760071e-06,\n",
       "       5.56215110e-02, 9.86702429e-03, 8.07069888e-02, 5.61314454e-14,\n",
       "       1.54463436e-01, 1.16149108e-31, 7.98885526e-03, 9.91033250e-04,\n",
       "       5.97345731e-02, 6.12609855e-02, 1.32230194e-12, 1.13355247e-02,\n",
       "       7.41099814e-02, 5.72362543e-02, 7.83942724e-05, 2.96587399e-02,\n",
       "       7.77162097e-02, 3.25177978e-02, 4.97243405e-02, 6.88807868e-02,\n",
       "       2.29291304e-14, 2.59402264e-02, 2.93404528e-02, 5.34203163e-02,\n",
       "       3.53922595e-03, 1.75362427e-16, 3.03987605e-02, 2.61847777e-02,\n",
       "       4.02766760e-13, 6.56974259e-10, 9.95593334e-13, 8.87489514e-02,\n",
       "       1.35465153e-02, 3.92938809e-02, 4.16204506e-02, 1.78348747e-02,\n",
       "       1.69512816e-04, 2.21518297e-03, 2.73207608e-02, 1.23513659e-02,\n",
       "       3.51928173e-02, 4.02079068e-02, 1.44867682e-10, 1.79065044e-12,\n",
       "       8.64145982e-20, 2.10353137e-10, 2.70322144e-04, 1.72455084e-14,\n",
       "       1.49732374e-02,            nan, 7.36317723e-02, 7.79169801e-07,\n",
       "       1.40760888e-13, 3.04270109e-21, 1.38213539e-02, 3.16317863e-02,\n",
       "       6.65578074e-02, 7.04461587e-02,            nan, 2.49415446e-15,\n",
       "       6.26720775e-02, 4.06949062e-02, 3.23642946e-27, 1.22834776e-03,\n",
       "       7.21295787e-02, 1.07128754e-01, 4.88786463e-04, 3.37663136e-02,\n",
       "       1.55987864e-03, 5.14658103e-02, 5.10363503e-16, 4.13003641e-30,\n",
       "       5.61130373e-02, 7.15352438e-02, 3.65768459e-32, 3.03182215e-14,\n",
       "       1.26092200e-01, 4.99485912e-13, 5.77583106e-05, 9.48436475e-02,\n",
       "       8.31158433e-02, 1.29113119e-01, 8.73783926e-03, 1.11888793e-01,\n",
       "       2.65920972e-02, 7.77653093e-02, 2.98676974e-02, 6.74741592e-02,\n",
       "       5.31717358e-16, 7.19435547e-02, 1.10121545e-01, 1.79273725e-09,\n",
       "       5.31326512e-02, 8.24041770e-02, 2.58834176e-02, 1.27405204e-01,\n",
       "       4.78851239e-02, 3.13168243e-02, 9.40099045e-02,            nan,\n",
       "       2.99852994e-15, 1.88991520e-15, 4.46089900e-02, 1.12133091e-01,\n",
       "       5.31261110e-02, 5.90013273e-02, 1.15913520e-01, 5.98903731e-02,\n",
       "       1.28582607e-01, 5.21376837e-02, 5.41740294e-02, 6.37051698e-02,\n",
       "       5.04408235e-02, 7.96043373e-02, 1.39772195e-01, 7.52479469e-02,\n",
       "       1.11323773e-01, 5.63597265e-04, 1.05070200e-01, 1.01653268e-01,\n",
       "       1.00492762e-01, 9.62068130e-02, 1.68236920e-01, 8.83511683e-02,\n",
       "       9.35378760e-02, 5.52758931e-02, 7.68692344e-02, 4.70663484e-02,\n",
       "       5.49913403e-02, 8.09334914e-02, 6.11816130e-09, 1.59132810e-14,\n",
       "       4.65222695e-02, 3.66154598e-17, 9.01444021e-02, 3.50674996e-02,\n",
       "       7.45879384e-02, 1.07841597e-01, 6.13104346e-02, 4.38942797e-02,\n",
       "       8.97154928e-21, 8.18190247e-02, 3.83086233e-13, 7.36539403e-02,\n",
       "       7.30618672e-03, 4.48634827e-02, 6.59442733e-02, 1.65473586e-01,\n",
       "       2.77354909e-02, 7.88364463e-02, 7.06597152e-15, 1.16130564e-11,\n",
       "       6.04188233e-02, 9.31447937e-02, 8.26227220e-02, 3.22919036e-02,\n",
       "                  nan, 2.75506955e-02, 1.29117542e-01, 2.78403509e-02,\n",
       "       2.81299131e-02, 2.21892233e-02, 5.51054534e-02, 7.11076887e-02,\n",
       "       3.21568995e-02, 5.04260503e-15, 3.25492153e-11, 7.96422939e-03,\n",
       "       1.10718309e-01, 1.05319184e-01, 1.61902747e-01, 6.22056437e-02,\n",
       "       8.12014049e-02, 1.88499091e-02, 6.97324905e-02, 4.84821709e-02,\n",
       "       1.07342880e-01, 7.83070132e-02, 3.16839613e-13, 5.59977107e-02,\n",
       "       1.01309839e-01, 8.38072013e-02, 9.84048314e-12, 1.02192060e-01,\n",
       "       6.81820007e-02, 1.32744248e-01, 4.71820041e-02, 8.11159061e-02,\n",
       "       1.17929190e-01, 1.51850295e-01, 1.03261406e-01, 1.62467814e-01,\n",
       "       3.42674528e-02, 8.87763735e-02, 9.82811058e-02, 1.55461518e-01,\n",
       "       1.04812025e-01, 8.89332693e-02, 1.11105035e-01, 8.65236733e-02,\n",
       "       6.85377332e-02, 6.22084708e-02, 1.17817215e-01, 1.91623952e-01,\n",
       "       1.00018985e-01, 1.47655198e-01, 1.51712013e-01, 1.31625763e-01,\n",
       "       1.10988962e-01, 6.14824424e-02, 8.95348334e-02, 9.01221443e-02,\n",
       "       9.50890059e-02, 1.33459585e-01, 2.05211326e-01, 1.72412382e-04,\n",
       "       1.10546592e-01, 1.12339153e-01, 1.48314593e-01, 4.32946156e-02,\n",
       "       1.31397458e-01, 1.16934367e-01, 1.64457271e-01, 2.52563933e-02,\n",
       "       2.90664083e-02, 9.68461255e-02, 3.51015873e-02, 7.14424436e-02,\n",
       "       1.54100269e-01, 1.27016824e-01, 8.88032546e-02, 6.69495796e-02,\n",
       "       1.02879797e-01, 3.91886092e-23, 1.11883783e-01, 8.36718743e-02,\n",
       "       1.58808160e-01, 3.60848646e-12, 9.43279295e-02, 1.44941602e-01,\n",
       "       1.33067320e-01, 1.07467666e-01, 1.72373599e-01, 9.25010441e-02,\n",
       "       1.29668450e-01, 1.35766235e-01, 1.57814525e-01, 1.20587164e-01,\n",
       "       1.06710369e-01, 1.72191246e-01, 6.98329615e-02, 3.37450094e-04,\n",
       "       8.11921020e-02, 1.00367878e-01, 1.34945573e-01, 7.90283695e-02,\n",
       "       9.97908750e-02, 1.42087070e-01, 1.37704076e-01, 1.14958993e-01,\n",
       "       1.29664755e-01, 1.62256844e-01, 1.05817353e-01, 1.71851608e-01,\n",
       "       5.48203547e-02, 1.24283520e-01, 9.27155800e-02, 1.78395877e-01,\n",
       "       1.20529592e-01, 1.37894317e-01, 1.28629534e-01, 5.36023374e-02,\n",
       "       8.93286773e-02, 1.59982899e-01, 1.34567642e-01, 1.91389948e-01,\n",
       "       1.47005605e-01, 1.46894789e-01, 1.86621009e-01, 1.15314115e-01,\n",
       "       1.98052491e-01, 9.84651165e-02, 1.45289004e-01, 1.82049185e-01,\n",
       "       1.64735162e-01, 2.09800416e-01, 1.69479113e-01, 1.67830214e-01,\n",
       "       1.87690182e-01, 8.91112809e-02, 1.16410902e-01, 1.50788762e-01,\n",
       "       1.53568540e-01, 2.02904550e-01, 1.38909781e-01, 1.64350474e-01,\n",
       "       8.65301064e-02, 1.56738960e-01, 1.57500293e-01, 1.47868606e-01,\n",
       "       1.83288237e-01, 2.23611572e-01, 1.40888109e-01, 1.49933170e-01,\n",
       "       1.41613326e-01, 1.07524945e-01, 2.15550817e-01, 7.31553785e-02,\n",
       "       8.11242483e-02, 1.51458375e-01, 1.88465208e-01, 9.06235262e-02,\n",
       "       1.30132417e-01, 1.48439787e-01, 1.94899722e-01, 1.63305806e-01,\n",
       "       1.95243676e-01, 2.00342387e-01, 1.77478073e-01, 1.84987618e-01,\n",
       "       2.25099259e-01, 2.01988493e-01, 1.34786086e-01, 1.62951525e-01,\n",
       "       1.79930387e-01, 1.33150616e-01, 1.57770401e-01, 1.71251266e-01,\n",
       "       9.08738899e-02, 5.60136874e-02, 2.00550870e-01, 2.11510387e-01,\n",
       "       1.06515649e-01, 1.96308471e-01, 1.05790110e-01, 1.67241574e-01,\n",
       "       2.29382768e-01, 1.65479763e-01, 1.74007958e-01, 1.55978868e-01,\n",
       "       1.53450563e-01, 1.38570205e-01, 1.88541504e-01, 1.40325606e-01,\n",
       "       1.05582687e-01, 1.58321110e-01, 2.01355534e-01, 1.98871487e-01,\n",
       "       1.45537753e-01, 2.04011689e-01, 1.49966437e-01, 1.94093271e-01,\n",
       "       9.63705365e-02, 1.18628214e-01, 1.64775124e-01, 1.46802127e-01,\n",
       "       1.98612645e-01, 5.40510288e-08, 6.65660868e-02, 2.22515060e-01,\n",
       "       1.81443594e-01, 1.25049899e-01, 1.77227804e-01, 2.16378800e-01,\n",
       "       1.78008257e-01, 1.96128237e-01, 1.55476410e-01, 1.51953943e-01,\n",
       "       1.20490025e-01, 1.78840398e-01, 1.00747187e-01, 1.93397471e-01,\n",
       "       1.76965807e-01, 1.60078418e-01, 1.15528043e-01, 1.71852520e-01,\n",
       "       2.42051180e-01, 2.36553063e-01, 2.23709951e-01, 1.84066581e-01,\n",
       "       1.94197035e-01, 2.12861148e-01, 2.05555130e-01, 2.14433930e-01,\n",
       "       2.19652162e-01, 1.74689192e-01, 1.90256053e-01, 2.51527690e-01,\n",
       "       2.28506549e-01, 2.17426738e-01, 2.14694123e-01, 1.89861119e-01,\n",
       "       1.75273340e-01, 1.68699056e-01, 2.24450486e-01, 2.24111240e-01,\n",
       "       2.36142228e-01, 2.00095589e-01, 2.51773431e-01, 1.78917490e-01,\n",
       "       2.12445370e-01, 1.80182028e-01, 2.21409367e-01, 1.82129087e-01,\n",
       "       2.31395910e-01, 1.64556417e-01, 1.63574408e-01, 1.57686855e-01,\n",
       "       1.50675098e-01, 2.10154125e-01, 1.89516318e-01, 2.85570087e-01,\n",
       "       2.13455967e-01, 2.27100222e-01, 2.71348213e-01, 1.82353388e-01,\n",
       "       2.36554158e-01, 1.86671676e-01, 1.99979971e-01, 1.32780295e-01,\n",
       "       1.87579707e-01, 2.13454330e-01, 2.34374091e-01, 2.08468193e-01,\n",
       "       8.94671883e-02, 1.37979958e-01, 1.92772207e-01, 1.47249370e-01,\n",
       "       2.43353766e-01, 2.77446593e-01, 2.15976267e-01, 2.37083110e-01,\n",
       "       2.00419217e-01, 1.84848791e-01, 2.15583988e-01, 1.19457921e-01,\n",
       "       2.41499920e-01, 2.20163233e-01, 2.06506928e-01, 2.84705421e-01,\n",
       "       2.55134335e-01, 1.38561956e-01, 1.32939352e-01, 1.55231674e-01,\n",
       "       1.75096721e-01, 1.63304426e-01, 1.76172291e-01, 2.09447489e-01,\n",
       "       2.02774149e-01, 2.90758456e-01, 1.89018613e-01, 1.09876996e-01,\n",
       "       1.71377877e-01, 1.54045665e-01, 1.72790414e-01, 2.31398697e-01,\n",
       "       1.69886724e-01, 1.48818882e-01, 2.23175513e-01, 1.91393582e-01,\n",
       "       1.94248549e-01, 1.08305162e-01, 2.33386322e-01, 1.46159826e-01,\n",
       "       1.27113737e-01, 1.94044349e-01, 1.96010304e-01, 2.03331437e-01,\n",
       "       2.19940267e-01, 2.12465248e-01, 2.02417659e-01, 2.31146702e-01,\n",
       "       2.27937130e-01, 2.16666663e-01, 1.67576370e-01, 1.53622028e-01,\n",
       "       2.32472277e-01, 2.08347331e-01, 1.80659425e-01, 2.52789327e-01,\n",
       "       2.76513599e-01, 1.47463106e-01, 2.30838389e-01, 2.41868696e-01,\n",
       "       2.65588103e-01, 2.94569381e-01, 2.78548059e-01, 3.02571886e-01,\n",
       "       2.28706989e-01, 2.01371492e-01, 2.66229498e-01, 2.69468240e-01,\n",
       "       2.02393938e-01, 2.40548432e-01, 2.76844747e-01, 2.89948475e-01,\n",
       "       2.17938435e-01, 2.56103988e-01, 2.70647727e-01, 2.38488801e-01,\n",
       "       2.56745785e-01, 2.36914350e-01, 2.70640048e-01, 2.43482480e-01,\n",
       "       2.36154163e-01, 2.45539512e-01, 3.33725683e-01, 2.51027996e-01,\n",
       "       2.20522683e-01, 2.51101511e-01, 2.69096989e-01, 2.88582075e-01,\n",
       "       2.80897851e-01, 2.48802234e-01, 2.41819220e-01, 2.66169130e-01,\n",
       "       3.11744379e-01, 2.64582024e-01, 2.34734884e-01, 2.78674242e-01,\n",
       "       2.46259021e-01, 1.88995719e-01, 2.63539953e-01, 2.96401377e-01,\n",
       "       2.32126500e-01, 2.87667245e-01, 2.54259282e-01, 1.93233621e-01,\n",
       "       3.19198618e-01, 2.01928659e-01, 2.86250738e-01, 2.71508951e-01,\n",
       "       1.43196792e-01, 2.37515830e-01, 1.66027018e-01, 2.72741445e-01,\n",
       "       2.71851116e-01, 2.17096033e-01, 2.05146035e-01, 2.07468611e-01,\n",
       "       2.68651313e-01, 2.75039468e-01, 2.45057645e-01, 2.60902339e-01,\n",
       "       2.08683094e-01, 2.98966757e-01, 2.32077718e-01, 2.56478947e-01,\n",
       "       2.62540006e-01, 2.22709247e-01, 2.73960392e-01, 2.30759924e-01,\n",
       "       2.65801192e-01, 2.59279492e-01, 2.34119887e-01, 1.48090649e-01,\n",
       "       2.69748796e-01, 2.91592786e-01, 2.44921793e-01, 2.07545689e-01,\n",
       "       2.53624507e-01, 1.96220451e-01, 2.47909403e-01, 2.72257632e-01,\n",
       "       2.77464702e-01, 2.86055462e-01, 2.78361788e-01, 2.79653167e-01,\n",
       "       2.88223802e-01, 2.81515674e-01, 2.56493989e-01, 3.03925302e-01,\n",
       "       2.49536892e-01, 1.99979571e-01, 2.14652595e-01, 2.76948452e-01])"
      ]
     },
     "execution_count": 19,
     "metadata": {},
     "output_type": "execute_result"
    }
   ],
   "source": [
    "itf.perfusion_fraction"
   ]
  },
  {
   "cell_type": "code",
   "execution_count": 20,
   "id": "civilian-fever",
   "metadata": {},
   "outputs": [],
   "source": [
    "pred=itf.predict(gtab)"
   ]
  },
  {
   "cell_type": "code",
   "execution_count": 21,
   "id": "regular-prairie",
   "metadata": {},
   "outputs": [
    {
     "data": {
      "text/plain": [
       "(6, 100, 79)"
      ]
     },
     "execution_count": 21,
     "metadata": {},
     "output_type": "execute_result"
    }
   ],
   "source": [
    "sim.shape"
   ]
  },
  {
   "cell_type": "code",
   "execution_count": 22,
   "id": "perfect-functionality",
   "metadata": {},
   "outputs": [
    {
     "data": {
      "text/plain": [
       "(600, 79)"
      ]
     },
     "execution_count": 22,
     "metadata": {},
     "output_type": "execute_result"
    }
   ],
   "source": [
    "pred.shape"
   ]
  },
  {
   "cell_type": "code",
   "execution_count": 23,
   "id": "demanding-kitty",
   "metadata": {},
   "outputs": [
    {
     "data": {
      "text/plain": [
       "[<matplotlib.lines.Line2D at 0x7f2b83247290>]"
      ]
     },
     "execution_count": 23,
     "metadata": {},
     "output_type": "execute_result"
    },
    {
     "data": {
      "image/png": "[encoded data removed]",
      "text/plain": [
       "<Figure size 432x288 with 1 Axes>"
      ]
     },
     "metadata": {
      "needs_background": "light"
     },
     "output_type": "display_data"
    }
   ],
   "source": [
    "plt.plot(gtab.bvals, pred[0], 'o')\n",
    "plt.plot(gtab.bvals, sim[0, 0], 'o')"
   ]
  },
  {
   "cell_type": "code",
   "execution_count": 24,
   "id": "collect-start",
   "metadata": {},
   "outputs": [
    {
     "data": {
      "text/plain": [
       "(0.0030000001000000166, 0.055123307530360856)"
      ]
     },
     "execution_count": 24,
     "metadata": {},
     "output_type": "execute_result"
    }
   ],
   "source": [
    "itf.perfusion_fit.md[0], itf.perfusion_fit.md[-1]"
   ]
  },
  {
   "cell_type": "code",
   "execution_count": 25,
   "id": "exact-graphics",
   "metadata": {},
   "outputs": [
    {
     "data": {
      "text/plain": [
       "(array([4.24277385e+02, 3.00000008e-03, 3.00000011e-03]),\n",
       " array([0.1467315 , 0.00663168, 0.01200674]))"
      ]
     },
     "execution_count": 25,
     "metadata": {},
     "output_type": "execute_result"
    }
   ],
   "source": [
    "itf.perfusion_fit.evals[6], itf.perfusion_fit.evals[-1]"
   ]
  },
  {
   "cell_type": "code",
   "execution_count": 26,
   "id": "spread-buying",
   "metadata": {},
   "outputs": [
    {
     "data": {
      "text/plain": [
       "(2.308085674303571e-12, 0.27694845162207854)"
      ]
     },
     "execution_count": 26,
     "metadata": {},
     "output_type": "execute_result"
    }
   ],
   "source": [
    "itf.perfusion_fraction[0], itf.perfusion_fraction[-1]"
   ]
  },
  {
   "cell_type": "code",
   "execution_count": null,
   "id": "vulnerable-reaction",
   "metadata": {},
   "outputs": [],
   "source": []
  }
 ],
 "metadata": {
  "kernelspec": {
   "display_name": "Python 3",
   "language": "python",
   "name": "python3"
  },
  "language_info": {
   "codemirror_mode": {
    "name": "ipython",
    "version": 3
   },
   "file_extension": ".py",
   "mimetype": "text/x-python",
   "name": "python",
   "nbconvert_exporter": "python",
   "pygments_lexer": "ipython3",
   "version": "3.7.10"
  }
 },
 "nbformat": 4,
 "nbformat_minor": 5
}

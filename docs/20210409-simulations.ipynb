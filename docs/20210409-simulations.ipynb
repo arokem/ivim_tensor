{
 "cells": [
  {
   "cell_type": "code",
   "execution_count": 1,
   "id": "eastern-prisoner",
   "metadata": {},
   "outputs": [],
   "source": [
    "import numpy as np\n",
    "import matplotlib.pyplot as plt"
   ]
  },
  {
   "cell_type": "code",
   "execution_count": 2,
   "id": "arranged-advertising",
   "metadata": {},
   "outputs": [],
   "source": [
    "from dipy.core.gradients import gradient_table"
   ]
  },
  {
   "cell_type": "code",
   "execution_count": 3,
   "id": "excessive-observer",
   "metadata": {},
   "outputs": [],
   "source": [
    "bvals = np.array([  10.,   40.,   60.,   80.,  100.,  150.,  200.,  300.,  500.,\n",
    "         700.,  800.,  900., 1000.,   10.,   40.,   60.,   80.,  100.,\n",
    "         150.,  200.,  300.,  500.,  700.,  800.,  900., 1000.,   10.,\n",
    "          40.,   60.,   80.,  100.,  150.,  200.,  300.,  500.,  700.,\n",
    "         800.,  900., 1000.,   10.,   40.,   60.,   80.,  100.,  150.,\n",
    "         200.,  300.,  500.,  700.,  800.,  900., 1000.,   10.,   40.,\n",
    "          60.,   80.,  100.,  150.,  200.,  300.,  500.,  700.,  800.,\n",
    "         900., 1000.,   10.,   40.,   60.,   80.,  100.,  150.,  200.,\n",
    "         300.,  500.,  700.,  800.,  900., 1000.,    0.])"
   ]
  },
  {
   "cell_type": "code",
   "execution_count": 4,
   "id": "therapeutic-animation",
   "metadata": {},
   "outputs": [],
   "source": [
    "bvecs = np.array([[-1.00000e+00, -3.40515e-09,  0.00000e+00],\n",
    "        [-1.00000e+00, -3.40515e-09,  0.00000e+00],\n",
    "        [-1.00000e+00, -3.40515e-09,  0.00000e+00],\n",
    "        [-1.00000e+00, -3.40515e-09,  0.00000e+00],\n",
    "        [-1.00000e+00, -3.40515e-09,  0.00000e+00],\n",
    "        [-1.00000e+00, -3.40515e-09,  0.00000e+00],\n",
    "        [-1.00000e+00, -3.40515e-09,  0.00000e+00],\n",
    "        [-1.00000e+00, -3.40515e-09,  0.00000e+00],\n",
    "        [-1.00000e+00, -3.40515e-09,  0.00000e+00],\n",
    "        [-1.00000e+00, -3.40515e-09,  0.00000e+00],\n",
    "        [-1.00000e+00, -3.40515e-09,  0.00000e+00],\n",
    "        [-1.00000e+00, -3.40515e-09,  0.00000e+00],\n",
    "        [-1.00000e+00, -3.40515e-09,  0.00000e+00],\n",
    "        [ 3.40515e-09,  1.00000e+00,  0.00000e+00],\n",
    "        [ 3.40515e-09,  1.00000e+00,  0.00000e+00],\n",
    "        [ 3.40515e-09,  1.00000e+00,  0.00000e+00],\n",
    "        [ 3.40515e-09,  1.00000e+00,  0.00000e+00],\n",
    "        [ 3.40515e-09,  1.00000e+00,  0.00000e+00],\n",
    "        [ 3.40515e-09,  1.00000e+00,  0.00000e+00],\n",
    "        [ 3.40515e-09,  1.00000e+00,  0.00000e+00],\n",
    "        [ 3.40515e-09,  1.00000e+00,  0.00000e+00],\n",
    "        [ 3.40515e-09,  1.00000e+00,  0.00000e+00],\n",
    "        [ 3.40515e-09,  1.00000e+00,  0.00000e+00],\n",
    "        [ 3.40515e-09,  1.00000e+00,  0.00000e+00],\n",
    "        [ 3.40515e-09,  1.00000e+00,  0.00000e+00],\n",
    "        [ 3.40515e-09,  1.00000e+00,  0.00000e+00],\n",
    "        [ 0.00000e+00,  0.00000e+00,  1.00000e+00],\n",
    "        [ 0.00000e+00,  0.00000e+00,  1.00000e+00],\n",
    "        [ 0.00000e+00,  0.00000e+00,  1.00000e+00],\n",
    "        [ 0.00000e+00,  0.00000e+00,  1.00000e+00],\n",
    "        [ 0.00000e+00,  0.00000e+00,  1.00000e+00],\n",
    "        [ 0.00000e+00,  0.00000e+00,  1.00000e+00],\n",
    "        [ 0.00000e+00,  0.00000e+00,  1.00000e+00],\n",
    "        [ 0.00000e+00,  0.00000e+00,  1.00000e+00],\n",
    "        [ 0.00000e+00,  0.00000e+00,  1.00000e+00],\n",
    "        [ 0.00000e+00,  0.00000e+00,  1.00000e+00],\n",
    "        [ 0.00000e+00,  0.00000e+00,  1.00000e+00],\n",
    "        [ 0.00000e+00,  0.00000e+00,  1.00000e+00],\n",
    "        [ 0.00000e+00,  0.00000e+00,  1.00000e+00],\n",
    "        [ 7.04358e-01, -8.80947e-02, -7.04358e-01],\n",
    "        [ 7.04358e-01, -8.80947e-02, -7.04358e-01],\n",
    "        [ 7.04358e-01, -8.80947e-02, -7.04358e-01],\n",
    "        [ 7.04358e-01, -8.80947e-02, -7.04358e-01],\n",
    "        [ 7.04358e-01, -8.80947e-02, -7.04358e-01],\n",
    "        [ 7.04358e-01, -8.80947e-02, -7.04358e-01],\n",
    "        [ 7.04358e-01, -8.80947e-02, -7.04358e-01],\n",
    "        [ 7.04358e-01, -8.80947e-02, -7.04358e-01],\n",
    "        [ 7.04358e-01, -8.80947e-02, -7.04358e-01],\n",
    "        [ 7.04358e-01, -8.80947e-02, -7.04358e-01],\n",
    "        [ 7.04358e-01, -8.80947e-02, -7.04358e-01],\n",
    "        [ 7.04358e-01, -8.80947e-02, -7.04358e-01],\n",
    "        [ 7.04358e-01, -8.80947e-02, -7.04358e-01],\n",
    "        [-7.04358e-01,  7.04358e-01,  8.80947e-02],\n",
    "        [-7.04358e-01,  7.04358e-01,  8.80947e-02],\n",
    "        [-7.04358e-01,  7.04358e-01,  8.80947e-02],\n",
    "        [-7.04358e-01,  7.04358e-01,  8.80947e-02],\n",
    "        [-7.04358e-01,  7.04358e-01,  8.80947e-02],\n",
    "        [-7.04358e-01,  7.04358e-01,  8.80947e-02],\n",
    "        [-7.04358e-01,  7.04358e-01,  8.80947e-02],\n",
    "        [-7.04358e-01,  7.04358e-01,  8.80947e-02],\n",
    "        [-7.04358e-01,  7.04358e-01,  8.80947e-02],\n",
    "        [-7.04358e-01,  7.04358e-01,  8.80947e-02],\n",
    "        [-7.04358e-01,  7.04358e-01,  8.80947e-02],\n",
    "        [-7.04358e-01,  7.04358e-01,  8.80947e-02],\n",
    "        [-7.04358e-01,  7.04358e-01,  8.80947e-02],\n",
    "        [-8.80947e-02,  7.04358e-01,  7.04358e-01],\n",
    "        [-8.80947e-02,  7.04358e-01,  7.04358e-01],\n",
    "        [-8.80947e-02,  7.04358e-01,  7.04358e-01],\n",
    "        [-8.80947e-02,  7.04358e-01,  7.04358e-01],\n",
    "        [-8.80947e-02,  7.04358e-01,  7.04358e-01],\n",
    "        [-8.80947e-02,  7.04358e-01,  7.04358e-01],\n",
    "        [-8.80947e-02,  7.04358e-01,  7.04358e-01],\n",
    "        [-8.80947e-02,  7.04358e-01,  7.04358e-01],\n",
    "        [-8.80947e-02,  7.04358e-01,  7.04358e-01],\n",
    "        [-8.80947e-02,  7.04358e-01,  7.04358e-01],\n",
    "        [-8.80947e-02,  7.04358e-01,  7.04358e-01],\n",
    "        [-8.80947e-02,  7.04358e-01,  7.04358e-01],\n",
    "        [-8.80947e-02,  7.04358e-01,  7.04358e-01],\n",
    "        [ 0.00000e+00,  0.00000e+00,  0.00000e+00]])"
   ]
  },
  {
   "cell_type": "code",
   "execution_count": 5,
   "id": "lovely-haven",
   "metadata": {},
   "outputs": [],
   "source": [
    "gtab = gradient_table(bvals, bvecs, b0_threshold=0)"
   ]
  },
  {
   "cell_type": "code",
   "execution_count": 6,
   "id": "intellectual-happiness",
   "metadata": {},
   "outputs": [],
   "source": [
    "from dipy.sims.voxel import multi_tensor"
   ]
  },
  {
   "cell_type": "code",
   "execution_count": 7,
   "id": "threaded-details",
   "metadata": {},
   "outputs": [],
   "source": [
    "mevals = np.array([[0.001, 0.0005, 0.0005], \n",
    "                   [0.1, 0.01, 0.01]])\n",
    "\n",
    "angles = [(90, 0), (90, 0)]"
   ]
  },
  {
   "cell_type": "code",
   "execution_count": 8,
   "id": "waiting-programmer",
   "metadata": {},
   "outputs": [],
   "source": [
    "from ivim_tensor import IvimTensorModel"
   ]
  },
  {
   "cell_type": "code",
   "execution_count": 9,
   "id": "recorded-evanescence",
   "metadata": {},
   "outputs": [
    {
     "name": "stderr",
     "output_type": "stream",
     "text": [
      "/srv/conda/envs/notebook/lib/python3.7/site-packages/dipy/reconst/ivim.py:151: UserWarning: Bounds for this fit have been set from experiments and literature survey. To change the bounds, please input your bounds in model definition...\n",
      "  warnings.warn(bounds_warning, UserWarning)\n"
     ]
    }
   ],
   "source": [
    "itm = IvimTensorModel(gtab)"
   ]
  },
  {
   "cell_type": "code",
   "execution_count": 10,
   "id": "diagnostic-rotation",
   "metadata": {},
   "outputs": [],
   "source": [
    "betas = np.arange(0.001, 0.3, 0.05)"
   ]
  },
  {
   "cell_type": "code",
   "execution_count": 11,
   "id": "therapeutic-overall",
   "metadata": {},
   "outputs": [],
   "source": [
    "n_sims = 100"
   ]
  },
  {
   "cell_type": "code",
   "execution_count": 12,
   "id": "endless-counter",
   "metadata": {},
   "outputs": [],
   "source": [
    "pf = np.zeros((len(betas), n_sims))\n",
    "sim = np.zeros((len(betas), n_sims, gtab.bvals.shape[0]))\n",
    "\n",
    "for ii in range(len(betas)):\n",
    "    for nn in range(n_sims):\n",
    "        sim[ii, nn] = multi_tensor(gtab, mevals=mevals, snr=100, fractions=[100 * (1-betas[ii]), \n",
    "                                                                     betas[ii] * 100])[0]\n",
    "#pf[ii, nn] = (itf.perfusion_fraction)"
   ]
  },
  {
   "cell_type": "code",
   "execution_count": 13,
   "id": "moderate-regression",
   "metadata": {},
   "outputs": [
    {
     "name": "stderr",
     "output_type": "stream",
     "text": [
      "/srv/conda/envs/notebook/lib/python3.7/site-packages/dipy/reconst/ivim.py:434: UserWarning: x0 obtained from linear fitting is not feasibile as initial guess for leastsq while estimating f and D_star. Using parameters from the linear fit.\n",
      "  warnings.warn(warningMsg, UserWarning)\n",
      "/srv/conda/envs/notebook/lib/python3.7/site-packages/dipy/reconst/ivim.py:507: UserWarning: x0 is unfeasible for leastsq fitting. Returning x0 values from the linear fit.\n",
      "  warnings.warn(warningMsg, UserWarning)\n",
      "/srv/conda/envs/notebook/lib/python3.7/site-packages/dipy/reconst/ivim.py:344: UserWarning: Bounds are violated for leastsq fitting. Returning parameters from linear fit\n",
      "  warnings.warn(warningMsg, UserWarning)\n",
      "  0%|          | 0/600 [00:00<?, ?it/s]/srv/conda/envs/notebook/lib/python3.7/site-packages/scipy/optimize/_lsq/least_squares.py:112: UserWarning: Setting `xtol` below the machine epsilon (2.22e-16) effectively disables the corresponding termination condition.\n",
      "  .format(name, EPS))\n",
      "100%|██████████| 600/600 [04:04<00:00,  2.45it/s]  \n"
     ]
    }
   ],
   "source": [
    "itf = itm.fit(sim)"
   ]
  },
  {
   "cell_type": "code",
   "execution_count": null,
   "id": "burning-schema",
   "metadata": {},
   "outputs": [],
   "source": []
  },
  {
   "cell_type": "code",
   "execution_count": 14,
   "id": "infinite-therapist",
   "metadata": {},
   "outputs": [
    {
     "data": {
      "text/plain": [
       "(6, 100, 79)"
      ]
     },
     "execution_count": 14,
     "metadata": {},
     "output_type": "execute_result"
    }
   ],
   "source": [
    "sim.shape"
   ]
  },
  {
   "cell_type": "code",
   "execution_count": 15,
   "id": "floral-tenant",
   "metadata": {},
   "outputs": [],
   "source": [
    "pf = np.reshape(itf.perfusion_fraction, sim.shape[:2])"
   ]
  },
  {
   "cell_type": "code",
   "execution_count": 25,
   "id": "ultimate-recipient",
   "metadata": {},
   "outputs": [
    {
     "data": {
      "text/plain": [
       "array([0.17731203, 0.10551173, 0.10074378, 0.15179208, 0.20186301,\n",
       "       0.25111395])"
      ]
     },
     "execution_count": 25,
     "metadata": {},
     "output_type": "execute_result"
    }
   ],
   "source": [
    "np.nanmean(pf, -1)"
   ]
  },
  {
   "cell_type": "code",
   "execution_count": 24,
   "id": "restricted-charm",
   "metadata": {},
   "outputs": [
    {
     "data": {
      "image/png": "[encoded data removed]",
      "text/plain": [
       "<Figure size 432x288 with 1 Axes>"
      ]
     },
     "metadata": {
      "needs_background": "light"
     },
     "output_type": "display_data"
    }
   ],
   "source": [
    "_ = plt.plot(betas, pf, 'o', alpha=0.1)\n",
    "_ = plt.plot(betas, betas, 'k--')"
   ]
  },
  {
   "cell_type": "code",
   "execution_count": 18,
   "id": "compliant-indianapolis",
   "metadata": {},
   "outputs": [
    {
     "data": {
      "text/plain": [
       "array([6.39575292e-02, 5.00000000e-01, 3.61103785e-02, 6.55344171e-02,\n",
       "       3.60374242e-02, 2.25978235e-01, 5.24248506e-03, 2.16964094e-02,\n",
       "       1.61495227e-01, 3.47956327e-01, 5.00000000e-01, 1.72007502e-02,\n",
       "       5.00000000e-01, 3.25380349e-02, 2.31491649e-01, 1.13316786e-02,\n",
       "       4.06963653e-16, 5.00000000e-01, 1.67771290e-02, 3.31430479e-23,\n",
       "       1.32133822e-02, 7.02744452e-03, 1.21865706e-02, 3.77423966e-01,\n",
       "       7.63872716e-03, 4.35010229e-01, 5.00000000e-01, 1.70309650e-01,\n",
       "       3.14529181e-01, 7.43523610e-11, 9.67179406e-02, 5.00000000e-01,\n",
       "       4.99992967e-01, 5.00000000e-01, 1.94941934e-01, 2.22454663e-01,\n",
       "       1.60937752e-02, 5.00000000e-01, 4.77713879e-02, 3.02517686e-01,\n",
       "       4.65762000e-03, 1.94493082e-01, 1.15560619e-04, 7.35195271e-02,\n",
       "       2.30966759e-02, 3.30751735e-02, 5.28658633e-12, 6.42269884e-03,\n",
       "       4.48658583e-16, 4.11773377e-03, 1.10243256e-27, 2.22634929e-02,\n",
       "       2.05166986e-01, 2.04213439e-14, 9.77906155e-03, 2.32786362e-01,\n",
       "       4.98714816e-01, 1.44029902e-01, 3.65037359e-19, 2.81563641e-02,\n",
       "       1.62196008e-01, 5.00000000e-01, 7.66127596e-11, 1.45915674e-02,\n",
       "       1.87962970e-01, 4.32840765e-01, 5.00000000e-01, 5.00000000e-01,\n",
       "       7.32230903e-02, 5.00000000e-01, 3.53895700e-01, 4.99737270e-01,\n",
       "       2.32070550e-02, 5.53190726e-02, 2.05613363e-02, 4.61872908e-02,\n",
       "       3.05708701e-01, 1.54645340e-01, 1.49140784e-02, 1.27342831e-02,\n",
       "       3.11982040e-01, 1.93901136e-01, 2.88463701e-01, 4.03251464e-07,\n",
       "       2.05465877e-01, 9.13013590e-03, 6.04546722e-03, 1.00137232e-12,\n",
       "       4.98516828e-01, 4.99490351e-01, 2.83173185e-02, 3.43332214e-01,\n",
       "       5.00000000e-01, 2.09804244e-02, 2.14743484e-02, 1.69404360e-02,\n",
       "       2.20312855e-02, 4.35871184e-01, 1.42000771e-14, 4.99962727e-01,\n",
       "       3.84207350e-02, 5.62966036e-02, 7.49406405e-02, 5.00000000e-01,\n",
       "       5.33295111e-02, 4.66147342e-02, 5.93485268e-02, 6.27434091e-02,\n",
       "       5.75933842e-02, 5.00000000e-01, 5.24408088e-02, 4.81946109e-02,\n",
       "       5.71428540e-02, 5.59845774e-02, 5.15184838e-02, 5.38467078e-02,\n",
       "       5.00000000e-01, 5.93254250e-02, 3.00564219e-02, 5.33453548e-02,\n",
       "       3.99588444e-02, 4.90807361e-02, 6.29602831e-02, 4.49060944e-02,\n",
       "       5.21977059e-02, 5.82151635e-02, 5.02930808e-02, 5.71673774e-02,\n",
       "       5.00000000e-01, 4.03225433e-02, 3.54773223e-02, 6.63523472e-02,\n",
       "       5.30268427e-02, 5.84611917e-02, 3.92256926e-02, 6.27392583e-02,\n",
       "       4.13030269e-02, 5.24756106e-02, 5.77686145e-02, 3.96494296e-02,\n",
       "       5.41973724e-02, 5.00000000e-01, 4.67657109e-02, 4.99999999e-01,\n",
       "       6.00539125e-02, 5.00000000e-01, 6.64301574e-02, 5.67022327e-02,\n",
       "       3.99791284e-02, 5.00000000e-01, 6.55959129e-02, 5.36938890e-02,\n",
       "       5.29366466e-02, 5.15446237e-02, 4.64397999e-02, 5.46178854e-02,\n",
       "       3.98980309e-02, 6.63918376e-02,            nan, 3.98511314e-02,\n",
       "       3.64898056e-02, 5.35891694e-02, 5.56599652e-02, 5.00000000e-01,\n",
       "       5.00000000e-01, 5.72536775e-02, 4.68357617e-02, 5.75166484e-02,\n",
       "       4.61324989e-02, 5.30839872e-02, 5.20078293e-02, 5.82403402e-02,\n",
       "       4.70189809e-02, 5.00000000e-01, 5.03026211e-02, 5.00000000e-01,\n",
       "       5.02998703e-02, 3.90187469e-02, 5.49305486e-02, 2.81892150e-02,\n",
       "       4.61232790e-02, 4.45921723e-02, 4.92019568e-02, 7.24235177e-02,\n",
       "       6.57245069e-02, 4.90633413e-02, 4.86493372e-02, 5.81250872e-02,\n",
       "       4.57361629e-02, 5.31679438e-02, 4.13972354e-02, 2.21372901e-02,\n",
       "       3.39543001e-02, 6.42308097e-02, 5.52778827e-02, 3.85813076e-02,\n",
       "       3.64704518e-02, 5.69930970e-02, 5.58665842e-02, 5.35527826e-02,\n",
       "       1.06116073e-01, 1.08829671e-01, 9.52138974e-02, 1.10763108e-01,\n",
       "       1.16131762e-01, 1.02914833e-01, 9.88692100e-02, 1.19617774e-01,\n",
       "       1.03976432e-01, 1.02931374e-01, 1.02121220e-01, 1.00200564e-01,\n",
       "       9.05678306e-02, 1.01716939e-01, 1.03265250e-01, 9.74433821e-02,\n",
       "       9.57861943e-02, 1.00961984e-01, 8.01915008e-02, 9.68459888e-02,\n",
       "       1.08813212e-01, 8.48914200e-02, 7.90040793e-02, 1.03210837e-01,\n",
       "       1.07117383e-01, 8.57001921e-02, 9.23660266e-02, 1.04990419e-01,\n",
       "       9.42458605e-02, 8.44931019e-02, 9.56147580e-02, 9.92345692e-02,\n",
       "       7.36060912e-02, 9.28940582e-02, 9.59385745e-02, 1.05576358e-01,\n",
       "       1.07656905e-01, 9.39816650e-02, 9.16335737e-02, 1.04320990e-01,\n",
       "       1.08810442e-01, 8.52409188e-02, 9.07511705e-02, 9.03526158e-02,\n",
       "       1.07512298e-01, 9.39953364e-02, 1.09302103e-01, 9.45201892e-02,\n",
       "       9.14295277e-02, 1.01215611e-01, 1.12314112e-01, 1.06385105e-01,\n",
       "       8.46392049e-02, 9.85962400e-02, 1.01601457e-01, 1.26676256e-01,\n",
       "       1.19423385e-01, 1.00949245e-01, 1.00664549e-01, 9.99402653e-02,\n",
       "       9.97864586e-02, 9.83031059e-02, 9.36928538e-02, 1.01786205e-01,\n",
       "       1.05808136e-01, 1.19162187e-01, 1.20583348e-01, 1.09745599e-01,\n",
       "       1.11474102e-01, 1.14996910e-01, 9.99982109e-02, 1.10506703e-01,\n",
       "       1.11868680e-01, 8.40009479e-02, 1.13216251e-01, 8.83506861e-02,\n",
       "       9.72446892e-02, 9.21166390e-02, 1.08840694e-01, 8.58933921e-02,\n",
       "       1.08027142e-01, 1.03127600e-01, 1.09196362e-01, 8.81671183e-02,\n",
       "       1.05648474e-01, 9.96491913e-02, 9.18018071e-02, 9.56846826e-02,\n",
       "       1.07860763e-01, 1.14806854e-01, 1.00386949e-01, 1.03817588e-01,\n",
       "       9.06513738e-02, 1.02611489e-01, 9.82373236e-02, 9.52984624e-02,\n",
       "       1.22288550e-01, 8.89682533e-02, 1.12203995e-01, 1.04493112e-01,\n",
       "       1.57342012e-01, 1.63307434e-01, 1.52558303e-01, 1.42701589e-01,\n",
       "       1.40817979e-01, 1.43065585e-01, 1.61459142e-01, 1.59719929e-01,\n",
       "       1.49748484e-01, 1.50240766e-01, 1.53304506e-01, 1.66818098e-01,\n",
       "       1.50317005e-01, 1.57872927e-01, 1.66644148e-01, 1.47186369e-01,\n",
       "       1.43453872e-01, 1.48649122e-01, 1.53975796e-01, 1.59131698e-01,\n",
       "       1.64146138e-01, 1.70328100e-01, 1.37698668e-01, 1.55878029e-01,\n",
       "       1.50357760e-01, 1.56703766e-01, 1.49065147e-01, 1.42215176e-01,\n",
       "       1.44303164e-01, 1.59394796e-01, 1.53906211e-01, 1.49293757e-01,\n",
       "       1.51303242e-01, 1.49681546e-01, 1.50512371e-01, 1.49131006e-01,\n",
       "       1.40396587e-01, 1.48859219e-01, 1.49929688e-01, 1.35697996e-01,\n",
       "       1.42307605e-01, 1.49350616e-01, 1.47562406e-01, 1.46337674e-01,\n",
       "       1.53889154e-01, 1.39928526e-01, 1.54530764e-01, 1.40536330e-01,\n",
       "       1.43392428e-01, 1.56352526e-01, 1.59971950e-01, 1.40588456e-01,\n",
       "       1.54279562e-01, 1.56139484e-01, 1.56303005e-01, 1.54846955e-01,\n",
       "       1.61578223e-01, 1.51664417e-01, 1.47114239e-01, 1.29361331e-01,\n",
       "       1.48717224e-01, 1.44446649e-01, 1.40475532e-01, 1.61266987e-01,\n",
       "       1.53034174e-01, 1.52512043e-01, 1.54824454e-01, 1.52925030e-01,\n",
       "       1.71339608e-01, 1.81939415e-01, 1.49397380e-01, 1.33212903e-01,\n",
       "       1.59262431e-01, 1.58884107e-01, 1.59939605e-01, 1.57101630e-01,\n",
       "       1.48677247e-01, 1.52044261e-01, 1.51121204e-01, 1.38098619e-01,\n",
       "       1.60334759e-01, 1.46480505e-01, 1.47910396e-01, 1.49528100e-01,\n",
       "       1.52801959e-01, 1.46512977e-01, 1.54488462e-01, 1.57034800e-01,\n",
       "       1.59940541e-01, 1.59616856e-01, 1.43613673e-01, 1.45312239e-01,\n",
       "       1.46063308e-01, 1.54851834e-01, 1.54839152e-01, 1.57890207e-01,\n",
       "       1.60517233e-01, 1.31401430e-01, 1.48212816e-01, 1.69483365e-01,\n",
       "       2.07175315e-01, 2.05009769e-01, 2.09434015e-01, 2.08830703e-01,\n",
       "       2.07015479e-01, 2.19712449e-01, 2.02291225e-01, 2.20518608e-01,\n",
       "       1.92337884e-01, 1.93079704e-01, 2.02620398e-01, 2.09026893e-01,\n",
       "       2.02146469e-01, 1.96928731e-01, 1.93784134e-01, 2.10615247e-01,\n",
       "       1.99212800e-01, 2.09538807e-01, 2.10947168e-01, 1.81620831e-01,\n",
       "       2.11619581e-01, 2.11692801e-01, 2.20172322e-01, 2.09369172e-01,\n",
       "       1.99827210e-01, 1.89643091e-01, 2.06806910e-01, 2.10100263e-01,\n",
       "       2.15013284e-01, 1.90703091e-01, 2.02325806e-01, 1.91282617e-01,\n",
       "       1.93769232e-01, 2.04698086e-01, 2.04401708e-01, 2.11458185e-01,\n",
       "       2.01423943e-01, 1.86341403e-01, 1.99365892e-01, 2.04556238e-01,\n",
       "       2.02908568e-01, 2.17165754e-01, 1.97461584e-01, 1.99242936e-01,\n",
       "       2.06383591e-01, 1.92209136e-01, 2.04062001e-01, 2.04533742e-01,\n",
       "       2.17502419e-01, 1.98741717e-01, 1.84193283e-01, 2.09028284e-01,\n",
       "       2.12954147e-01, 2.08941617e-01, 2.08766577e-01, 1.91504773e-01,\n",
       "       2.05565907e-01, 1.94302328e-01, 1.92029463e-01, 1.87755820e-01,\n",
       "       1.85339696e-01, 2.06172376e-01, 1.85870455e-01, 1.94304764e-01,\n",
       "       2.07051897e-01, 1.86784768e-01, 1.99300932e-01, 2.09292588e-01,\n",
       "       2.08192162e-01, 2.01005766e-01, 2.06018824e-01, 1.88164478e-01,\n",
       "       1.94983096e-01, 1.96621783e-01, 1.95690875e-01, 2.08221044e-01,\n",
       "       1.88259556e-01, 2.09442221e-01, 1.99268087e-01, 2.06466154e-01,\n",
       "       1.89966247e-01, 2.02677705e-01, 2.00892901e-01, 2.05563111e-01,\n",
       "       1.96565521e-01, 2.05081821e-01, 2.11758287e-01, 2.03234258e-01,\n",
       "       2.03527178e-01, 2.00914648e-01, 2.09186956e-01, 2.03024578e-01,\n",
       "       1.99194071e-01, 1.94086334e-01, 1.98414948e-01, 2.08188928e-01,\n",
       "       2.01293973e-01, 1.95912937e-01, 1.90210149e-01, 2.08483895e-01,\n",
       "       2.55123000e-01, 2.46611438e-01, 2.44515253e-01, 2.43109661e-01,\n",
       "       2.60672529e-01, 2.34497452e-01, 2.63503048e-01, 2.55133216e-01,\n",
       "       2.49344698e-01, 2.42440544e-01, 2.56694556e-01, 2.52656899e-01,\n",
       "       2.49918292e-01, 2.49378811e-01, 2.59167195e-01, 2.49847778e-01,\n",
       "       2.46472908e-01, 2.50069432e-01, 2.51271567e-01, 2.48473657e-01,\n",
       "       2.70464702e-01, 2.43377771e-01, 2.56832975e-01, 2.54377777e-01,\n",
       "       2.32835476e-01, 2.47489260e-01, 2.44940715e-01, 2.45548239e-01,\n",
       "       2.58343860e-01, 2.49267782e-01, 2.45335133e-01, 2.51305977e-01,\n",
       "       2.55122462e-01, 2.56628803e-01, 2.52521415e-01, 2.50661756e-01,\n",
       "       2.45900621e-01, 2.53918170e-01, 2.55721544e-01, 2.52203745e-01,\n",
       "       2.44236258e-01, 2.47045772e-01, 2.55885544e-01, 2.43198051e-01,\n",
       "       2.50366262e-01, 2.49834199e-01, 2.63994720e-01, 2.47442339e-01,\n",
       "       2.56452568e-01, 2.50908418e-01, 2.54959298e-01, 2.57885846e-01,\n",
       "       2.31551883e-01, 2.52959978e-01, 2.47734403e-01, 2.54035942e-01,\n",
       "       2.55493927e-01, 2.54770241e-01, 2.53780394e-01, 2.41770715e-01,\n",
       "       2.66614351e-01, 2.37162426e-01, 2.49175885e-01, 2.43516955e-01,\n",
       "       2.50568454e-01, 2.65976853e-01, 2.41629124e-01, 2.52915120e-01,\n",
       "       2.49673854e-01, 2.49223040e-01, 2.65426473e-01, 2.37783052e-01,\n",
       "       2.48171255e-01, 2.55082092e-01, 2.47359024e-01, 2.44593261e-01,\n",
       "       2.52770009e-01, 2.61365738e-01, 2.49652517e-01, 2.40978031e-01,\n",
       "       2.59934041e-01, 2.55495929e-01, 2.55256047e-01, 2.61865232e-01,\n",
       "       2.54833565e-01, 2.45174339e-01, 2.54983624e-01, 2.37583940e-01,\n",
       "       2.45117814e-01, 2.50141968e-01, 2.42508544e-01, 2.52225953e-01,\n",
       "       2.51775256e-01, 2.43749177e-01, 2.65180066e-01, 2.49750086e-01,\n",
       "       2.50963013e-01, 2.52732415e-01, 2.61781499e-01, 2.64698074e-01])"
      ]
     },
     "execution_count": 18,
     "metadata": {},
     "output_type": "execute_result"
    }
   ],
   "source": [
    "itf.perfusion_fraction"
   ]
  },
  {
   "cell_type": "code",
   "execution_count": 19,
   "id": "editorial-beads",
   "metadata": {},
   "outputs": [],
   "source": [
    "pred=itf.predict(gtab)"
   ]
  },
  {
   "cell_type": "code",
   "execution_count": 20,
   "id": "israeli-wheel",
   "metadata": {},
   "outputs": [
    {
     "data": {
      "text/plain": [
       "(6, 100, 79)"
      ]
     },
     "execution_count": 20,
     "metadata": {},
     "output_type": "execute_result"
    }
   ],
   "source": [
    "sim.shape"
   ]
  },
  {
   "cell_type": "code",
   "execution_count": 21,
   "id": "capable-truth",
   "metadata": {},
   "outputs": [
    {
     "data": {
      "text/plain": [
       "(600, 79)"
      ]
     },
     "execution_count": 21,
     "metadata": {},
     "output_type": "execute_result"
    }
   ],
   "source": [
    "pred.shape"
   ]
  },
  {
   "cell_type": "code",
   "execution_count": 22,
   "id": "decent-israel",
   "metadata": {},
   "outputs": [
    {
     "data": {
      "text/plain": [
       "[<matplotlib.lines.Line2D at 0x7fb6d6a78fd0>]"
      ]
     },
     "execution_count": 22,
     "metadata": {},
     "output_type": "execute_result"
    },
    {
     "data": {
      "image/png": "[encoded data removed]",
      "text/plain": [
       "<Figure size 432x288 with 1 Axes>"
      ]
     },
     "metadata": {
      "needs_background": "light"
     },
     "output_type": "display_data"
    }
   ],
   "source": [
    "plt.plot(gtab.bvals, pred[0], 'o')\n",
    "plt.plot(gtab.bvals, sim[0, 0], 'o')"
   ]
  },
  {
   "cell_type": "code",
   "execution_count": null,
   "id": "alpine-adaptation",
   "metadata": {},
   "outputs": [],
   "source": []
  }
 ],
 "metadata": {
  "kernelspec": {
   "display_name": "Python 3",
   "language": "python",
   "name": "python3"
  },
  "language_info": {
   "codemirror_mode": {
    "name": "ipython",
    "version": 3
   },
   "file_extension": ".py",
   "mimetype": "text/x-python",
   "name": "python",
   "nbconvert_exporter": "python",
   "pygments_lexer": "ipython3",
   "version": "3.7.10"
  }
 },
 "nbformat": 4,
 "nbformat_minor": 5
}

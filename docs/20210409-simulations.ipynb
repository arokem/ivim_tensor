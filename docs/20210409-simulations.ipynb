{
 "cells": [
  {
   "cell_type": "code",
   "execution_count": 1,
   "id": "legal-prior",
   "metadata": {},
   "outputs": [],
   "source": [
    "import numpy as np\n",
    "import matplotlib.pyplot as plt"
   ]
  },
  {
   "cell_type": "code",
   "execution_count": 2,
   "id": "outside-rapid",
   "metadata": {},
   "outputs": [],
   "source": [
    "from dipy.core.gradients import gradient_table"
   ]
  },
  {
   "cell_type": "code",
   "execution_count": 3,
   "id": "material-justice",
   "metadata": {},
   "outputs": [],
   "source": [
    "bvals = np.array([  10.,   40.,   60.,   80.,  100.,  150.,  200.,  300.,  500.,\n",
    "         700.,  800.,  900., 1000.,   10.,   40.,   60.,   80.,  100.,\n",
    "         150.,  200.,  300.,  500.,  700.,  800.,  900., 1000.,   10.,\n",
    "          40.,   60.,   80.,  100.,  150.,  200.,  300.,  500.,  700.,\n",
    "         800.,  900., 1000.,   10.,   40.,   60.,   80.,  100.,  150.,\n",
    "         200.,  300.,  500.,  700.,  800.,  900., 1000.,   10.,   40.,\n",
    "          60.,   80.,  100.,  150.,  200.,  300.,  500.,  700.,  800.,\n",
    "         900., 1000.,   10.,   40.,   60.,   80.,  100.,  150.,  200.,\n",
    "         300.,  500.,  700.,  800.,  900., 1000.,    0.])"
   ]
  },
  {
   "cell_type": "code",
   "execution_count": 4,
   "id": "comfortable-angola",
   "metadata": {},
   "outputs": [],
   "source": [
    "bvecs = np.array([[-1.00000e+00, -3.40515e-09,  0.00000e+00],\n",
    "        [-1.00000e+00, -3.40515e-09,  0.00000e+00],\n",
    "        [-1.00000e+00, -3.40515e-09,  0.00000e+00],\n",
    "        [-1.00000e+00, -3.40515e-09,  0.00000e+00],\n",
    "        [-1.00000e+00, -3.40515e-09,  0.00000e+00],\n",
    "        [-1.00000e+00, -3.40515e-09,  0.00000e+00],\n",
    "        [-1.00000e+00, -3.40515e-09,  0.00000e+00],\n",
    "        [-1.00000e+00, -3.40515e-09,  0.00000e+00],\n",
    "        [-1.00000e+00, -3.40515e-09,  0.00000e+00],\n",
    "        [-1.00000e+00, -3.40515e-09,  0.00000e+00],\n",
    "        [-1.00000e+00, -3.40515e-09,  0.00000e+00],\n",
    "        [-1.00000e+00, -3.40515e-09,  0.00000e+00],\n",
    "        [-1.00000e+00, -3.40515e-09,  0.00000e+00],\n",
    "        [ 3.40515e-09,  1.00000e+00,  0.00000e+00],\n",
    "        [ 3.40515e-09,  1.00000e+00,  0.00000e+00],\n",
    "        [ 3.40515e-09,  1.00000e+00,  0.00000e+00],\n",
    "        [ 3.40515e-09,  1.00000e+00,  0.00000e+00],\n",
    "        [ 3.40515e-09,  1.00000e+00,  0.00000e+00],\n",
    "        [ 3.40515e-09,  1.00000e+00,  0.00000e+00],\n",
    "        [ 3.40515e-09,  1.00000e+00,  0.00000e+00],\n",
    "        [ 3.40515e-09,  1.00000e+00,  0.00000e+00],\n",
    "        [ 3.40515e-09,  1.00000e+00,  0.00000e+00],\n",
    "        [ 3.40515e-09,  1.00000e+00,  0.00000e+00],\n",
    "        [ 3.40515e-09,  1.00000e+00,  0.00000e+00],\n",
    "        [ 3.40515e-09,  1.00000e+00,  0.00000e+00],\n",
    "        [ 3.40515e-09,  1.00000e+00,  0.00000e+00],\n",
    "        [ 0.00000e+00,  0.00000e+00,  1.00000e+00],\n",
    "        [ 0.00000e+00,  0.00000e+00,  1.00000e+00],\n",
    "        [ 0.00000e+00,  0.00000e+00,  1.00000e+00],\n",
    "        [ 0.00000e+00,  0.00000e+00,  1.00000e+00],\n",
    "        [ 0.00000e+00,  0.00000e+00,  1.00000e+00],\n",
    "        [ 0.00000e+00,  0.00000e+00,  1.00000e+00],\n",
    "        [ 0.00000e+00,  0.00000e+00,  1.00000e+00],\n",
    "        [ 0.00000e+00,  0.00000e+00,  1.00000e+00],\n",
    "        [ 0.00000e+00,  0.00000e+00,  1.00000e+00],\n",
    "        [ 0.00000e+00,  0.00000e+00,  1.00000e+00],\n",
    "        [ 0.00000e+00,  0.00000e+00,  1.00000e+00],\n",
    "        [ 0.00000e+00,  0.00000e+00,  1.00000e+00],\n",
    "        [ 0.00000e+00,  0.00000e+00,  1.00000e+00],\n",
    "        [ 7.04358e-01, -8.80947e-02, -7.04358e-01],\n",
    "        [ 7.04358e-01, -8.80947e-02, -7.04358e-01],\n",
    "        [ 7.04358e-01, -8.80947e-02, -7.04358e-01],\n",
    "        [ 7.04358e-01, -8.80947e-02, -7.04358e-01],\n",
    "        [ 7.04358e-01, -8.80947e-02, -7.04358e-01],\n",
    "        [ 7.04358e-01, -8.80947e-02, -7.04358e-01],\n",
    "        [ 7.04358e-01, -8.80947e-02, -7.04358e-01],\n",
    "        [ 7.04358e-01, -8.80947e-02, -7.04358e-01],\n",
    "        [ 7.04358e-01, -8.80947e-02, -7.04358e-01],\n",
    "        [ 7.04358e-01, -8.80947e-02, -7.04358e-01],\n",
    "        [ 7.04358e-01, -8.80947e-02, -7.04358e-01],\n",
    "        [ 7.04358e-01, -8.80947e-02, -7.04358e-01],\n",
    "        [ 7.04358e-01, -8.80947e-02, -7.04358e-01],\n",
    "        [-7.04358e-01,  7.04358e-01,  8.80947e-02],\n",
    "        [-7.04358e-01,  7.04358e-01,  8.80947e-02],\n",
    "        [-7.04358e-01,  7.04358e-01,  8.80947e-02],\n",
    "        [-7.04358e-01,  7.04358e-01,  8.80947e-02],\n",
    "        [-7.04358e-01,  7.04358e-01,  8.80947e-02],\n",
    "        [-7.04358e-01,  7.04358e-01,  8.80947e-02],\n",
    "        [-7.04358e-01,  7.04358e-01,  8.80947e-02],\n",
    "        [-7.04358e-01,  7.04358e-01,  8.80947e-02],\n",
    "        [-7.04358e-01,  7.04358e-01,  8.80947e-02],\n",
    "        [-7.04358e-01,  7.04358e-01,  8.80947e-02],\n",
    "        [-7.04358e-01,  7.04358e-01,  8.80947e-02],\n",
    "        [-7.04358e-01,  7.04358e-01,  8.80947e-02],\n",
    "        [-7.04358e-01,  7.04358e-01,  8.80947e-02],\n",
    "        [-8.80947e-02,  7.04358e-01,  7.04358e-01],\n",
    "        [-8.80947e-02,  7.04358e-01,  7.04358e-01],\n",
    "        [-8.80947e-02,  7.04358e-01,  7.04358e-01],\n",
    "        [-8.80947e-02,  7.04358e-01,  7.04358e-01],\n",
    "        [-8.80947e-02,  7.04358e-01,  7.04358e-01],\n",
    "        [-8.80947e-02,  7.04358e-01,  7.04358e-01],\n",
    "        [-8.80947e-02,  7.04358e-01,  7.04358e-01],\n",
    "        [-8.80947e-02,  7.04358e-01,  7.04358e-01],\n",
    "        [-8.80947e-02,  7.04358e-01,  7.04358e-01],\n",
    "        [-8.80947e-02,  7.04358e-01,  7.04358e-01],\n",
    "        [-8.80947e-02,  7.04358e-01,  7.04358e-01],\n",
    "        [-8.80947e-02,  7.04358e-01,  7.04358e-01],\n",
    "        [-8.80947e-02,  7.04358e-01,  7.04358e-01],\n",
    "        [ 0.00000e+00,  0.00000e+00,  0.00000e+00]])"
   ]
  },
  {
   "cell_type": "code",
   "execution_count": 5,
   "id": "mental-empire",
   "metadata": {},
   "outputs": [],
   "source": [
    "gtab = gradient_table(bvals, bvecs, b0_threshold=0)"
   ]
  },
  {
   "cell_type": "code",
   "execution_count": 6,
   "id": "auburn-computer",
   "metadata": {},
   "outputs": [],
   "source": [
    "from dipy.sims.voxel import multi_tensor"
   ]
  },
  {
   "cell_type": "code",
   "execution_count": 7,
   "id": "velvet-protection",
   "metadata": {},
   "outputs": [],
   "source": [
    "mevals = np.array([[0.001, 0.0005, 0.0005], \n",
    "                   [0.1, 0.01, 0.01]])\n",
    "\n",
    "angles = [(90, 0), (90, 0)]"
   ]
  },
  {
   "cell_type": "code",
   "execution_count": 8,
   "id": "split-edmonton",
   "metadata": {},
   "outputs": [],
   "source": [
    "from ivim_tensor import IvimTensorModel"
   ]
  },
  {
   "cell_type": "code",
   "execution_count": 9,
   "id": "neutral-stable",
   "metadata": {},
   "outputs": [
    {
     "name": "stderr",
     "output_type": "stream",
     "text": [
      "/srv/conda/envs/notebook/lib/python3.7/site-packages/dipy/reconst/ivim.py:151: UserWarning: Bounds for this fit have been set from experiments and literature survey. To change the bounds, please input your bounds in model definition...\n",
      "  warnings.warn(bounds_warning, UserWarning)\n"
     ]
    }
   ],
   "source": [
    "itm = IvimTensorModel(gtab, n_threads=20)"
   ]
  },
  {
   "cell_type": "code",
   "execution_count": 10,
   "id": "stock-parameter",
   "metadata": {},
   "outputs": [],
   "source": [
    "betas = np.arange(0.001, 0.3, 0.05)"
   ]
  },
  {
   "cell_type": "code",
   "execution_count": 11,
   "id": "affecting-dispatch",
   "metadata": {},
   "outputs": [],
   "source": [
    "beta = 0.2"
   ]
  },
  {
   "cell_type": "code",
   "execution_count": 12,
   "id": "voluntary-bouquet",
   "metadata": {},
   "outputs": [],
   "source": [
    "sim = multi_tensor(gtab, mevals=mevals, snr=50, fractions=[100 * (1-beta), \n",
    "                                                           beta * 100])[0]"
   ]
  },
  {
   "cell_type": "code",
   "execution_count": 13,
   "id": "aware-seating",
   "metadata": {},
   "outputs": [
    {
     "name": "stderr",
     "output_type": "stream",
     "text": [
      "100%|██████████| 20/20 [00:00<00:00, 45565.50it/s]\n"
     ]
    }
   ],
   "source": [
    "itf = itm.fit(sim)"
   ]
  },
  {
   "cell_type": "code",
   "execution_count": 14,
   "id": "announced-discovery",
   "metadata": {},
   "outputs": [
    {
     "name": "stderr",
     "output_type": "stream",
     "text": [
      "ERROR:root:No traceback has been produced, nothing to debug.\n"
     ]
    }
   ],
   "source": [
    "debug"
   ]
  },
  {
   "cell_type": "code",
   "execution_count": 15,
   "id": "impressive-glance",
   "metadata": {},
   "outputs": [
    {
     "data": {
      "text/plain": [
       "array([0.21315363])"
      ]
     },
     "execution_count": 15,
     "metadata": {},
     "output_type": "execute_result"
    }
   ],
   "source": [
    "itf.perfusion_fraction"
   ]
  },
  {
   "cell_type": "code",
   "execution_count": 16,
   "id": "adjustable-boundary",
   "metadata": {},
   "outputs": [],
   "source": [
    "pred = itf.predict(gtab).squeeze()"
   ]
  },
  {
   "cell_type": "code",
   "execution_count": 17,
   "id": "regular-allowance",
   "metadata": {},
   "outputs": [
    {
     "data": {
      "text/plain": [
       "[<matplotlib.lines.Line2D at 0x7f67e392d9d0>]"
      ]
     },
     "execution_count": 17,
     "metadata": {},
     "output_type": "execute_result"
    },
    {
     "data": {
      "image/png": "[encoded data removed]",
      "text/plain": [
       "<Figure size 432x288 with 1 Axes>"
      ]
     },
     "metadata": {
      "needs_background": "light"
     },
     "output_type": "display_data"
    }
   ],
   "source": [
    "plt.plot(gtab.bvals, sim, 'o')\n",
    "plt.plot(gtab.bvals, itf.model.ivim_fit.predict(gtab).squeeze(), 'o')"
   ]
  },
  {
   "cell_type": "code",
   "execution_count": 18,
   "id": "theoretical-letter",
   "metadata": {},
   "outputs": [
    {
     "data": {
      "text/plain": [
       "[<matplotlib.lines.Line2D at 0x7f67e382da50>]"
      ]
     },
     "execution_count": 18,
     "metadata": {},
     "output_type": "execute_result"
    },
    {
     "data": {
      "image/png": "[encoded data removed]",
      "text/plain": [
       "<Figure size 432x288 with 1 Axes>"
      ]
     },
     "metadata": {
      "needs_background": "light"
     },
     "output_type": "display_data"
    }
   ],
   "source": [
    "plt.plot(gtab.bvals, sim, 'o')\n",
    "plt.plot(gtab.bvals, pred, 'o')\n"
   ]
  },
  {
   "cell_type": "code",
   "execution_count": null,
   "id": "recreational-mattress",
   "metadata": {},
   "outputs": [],
   "source": []
  },
  {
   "cell_type": "code",
   "execution_count": 19,
   "id": "virtual-bumper",
   "metadata": {},
   "outputs": [],
   "source": [
    "n_sims = 100"
   ]
  },
  {
   "cell_type": "code",
   "execution_count": 20,
   "id": "heated-representation",
   "metadata": {},
   "outputs": [],
   "source": [
    "pf = np.zeros((len(betas), n_sims))\n",
    "sim = np.zeros((len(betas), n_sims, gtab.bvals.shape[0]))\n",
    "\n",
    "for ii in range(len(betas)):\n",
    "    for nn in range(n_sims):\n",
    "        sim[ii, nn] = multi_tensor(gtab, mevals=mevals, snr=50, fractions=[100 * (1-betas[ii]), \n",
    "                                                                     betas[ii] * 100])[0]\n",
    "#pf[ii, nn] = (itf.perfusion_fraction)"
   ]
  },
  {
   "cell_type": "code",
   "execution_count": 21,
   "id": "flying-staff",
   "metadata": {},
   "outputs": [
    {
     "name": "stderr",
     "output_type": "stream",
     "text": [
      "/srv/conda/envs/notebook/lib/python3.7/site-packages/dipy/reconst/ivim.py:434: UserWarning: x0 obtained from linear fitting is not feasibile as initial guess for leastsq while estimating f and D_star. Using parameters from the linear fit.\n",
      "  warnings.warn(warningMsg, UserWarning)\n",
      "/srv/conda/envs/notebook/lib/python3.7/site-packages/dipy/reconst/ivim.py:507: UserWarning: x0 is unfeasible for leastsq fitting. Returning x0 values from the linear fit.\n",
      "  warnings.warn(warningMsg, UserWarning)\n",
      "/srv/conda/envs/notebook/lib/python3.7/site-packages/dipy/reconst/ivim.py:344: UserWarning: Bounds are violated for leastsq fitting. Returning parameters from linear fit\n",
      "  warnings.warn(warningMsg, UserWarning)\n",
      "100%|██████████| 20/20 [00:00<00:00, 90492.00it/s]"
     ]
    },
    {
     "name": "stdout",
     "output_type": "stream",
     "text": [
      "CPU times: user 33.9 s, sys: 7.73 s, total: 41.7 s\n",
      "Wall time: 30.1 s\n"
     ]
    },
    {
     "name": "stderr",
     "output_type": "stream",
     "text": [
      "\n"
     ]
    }
   ],
   "source": [
    "%%time\n",
    "itf = itm.fit(sim)"
   ]
  },
  {
   "cell_type": "code",
   "execution_count": 22,
   "id": "needed-board",
   "metadata": {},
   "outputs": [
    {
     "name": "stderr",
     "output_type": "stream",
     "text": [
      "ERROR:root:No traceback has been produced, nothing to debug.\n"
     ]
    }
   ],
   "source": [
    "debug"
   ]
  },
  {
   "cell_type": "code",
   "execution_count": 23,
   "id": "treated-investment",
   "metadata": {},
   "outputs": [
    {
     "data": {
      "text/plain": [
       "(6, 100, 79)"
      ]
     },
     "execution_count": 23,
     "metadata": {},
     "output_type": "execute_result"
    }
   ],
   "source": [
    "sim.shape"
   ]
  },
  {
   "cell_type": "code",
   "execution_count": 24,
   "id": "restricted-blues",
   "metadata": {},
   "outputs": [],
   "source": [
    "pf = np.reshape(itf.perfusion_fraction, sim.shape[:2])"
   ]
  },
  {
   "cell_type": "code",
   "execution_count": 25,
   "id": "cooperative-tuition",
   "metadata": {},
   "outputs": [
    {
     "data": {
      "text/plain": [
       "array([0.04707826, 0.05778851, 0.09127064, 0.13444008, 0.17957184,\n",
       "       0.21712134])"
      ]
     },
     "execution_count": 25,
     "metadata": {},
     "output_type": "execute_result"
    }
   ],
   "source": [
    "np.nanmean(pf, -1)"
   ]
  },
  {
   "cell_type": "code",
   "execution_count": 26,
   "id": "employed-marketplace",
   "metadata": {},
   "outputs": [
    {
     "data": {
      "image/png": "[encoded data removed]",
      "text/plain": [
       "<Figure size 432x288 with 1 Axes>"
      ]
     },
     "metadata": {
      "needs_background": "light"
     },
     "output_type": "display_data"
    }
   ],
   "source": [
    "_ = plt.plot(betas, pf, color=\"C0\", marker='o', linestyle=\"None\", alpha=0.1)\n",
    "_ = plt.plot(betas, betas, 'k--')"
   ]
  },
  {
   "cell_type": "code",
   "execution_count": 27,
   "id": "infrared-rendering",
   "metadata": {},
   "outputs": [
    {
     "data": {
      "text/plain": [
       "array([1.58804398e-01, 1.99712970e-01, 3.13782100e-02, 1.00000000e-10,\n",
       "       7.77071687e-02, 4.53540414e-06, 1.29819717e-01, 3.15900353e-06,\n",
       "       1.99778009e-01, 7.52368203e-03, 6.78685322e-05, 7.48858887e-11,\n",
       "       2.27084900e-02, 3.79853997e-02, 4.33696941e-02, 2.51992921e-02,\n",
       "       1.23677462e-13, 4.12158653e-03, 2.40894967e-02, 6.92411869e-11,\n",
       "       7.33138616e-02, 5.09166934e-02, 9.99663001e-11, 1.99742138e-01,\n",
       "       6.44499459e-03, 1.99701731e-01, 7.29913480e-05, 3.50429994e-02,\n",
       "       2.67858947e-02, 3.67881229e-02, 2.77942706e-02, 3.29309500e-02,\n",
       "       1.50293373e-01, 4.97530192e-02, 2.34066932e-02, 2.86959554e-02,\n",
       "       3.66871845e-02, 5.00000000e-13, 2.85378370e-02, 1.50345897e-01,\n",
       "       2.81717842e-02, 2.08740648e-05, 4.99991940e-13, 1.52168429e-02,\n",
       "       6.15111233e-02, 5.96381434e-02, 5.55356187e-02, 6.94406745e-03,\n",
       "       1.44634303e-01, 9.68392436e-02, 6.33507932e-02, 7.22222517e-05,\n",
       "       9.46992389e-05, 5.47765376e-03, 3.61177477e-02, 4.08142044e-03,\n",
       "       3.66087223e-02, 9.99948733e-11, 9.99785532e-11, 1.10364198e-01,\n",
       "       4.93258600e-02, 3.03940549e-02, 9.99998648e-11, 7.44144351e-11,\n",
       "       5.51860694e-02, 9.99967764e-11, 1.99715522e-01, 1.09970007e-01,\n",
       "       2.23600959e-02, 7.07620658e-11, 9.99876249e-11, 1.16249114e-01,\n",
       "       4.07422308e-02, 2.02396564e-03, 3.47722355e-11, 8.95630289e-06,\n",
       "       3.52714199e-03, 8.23723295e-02, 8.75988179e-11, 9.99820229e-11,\n",
       "       1.46737688e-01, 6.87879604e-02, 5.81716660e-02, 4.37215070e-11,\n",
       "       5.04970742e-02, 6.52124696e-02, 1.80936849e-02, 9.99876689e-11,\n",
       "       2.39617458e-02, 5.43287710e-02, 1.99783714e-01, 1.56257761e-05,\n",
       "       9.99922538e-11, 2.07236142e-06, 1.99737511e-01, 1.16176785e-02,\n",
       "       5.33633602e-07, 9.47498157e-03, 1.99732614e-01, 4.55870895e-02,\n",
       "       3.32698177e-02, 3.63486913e-02, 8.20429373e-02, 2.51735196e-04,\n",
       "       2.82194739e-02, 6.75156302e-02, 1.51288589e-02, 5.69701450e-02,\n",
       "       5.76976549e-02, 1.08213778e-01, 5.73923859e-02, 4.35083033e-02,\n",
       "       5.76775682e-02, 5.29171319e-02, 1.90436250e-02, 1.40583768e-02,\n",
       "       3.65313955e-02, 6.88369791e-02, 9.01851179e-02, 3.89694490e-02,\n",
       "       5.83878753e-02, 1.22146718e-02, 6.77697444e-02, 8.29888485e-02,\n",
       "       1.38251441e-02, 4.26054921e-02, 4.18754937e-02, 3.17492119e-02,\n",
       "       4.16926043e-02, 3.99307230e-02, 7.79196247e-02, 2.07394807e-02,\n",
       "       4.97561551e-02, 4.48687309e-02, 5.95264806e-02, 6.08834421e-02,\n",
       "       3.35560286e-02, 6.78155795e-02, 1.32786787e-01, 6.93013884e-02,\n",
       "       7.62778569e-02, 6.49928529e-02, 1.91038820e-02, 1.02441917e-01,\n",
       "       5.10603689e-02, 4.31121027e-02, 6.82216870e-02, 6.18684511e-02,\n",
       "       9.03379174e-03, 1.99814268e-01, 6.58382396e-02, 7.48528422e-02,\n",
       "       7.28335653e-02, 6.07452663e-02, 4.50518070e-02, 6.75629796e-02,\n",
       "       6.14572942e-02, 5.55832934e-02, 5.13736325e-02, 1.96027918e-01,\n",
       "       4.53339484e-02, 4.61317044e-02, 4.40839042e-02, 1.40078126e-02,\n",
       "       4.25626326e-02, 4.19349058e-02, 3.72659035e-02, 4.84317688e-02,\n",
       "       3.51439970e-02, 1.99859740e-01, 9.04333542e-02, 7.80498519e-02,\n",
       "       1.24946485e-01, 6.02519129e-02, 5.77336550e-02, 5.03023255e-02,\n",
       "       9.93245747e-02, 6.28816418e-02, 5.13061780e-02, 2.83422654e-02,\n",
       "       7.76346736e-02, 5.55022530e-02, 7.22433267e-02, 4.93720070e-02,\n",
       "       6.82778401e-02, 2.70544845e-05, 4.66373301e-05, 4.75774987e-02,\n",
       "       6.14407040e-02, 4.95769486e-02, 5.51876137e-02, 3.67388725e-02,\n",
       "       5.63420112e-02, 4.10967607e-02, 4.82733511e-02, 2.73397790e-02,\n",
       "       7.53637414e-02, 4.75733844e-02, 9.41762328e-02, 9.45055481e-02,\n",
       "       6.31720616e-02, 4.33395830e-02, 9.01584398e-02, 8.85471590e-02,\n",
       "       8.19822585e-02, 1.10412575e-01, 1.17547064e-01, 1.13897439e-01,\n",
       "       1.63368360e-01, 1.02070307e-01, 9.08986369e-02, 8.58283337e-02,\n",
       "       8.78595900e-03, 6.50902471e-02, 6.97582031e-02, 2.73185183e-02,\n",
       "       9.84923741e-02, 1.04309514e-01, 1.20035660e-01, 1.08524870e-01,\n",
       "       8.22555373e-02, 1.01998410e-01, 1.15564392e-01, 1.13424941e-01,\n",
       "       8.72318586e-02, 9.96520777e-02, 9.12032095e-02, 1.01571455e-01,\n",
       "       8.17321395e-02, 9.17745984e-02, 8.87434191e-02, 8.52554665e-02,\n",
       "       9.17236108e-02, 9.76730296e-02, 6.56885159e-02, 9.86541564e-02,\n",
       "       8.57033277e-02, 8.90504982e-02, 6.25701814e-02, 9.67258996e-02,\n",
       "       8.83874069e-02, 8.35291631e-02, 8.92169579e-02, 1.24227460e-01,\n",
       "       1.08531899e-01, 8.66029703e-02, 8.03520484e-02, 1.07819689e-01,\n",
       "       1.11340616e-01, 9.28596059e-02, 9.57315295e-02, 7.21359108e-02,\n",
       "       1.05471766e-01, 1.08325848e-01, 9.31788530e-02, 7.10553388e-02,\n",
       "       9.80760468e-02, 6.76453665e-02, 7.40101317e-02, 9.94786779e-02,\n",
       "       1.03304938e-01, 7.82337169e-02, 1.08999613e-01, 8.89105656e-02,\n",
       "       8.43791218e-02, 9.72331251e-02, 6.36014130e-02, 9.37452413e-02,\n",
       "       8.77202980e-02, 8.10300741e-02, 6.29745186e-02, 9.08986219e-02,\n",
       "       1.16459133e-01, 7.70755960e-02, 1.10711266e-01, 1.02798239e-01,\n",
       "       9.35581966e-02, 1.11290331e-01, 1.12770962e-01, 8.44609180e-02,\n",
       "       1.01480618e-01, 7.08631316e-02, 1.26168992e-01, 5.52624661e-02,\n",
       "       9.64037202e-02, 8.29146279e-02, 1.05263485e-01, 8.59513894e-02,\n",
       "       1.15471713e-01, 7.13551207e-02, 9.00993083e-02, 9.88203730e-02,\n",
       "       8.36665174e-02, 1.10912109e-01, 6.61820733e-02, 9.53753637e-02,\n",
       "       8.49409973e-02, 1.05553338e-01, 9.62940921e-02, 9.42167791e-02,\n",
       "       1.64389161e-01, 1.33307108e-01, 1.22973267e-01, 1.48773350e-01,\n",
       "       1.31775459e-01, 1.71789366e-01, 1.34895877e-01, 7.47434999e-02,\n",
       "       1.32562172e-01, 1.35951302e-01, 1.29314342e-01, 1.04509458e-01,\n",
       "       1.60734098e-01, 1.54188344e-01, 1.39782127e-01, 1.52390666e-01,\n",
       "       1.45104950e-01, 1.12026324e-01, 1.15139153e-01, 1.33965793e-01,\n",
       "       1.49705091e-01, 1.24633417e-01, 1.61509816e-01, 1.18027740e-01,\n",
       "       1.42492953e-01, 1.51996831e-01, 1.59577210e-01, 1.53795183e-01,\n",
       "       1.23459397e-01, 1.36609383e-01, 1.32263361e-01, 1.76728804e-01,\n",
       "       1.28540862e-01, 1.45672543e-01, 1.41901174e-01, 1.60059253e-01,\n",
       "       1.42735771e-01, 1.29985598e-01, 1.40309897e-01, 1.35671180e-01,\n",
       "       1.65561481e-01, 9.81735166e-02, 1.52101929e-01, 9.76274105e-02,\n",
       "       1.48264320e-01, 1.07842412e-01, 1.16832107e-01, 1.21136445e-01,\n",
       "       1.29652524e-01, 1.36851930e-01, 1.31554743e-01, 1.24561996e-01,\n",
       "       1.77336172e-01, 1.14426139e-01, 9.39597532e-02, 1.40324868e-01,\n",
       "       1.23237330e-01, 1.43850696e-01, 1.39484509e-01, 1.36979342e-01,\n",
       "       1.44356554e-01, 9.69556265e-02, 1.08443187e-01, 1.43434134e-01,\n",
       "       1.22929005e-01, 1.23720132e-01, 1.49948418e-01, 1.44517883e-01,\n",
       "       1.41015878e-01, 1.21032241e-01, 1.56908031e-01, 1.19668155e-01,\n",
       "       1.25028629e-01, 1.23412727e-01, 1.55333142e-01, 1.48542126e-01,\n",
       "       1.46183867e-01, 1.24036795e-01, 1.30066969e-01, 1.22089410e-01,\n",
       "       1.43466612e-01, 1.10155658e-01, 1.20259772e-01, 1.31299728e-01,\n",
       "       1.29592387e-01, 1.31898023e-01, 1.29320933e-01, 1.26713013e-01,\n",
       "       1.19306961e-01, 1.55232263e-01, 1.10800723e-01, 1.52346925e-01,\n",
       "       1.31309473e-01, 1.70550977e-01, 1.36582591e-01, 1.27439884e-01,\n",
       "       1.53383260e-01, 1.20454052e-01, 1.18168610e-01, 1.24352280e-01,\n",
       "       2.14276223e-01, 2.32878731e-01, 1.72456309e-01, 1.77574127e-01,\n",
       "       1.74877916e-01, 1.85263720e-01, 1.84556859e-01, 1.98702054e-01,\n",
       "       1.80350756e-01, 1.60421053e-01, 1.91118408e-01, 1.66316574e-01,\n",
       "       1.96152915e-01, 1.61914154e-01, 1.63621089e-01, 1.56530101e-01,\n",
       "       1.72275331e-01, 1.59107849e-01, 1.67332189e-01, 1.50837173e-01,\n",
       "       1.63457842e-01, 1.83905603e-01, 1.56301215e-01, 1.81738302e-01,\n",
       "       1.87514972e-01, 1.88325658e-01, 2.07443258e-01, 1.47039224e-01,\n",
       "       1.99719375e-01, 2.25447048e-01, 1.77084648e-01, 1.83091179e-01,\n",
       "       1.54524023e-01, 1.97194981e-01, 1.66621053e-01, 1.74088877e-01,\n",
       "       1.95500999e-01, 1.58020251e-01, 1.54290224e-01, 1.89644612e-01,\n",
       "       1.78874782e-01, 1.69794473e-01, 2.04097547e-01, 1.77271270e-01,\n",
       "       1.71322536e-01, 1.69479968e-01, 2.01498911e-01, 1.67159349e-01,\n",
       "       1.75004724e-01, 1.53530771e-01, 1.57164193e-01, 2.00361096e-01,\n",
       "       1.89393438e-01, 1.58386211e-01, 2.13319917e-01, 2.19766295e-01,\n",
       "       2.18518272e-01, 1.68132794e-01, 1.77925708e-01, 1.59432664e-01,\n",
       "       1.64384638e-01, 2.05456668e-01, 1.75173879e-01, 1.36472077e-01,\n",
       "       2.05301024e-01, 1.59121660e-01, 1.70708631e-01, 2.19861611e-01,\n",
       "       1.85480966e-01, 1.69993574e-01, 1.74800172e-01, 1.30946921e-01,\n",
       "       1.86887446e-01, 1.62494071e-01, 1.53155359e-01, 1.53527192e-01,\n",
       "       1.57253227e-01, 2.16469116e-01, 1.66962285e-01, 1.75111755e-01,\n",
       "       1.58856531e-01, 2.22529447e-01, 1.70383549e-01, 1.76922906e-01,\n",
       "       1.88246657e-01, 1.77021356e-01, 1.82814576e-01, 1.67116782e-01,\n",
       "       1.83585601e-01, 2.09685707e-01, 1.72112596e-01, 1.70040543e-01,\n",
       "       2.08527699e-01, 1.70225091e-01, 1.86071501e-01, 1.97082149e-01,\n",
       "       1.79241460e-01, 2.19340176e-01, 1.93266948e-01, 1.66599137e-01,\n",
       "       2.00000000e-01, 2.00000000e-01, 1.94794460e-01, 2.26230108e-01,\n",
       "       1.91119231e-01, 2.74536515e-01, 2.00000000e-01, 2.00032293e-01,\n",
       "       2.48262384e-01, 2.23704915e-01, 2.00000000e-01, 2.61709644e-01,\n",
       "       1.96956980e-01, 2.21538604e-01, 1.97002394e-01, 2.00038513e-01,\n",
       "       2.00000000e-01, 1.96503554e-01, 2.00028389e-01, 1.99855891e-01,\n",
       "       1.94538008e-01, 2.53878902e-01, 1.75184909e-01, 2.48350205e-01,\n",
       "       1.98024508e-01, 2.00035364e-01, 1.93343871e-01, 2.26910541e-01,\n",
       "       2.00000000e-01, 2.39264570e-01, 2.38673413e-01, 2.65909212e-01,\n",
       "       1.66730032e-01, 2.26758243e-01, 2.00000000e-01, 2.23776121e-01,\n",
       "       1.97580573e-01, 2.25456991e-01, 2.62820297e-01, 2.30766663e-01,\n",
       "       2.00038796e-01, 2.00036922e-01, 2.00000000e-01, 1.85764406e-01,\n",
       "       2.00000000e-01, 2.79252735e-01, 1.97976694e-01, 1.89153929e-01,\n",
       "       1.88957801e-01, 2.44790525e-01, 2.00041596e-01, 2.46670985e-01,\n",
       "       2.45880571e-01, 2.66868970e-01, 2.54111411e-01, 2.47931082e-01,\n",
       "       2.28933059e-01, 1.76895550e-01, 1.90769250e-01, 2.07106009e-01,\n",
       "       2.15524279e-01, 2.33456129e-01, 2.11170228e-01, 2.53311598e-01,\n",
       "       2.41879799e-01, 2.00000000e-01, 2.55412261e-01, 2.42859436e-01,\n",
       "       2.00000000e-01, 2.00000000e-01, 1.90791230e-01, 1.92590580e-01,\n",
       "       2.03892248e-01, 1.99070639e-01, 2.00000000e-01, 2.37356212e-01,\n",
       "       2.38671926e-01, 2.01336652e-01, 2.33773715e-01, 2.49184933e-01,\n",
       "       2.32104464e-01, 2.29318645e-01, 1.97648106e-01, 1.95578016e-01,\n",
       "       1.99788066e-01, 2.54945301e-01, 2.57330070e-01, 2.00000000e-01,\n",
       "       2.41285717e-01, 1.91083793e-01, 1.91433492e-01, 1.83871904e-01,\n",
       "       1.86595791e-01, 1.95998826e-01, 2.71141574e-01, 2.08004893e-01,\n",
       "       2.41304633e-01, 2.71118210e-01, 1.94290265e-01, 2.17513425e-01])"
      ]
     },
     "execution_count": 27,
     "metadata": {},
     "output_type": "execute_result"
    }
   ],
   "source": [
    "itf.perfusion_fraction"
   ]
  },
  {
   "cell_type": "code",
   "execution_count": 28,
   "id": "compressed-transsexual",
   "metadata": {},
   "outputs": [],
   "source": [
    "pred=itf.predict(gtab)"
   ]
  },
  {
   "cell_type": "code",
   "execution_count": 29,
   "id": "consecutive-uniform",
   "metadata": {},
   "outputs": [
    {
     "data": {
      "text/plain": [
       "(6, 100, 79)"
      ]
     },
     "execution_count": 29,
     "metadata": {},
     "output_type": "execute_result"
    }
   ],
   "source": [
    "sim.shape"
   ]
  },
  {
   "cell_type": "code",
   "execution_count": 30,
   "id": "indonesian-emperor",
   "metadata": {},
   "outputs": [
    {
     "data": {
      "text/plain": [
       "(600, 79)"
      ]
     },
     "execution_count": 30,
     "metadata": {},
     "output_type": "execute_result"
    }
   ],
   "source": [
    "pred.shape"
   ]
  },
  {
   "cell_type": "code",
   "execution_count": 31,
   "id": "formal-adrian",
   "metadata": {},
   "outputs": [
    {
     "data": {
      "text/plain": [
       "[<matplotlib.lines.Line2D at 0x7f67e4057490>]"
      ]
     },
     "execution_count": 31,
     "metadata": {},
     "output_type": "execute_result"
    },
    {
     "data": {
      "image/png": "[encoded data removed]",
      "text/plain": [
       "<Figure size 432x288 with 1 Axes>"
      ]
     },
     "metadata": {
      "needs_background": "light"
     },
     "output_type": "display_data"
    }
   ],
   "source": [
    "plt.plot(gtab.bvals, pred[0], 'o')\n",
    "plt.plot(gtab.bvals, sim[0, 0], 'o')"
   ]
  },
  {
   "cell_type": "code",
   "execution_count": 32,
   "id": "handmade-zoning",
   "metadata": {},
   "outputs": [
    {
     "data": {
      "text/plain": [
       "(0.0030000000798643335, 0.021619174006167825)"
      ]
     },
     "execution_count": 32,
     "metadata": {},
     "output_type": "execute_result"
    }
   ],
   "source": [
    "itf.perfusion_fit.md[0], itf.perfusion_fit.md[-1]"
   ]
  },
  {
   "cell_type": "code",
   "execution_count": 33,
   "id": "negative-species",
   "metadata": {},
   "outputs": [
    {
     "data": {
      "text/plain": [
       "(array([0.00336989, 0.00308341, 0.003     ]),\n",
       " array([0.04859189, 0.0094873 , 0.00677833]))"
      ]
     },
     "execution_count": 33,
     "metadata": {},
     "output_type": "execute_result"
    }
   ],
   "source": [
    "itf.perfusion_fit.evals[6], itf.perfusion_fit.evals[-1]"
   ]
  },
  {
   "cell_type": "code",
   "execution_count": 34,
   "id": "quick-valley",
   "metadata": {},
   "outputs": [
    {
     "data": {
      "text/plain": [
       "(0.15880439782623296, 0.21751342487742953)"
      ]
     },
     "execution_count": 34,
     "metadata": {},
     "output_type": "execute_result"
    }
   ],
   "source": [
    "itf.perfusion_fraction[0], itf.perfusion_fraction[-1]"
   ]
  },
  {
   "cell_type": "code",
   "execution_count": 35,
   "id": "following-robin",
   "metadata": {},
   "outputs": [
    {
     "data": {
      "text/plain": [
       "(array([0.00083168, 0.00037059, 0.00034646]),\n",
       " array([0.00095668, 0.00052413, 0.00050568]))"
      ]
     },
     "execution_count": 35,
     "metadata": {},
     "output_type": "execute_result"
    }
   ],
   "source": [
    "itf.diffusion_fit.evals[6], itf.diffusion_fit.evals[-1]"
   ]
  },
  {
   "cell_type": "code",
   "execution_count": null,
   "id": "endless-occasion",
   "metadata": {},
   "outputs": [],
   "source": []
  }
 ],
 "metadata": {
  "kernelspec": {
   "display_name": "Python 3",
   "language": "python",
   "name": "python3"
  },
  "language_info": {
   "codemirror_mode": {
    "name": "ipython",
    "version": 3
   },
   "file_extension": ".py",
   "mimetype": "text/x-python",
   "name": "python",
   "nbconvert_exporter": "python",
   "pygments_lexer": "ipython3",
   "version": "3.7.10"
  }
 },
 "nbformat": 4,
 "nbformat_minor": 5
}

{
 "cells": [
  {
   "cell_type": "code",
   "execution_count": 1,
   "id": "introductory-factory",
   "metadata": {},
   "outputs": [],
   "source": [
    "import numpy as np\n",
    "import matplotlib.pyplot as plt"
   ]
  },
  {
   "cell_type": "code",
   "execution_count": 2,
   "id": "behavioral-republic",
   "metadata": {},
   "outputs": [],
   "source": [
    "from dipy.core.gradients import gradient_table"
   ]
  },
  {
   "cell_type": "code",
   "execution_count": 3,
   "id": "married-packaging",
   "metadata": {},
   "outputs": [],
   "source": [
    "bvals = np.array([  \n",
    "    10.,   40.,   60.,   80.,  100.,  150.,  200.,  300.,  500.,\n",
    "         700.,  800.,  900., 1000.,   10.,   40.,   60.,   80.,  100.,\n",
    "         150.,  200.,  300.,  500.,  700.,  800.,  900., 1000.,   10.,\n",
    "          40.,   60.,   80.,  100.,  150.,  200.,  300.,  500.,  700.,\n",
    "         800.,  900., 1000.,   10.,   40.,   60.,   80.,  100.,  150.,\n",
    "         200.,  300.,  500.,  700.,  800.,  900., 1000.,   10.,   40.,\n",
    "          60.,   80.,  100.,  150.,  200.,  300.,  500.,  700.,  800.,\n",
    "         900., 1000.,   10.,   40.,   60.,   80.,  100.,  150.,  200.,\n",
    "         300.,  500.,  700.,  800.,  900., 1000.,    0.])"
   ]
  },
  {
   "cell_type": "code",
   "execution_count": 4,
   "id": "frank-poverty",
   "metadata": {},
   "outputs": [],
   "source": [
    "bvecs = np.array([[-1.00000e+00, -3.40515e-09,  0.00000e+00],\n",
    "        [-1.00000e+00, -3.40515e-09,  0.00000e+00],\n",
    "        [-1.00000e+00, -3.40515e-09,  0.00000e+00],\n",
    "        [-1.00000e+00, -3.40515e-09,  0.00000e+00],\n",
    "        [-1.00000e+00, -3.40515e-09,  0.00000e+00],\n",
    "        [-1.00000e+00, -3.40515e-09,  0.00000e+00],\n",
    "        [-1.00000e+00, -3.40515e-09,  0.00000e+00],\n",
    "        [-1.00000e+00, -3.40515e-09,  0.00000e+00],\n",
    "        [-1.00000e+00, -3.40515e-09,  0.00000e+00],\n",
    "        [-1.00000e+00, -3.40515e-09,  0.00000e+00],\n",
    "        [-1.00000e+00, -3.40515e-09,  0.00000e+00],\n",
    "        [-1.00000e+00, -3.40515e-09,  0.00000e+00],\n",
    "        [-1.00000e+00, -3.40515e-09,  0.00000e+00],\n",
    "        [ 3.40515e-09,  1.00000e+00,  0.00000e+00],\n",
    "        [ 3.40515e-09,  1.00000e+00,  0.00000e+00],\n",
    "        [ 3.40515e-09,  1.00000e+00,  0.00000e+00],\n",
    "        [ 3.40515e-09,  1.00000e+00,  0.00000e+00],\n",
    "        [ 3.40515e-09,  1.00000e+00,  0.00000e+00],\n",
    "        [ 3.40515e-09,  1.00000e+00,  0.00000e+00],\n",
    "        [ 3.40515e-09,  1.00000e+00,  0.00000e+00],\n",
    "        [ 3.40515e-09,  1.00000e+00,  0.00000e+00],\n",
    "        [ 3.40515e-09,  1.00000e+00,  0.00000e+00],\n",
    "        [ 3.40515e-09,  1.00000e+00,  0.00000e+00],\n",
    "        [ 3.40515e-09,  1.00000e+00,  0.00000e+00],\n",
    "        [ 3.40515e-09,  1.00000e+00,  0.00000e+00],\n",
    "        [ 3.40515e-09,  1.00000e+00,  0.00000e+00],\n",
    "        [ 0.00000e+00,  0.00000e+00,  1.00000e+00],\n",
    "        [ 0.00000e+00,  0.00000e+00,  1.00000e+00],\n",
    "        [ 0.00000e+00,  0.00000e+00,  1.00000e+00],\n",
    "        [ 0.00000e+00,  0.00000e+00,  1.00000e+00],\n",
    "        [ 0.00000e+00,  0.00000e+00,  1.00000e+00],\n",
    "        [ 0.00000e+00,  0.00000e+00,  1.00000e+00],\n",
    "        [ 0.00000e+00,  0.00000e+00,  1.00000e+00],\n",
    "        [ 0.00000e+00,  0.00000e+00,  1.00000e+00],\n",
    "        [ 0.00000e+00,  0.00000e+00,  1.00000e+00],\n",
    "        [ 0.00000e+00,  0.00000e+00,  1.00000e+00],\n",
    "        [ 0.00000e+00,  0.00000e+00,  1.00000e+00],\n",
    "        [ 0.00000e+00,  0.00000e+00,  1.00000e+00],\n",
    "        [ 0.00000e+00,  0.00000e+00,  1.00000e+00],\n",
    "        [ 7.04358e-01, -8.80947e-02, -7.04358e-01],\n",
    "        [ 7.04358e-01, -8.80947e-02, -7.04358e-01],\n",
    "        [ 7.04358e-01, -8.80947e-02, -7.04358e-01],\n",
    "        [ 7.04358e-01, -8.80947e-02, -7.04358e-01],\n",
    "        [ 7.04358e-01, -8.80947e-02, -7.04358e-01],\n",
    "        [ 7.04358e-01, -8.80947e-02, -7.04358e-01],\n",
    "        [ 7.04358e-01, -8.80947e-02, -7.04358e-01],\n",
    "        [ 7.04358e-01, -8.80947e-02, -7.04358e-01],\n",
    "        [ 7.04358e-01, -8.80947e-02, -7.04358e-01],\n",
    "        [ 7.04358e-01, -8.80947e-02, -7.04358e-01],\n",
    "        [ 7.04358e-01, -8.80947e-02, -7.04358e-01],\n",
    "        [ 7.04358e-01, -8.80947e-02, -7.04358e-01],\n",
    "        [ 7.04358e-01, -8.80947e-02, -7.04358e-01],\n",
    "        [-7.04358e-01,  7.04358e-01,  8.80947e-02],\n",
    "        [-7.04358e-01,  7.04358e-01,  8.80947e-02],\n",
    "        [-7.04358e-01,  7.04358e-01,  8.80947e-02],\n",
    "        [-7.04358e-01,  7.04358e-01,  8.80947e-02],\n",
    "        [-7.04358e-01,  7.04358e-01,  8.80947e-02],\n",
    "        [-7.04358e-01,  7.04358e-01,  8.80947e-02],\n",
    "        [-7.04358e-01,  7.04358e-01,  8.80947e-02],\n",
    "        [-7.04358e-01,  7.04358e-01,  8.80947e-02],\n",
    "        [-7.04358e-01,  7.04358e-01,  8.80947e-02],\n",
    "        [-7.04358e-01,  7.04358e-01,  8.80947e-02],\n",
    "        [-7.04358e-01,  7.04358e-01,  8.80947e-02],\n",
    "        [-7.04358e-01,  7.04358e-01,  8.80947e-02],\n",
    "        [-7.04358e-01,  7.04358e-01,  8.80947e-02],\n",
    "        [-8.80947e-02,  7.04358e-01,  7.04358e-01],\n",
    "        [-8.80947e-02,  7.04358e-01,  7.04358e-01],\n",
    "        [-8.80947e-02,  7.04358e-01,  7.04358e-01],\n",
    "        [-8.80947e-02,  7.04358e-01,  7.04358e-01],\n",
    "        [-8.80947e-02,  7.04358e-01,  7.04358e-01],\n",
    "        [-8.80947e-02,  7.04358e-01,  7.04358e-01],\n",
    "        [-8.80947e-02,  7.04358e-01,  7.04358e-01],\n",
    "        [-8.80947e-02,  7.04358e-01,  7.04358e-01],\n",
    "        [-8.80947e-02,  7.04358e-01,  7.04358e-01],\n",
    "        [-8.80947e-02,  7.04358e-01,  7.04358e-01],\n",
    "        [-8.80947e-02,  7.04358e-01,  7.04358e-01],\n",
    "        [-8.80947e-02,  7.04358e-01,  7.04358e-01],\n",
    "        [-8.80947e-02,  7.04358e-01,  7.04358e-01],\n",
    "        [ 0.00000e+00,  0.00000e+00,  0.00000e+00]])"
   ]
  },
  {
   "cell_type": "code",
   "execution_count": 5,
   "id": "consistent-charger",
   "metadata": {},
   "outputs": [],
   "source": [
    "gtab = gradient_table(bvals, bvecs, b0_threshold=0)"
   ]
  },
  {
   "cell_type": "code",
   "execution_count": 6,
   "id": "innovative-valley",
   "metadata": {},
   "outputs": [],
   "source": [
    "from dipy.sims.voxel import multi_tensor"
   ]
  },
  {
   "cell_type": "code",
   "execution_count": 7,
   "id": "dynamic-director",
   "metadata": {},
   "outputs": [],
   "source": [
    "mevals = np.array([[0.001, 0.0005, 0.0005], \n",
    "                   [0.1, 0.01, 0.01]])\n",
    "\n",
    "angles = [(90, 0), (90, 0)]"
   ]
  },
  {
   "cell_type": "code",
   "execution_count": null,
   "id": "logical-photography",
   "metadata": {},
   "outputs": [],
   "source": [
    "from ivim_tensor import IvimTensorModel"
   ]
  },
  {
   "cell_type": "code",
   "execution_count": null,
   "id": "reverse-seeker",
   "metadata": {},
   "outputs": [],
   "source": [
    "itm = IvimTensorModel(gtab)"
   ]
  },
  {
   "cell_type": "code",
   "execution_count": null,
   "id": "imported-internship",
   "metadata": {},
   "outputs": [],
   "source": [
    "betas = np.arange(0.001, 0.3, 0.05)"
   ]
  },
  {
   "cell_type": "code",
   "execution_count": null,
   "id": "blessed-bernard",
   "metadata": {},
   "outputs": [],
   "source": [
    "n_sims = 100"
   ]
  },
  {
   "cell_type": "code",
   "execution_count": null,
   "id": "discrete-demonstration",
   "metadata": {},
   "outputs": [],
   "source": [
    "pf = np.zeros((len(betas), n_sims))\n",
    "sim = np.zeros((len(betas), n_sims, gtab.bvals.shape[0]))\n",
    "\n",
    "for ii in range(len(betas)):\n",
    "    for nn in range(n_sims):\n",
    "        sim[ii, nn] = multi_tensor(gtab, mevals=mevals, snr=100, fractions=[100 * (1-betas[ii]), \n",
    "                                                                     betas[ii] * 100])[0]\n",
    "#pf[ii, nn] = (itf.perfusion_fraction)"
   ]
  },
  {
   "cell_type": "code",
   "execution_count": null,
   "id": "revolutionary-sport",
   "metadata": {},
   "outputs": [],
   "source": [
    "itf = itm.fit(sim)"
   ]
  },
  {
   "cell_type": "code",
   "execution_count": null,
   "id": "developed-arkansas",
   "metadata": {},
   "outputs": [],
   "source": []
  },
  {
   "cell_type": "code",
   "execution_count": null,
   "id": "vanilla-sitting",
   "metadata": {},
   "outputs": [],
   "source": [
    "sim.shape"
   ]
  },
  {
   "cell_type": "code",
   "execution_count": null,
   "id": "detected-communist",
   "metadata": {},
   "outputs": [],
   "source": [
    "pf = np.reshape(itf.perfusion_fraction, sim.shape[:2])"
   ]
  },
  {
   "cell_type": "code",
   "execution_count": null,
   "id": "coastal-honor",
   "metadata": {},
   "outputs": [],
   "source": [
    "np.mean(pf, -1)"
   ]
  },
  {
   "cell_type": "code",
   "execution_count": null,
   "id": "becoming-benefit",
   "metadata": {},
   "outputs": [],
   "source": [
    "plt.plot(betas, pf, 'o', alpha=0.1)"
   ]
  },
  {
   "cell_type": "code",
   "execution_count": null,
   "id": "connected-manner",
   "metadata": {},
   "outputs": [],
   "source": [
    "itf.perfusion_fraction"
   ]
  },
  {
   "cell_type": "code",
   "execution_count": null,
   "id": "arranged-target",
   "metadata": {},
   "outputs": [],
   "source": [
    "pred=itf.predict(gtab)"
   ]
  },
  {
   "cell_type": "code",
   "execution_count": null,
   "id": "promising-transportation",
   "metadata": {},
   "outputs": [],
   "source": [
    "sim.shape"
   ]
  },
  {
   "cell_type": "code",
   "execution_count": null,
   "id": "skilled-physiology",
   "metadata": {},
   "outputs": [],
   "source": [
    "pred.shape"
   ]
  },
  {
   "cell_type": "code",
   "execution_count": null,
   "id": "found-junction",
   "metadata": {},
   "outputs": [],
   "source": [
    "plt.plot(gtab.bvals, pred[0], 'o')\n",
    "plt.plot(gtab.bvals, sim[0, 0], 'o')"
   ]
  },
  {
   "cell_type": "code",
   "execution_count": null,
   "id": "parallel-officer",
   "metadata": {},
   "outputs": [],
   "source": []
  }
 ],
 "metadata": {
  "kernelspec": {
   "display_name": "Python 3",
   "language": "python",
   "name": "python3"
  },
  "language_info": {
   "codemirror_mode": {
    "name": "ipython",
    "version": 3
   },
   "file_extension": ".py",
   "mimetype": "text/x-python",
   "name": "python",
   "nbconvert_exporter": "python",
   "pygments_lexer": "ipython3",
   "version": "3.7.10"
  }
 },
 "nbformat": 4,
 "nbformat_minor": 5
}

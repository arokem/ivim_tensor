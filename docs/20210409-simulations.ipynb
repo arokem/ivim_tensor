{
 "cells": [
  {
   "cell_type": "code",
   "execution_count": 1,
   "id": "meaningful-society",
   "metadata": {},
   "outputs": [],
   "source": [
    "import numpy as np\n",
    "import matplotlib.pyplot as plt"
   ]
  },
  {
   "cell_type": "code",
   "execution_count": 2,
   "id": "bound-september",
   "metadata": {},
   "outputs": [],
   "source": [
    "from dipy.core.gradients import gradient_table"
   ]
  },
  {
   "cell_type": "code",
   "execution_count": 3,
   "id": "catholic-johnston",
   "metadata": {},
   "outputs": [],
   "source": [
    "bvals = np.array([  10.,   40.,   60.,   80.,  100.,  150.,  200.,  300.,  500.,\n",
    "         700.,  800.,  900., 1000.,   10.,   40.,   60.,   80.,  100.,\n",
    "         150.,  200.,  300.,  500.,  700.,  800.,  900., 1000.,   10.,\n",
    "          40.,   60.,   80.,  100.,  150.,  200.,  300.,  500.,  700.,\n",
    "         800.,  900., 1000.,   10.,   40.,   60.,   80.,  100.,  150.,\n",
    "         200.,  300.,  500.,  700.,  800.,  900., 1000.,   10.,   40.,\n",
    "          60.,   80.,  100.,  150.,  200.,  300.,  500.,  700.,  800.,\n",
    "         900., 1000.,   10.,   40.,   60.,   80.,  100.,  150.,  200.,\n",
    "         300.,  500.,  700.,  800.,  900., 1000.,    0.])"
   ]
  },
  {
   "cell_type": "code",
   "execution_count": 4,
   "id": "mexican-notion",
   "metadata": {},
   "outputs": [],
   "source": [
    "bvecs = np.array([[-1.00000e+00, -3.40515e-09,  0.00000e+00],\n",
    "        [-1.00000e+00, -3.40515e-09,  0.00000e+00],\n",
    "        [-1.00000e+00, -3.40515e-09,  0.00000e+00],\n",
    "        [-1.00000e+00, -3.40515e-09,  0.00000e+00],\n",
    "        [-1.00000e+00, -3.40515e-09,  0.00000e+00],\n",
    "        [-1.00000e+00, -3.40515e-09,  0.00000e+00],\n",
    "        [-1.00000e+00, -3.40515e-09,  0.00000e+00],\n",
    "        [-1.00000e+00, -3.40515e-09,  0.00000e+00],\n",
    "        [-1.00000e+00, -3.40515e-09,  0.00000e+00],\n",
    "        [-1.00000e+00, -3.40515e-09,  0.00000e+00],\n",
    "        [-1.00000e+00, -3.40515e-09,  0.00000e+00],\n",
    "        [-1.00000e+00, -3.40515e-09,  0.00000e+00],\n",
    "        [-1.00000e+00, -3.40515e-09,  0.00000e+00],\n",
    "        [ 3.40515e-09,  1.00000e+00,  0.00000e+00],\n",
    "        [ 3.40515e-09,  1.00000e+00,  0.00000e+00],\n",
    "        [ 3.40515e-09,  1.00000e+00,  0.00000e+00],\n",
    "        [ 3.40515e-09,  1.00000e+00,  0.00000e+00],\n",
    "        [ 3.40515e-09,  1.00000e+00,  0.00000e+00],\n",
    "        [ 3.40515e-09,  1.00000e+00,  0.00000e+00],\n",
    "        [ 3.40515e-09,  1.00000e+00,  0.00000e+00],\n",
    "        [ 3.40515e-09,  1.00000e+00,  0.00000e+00],\n",
    "        [ 3.40515e-09,  1.00000e+00,  0.00000e+00],\n",
    "        [ 3.40515e-09,  1.00000e+00,  0.00000e+00],\n",
    "        [ 3.40515e-09,  1.00000e+00,  0.00000e+00],\n",
    "        [ 3.40515e-09,  1.00000e+00,  0.00000e+00],\n",
    "        [ 3.40515e-09,  1.00000e+00,  0.00000e+00],\n",
    "        [ 0.00000e+00,  0.00000e+00,  1.00000e+00],\n",
    "        [ 0.00000e+00,  0.00000e+00,  1.00000e+00],\n",
    "        [ 0.00000e+00,  0.00000e+00,  1.00000e+00],\n",
    "        [ 0.00000e+00,  0.00000e+00,  1.00000e+00],\n",
    "        [ 0.00000e+00,  0.00000e+00,  1.00000e+00],\n",
    "        [ 0.00000e+00,  0.00000e+00,  1.00000e+00],\n",
    "        [ 0.00000e+00,  0.00000e+00,  1.00000e+00],\n",
    "        [ 0.00000e+00,  0.00000e+00,  1.00000e+00],\n",
    "        [ 0.00000e+00,  0.00000e+00,  1.00000e+00],\n",
    "        [ 0.00000e+00,  0.00000e+00,  1.00000e+00],\n",
    "        [ 0.00000e+00,  0.00000e+00,  1.00000e+00],\n",
    "        [ 0.00000e+00,  0.00000e+00,  1.00000e+00],\n",
    "        [ 0.00000e+00,  0.00000e+00,  1.00000e+00],\n",
    "        [ 7.04358e-01, -8.80947e-02, -7.04358e-01],\n",
    "        [ 7.04358e-01, -8.80947e-02, -7.04358e-01],\n",
    "        [ 7.04358e-01, -8.80947e-02, -7.04358e-01],\n",
    "        [ 7.04358e-01, -8.80947e-02, -7.04358e-01],\n",
    "        [ 7.04358e-01, -8.80947e-02, -7.04358e-01],\n",
    "        [ 7.04358e-01, -8.80947e-02, -7.04358e-01],\n",
    "        [ 7.04358e-01, -8.80947e-02, -7.04358e-01],\n",
    "        [ 7.04358e-01, -8.80947e-02, -7.04358e-01],\n",
    "        [ 7.04358e-01, -8.80947e-02, -7.04358e-01],\n",
    "        [ 7.04358e-01, -8.80947e-02, -7.04358e-01],\n",
    "        [ 7.04358e-01, -8.80947e-02, -7.04358e-01],\n",
    "        [ 7.04358e-01, -8.80947e-02, -7.04358e-01],\n",
    "        [ 7.04358e-01, -8.80947e-02, -7.04358e-01],\n",
    "        [-7.04358e-01,  7.04358e-01,  8.80947e-02],\n",
    "        [-7.04358e-01,  7.04358e-01,  8.80947e-02],\n",
    "        [-7.04358e-01,  7.04358e-01,  8.80947e-02],\n",
    "        [-7.04358e-01,  7.04358e-01,  8.80947e-02],\n",
    "        [-7.04358e-01,  7.04358e-01,  8.80947e-02],\n",
    "        [-7.04358e-01,  7.04358e-01,  8.80947e-02],\n",
    "        [-7.04358e-01,  7.04358e-01,  8.80947e-02],\n",
    "        [-7.04358e-01,  7.04358e-01,  8.80947e-02],\n",
    "        [-7.04358e-01,  7.04358e-01,  8.80947e-02],\n",
    "        [-7.04358e-01,  7.04358e-01,  8.80947e-02],\n",
    "        [-7.04358e-01,  7.04358e-01,  8.80947e-02],\n",
    "        [-7.04358e-01,  7.04358e-01,  8.80947e-02],\n",
    "        [-7.04358e-01,  7.04358e-01,  8.80947e-02],\n",
    "        [-8.80947e-02,  7.04358e-01,  7.04358e-01],\n",
    "        [-8.80947e-02,  7.04358e-01,  7.04358e-01],\n",
    "        [-8.80947e-02,  7.04358e-01,  7.04358e-01],\n",
    "        [-8.80947e-02,  7.04358e-01,  7.04358e-01],\n",
    "        [-8.80947e-02,  7.04358e-01,  7.04358e-01],\n",
    "        [-8.80947e-02,  7.04358e-01,  7.04358e-01],\n",
    "        [-8.80947e-02,  7.04358e-01,  7.04358e-01],\n",
    "        [-8.80947e-02,  7.04358e-01,  7.04358e-01],\n",
    "        [-8.80947e-02,  7.04358e-01,  7.04358e-01],\n",
    "        [-8.80947e-02,  7.04358e-01,  7.04358e-01],\n",
    "        [-8.80947e-02,  7.04358e-01,  7.04358e-01],\n",
    "        [-8.80947e-02,  7.04358e-01,  7.04358e-01],\n",
    "        [-8.80947e-02,  7.04358e-01,  7.04358e-01],\n",
    "        [ 0.00000e+00,  0.00000e+00,  0.00000e+00]])"
   ]
  },
  {
   "cell_type": "code",
   "execution_count": 5,
   "id": "interpreted-shelter",
   "metadata": {},
   "outputs": [],
   "source": [
    "gtab = gradient_table(bvals, bvecs, b0_threshold=0)"
   ]
  },
  {
   "cell_type": "code",
   "execution_count": 6,
   "id": "hungry-rough",
   "metadata": {},
   "outputs": [],
   "source": [
    "from dipy.sims.voxel import multi_tensor"
   ]
  },
  {
   "cell_type": "code",
   "execution_count": 7,
   "id": "weighted-algeria",
   "metadata": {},
   "outputs": [],
   "source": [
    "mevals = np.array([[0.001, 0.0005, 0.0005], \n",
    "                   [0.1, 0.01, 0.01]])\n",
    "\n",
    "angles = [(90, 0), (90, 0)]"
   ]
  },
  {
   "cell_type": "code",
   "execution_count": 8,
   "id": "closing-nashville",
   "metadata": {},
   "outputs": [],
   "source": [
    "from ivim_tensor import IvimTensorModel"
   ]
  },
  {
   "cell_type": "code",
   "execution_count": 9,
   "id": "solar-thumbnail",
   "metadata": {},
   "outputs": [
    {
     "name": "stderr",
     "output_type": "stream",
     "text": [
      "/srv/conda/envs/notebook/lib/python3.7/site-packages/dipy/reconst/ivim.py:151: UserWarning: Bounds for this fit have been set from experiments and literature survey. To change the bounds, please input your bounds in model definition...\n",
      "  warnings.warn(bounds_warning, UserWarning)\n"
     ]
    }
   ],
   "source": [
    "itm = IvimTensorModel(gtab, n_threads=1)"
   ]
  },
  {
   "cell_type": "code",
   "execution_count": 10,
   "id": "elder-transmission",
   "metadata": {},
   "outputs": [],
   "source": [
    "betas = np.arange(0.001, 0.3, 0.05)"
   ]
  },
  {
   "cell_type": "code",
   "execution_count": 11,
   "id": "fitted-estate",
   "metadata": {},
   "outputs": [],
   "source": [
    "beta = 0.2"
   ]
  },
  {
   "cell_type": "code",
   "execution_count": 12,
   "id": "confidential-blackberry",
   "metadata": {},
   "outputs": [],
   "source": [
    "sim = multi_tensor(gtab, mevals=mevals, snr=50, fractions=[100 * (1-beta), \n",
    "                                                           beta * 100])[0]"
   ]
  },
  {
   "cell_type": "code",
   "execution_count": 13,
   "id": "irish-drunk",
   "metadata": {},
   "outputs": [
    {
     "name": "stderr",
     "output_type": "stream",
     "text": [
      "100%|██████████| 1/1 [00:00<00:00, 110.82it/s]\n"
     ]
    }
   ],
   "source": [
    "itf = itm.fit(sim)"
   ]
  },
  {
   "cell_type": "code",
   "execution_count": 14,
   "id": "announced-birthday",
   "metadata": {},
   "outputs": [
    {
     "name": "stderr",
     "output_type": "stream",
     "text": [
      "ERROR:root:No traceback has been produced, nothing to debug.\n"
     ]
    }
   ],
   "source": [
    "debug"
   ]
  },
  {
   "cell_type": "code",
   "execution_count": 15,
   "id": "baking-dakota",
   "metadata": {},
   "outputs": [
    {
     "data": {
      "text/plain": [
       "array([0.16602621])"
      ]
     },
     "execution_count": 15,
     "metadata": {},
     "output_type": "execute_result"
    }
   ],
   "source": [
    "itf.perfusion_fraction"
   ]
  },
  {
   "cell_type": "code",
   "execution_count": 16,
   "id": "chinese-abortion",
   "metadata": {},
   "outputs": [],
   "source": [
    "pred = itf.predict(gtab).squeeze()"
   ]
  },
  {
   "cell_type": "code",
   "execution_count": 17,
   "id": "engaging-import",
   "metadata": {},
   "outputs": [
    {
     "data": {
      "text/plain": [
       "[<matplotlib.lines.Line2D at 0x7f0987a96b90>]"
      ]
     },
     "execution_count": 17,
     "metadata": {},
     "output_type": "execute_result"
    },
    {
     "data": {
      "image/png": "[encoded data removed]",
      "text/plain": [
       "<Figure size 432x288 with 1 Axes>"
      ]
     },
     "metadata": {
      "needs_background": "light"
     },
     "output_type": "display_data"
    }
   ],
   "source": [
    "plt.plot(gtab.bvals, sim, 'o')\n",
    "plt.plot(gtab.bvals, itf.model.ivim_fit.predict(gtab).squeeze(), 'o')"
   ]
  },
  {
   "cell_type": "code",
   "execution_count": 18,
   "id": "level-thomas",
   "metadata": {},
   "outputs": [
    {
     "data": {
      "text/plain": [
       "[<matplotlib.lines.Line2D at 0x7f0987990f10>]"
      ]
     },
     "execution_count": 18,
     "metadata": {},
     "output_type": "execute_result"
    },
    {
     "data": {
      "image/png": "[encoded data removed]",
      "text/plain": [
       "<Figure size 432x288 with 1 Axes>"
      ]
     },
     "metadata": {
      "needs_background": "light"
     },
     "output_type": "display_data"
    }
   ],
   "source": [
    "plt.plot(gtab.bvals, sim, 'o')\n",
    "plt.plot(gtab.bvals, pred, 'o')\n"
   ]
  },
  {
   "cell_type": "code",
   "execution_count": null,
   "id": "laden-update",
   "metadata": {},
   "outputs": [],
   "source": []
  },
  {
   "cell_type": "code",
   "execution_count": 19,
   "id": "premium-progressive",
   "metadata": {},
   "outputs": [],
   "source": [
    "n_sims = 100"
   ]
  },
  {
   "cell_type": "code",
   "execution_count": 20,
   "id": "respiratory-pleasure",
   "metadata": {},
   "outputs": [],
   "source": [
    "pf = np.zeros((len(betas), n_sims))\n",
    "sim = np.zeros((len(betas), n_sims, gtab.bvals.shape[0]))\n",
    "\n",
    "for ii in range(len(betas)):\n",
    "    for nn in range(n_sims):\n",
    "        sim[ii, nn] = multi_tensor(gtab, mevals=mevals, snr=50, fractions=[100 * (1-betas[ii]), \n",
    "                                                                     betas[ii] * 100])[0]\n",
    "#pf[ii, nn] = (itf.perfusion_fraction)"
   ]
  },
  {
   "cell_type": "code",
   "execution_count": 21,
   "id": "crude-tomorrow",
   "metadata": {},
   "outputs": [
    {
     "name": "stderr",
     "output_type": "stream",
     "text": [
      "/srv/conda/envs/notebook/lib/python3.7/site-packages/dipy/reconst/ivim.py:434: UserWarning: x0 obtained from linear fitting is not feasibile as initial guess for leastsq while estimating f and D_star. Using parameters from the linear fit.\n",
      "  warnings.warn(warningMsg, UserWarning)\n",
      "/srv/conda/envs/notebook/lib/python3.7/site-packages/dipy/reconst/ivim.py:507: UserWarning: x0 is unfeasible for leastsq fitting. Returning x0 values from the linear fit.\n",
      "  warnings.warn(warningMsg, UserWarning)\n",
      "/srv/conda/envs/notebook/lib/python3.7/site-packages/dipy/reconst/ivim.py:344: UserWarning: Bounds are violated for leastsq fitting. Returning parameters from linear fit\n",
      "  warnings.warn(warningMsg, UserWarning)\n",
      "100%|██████████| 600/600 [00:09<00:00, 61.31it/s]\n"
     ]
    },
    {
     "name": "stdout",
     "output_type": "stream",
     "text": [
      "CPU times: user 19.4 s, sys: 83.7 ms, total: 19.5 s\n",
      "Wall time: 19.3 s\n"
     ]
    }
   ],
   "source": [
    "%%time\n",
    "itf = itm.fit(sim)"
   ]
  },
  {
   "cell_type": "code",
   "execution_count": 22,
   "id": "color-completion",
   "metadata": {},
   "outputs": [
    {
     "name": "stderr",
     "output_type": "stream",
     "text": [
      "ERROR:root:No traceback has been produced, nothing to debug.\n"
     ]
    }
   ],
   "source": [
    "debug"
   ]
  },
  {
   "cell_type": "code",
   "execution_count": 23,
   "id": "vital-dining",
   "metadata": {},
   "outputs": [
    {
     "data": {
      "text/plain": [
       "(6, 100, 79)"
      ]
     },
     "execution_count": 23,
     "metadata": {},
     "output_type": "execute_result"
    }
   ],
   "source": [
    "sim.shape"
   ]
  },
  {
   "cell_type": "code",
   "execution_count": 24,
   "id": "boring-disco",
   "metadata": {},
   "outputs": [],
   "source": [
    "pf = np.reshape(itf.perfusion_fraction, sim.shape[:2])"
   ]
  },
  {
   "cell_type": "code",
   "execution_count": 25,
   "id": "documentary-comfort",
   "metadata": {},
   "outputs": [
    {
     "data": {
      "text/plain": [
       "array([0.0627954 , 0.05658436, 0.09490299, 0.13393806, 0.18099117,\n",
       "       0.22240639])"
      ]
     },
     "execution_count": 25,
     "metadata": {},
     "output_type": "execute_result"
    }
   ],
   "source": [
    "np.nanmean(pf, -1)"
   ]
  },
  {
   "cell_type": "code",
   "execution_count": 26,
   "id": "unknown-registration",
   "metadata": {},
   "outputs": [
    {
     "data": {
      "image/png": "[encoded data removed]",
      "text/plain": [
       "<Figure size 432x288 with 1 Axes>"
      ]
     },
     "metadata": {
      "needs_background": "light"
     },
     "output_type": "display_data"
    }
   ],
   "source": [
    "_ = plt.plot(betas, pf, color=\"C0\", marker='o', linestyle=\"None\", alpha=0.1)\n",
    "_ = plt.plot(betas, betas, 'k--')"
   ]
  },
  {
   "cell_type": "code",
   "execution_count": 27,
   "id": "partial-tyler",
   "metadata": {},
   "outputs": [
    {
     "data": {
      "text/plain": [
       "array([1.53719030e-01, 8.94688424e-02, 6.15201388e-02, 8.22656841e-02,\n",
       "       5.31793643e-02, 7.46792992e-06, 1.20545455e-05, 1.52277281e-01,\n",
       "       3.07655996e-02, 9.19383234e-03, 9.99876773e-11, 5.30775219e-02,\n",
       "       4.60813644e-02, 1.14707681e-01, 1.99743735e-01, 8.14288371e-02,\n",
       "       1.06078571e-01, 1.99739473e-01, 9.99818834e-11, 1.23558504e-01,\n",
       "       3.52451828e-05, 4.97980461e-02, 9.99720368e-11, 2.29435382e-02,\n",
       "       1.99752679e-01, 9.99788791e-11, 1.99758809e-01, 1.79299620e-02,\n",
       "       1.99709516e-01, 9.60947824e-02, 1.18537137e-02, 5.13857083e-03,\n",
       "       1.91677099e-02, 9.99800179e-11, 1.62033536e-01, 8.87415612e-02,\n",
       "       2.69783152e-02, 2.85734352e-02, 1.99759453e-01, 9.99708789e-11,\n",
       "       9.49199149e-02, 1.37409458e-02, 1.59290046e-05, 3.18708586e-02,\n",
       "       1.08062381e-01, 4.20950580e-06, 4.52216793e-02, 1.99760741e-01,\n",
       "       1.20151482e-01, 1.40917999e-01, 1.37998837e-02, 1.99822916e-01,\n",
       "       1.10147104e-05, 8.77087653e-02, 7.22254394e-05, 1.49297436e-01,\n",
       "       1.59379418e-01, 1.55764171e-01, 1.53990682e-02, 6.62584578e-07,\n",
       "       5.80513567e-02, 4.99983275e-13, 1.40030070e-01, 9.99822078e-11,\n",
       "       2.75130130e-13, 2.84411768e-02, 1.47528787e-01, 2.82913836e-02,\n",
       "       1.41938617e-02, 6.27482438e-03, 1.93067631e-10, 1.71837010e-01,\n",
       "       2.25451198e-02, 2.88211366e-02, 9.99933382e-11, 2.73142393e-02,\n",
       "       9.74468978e-02, 4.99959868e-13, 2.69911090e-02, 6.87898118e-02,\n",
       "       4.61994182e-05, 1.75111416e-02, 3.23258109e-02, 1.85695681e-02,\n",
       "       6.28644469e-02, 1.18685053e-04, 9.99855477e-11, 8.22991060e-03,\n",
       "       9.99905499e-11, 1.99787917e-01, 4.73187122e-02, 9.51747076e-02,\n",
       "       1.25133804e-02, 1.13166408e-01, 4.61693414e-02, 1.06701287e-02,\n",
       "       8.55221302e-11, 4.15170800e-03, 1.23643836e-01, 1.99706250e-01,\n",
       "       4.35741652e-02, 2.59451797e-02, 3.27248009e-02, 3.26495873e-02,\n",
       "       4.02153515e-02, 4.48345721e-02, 9.80533396e-02, 5.13866043e-02,\n",
       "       4.31845902e-02, 4.08537847e-02, 3.42068220e-02, 4.16415175e-02,\n",
       "       4.54053178e-02, 6.39924169e-02, 5.75618785e-02, 4.61410312e-02,\n",
       "       4.79744471e-02, 5.97925388e-02, 5.94031270e-02, 4.76258561e-02,\n",
       "       2.75345053e-02, 3.36810725e-02, 4.07769171e-02, 4.30394790e-02,\n",
       "       4.58574947e-02, 5.45239494e-02, 5.44433950e-02, 4.26312609e-02,\n",
       "       5.28582457e-02, 4.08184460e-02, 7.60646849e-02, 5.20528380e-02,\n",
       "       4.88409481e-02, 3.98326819e-02, 6.40986899e-02, 5.17803763e-02,\n",
       "       6.42692850e-02, 1.20087702e-02, 3.97916921e-02, 6.36169231e-02,\n",
       "       6.93121189e-02, 5.73046821e-02, 5.70120267e-02, 7.41430592e-02,\n",
       "       9.26672349e-02, 2.86181716e-02, 6.45629297e-02, 7.96023263e-02,\n",
       "       1.33979377e-01, 3.16916761e-02, 1.99764871e-01, 1.88229769e-02,\n",
       "       1.99816249e-01, 4.47623267e-02, 8.12179621e-02, 3.35490023e-04,\n",
       "       3.22341171e-02, 6.34865882e-02, 2.45466823e-02, 6.08969982e-02,\n",
       "       6.40461576e-02, 2.97649104e-02, 5.53054933e-02, 4.94554095e-02,\n",
       "       1.20205723e-01, 4.17021116e-02, 8.46957163e-11, 6.55267410e-02,\n",
       "       7.39889610e-02, 3.54554679e-02, 6.72668408e-02, 5.02576601e-02,\n",
       "       5.34630502e-02, 4.47227552e-02, 4.13280961e-02, 4.57007668e-02,\n",
       "       4.06183702e-02, 4.04785010e-02, 4.83094249e-02, 5.60601060e-02,\n",
       "       1.99777496e-01, 6.15221760e-02, 7.70856246e-02, 1.13530608e-04,\n",
       "       6.24948253e-02, 3.17775888e-02, 1.99830170e-01, 5.62254966e-02,\n",
       "       5.27094305e-02, 5.61013205e-02, 7.32509224e-02, 2.27853307e-02,\n",
       "       4.49650538e-02, 6.11209385e-02, 4.47778010e-02, 7.55060942e-02,\n",
       "       7.27692077e-02, 1.33377540e-02, 7.03156321e-02, 3.78470950e-02,\n",
       "       1.24775891e-01, 9.25287829e-02, 9.15646737e-02, 1.11352528e-01,\n",
       "       7.74147212e-02, 1.00351538e-01, 9.21148985e-02, 7.29780950e-02,\n",
       "       8.39340397e-02, 9.67758728e-02, 9.80940726e-02, 1.02530358e-01,\n",
       "       1.06137819e-01, 9.85597712e-02, 1.05665759e-01, 7.69906012e-02,\n",
       "       6.16066151e-02, 1.23138294e-01, 7.85289567e-02, 8.47946568e-02,\n",
       "       7.25533744e-02, 7.86448865e-02, 8.83326851e-02, 9.99394829e-02,\n",
       "       1.02313692e-01, 1.03499935e-01, 9.18704162e-02, 8.99630420e-02,\n",
       "       8.38453436e-02, 1.11981104e-01, 9.07903546e-02, 9.51533212e-02,\n",
       "       8.81993982e-02, 4.42803838e-02, 1.13397187e-01, 9.91236236e-02,\n",
       "       9.36276843e-02, 1.05561649e-01, 1.11163207e-01, 8.06734721e-02,\n",
       "       1.07362610e-01, 7.13100228e-02, 7.50676204e-02, 1.08768757e-01,\n",
       "       9.81067732e-02, 1.09151969e-01, 9.29013478e-02, 7.91256874e-02,\n",
       "       9.03058376e-02, 8.59783755e-02, 1.05277421e-01, 1.04564069e-01,\n",
       "       1.21154450e-01, 2.49176670e-02, 1.25521212e-01, 1.18345963e-01,\n",
       "       9.17360792e-02, 1.17479109e-01, 9.15204303e-02, 7.29123226e-02,\n",
       "       9.98253107e-02, 8.46092568e-02, 8.34478035e-02, 7.37559762e-02,\n",
       "       9.67223821e-02, 9.73654225e-02, 9.39643059e-02, 1.24708521e-01,\n",
       "       1.17628277e-01, 1.01175004e-01, 1.13175644e-01, 1.00365542e-01,\n",
       "       1.00341614e-01, 1.01562082e-01, 1.00147430e-01, 8.50386148e-02,\n",
       "       8.48656906e-02, 1.99874706e-01, 8.17829575e-02, 6.04713964e-04,\n",
       "       1.22612968e-01, 9.67382403e-02, 8.43315510e-02, 8.95094892e-02,\n",
       "       1.20158179e-01, 8.85760998e-02, 1.14960483e-01, 9.84260668e-02,\n",
       "       9.64218793e-02, 7.60585930e-02, 1.20532138e-01, 4.85636672e-02,\n",
       "       9.21833986e-02, 1.03081145e-01, 1.30917537e-01, 1.09037893e-01,\n",
       "       1.01725603e-01, 8.70196148e-02, 8.67370097e-02, 6.54863089e-02,\n",
       "       1.07928591e-01, 1.30098242e-01, 1.25965732e-01, 1.41214904e-01,\n",
       "       1.42690151e-01, 1.09984316e-01, 1.36861127e-01, 1.51130855e-01,\n",
       "       1.51498125e-01, 1.83283908e-01, 1.25834627e-01, 6.46751000e-02,\n",
       "       1.26808921e-01, 1.05379518e-01, 1.12828600e-01, 1.42787656e-01,\n",
       "       5.41928731e-02, 1.64263060e-01, 1.55756784e-01, 1.48012697e-01,\n",
       "       1.11486672e-01, 1.48650509e-01, 1.67205037e-01, 1.48565427e-01,\n",
       "       1.17131324e-01, 1.42267162e-01, 1.10343671e-01, 1.15946387e-01,\n",
       "       1.41301710e-01, 1.31059593e-01, 1.92901070e-01, 1.57864832e-01,\n",
       "       1.21003335e-01, 1.71880804e-01, 1.18639981e-01, 1.62254213e-01,\n",
       "       1.29207757e-01, 1.09125808e-01, 1.23129268e-01, 1.78000317e-01,\n",
       "       1.47883963e-01, 1.42000506e-01, 1.63249284e-01, 1.24929513e-01,\n",
       "       1.26204957e-01, 1.03328407e-01, 1.54764804e-01, 1.29847590e-01,\n",
       "       1.49171501e-01, 1.32511605e-01, 1.51477341e-01, 1.60032545e-01,\n",
       "       1.12972565e-01, 1.30658109e-01, 1.19790691e-01, 1.28103889e-01,\n",
       "       1.72664912e-01, 1.20773232e-01, 1.21729198e-01, 1.62300676e-01,\n",
       "       1.25067032e-01, 1.42434973e-01, 1.20474993e-01, 1.22577737e-01,\n",
       "       1.05652189e-01, 1.37303534e-01, 1.76760661e-01, 1.55510089e-01,\n",
       "       1.23114915e-01, 1.02663648e-01, 1.29499864e-01, 1.12038579e-01,\n",
       "       1.12931359e-01, 1.58964376e-01, 1.25260396e-01, 1.26107420e-01,\n",
       "       1.67069973e-01, 1.53362185e-01, 1.03517377e-01, 1.14008636e-01,\n",
       "       1.45184447e-01, 1.52037742e-01, 1.26889245e-01, 1.30438925e-01,\n",
       "       1.26344708e-01, 1.52094883e-01, 1.21978518e-01, 1.28429502e-01,\n",
       "       1.27061682e-01, 1.19633032e-01, 1.18125735e-01, 1.29657256e-01,\n",
       "       1.19744941e-01, 9.83450648e-02, 1.68078550e-01, 1.31327788e-01,\n",
       "       1.35026487e-01, 1.55467710e-01, 1.30475458e-01, 1.29587961e-01,\n",
       "       1.75231594e-01, 2.26034306e-01, 1.63237862e-01, 1.69496953e-01,\n",
       "       1.64950755e-01, 1.60833901e-01, 2.27329536e-01, 1.80776759e-01,\n",
       "       2.04452278e-01, 1.51668791e-01, 1.90976584e-01, 1.85155369e-01,\n",
       "       1.87673928e-01, 1.86299059e-01, 1.75477186e-01, 1.70136883e-01,\n",
       "       1.59523654e-01, 1.66764983e-01, 1.78262346e-01, 2.16545519e-01,\n",
       "       1.65588542e-01, 1.56117094e-01, 1.73322566e-01, 1.60631013e-01,\n",
       "       1.35562968e-01, 1.70085009e-01, 2.12695923e-01, 1.92445540e-01,\n",
       "       1.79195560e-01, 2.02059495e-01, 1.73161848e-01, 1.61757779e-01,\n",
       "       1.96298338e-01, 1.77601985e-01, 1.65218697e-01, 1.57893444e-01,\n",
       "       1.97887200e-01, 1.86249382e-01, 1.47381892e-01, 1.89912212e-01,\n",
       "       1.81557616e-01, 1.93737611e-01, 1.65707079e-01, 2.03800822e-01,\n",
       "       1.99015775e-01, 1.96839920e-01, 1.83596898e-01, 1.49277404e-01,\n",
       "       1.65505101e-01, 1.56580137e-01, 2.09406433e-01, 1.74110676e-01,\n",
       "       1.58546186e-01, 1.51679668e-01, 1.83829546e-01, 1.56137390e-01,\n",
       "       1.75892910e-01, 1.90971439e-01, 2.09148987e-01, 1.87209788e-01,\n",
       "       2.04171655e-01, 1.70528722e-01, 2.03973802e-01, 1.37735742e-01,\n",
       "       1.79342598e-01, 1.95922694e-01, 1.68239698e-01, 2.04637996e-01,\n",
       "       1.87837211e-01, 1.94129482e-01, 1.60952719e-01, 2.01191659e-01,\n",
       "       1.90061932e-01, 1.68546440e-01, 2.14794808e-01, 1.88435207e-01,\n",
       "       1.97251188e-01, 1.65968077e-01, 1.58933838e-01, 1.75425111e-01,\n",
       "       2.12879032e-01, 1.92218155e-01, 1.47684647e-01, 1.96698405e-01,\n",
       "       2.03845731e-01, 1.56703661e-01, 2.20097287e-01, 1.50865061e-01,\n",
       "       2.09475555e-01, 1.77994025e-01, 1.57958587e-01, 1.94227507e-01,\n",
       "       1.63762318e-01, 1.74054226e-01, 1.87677260e-01, 1.97107252e-01,\n",
       "       1.91613513e-01, 1.98680702e-01, 2.00000000e-01, 1.63047215e-01,\n",
       "       2.00000000e-01, 2.33607501e-01, 2.64882754e-01, 2.49853253e-01,\n",
       "       2.24247996e-01, 1.96734682e-01, 2.18358287e-01, 1.88812311e-01,\n",
       "       2.51650893e-01, 1.89285533e-01, 1.95706999e-01, 1.89886128e-01,\n",
       "       2.44013763e-01, 1.89746235e-01, 2.00000000e-01, 1.96234005e-01,\n",
       "       2.53877356e-01, 2.70793112e-01, 1.87111562e-01, 2.46993865e-01,\n",
       "       2.00000000e-01, 2.00000000e-01, 2.31174755e-01, 2.38071771e-01,\n",
       "       2.35796150e-01, 1.93143829e-01, 2.00000000e-01, 2.63081641e-01,\n",
       "       1.94642445e-01, 2.62720705e-01, 1.88023356e-01, 2.00043880e-01,\n",
       "       1.98366036e-01, 2.24078055e-01, 2.00000000e-01, 2.33356446e-01,\n",
       "       2.32778470e-01, 2.41787059e-01, 2.00000000e-01, 2.53977517e-01,\n",
       "       2.75233182e-01, 1.95912488e-01, 2.42266619e-01, 2.00038384e-01,\n",
       "       2.42228169e-01, 1.99729969e-01, 1.97823741e-01, 1.98352775e-01,\n",
       "       2.35233742e-01, 2.00000000e-01, 2.42078552e-01, 2.23416326e-01,\n",
       "       2.54058159e-01, 1.99950168e-01, 2.16887654e-01, 2.00035520e-01,\n",
       "       2.64760424e-01, 2.20703511e-01, 1.94662555e-01, 2.43981234e-01,\n",
       "       2.37226579e-01, 2.02400372e-01, 2.70576647e-01, 2.00000000e-01,\n",
       "       2.51200809e-01, 2.41765802e-01, 2.28576773e-01, 2.50252580e-01,\n",
       "       2.38539736e-01, 2.00000000e-01, 2.66933680e-01, 2.58056996e-01,\n",
       "       2.60499995e-01, 1.95249541e-01, 2.57983249e-01, 2.12478155e-01,\n",
       "       2.00031727e-01, 2.32970006e-01, 2.00046143e-01, 2.00000000e-01,\n",
       "       2.00036314e-01, 2.68501488e-01, 2.49373427e-01, 1.84559319e-01,\n",
       "       2.34275383e-01, 1.99251917e-01, 2.39348038e-01, 2.00000000e-01,\n",
       "       1.85113532e-01, 2.00039310e-01, 1.87811140e-01, 2.62770391e-01,\n",
       "       1.95369314e-01, 2.45832616e-01, 2.48412445e-01, 2.17335673e-01,\n",
       "       2.25463108e-01, 2.62165387e-01, 2.00000000e-01, 2.00000000e-01])"
      ]
     },
     "execution_count": 27,
     "metadata": {},
     "output_type": "execute_result"
    }
   ],
   "source": [
    "itf.perfusion_fraction"
   ]
  },
  {
   "cell_type": "code",
   "execution_count": 28,
   "id": "final-edinburgh",
   "metadata": {},
   "outputs": [],
   "source": [
    "pred=itf.predict(gtab)"
   ]
  },
  {
   "cell_type": "code",
   "execution_count": 29,
   "id": "understood-bouquet",
   "metadata": {},
   "outputs": [
    {
     "data": {
      "text/plain": [
       "(6, 100, 79)"
      ]
     },
     "execution_count": 29,
     "metadata": {},
     "output_type": "execute_result"
    }
   ],
   "source": [
    "sim.shape"
   ]
  },
  {
   "cell_type": "code",
   "execution_count": 30,
   "id": "german-concord",
   "metadata": {},
   "outputs": [
    {
     "data": {
      "text/plain": [
       "(600, 79)"
      ]
     },
     "execution_count": 30,
     "metadata": {},
     "output_type": "execute_result"
    }
   ],
   "source": [
    "pred.shape"
   ]
  },
  {
   "cell_type": "code",
   "execution_count": 31,
   "id": "centered-disease",
   "metadata": {},
   "outputs": [
    {
     "data": {
      "text/plain": [
       "[<matplotlib.lines.Line2D at 0x7f09876eda10>]"
      ]
     },
     "execution_count": 31,
     "metadata": {},
     "output_type": "execute_result"
    },
    {
     "data": {
      "image/png": "[encoded data removed]",
      "text/plain": [
       "<Figure size 432x288 with 1 Axes>"
      ]
     },
     "metadata": {
      "needs_background": "light"
     },
     "output_type": "display_data"
    }
   ],
   "source": [
    "plt.plot(gtab.bvals, pred[0], 'o')\n",
    "plt.plot(gtab.bvals, sim[0, 0], 'o')"
   ]
  },
  {
   "cell_type": "code",
   "execution_count": 32,
   "id": "ordinary-freedom",
   "metadata": {},
   "outputs": [
    {
     "data": {
      "text/plain": [
       "(0.0031181916646980863, 0.0030000001)"
      ]
     },
     "execution_count": 32,
     "metadata": {},
     "output_type": "execute_result"
    }
   ],
   "source": [
    "itf.perfusion_fit.md[0], itf.perfusion_fit.md[-1]"
   ]
  },
  {
   "cell_type": "code",
   "execution_count": 33,
   "id": "clean-rally",
   "metadata": {},
   "outputs": [
    {
     "data": {
      "text/plain": [
       "(array([0.003, 0.003, 0.003]), array([0.003, 0.003, 0.003]))"
      ]
     },
     "execution_count": 33,
     "metadata": {},
     "output_type": "execute_result"
    }
   ],
   "source": [
    "itf.perfusion_fit.evals[6], itf.perfusion_fit.evals[-1]"
   ]
  },
  {
   "cell_type": "code",
   "execution_count": 34,
   "id": "extra-silicon",
   "metadata": {},
   "outputs": [
    {
     "data": {
      "text/plain": [
       "(0.153719029511829, 0.19999999999999998)"
      ]
     },
     "execution_count": 34,
     "metadata": {},
     "output_type": "execute_result"
    }
   ],
   "source": [
    "itf.perfusion_fraction[0], itf.perfusion_fraction[-1]"
   ]
  },
  {
   "cell_type": "code",
   "execution_count": 35,
   "id": "third-equilibrium",
   "metadata": {},
   "outputs": [
    {
     "data": {
      "text/plain": [
       "(array([0.00102776, 0.00057514, 0.00047628]),\n",
       " array([0.00115288, 0.0007007 , 0.00066932]))"
      ]
     },
     "execution_count": 35,
     "metadata": {},
     "output_type": "execute_result"
    }
   ],
   "source": [
    "itf.diffusion_fit.evals[6], itf.diffusion_fit.evals[-1]"
   ]
  },
  {
   "cell_type": "code",
   "execution_count": null,
   "id": "unavailable-powell",
   "metadata": {},
   "outputs": [],
   "source": []
  }
 ],
 "metadata": {
  "kernelspec": {
   "display_name": "Python 3",
   "language": "python",
   "name": "python3"
  },
  "language_info": {
   "codemirror_mode": {
    "name": "ipython",
    "version": 3
   },
   "file_extension": ".py",
   "mimetype": "text/x-python",
   "name": "python",
   "nbconvert_exporter": "python",
   "pygments_lexer": "ipython3",
   "version": "3.7.10"
  }
 },
 "nbformat": 4,
 "nbformat_minor": 5
}

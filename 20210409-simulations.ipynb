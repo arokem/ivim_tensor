{
 "cells": [
  {
   "cell_type": "code",
   "execution_count": 1,
   "id": "angry-certification",
   "metadata": {},
   "outputs": [],
   "source": [
    "import numpy as np\n",
    "import matplotlib.pyplot as plt"
   ]
  },
  {
   "cell_type": "code",
   "execution_count": 2,
   "id": "cutting-proposal",
   "metadata": {},
   "outputs": [],
   "source": [
    "from dipy.core.gradients import gradient_table"
   ]
  },
  {
   "cell_type": "code",
   "execution_count": 3,
   "id": "amended-moderator",
   "metadata": {},
   "outputs": [],
   "source": [
    "gtab = gradient_table('./data/DWI_IVIM6.bval', './data/DWI_IVIM6.bvec', b0_threshold=0)"
   ]
  },
  {
   "cell_type": "code",
   "execution_count": 4,
   "id": "sensitive-tumor",
   "metadata": {},
   "outputs": [],
   "source": [
    "from dipy.sims.voxel import multi_tensor"
   ]
  },
  {
   "cell_type": "code",
   "execution_count": 5,
   "id": "gentle-inspection",
   "metadata": {},
   "outputs": [],
   "source": [
    "mevals = np.array([[0.001, 0.0005, 0.0005], \n",
    "                   [0.1, 0.01, 0.01]])\n",
    "\n",
    "angles = [(90, 0), (90, 0)]"
   ]
  },
  {
   "cell_type": "code",
   "execution_count": 6,
   "id": "duplicate-lyric",
   "metadata": {},
   "outputs": [],
   "source": [
    "from ivim_tensor import IvimTensorModel"
   ]
  },
  {
   "cell_type": "code",
   "execution_count": 7,
   "id": "tight-display",
   "metadata": {},
   "outputs": [
    {
     "name": "stderr",
     "output_type": "stream",
     "text": [
      "/srv/conda/envs/notebook/lib/python3.7/site-packages/dipy/reconst/ivim.py:151: UserWarning: Bounds for this fit have been set from experiments and literature survey. To change the bounds, please input your bounds in model definition...\n",
      "  warnings.warn(bounds_warning, UserWarning)\n"
     ]
    }
   ],
   "source": [
    "itm = IvimTensorModel(gtab)"
   ]
  },
  {
   "cell_type": "code",
   "execution_count": 8,
   "id": "improved-dating",
   "metadata": {},
   "outputs": [],
   "source": [
    "betas = np.arange(0.001, 0.3, 0.05)"
   ]
  },
  {
   "cell_type": "code",
   "execution_count": 9,
   "id": "sufficient-quarterly",
   "metadata": {},
   "outputs": [],
   "source": [
    "n_sims = 100"
   ]
  },
  {
   "cell_type": "code",
   "execution_count": 10,
   "id": "cheap-fifty",
   "metadata": {},
   "outputs": [],
   "source": [
    "pf = np.zeros((len(betas), n_sims))\n",
    "sim = np.zeros((len(betas), n_sims, gtab.bvals.shape[0]))\n",
    "\n",
    "for ii in range(len(betas)):\n",
    "    for nn in range(n_sims):\n",
    "        sim[ii, nn] = multi_tensor(gtab, mevals=mevals, snr=100, fractions=[100 * (1-betas[ii]), \n",
    "                                                                     betas[ii] * 100])[0]\n",
    "#pf[ii, nn] = (itf.perfusion_fraction)"
   ]
  },
  {
   "cell_type": "code",
   "execution_count": 11,
   "id": "optional-coffee",
   "metadata": {},
   "outputs": [
    {
     "name": "stderr",
     "output_type": "stream",
     "text": [
      "/srv/conda/envs/notebook/lib/python3.7/site-packages/dipy/reconst/ivim.py:434: UserWarning: x0 obtained from linear fitting is not feasibile as initial guess for leastsq while estimating f and D_star. Using parameters from the linear fit.\n",
      "  warnings.warn(warningMsg, UserWarning)\n",
      "/srv/conda/envs/notebook/lib/python3.7/site-packages/dipy/reconst/ivim.py:507: UserWarning: x0 is unfeasible for leastsq fitting. Returning x0 values from the linear fit.\n",
      "  warnings.warn(warningMsg, UserWarning)\n",
      "/srv/conda/envs/notebook/lib/python3.7/site-packages/dipy/reconst/ivim.py:344: UserWarning: Bounds are violated for leastsq fitting. Returning parameters from linear fit\n",
      "  warnings.warn(warningMsg, UserWarning)\n",
      "100%|██████████| 600/600 [01:55<00:00,  5.19it/s]\n"
     ]
    },
    {
     "ename": "AttributeError",
     "evalue": "'IvimTensorFit' object has no attribute '_ivim_pf'",
     "output_type": "error",
     "traceback": [
      "\u001b[0;31m---------------------------------------------------------------------------\u001b[0m",
      "\u001b[0;31mAttributeError\u001b[0m                            Traceback (most recent call last)",
      "\u001b[0;32m<ipython-input-11-7c8708ae549f>\u001b[0m in \u001b[0;36m<module>\u001b[0;34m\u001b[0m\n\u001b[0;32m----> 1\u001b[0;31m \u001b[0mitf\u001b[0m \u001b[0;34m=\u001b[0m \u001b[0mitm\u001b[0m\u001b[0;34m.\u001b[0m\u001b[0mfit\u001b[0m\u001b[0;34m(\u001b[0m\u001b[0msim\u001b[0m\u001b[0;34m)\u001b[0m\u001b[0;34m\u001b[0m\u001b[0;34m\u001b[0m\u001b[0m\n\u001b[0m",
      "\u001b[0;32m~/ivim_tensor/ivim_tensor.py\u001b[0m in \u001b[0;36mfit\u001b[0;34m(self, data, mask)\u001b[0m\n\u001b[1;32m    140\u001b[0m             \u001b[0mmodel_params\u001b[0m\u001b[0;34m[\u001b[0m\u001b[0mvox\u001b[0m\u001b[0;34m]\u001b[0m \u001b[0;34m=\u001b[0m \u001b[0mpopt\u001b[0m\u001b[0;34m\u001b[0m\u001b[0;34m\u001b[0m\u001b[0m\n\u001b[1;32m    141\u001b[0m \u001b[0;34m\u001b[0m\u001b[0m\n\u001b[0;32m--> 142\u001b[0;31m         \u001b[0;32mreturn\u001b[0m \u001b[0mIvimTensorFit\u001b[0m\u001b[0;34m(\u001b[0m\u001b[0mself\u001b[0m\u001b[0;34m,\u001b[0m \u001b[0mmodel_params\u001b[0m\u001b[0;34m)\u001b[0m\u001b[0;34m\u001b[0m\u001b[0;34m\u001b[0m\u001b[0m\n\u001b[0m\u001b[1;32m    143\u001b[0m \u001b[0;34m\u001b[0m\u001b[0m\n\u001b[1;32m    144\u001b[0m \u001b[0;34m\u001b[0m\u001b[0m\n",
      "\u001b[0;32m~/ivim_tensor/ivim_tensor.py\u001b[0m in \u001b[0;36m__init__\u001b[0;34m(self, model, model_params)\u001b[0m\n\u001b[1;32m    152\u001b[0m         \u001b[0mself\u001b[0m\u001b[0;34m.\u001b[0m\u001b[0mperfusion_fraction\u001b[0m \u001b[0;34m=\u001b[0m \u001b[0mnp\u001b[0m\u001b[0;34m.\u001b[0m\u001b[0mzeros\u001b[0m\u001b[0;34m(\u001b[0m\u001b[0mself\u001b[0m\u001b[0;34m.\u001b[0m\u001b[0mmodel_params\u001b[0m\u001b[0;34m.\u001b[0m\u001b[0mshape\u001b[0m\u001b[0;34m[\u001b[0m\u001b[0;36m0\u001b[0m\u001b[0;34m]\u001b[0m\u001b[0;34m)\u001b[0m\u001b[0;34m\u001b[0m\u001b[0;34m\u001b[0m\u001b[0m\n\u001b[1;32m    153\u001b[0m         \u001b[0;32mfor\u001b[0m \u001b[0mvox\u001b[0m \u001b[0;32min\u001b[0m \u001b[0mrange\u001b[0m\u001b[0;34m(\u001b[0m\u001b[0mself\u001b[0m\u001b[0;34m.\u001b[0m\u001b[0mmodel_params\u001b[0m\u001b[0;34m.\u001b[0m\u001b[0mshape\u001b[0m\u001b[0;34m[\u001b[0m\u001b[0;36m0\u001b[0m\u001b[0;34m]\u001b[0m\u001b[0;34m)\u001b[0m\u001b[0;34m:\u001b[0m\u001b[0;34m\u001b[0m\u001b[0;34m\u001b[0m\u001b[0m\n\u001b[0;32m--> 154\u001b[0;31m             \u001b[0mself\u001b[0m\u001b[0;34m.\u001b[0m\u001b[0mperfusion_fraction\u001b[0m\u001b[0;34m[\u001b[0m\u001b[0mvox\u001b[0m\u001b[0;34m]\u001b[0m \u001b[0;34m=\u001b[0m \u001b[0mself\u001b[0m\u001b[0;34m.\u001b[0m\u001b[0mmodel\u001b[0m\u001b[0;34m.\u001b[0m\u001b[0mivim_fit\u001b[0m\u001b[0;34m.\u001b[0m\u001b[0mperfusion_fraction\u001b[0m\u001b[0;34m[\u001b[0m\u001b[0mvox\u001b[0m\u001b[0;34m]\u001b[0m\u001b[0;34m\u001b[0m\u001b[0;34m\u001b[0m\u001b[0m\n\u001b[0m\u001b[1;32m    155\u001b[0m             \u001b[0mtensor_evecs\u001b[0m\u001b[0;34m,\u001b[0m \u001b[0mtensor_evals\u001b[0m \u001b[0;34m=\u001b[0m \u001b[0m_reconstruct_tensor\u001b[0m\u001b[0;34m(\u001b[0m\u001b[0;34m*\u001b[0m\u001b[0mself\u001b[0m\u001b[0;34m.\u001b[0m\u001b[0mmodel_params\u001b[0m\u001b[0;34m[\u001b[0m\u001b[0mvox\u001b[0m\u001b[0;34m,\u001b[0m \u001b[0;34m:\u001b[0m\u001b[0;36m6\u001b[0m\u001b[0;34m]\u001b[0m\u001b[0;34m)\u001b[0m\u001b[0;34m\u001b[0m\u001b[0;34m\u001b[0m\u001b[0m\n\u001b[1;32m    156\u001b[0m             \u001b[0mdiffusion_params\u001b[0m\u001b[0;34m[\u001b[0m\u001b[0mvox\u001b[0m\u001b[0;34m]\u001b[0m \u001b[0;34m=\u001b[0m \u001b[0mnp\u001b[0m\u001b[0;34m.\u001b[0m\u001b[0mhstack\u001b[0m\u001b[0;34m(\u001b[0m\u001b[0;34m[\u001b[0m\u001b[0mtensor_evals\u001b[0m\u001b[0;34m,\u001b[0m \u001b[0mtensor_evecs\u001b[0m\u001b[0;34m.\u001b[0m\u001b[0mravel\u001b[0m\u001b[0;34m(\u001b[0m\u001b[0;34m)\u001b[0m\u001b[0;34m]\u001b[0m\u001b[0;34m)\u001b[0m\u001b[0;34m\u001b[0m\u001b[0;34m\u001b[0m\u001b[0m\n",
      "\u001b[0;31mAttributeError\u001b[0m: 'IvimTensorFit' object has no attribute '_ivim_pf'"
     ]
    }
   ],
   "source": [
    "itf = itm.fit(sim)"
   ]
  },
  {
   "cell_type": "code",
   "execution_count": null,
   "id": "prostate-confidence",
   "metadata": {},
   "outputs": [],
   "source": []
  },
  {
   "cell_type": "code",
   "execution_count": null,
   "id": "industrial-uncertainty",
   "metadata": {},
   "outputs": [],
   "source": [
    "sim.shape"
   ]
  },
  {
   "cell_type": "code",
   "execution_count": null,
   "id": "included-assist",
   "metadata": {},
   "outputs": [],
   "source": [
    "pf = np.reshape(itf.perfusion_fraction, sim.shape[:2])"
   ]
  },
  {
   "cell_type": "code",
   "execution_count": null,
   "id": "narrow-allowance",
   "metadata": {},
   "outputs": [],
   "source": [
    "np.mean(pf, -1)"
   ]
  },
  {
   "cell_type": "code",
   "execution_count": null,
   "id": "collaborative-roman",
   "metadata": {},
   "outputs": [],
   "source": [
    "plt.plot(betas, pf, 'o', alpha=0.1)"
   ]
  },
  {
   "cell_type": "code",
   "execution_count": null,
   "id": "sought-advancement",
   "metadata": {},
   "outputs": [],
   "source": [
    "itf.perfusion_fraction"
   ]
  },
  {
   "cell_type": "code",
   "execution_count": null,
   "id": "surprising-directive",
   "metadata": {},
   "outputs": [],
   "source": []
  }
 ],
 "metadata": {
  "kernelspec": {
   "display_name": "Python 3",
   "language": "python",
   "name": "python3"
  },
  "language_info": {
   "codemirror_mode": {
    "name": "ipython",
    "version": 3
   },
   "file_extension": ".py",
   "mimetype": "text/x-python",
   "name": "python",
   "nbconvert_exporter": "python",
   "pygments_lexer": "ipython3",
   "version": "3.7.10"
  }
 },
 "nbformat": 4,
 "nbformat_minor": 5
}

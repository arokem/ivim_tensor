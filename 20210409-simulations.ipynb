{
 "cells": [
  {
   "cell_type": "code",
   "execution_count": 1,
   "id": "known-chance",
   "metadata": {},
   "outputs": [],
   "source": [
    "import numpy as np\n",
    "import matplotlib.pyplot as plt"
   ]
  },
  {
   "cell_type": "code",
   "execution_count": 2,
   "id": "demonstrated-correction",
   "metadata": {},
   "outputs": [],
   "source": [
    "from dipy.core.gradients import gradient_table"
   ]
  },
  {
   "cell_type": "code",
   "execution_count": 3,
   "id": "protecting-induction",
   "metadata": {},
   "outputs": [],
   "source": [
    "gtab = gradient_table('./data/DWI_IVIM6.bval', './data/DWI_IVIM6.bvec', b0_threshold=0)"
   ]
  },
  {
   "cell_type": "code",
   "execution_count": 4,
   "id": "dramatic-nursing",
   "metadata": {},
   "outputs": [],
   "source": [
    "from dipy.sims.voxel import multi_tensor"
   ]
  },
  {
   "cell_type": "code",
   "execution_count": 5,
   "id": "secondary-center",
   "metadata": {},
   "outputs": [],
   "source": [
    "mevals = np.array([[0.001, 0.0005, 0.0005], \n",
    "                   [0.1, 0.01, 0.01]])\n",
    "\n",
    "angles = [(90, 0), (90, 0)]"
   ]
  },
  {
   "cell_type": "code",
   "execution_count": 6,
   "id": "established-victoria",
   "metadata": {},
   "outputs": [],
   "source": [
    "from ivim_tensor import IvimTensorModel"
   ]
  },
  {
   "cell_type": "code",
   "execution_count": 7,
   "id": "geographic-chance",
   "metadata": {},
   "outputs": [
    {
     "name": "stderr",
     "output_type": "stream",
     "text": [
      "/srv/conda/envs/notebook/lib/python3.7/site-packages/dipy/reconst/ivim.py:151: UserWarning: Bounds for this fit have been set from experiments and literature survey. To change the bounds, please input your bounds in model definition...\n",
      "  warnings.warn(bounds_warning, UserWarning)\n"
     ]
    }
   ],
   "source": [
    "itm = IvimTensorModel(gtab)"
   ]
  },
  {
   "cell_type": "code",
   "execution_count": 8,
   "id": "graduate-bookmark",
   "metadata": {},
   "outputs": [],
   "source": [
    "betas = np.arange(0.001, 0.3, 0.05)"
   ]
  },
  {
   "cell_type": "code",
   "execution_count": 9,
   "id": "external-vulnerability",
   "metadata": {},
   "outputs": [],
   "source": [
    "n_sims = 100"
   ]
  },
  {
   "cell_type": "code",
   "execution_count": 10,
   "id": "spare-search",
   "metadata": {},
   "outputs": [],
   "source": [
    "pf = np.zeros((len(betas), n_sims))\n",
    "sim = np.zeros((len(betas), n_sims, gtab.bvals.shape[0]))\n",
    "\n",
    "for ii in range(len(betas)):\n",
    "    for nn in range(n_sims):\n",
    "        sim[ii, nn] = multi_tensor(gtab, mevals=mevals, snr=100, fractions=[100 * (1-betas[ii]), \n",
    "                                                                     betas[ii] * 100])[0]\n",
    "#pf[ii, nn] = (itf.perfusion_fraction)"
   ]
  },
  {
   "cell_type": "code",
   "execution_count": 11,
   "id": "antique-offset",
   "metadata": {},
   "outputs": [
    {
     "name": "stderr",
     "output_type": "stream",
     "text": [
      "/srv/conda/envs/notebook/lib/python3.7/site-packages/dipy/reconst/ivim.py:434: UserWarning: x0 obtained from linear fitting is not feasibile as initial guess for leastsq while estimating f and D_star. Using parameters from the linear fit.\n",
      "  warnings.warn(warningMsg, UserWarning)\n",
      "/srv/conda/envs/notebook/lib/python3.7/site-packages/dipy/reconst/ivim.py:507: UserWarning: x0 is unfeasible for leastsq fitting. Returning x0 values from the linear fit.\n",
      "  warnings.warn(warningMsg, UserWarning)\n",
      "/srv/conda/envs/notebook/lib/python3.7/site-packages/dipy/reconst/ivim.py:344: UserWarning: Bounds are violated for leastsq fitting. Returning parameters from linear fit\n",
      "  warnings.warn(warningMsg, UserWarning)\n",
      "100%|██████████| 600/600 [00:02<00:00, 247.26it/s]\n"
     ]
    }
   ],
   "source": [
    "itf = itm.fit(sim)"
   ]
  },
  {
   "cell_type": "code",
   "execution_count": null,
   "id": "impaired-detective",
   "metadata": {},
   "outputs": [],
   "source": []
  },
  {
   "cell_type": "code",
   "execution_count": 12,
   "id": "wanted-freeware",
   "metadata": {},
   "outputs": [
    {
     "data": {
      "text/plain": [
       "(6, 100, 79)"
      ]
     },
     "execution_count": 12,
     "metadata": {},
     "output_type": "execute_result"
    }
   ],
   "source": [
    "sim.shape"
   ]
  },
  {
   "cell_type": "code",
   "execution_count": 13,
   "id": "pharmaceutical-lover",
   "metadata": {},
   "outputs": [],
   "source": [
    "pf = np.reshape(itf.perfusion_fraction, sim.shape[:2])"
   ]
  },
  {
   "cell_type": "code",
   "execution_count": 14,
   "id": "irish-comparative",
   "metadata": {},
   "outputs": [
    {
     "data": {
      "text/plain": [
       "array([0.0737574 , 0.0479837 , 0.0853003 , 0.12648693, 0.16640251,\n",
       "       0.19991591])"
      ]
     },
     "execution_count": 14,
     "metadata": {},
     "output_type": "execute_result"
    }
   ],
   "source": [
    "np.mean(pf, -1)"
   ]
  },
  {
   "cell_type": "code",
   "execution_count": 15,
   "id": "younger-nickel",
   "metadata": {},
   "outputs": [
    {
     "data": {
      "text/plain": [
       "[<matplotlib.lines.Line2D at 0x7fd41bdf20d0>,\n",
       " <matplotlib.lines.Line2D at 0x7fd40b9f9250>,\n",
       " <matplotlib.lines.Line2D at 0x7fd40b99e790>,\n",
       " <matplotlib.lines.Line2D at 0x7fd40b99e750>,\n",
       " <matplotlib.lines.Line2D at 0x7fd40b99e950>,\n",
       " <matplotlib.lines.Line2D at 0x7fd40b99ea90>,\n",
       " <matplotlib.lines.Line2D at 0x7fd40b99eb10>,\n",
       " <matplotlib.lines.Line2D at 0x7fd40b99ec10>,\n",
       " <matplotlib.lines.Line2D at 0x7fd40b99ecd0>,\n",
       " <matplotlib.lines.Line2D at 0x7fd40b99ea10>,\n",
       " <matplotlib.lines.Line2D at 0x7fd40b9cfd50>,\n",
       " <matplotlib.lines.Line2D at 0x7fd40b99ee10>,\n",
       " <matplotlib.lines.Line2D at 0x7fd40b99ee90>,\n",
       " <matplotlib.lines.Line2D at 0x7fd40b99efd0>,\n",
       " <matplotlib.lines.Line2D at 0x7fd40b9ae0d0>,\n",
       " <matplotlib.lines.Line2D at 0x7fd40b9ae190>,\n",
       " <matplotlib.lines.Line2D at 0x7fd40b9ae250>,\n",
       " <matplotlib.lines.Line2D at 0x7fd40b9ae310>,\n",
       " <matplotlib.lines.Line2D at 0x7fd40b9ae3d0>,\n",
       " <matplotlib.lines.Line2D at 0x7fd40b9ae490>,\n",
       " <matplotlib.lines.Line2D at 0x7fd40b9ae550>,\n",
       " <matplotlib.lines.Line2D at 0x7fd40b9ae610>,\n",
       " <matplotlib.lines.Line2D at 0x7fd40b9ae6d0>,\n",
       " <matplotlib.lines.Line2D at 0x7fd40b9ae790>,\n",
       " <matplotlib.lines.Line2D at 0x7fd40b9ae850>,\n",
       " <matplotlib.lines.Line2D at 0x7fd40b9ae910>,\n",
       " <matplotlib.lines.Line2D at 0x7fd40b9ae9d0>,\n",
       " <matplotlib.lines.Line2D at 0x7fd40b9aea90>,\n",
       " <matplotlib.lines.Line2D at 0x7fd40b9aeb50>,\n",
       " <matplotlib.lines.Line2D at 0x7fd40b9aec10>,\n",
       " <matplotlib.lines.Line2D at 0x7fd40b9aecd0>,\n",
       " <matplotlib.lines.Line2D at 0x7fd40b9aed90>,\n",
       " <matplotlib.lines.Line2D at 0x7fd40b9aee50>,\n",
       " <matplotlib.lines.Line2D at 0x7fd40b9aef10>,\n",
       " <matplotlib.lines.Line2D at 0x7fd40b9aefd0>,\n",
       " <matplotlib.lines.Line2D at 0x7fd40b9b60d0>,\n",
       " <matplotlib.lines.Line2D at 0x7fd40b9b6190>,\n",
       " <matplotlib.lines.Line2D at 0x7fd40b9b6250>,\n",
       " <matplotlib.lines.Line2D at 0x7fd40b9b6310>,\n",
       " <matplotlib.lines.Line2D at 0x7fd40b9b63d0>,\n",
       " <matplotlib.lines.Line2D at 0x7fd40b9b6490>,\n",
       " <matplotlib.lines.Line2D at 0x7fd40b9b6550>,\n",
       " <matplotlib.lines.Line2D at 0x7fd40b9b6610>,\n",
       " <matplotlib.lines.Line2D at 0x7fd40b9b66d0>,\n",
       " <matplotlib.lines.Line2D at 0x7fd40b9b6790>,\n",
       " <matplotlib.lines.Line2D at 0x7fd40b9b6850>,\n",
       " <matplotlib.lines.Line2D at 0x7fd40b9b6910>,\n",
       " <matplotlib.lines.Line2D at 0x7fd40b9b69d0>,\n",
       " <matplotlib.lines.Line2D at 0x7fd40b9b6a90>,\n",
       " <matplotlib.lines.Line2D at 0x7fd40b9b6b50>,\n",
       " <matplotlib.lines.Line2D at 0x7fd40b9b6c10>,\n",
       " <matplotlib.lines.Line2D at 0x7fd40b9b6cd0>,\n",
       " <matplotlib.lines.Line2D at 0x7fd40b9b6d90>,\n",
       " <matplotlib.lines.Line2D at 0x7fd40b9b6e50>,\n",
       " <matplotlib.lines.Line2D at 0x7fd40b9b6f10>,\n",
       " <matplotlib.lines.Line2D at 0x7fd40b9b6fd0>,\n",
       " <matplotlib.lines.Line2D at 0x7fd40b9c10d0>,\n",
       " <matplotlib.lines.Line2D at 0x7fd40b9c1190>,\n",
       " <matplotlib.lines.Line2D at 0x7fd40b9c1250>,\n",
       " <matplotlib.lines.Line2D at 0x7fd40b9c1310>,\n",
       " <matplotlib.lines.Line2D at 0x7fd40b9c13d0>,\n",
       " <matplotlib.lines.Line2D at 0x7fd40b9c1490>,\n",
       " <matplotlib.lines.Line2D at 0x7fd40b9c1550>,\n",
       " <matplotlib.lines.Line2D at 0x7fd40b9c1610>,\n",
       " <matplotlib.lines.Line2D at 0x7fd40b9c16d0>,\n",
       " <matplotlib.lines.Line2D at 0x7fd40b9c1790>,\n",
       " <matplotlib.lines.Line2D at 0x7fd40b9c1850>,\n",
       " <matplotlib.lines.Line2D at 0x7fd40b9c1910>,\n",
       " <matplotlib.lines.Line2D at 0x7fd40b9c19d0>,\n",
       " <matplotlib.lines.Line2D at 0x7fd40b9c1a90>,\n",
       " <matplotlib.lines.Line2D at 0x7fd40b9c1b50>,\n",
       " <matplotlib.lines.Line2D at 0x7fd40b9c1c10>,\n",
       " <matplotlib.lines.Line2D at 0x7fd40b9c1cd0>,\n",
       " <matplotlib.lines.Line2D at 0x7fd40b9c1d90>,\n",
       " <matplotlib.lines.Line2D at 0x7fd40b9c1e50>,\n",
       " <matplotlib.lines.Line2D at 0x7fd40b9c1f10>,\n",
       " <matplotlib.lines.Line2D at 0x7fd40b9c1fd0>,\n",
       " <matplotlib.lines.Line2D at 0x7fd40b9c90d0>,\n",
       " <matplotlib.lines.Line2D at 0x7fd40b9c9190>,\n",
       " <matplotlib.lines.Line2D at 0x7fd40b9c9250>,\n",
       " <matplotlib.lines.Line2D at 0x7fd40b9c9310>,\n",
       " <matplotlib.lines.Line2D at 0x7fd40b9c93d0>,\n",
       " <matplotlib.lines.Line2D at 0x7fd40b9c9490>,\n",
       " <matplotlib.lines.Line2D at 0x7fd40b9c9550>,\n",
       " <matplotlib.lines.Line2D at 0x7fd40b9c9610>,\n",
       " <matplotlib.lines.Line2D at 0x7fd40b9c96d0>,\n",
       " <matplotlib.lines.Line2D at 0x7fd40b9c9790>,\n",
       " <matplotlib.lines.Line2D at 0x7fd40b9c9850>,\n",
       " <matplotlib.lines.Line2D at 0x7fd40b9c9910>,\n",
       " <matplotlib.lines.Line2D at 0x7fd40b9c99d0>,\n",
       " <matplotlib.lines.Line2D at 0x7fd40b9c9a90>,\n",
       " <matplotlib.lines.Line2D at 0x7fd40b9c9b50>,\n",
       " <matplotlib.lines.Line2D at 0x7fd40b9c9c10>,\n",
       " <matplotlib.lines.Line2D at 0x7fd40b9c9cd0>,\n",
       " <matplotlib.lines.Line2D at 0x7fd40b9c9d90>,\n",
       " <matplotlib.lines.Line2D at 0x7fd40b9c9e50>,\n",
       " <matplotlib.lines.Line2D at 0x7fd40b9c9f10>,\n",
       " <matplotlib.lines.Line2D at 0x7fd40b9c9fd0>,\n",
       " <matplotlib.lines.Line2D at 0x7fd40b9520d0>,\n",
       " <matplotlib.lines.Line2D at 0x7fd40b952190>]"
      ]
     },
     "execution_count": 15,
     "metadata": {},
     "output_type": "execute_result"
    },
    {
     "data": {
      "image/png": "[encoded data removed]",
      "text/plain": [
       "<Figure size 432x288 with 1 Axes>"
      ]
     },
     "metadata": {
      "needs_background": "light"
     },
     "output_type": "display_data"
    }
   ],
   "source": [
    "plt.plot(betas, pf, 'o', alpha=0.1)"
   ]
  },
  {
   "cell_type": "code",
   "execution_count": 16,
   "id": "greatest-sharp",
   "metadata": {},
   "outputs": [
    {
     "data": {
      "text/plain": [
       "array([ 0.2       ,  0.2       , -0.01075074,  0.2       ,  0.2       ,\n",
       "       -0.02549536,  0.07181968,  0.2       , -0.01398832,  0.2       ,\n",
       "       -0.0220304 , -0.01177193,  0.2       , -0.00608412,  0.05607834,\n",
       "       -0.02517471,  0.2       ,  0.2       , -0.0321389 ,  0.2       ,\n",
       "        0.09846829, -0.00033949, -0.00775976, -0.00623063,  0.05540927,\n",
       "        0.2       ,  0.08680636, -0.01452512, -0.0106841 , -0.01798989,\n",
       "        0.2       , -0.01630245, -0.01627589,  0.07723271, -0.02578629,\n",
       "        0.0635434 , -0.00821197, -0.00167344, -0.00742209,  0.01071477,\n",
       "        0.2       ,  0.10465809, -0.00271923, -0.00697969,  0.2       ,\n",
       "        0.09850533, -0.00434739, -0.00136353,  0.2       ,  0.01352175,\n",
       "        0.08286171,  0.2       ,  0.01125113, -0.00369067, -0.01827183,\n",
       "        0.03657874,  0.2       ,  0.2       , -0.0036987 , -0.0094972 ,\n",
       "        0.2       ,  0.2       ,  0.2       ,  0.2       , -0.01297884,\n",
       "       -0.00840424, -0.00080158,  0.2       ,  0.2       , -0.00400348,\n",
       "        0.2       , -0.02100249, -0.00346075,  0.08859101, -0.00142663,\n",
       "        0.2       , -0.00282835,  0.12292388,  0.03580835, -0.00171743,\n",
       "       -0.00159434,  0.2       , -0.00280095, -0.0078592 ,  0.2       ,\n",
       "        0.2       , -0.0207973 , -0.00769116,  0.2       , -0.02132569,\n",
       "        0.01147652, -0.00799151, -0.02370253,  0.06690049,  0.03440602,\n",
       "        0.2       , -0.02253376,  0.2       ,  0.2       ,  0.05230792,\n",
       "        0.03650634,  0.04587303,  0.04940322,  0.0686718 ,  0.07259947,\n",
       "        0.04033989, -0.00420035,  0.0488468 ,  0.04085211, -0.008139  ,\n",
       "        0.06016172,  0.05129284,  0.2       ,  0.04785512,  0.03733541,\n",
       "        0.04331908,  0.04622369,  0.04150377,  0.05008058,  0.04731385,\n",
       "        0.04586531,  0.03504157,  0.05884299,  0.04462875,  0.04816586,\n",
       "        0.04754523,  0.04251794,  0.03425438,  0.04591446,  0.04509239,\n",
       "        0.03813316,  0.05083463,  0.05569655,  0.05008595,  0.06006484,\n",
       "        0.04998659,  0.05490954,  0.0426322 ,  0.04713162,  0.04484923,\n",
       "        0.04014181,  0.05034265,  0.05061364,  0.05373258,  0.0427562 ,\n",
       "        0.045261  ,  0.03849173,  0.05510367,  0.04130247,  0.03878675,\n",
       "        0.05467983,  0.04488372,  0.06103806,  0.05329829,  0.04966397,\n",
       "        0.04531763,  0.04394777,  0.03941091,  0.04921861,  0.03520534,\n",
       "        0.04755787,  0.03581363,  0.05161493,  0.05233313,  0.04898364,\n",
       "        0.05038422,  0.0494197 ,  0.04074258,  0.04358083,  0.04373525,\n",
       "        0.04557282,  0.04208286,  0.05533087,  0.04478025,  0.04672405,\n",
       "        0.04199868,  0.05197375,  0.04727823,  0.04382825,  0.04720577,\n",
       "        0.05193173,  0.04965643,  0.0495017 ,  0.04661559,  0.04668822,\n",
       "        0.05107195,  0.05320614,  0.04775793,  0.03956826,  0.04375082,\n",
       "        0.04106117,  0.04352313,  0.06117925,  0.04574401,  0.05580447,\n",
       "        0.04224907,  0.05606777,  0.05029402,  0.05573512,  0.04479299,\n",
       "        0.08032161,  0.08313261,  0.08465812,  0.08566024,  0.08731979,\n",
       "        0.08098777,  0.08266645,  0.08961158,  0.08301489,  0.08698877,\n",
       "        0.08732242,  0.0833544 ,  0.07876821,  0.08151102,  0.08625608,\n",
       "        0.08548301,  0.08293285,  0.08582973,  0.07687576,  0.08318509,\n",
       "        0.09149926,  0.08107316,  0.07873273,  0.08599674,  0.08940461,\n",
       "        0.0912472 ,  0.09051012,  0.0814336 ,  0.08984778,  0.0846991 ,\n",
       "        0.08348463,  0.0985351 ,  0.07839758,  0.0876761 ,  0.07640457,\n",
       "        0.07926084,  0.08392992,  0.08299719,  0.08317564,  0.08773148,\n",
       "        0.09043754,  0.08880832,  0.08483065,  0.07688151,  0.08397161,\n",
       "        0.08127584,  0.08658231,  0.08874079,  0.08478424,  0.08215356,\n",
       "        0.0891346 ,  0.09159264,  0.08689017,  0.08954299,  0.09131623,\n",
       "        0.08162794,  0.08692035,  0.08719187,  0.1009162 ,  0.09021352,\n",
       "        0.0948769 ,  0.07823964,  0.08638422,  0.07550737,  0.08570078,\n",
       "        0.0906795 ,  0.09046739,  0.07346224,  0.08765518,  0.09132719,\n",
       "        0.09126704,  0.07265004,  0.08510246,  0.08805845,  0.08142955,\n",
       "        0.08540231,  0.08812341,  0.0887204 ,  0.08788558,  0.08842851,\n",
       "        0.08776884,  0.07632018,  0.08217326,  0.08127543,  0.08264126,\n",
       "        0.07997225,  0.08636472,  0.08762591,  0.08802956,  0.08369415,\n",
       "        0.07260642,  0.09523068,  0.08471203,  0.08779645,  0.08454976,\n",
       "        0.08450665,  0.09291325,  0.08350953,  0.08206835,  0.08917291,\n",
       "        0.13239346,  0.12650558,  0.12715392,  0.11907571,  0.12991673,\n",
       "        0.13464674,  0.12213438,  0.12131862,  0.11719268,  0.12047698,\n",
       "        0.1187714 ,  0.13361759,  0.12060411,  0.12354342,  0.13112549,\n",
       "        0.12918783,  0.12419609,  0.13015338,  0.13584266,  0.13201533,\n",
       "        0.12145649,  0.12971664,  0.12626786,  0.13093167,  0.13374032,\n",
       "        0.1318686 ,  0.11447414,  0.1360294 ,  0.12287122,  0.13188277,\n",
       "        0.1350467 ,  0.12427446,  0.12695383,  0.12015194,  0.11724343,\n",
       "        0.12971033,  0.12222386,  0.12392143,  0.11972433,  0.12731661,\n",
       "        0.12212602,  0.13476273,  0.12476837,  0.12295386,  0.13216623,\n",
       "        0.1171695 ,  0.11926637,  0.12497272,  0.12290127,  0.12384049,\n",
       "        0.11908776,  0.12810034,  0.13341334,  0.13448647,  0.12508231,\n",
       "        0.13498531,  0.1344044 ,  0.1223193 ,  0.12069177,  0.13100575,\n",
       "        0.13542537,  0.12803525,  0.12611848,  0.11680566,  0.12377103,\n",
       "        0.13427884,  0.12958807,  0.12904984,  0.1150654 ,  0.1208695 ,\n",
       "        0.1325435 ,  0.12427671,  0.10863643,  0.12909009,  0.11539351,\n",
       "        0.13629828,  0.12258034,  0.12279611,  0.13279794,  0.11994038,\n",
       "        0.12631004,  0.13093156,  0.11798374,  0.13111171,  0.12848976,\n",
       "        0.12245242,  0.1236    ,  0.12806731,  0.12031686,  0.13301507,\n",
       "        0.12205856,  0.12915343,  0.13730806,  0.14005735,  0.12684615,\n",
       "        0.13191497,  0.12576814,  0.13734326,  0.12731943,  0.12110163,\n",
       "        0.16969282,  0.16493288,  0.15870462,  0.17332094,  0.17121515,\n",
       "        0.16923822,  0.160565  ,  0.17279376,  0.17022344,  0.17078696,\n",
       "        0.16833825,  0.16789708,  0.16831654,  0.17406344,  0.16472373,\n",
       "        0.17307414,  0.16364483,  0.1689528 ,  0.16944023,  0.17904939,\n",
       "        0.15950529,  0.16531394,  0.1857714 ,  0.16418756,  0.16140301,\n",
       "        0.16695336,  0.17794357,  0.16762839,  0.16560943,  0.16740457,\n",
       "        0.16200285,  0.16521793,  0.15801382,  0.16444011,  0.16586752,\n",
       "        0.16572016,  0.17221376,  0.16861018,  0.16376346,  0.16518417,\n",
       "        0.16480055,  0.16464981,  0.1718502 ,  0.15894885,  0.15936586,\n",
       "        0.17008756,  0.15984644,  0.16305718,  0.15900609,  0.16278305,\n",
       "        0.15679242,  0.16918927,  0.16633727,  0.16026517,  0.16982544,\n",
       "        0.15537093,  0.16444822,  0.16514592,  0.16266888,  0.17366969,\n",
       "        0.16872835,  0.16923655,  0.16750252,  0.15944788,  0.16913707,\n",
       "        0.16875158,  0.17145041,  0.17546392,  0.16431935,  0.16027021,\n",
       "        0.17033046,  0.1727745 ,  0.17314932,  0.16152549,  0.15703232,\n",
       "        0.16839319,  0.16301157,  0.16510006,  0.16220506,  0.16248912,\n",
       "        0.1733042 ,  0.15987139,  0.16236061,  0.15812812,  0.17351059,\n",
       "        0.16987609,  0.16580475,  0.15640297,  0.16357434,  0.17108457,\n",
       "        0.15917361,  0.17355634,  0.1753641 ,  0.16550197,  0.1702563 ,\n",
       "        0.16937418,  0.15563871,  0.17005156,  0.16547215,  0.16178767,\n",
       "        0.2       ,  0.2       ,  0.2       ,  0.2       ,  0.2       ,\n",
       "        0.2       ,  0.2       ,  0.2       ,  0.2       ,  0.2       ,\n",
       "        0.2       ,  0.2       ,  0.2       ,  0.2       ,  0.2       ,\n",
       "        0.2       ,  0.2       ,  0.2       ,  0.2       ,  0.2       ,\n",
       "        0.2       ,  0.2       ,  0.2       ,  0.2       ,  0.2       ,\n",
       "        0.19960652,  0.2       ,  0.2       ,  0.2       ,  0.2       ,\n",
       "        0.2       ,  0.2       ,  0.2       ,  0.2       ,  0.2       ,\n",
       "        0.2       ,  0.2       ,  0.2       ,  0.2       ,  0.2       ,\n",
       "        0.2       ,  0.2       ,  0.2       ,  0.2       ,  0.2       ,\n",
       "        0.2       ,  0.2       ,  0.2       ,  0.2       ,  0.2       ,\n",
       "        0.2       ,  0.2       ,  0.2       ,  0.2       ,  0.2       ,\n",
       "        0.2       ,  0.2       ,  0.1991031 ,  0.19755455,  0.2       ,\n",
       "        0.2       ,  0.2       ,  0.2       ,  0.2       ,  0.2       ,\n",
       "        0.2       ,  0.2       ,  0.2       ,  0.2       ,  0.2       ,\n",
       "        0.2       ,  0.2       ,  0.2       ,  0.2       ,  0.2       ,\n",
       "        0.2       ,  0.2       ,  0.2       ,  0.2       ,  0.2       ,\n",
       "        0.2       ,  0.2       ,  0.2       ,  0.2       ,  0.2       ,\n",
       "        0.2       ,  0.19532646,  0.2       ,  0.2       ,  0.2       ,\n",
       "        0.2       ,  0.2       ,  0.2       ,  0.2       ,  0.2       ,\n",
       "        0.2       ,  0.2       ,  0.2       ,  0.2       ,  0.2       ])"
      ]
     },
     "execution_count": 16,
     "metadata": {},
     "output_type": "execute_result"
    }
   ],
   "source": [
    "itf.perfusion_fraction"
   ]
  },
  {
   "cell_type": "code",
   "execution_count": null,
   "id": "knowing-river",
   "metadata": {},
   "outputs": [],
   "source": []
  }
 ],
 "metadata": {
  "kernelspec": {
   "display_name": "Python 3",
   "language": "python",
   "name": "python3"
  },
  "language_info": {
   "codemirror_mode": {
    "name": "ipython",
    "version": 3
   },
   "file_extension": ".py",
   "mimetype": "text/x-python",
   "name": "python",
   "nbconvert_exporter": "python",
   "pygments_lexer": "ipython3",
   "version": "3.7.10"
  }
 },
 "nbformat": 4,
 "nbformat_minor": 5
}
